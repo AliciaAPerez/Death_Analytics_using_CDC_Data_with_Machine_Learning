{
  "nbformat": 4,
  "nbformat_minor": 0,
  "metadata": {
    "colab": {
      "name": "Death_stats.ipynb",
      "provenance": [],
      "collapsed_sections": [],
      "authorship_tag": "ABX9TyOm2IKaaAT8Zi3PDSSHD4c7",
      "include_colab_link": true
    },
    "kernelspec": {
      "name": "python3",
      "display_name": "Python 3"
    },
    "language_info": {
      "name": "python"
    }
  },
  "cells": [
    {
      "cell_type": "markdown",
      "metadata": {
        "id": "view-in-github",
        "colab_type": "text"
      },
      "source": [
        "<a href=\"https://colab.research.google.com/github/AliciaAPerez/Death_Analytics_using_CDC_Data_with_Machine_Learning/blob/Claude/Death_stats.ipynb\" target=\"_parent\"><img src=\"https://colab.research.google.com/assets/colab-badge.svg\" alt=\"Open In Colab\"/></a>"
      ]
    },
    {
      "cell_type": "code",
      "metadata": {
        "colab": {
          "base_uri": "https://localhost:8080/"
        },
        "id": "vJVav_FtWwQq",
        "outputId": "ecf6dd12-2623-4341-8f6e-259a773c7e76"
      },
      "source": [
        "import os\n",
        "# Find the latest version of spark 3.0  from http://www-us.apache.org/dist/spark/ and enter as the spark version\n",
        "# For example:\n",
        "# spark_version = 'spark-3.0.1'\n",
        "spark_version = 'spark-3.1.1'\n",
        "os.environ['SPARK_VERSION']=spark_version\n",
        "\n",
        "# Install Spark and Java\n",
        "!apt-get update\n",
        "!apt-get install openjdk-11-jdk-headless -qq > /dev/null\n",
        "!wget -q http://www-us.apache.org/dist/spark/$SPARK_VERSION/$SPARK_VERSION-bin-hadoop2.7.tgz\n",
        "!tar xf $SPARK_VERSION-bin-hadoop2.7.tgz\n",
        "!pip install -q findspark\n",
        "\n",
        "# Set Environment Variables\n",
        "os.environ[\"JAVA_HOME\"] = \"/usr/lib/jvm/java-11-openjdk-amd64\"\n",
        "os.environ[\"SPARK_HOME\"] = f\"/content/{spark_version}-bin-hadoop2.7\"\n",
        "\n",
        "# Start a SparkSession\n",
        "import findspark\n",
        "findspark.init()"
      ],
      "execution_count": 1,
      "outputs": [
        {
          "output_type": "stream",
          "text": [
            "\r0% [Working]\r            \rIgn:1 https://developer.download.nvidia.com/compute/cuda/repos/ubuntu1804/x86_64  InRelease\n",
            "\r0% [Connecting to archive.ubuntu.com (91.189.88.152)] [Waiting for headers] [Wa\r                                                                               \rGet:2 https://cloud.r-project.org/bin/linux/ubuntu bionic-cran40/ InRelease [3,626 B]\n",
            "\r0% [Waiting for headers] [Waiting for headers] [2 InRelease 0 B/3,626 B 0%] [Wa\r0% [Waiting for headers] [Waiting for headers] [Waiting for headers] [Waiting f\r0% [2 InRelease gpgv 3,626 B] [Waiting for headers] [Waiting for headers] [Wait\r                                                                               \rIgn:3 https://developer.download.nvidia.com/compute/machine-learning/repos/ubuntu1804/x86_64  InRelease\n",
            "\r0% [2 InRelease gpgv 3,626 B] [Waiting for headers] [Waiting for headers] [Wait\r                                                                               \rHit:4 https://developer.download.nvidia.com/compute/cuda/repos/ubuntu1804/x86_64  Release\n",
            "\r0% [2 InRelease gpgv 3,626 B] [Waiting for headers] [Waiting for headers] [Wait\r                                                                               \rHit:5 http://ppa.launchpad.net/c2d4u.team/c2d4u4.0+/ubuntu bionic InRelease\n",
            "\r0% [2 InRelease gpgv 3,626 B] [Waiting for headers] [Waiting for headers] [Conn\r                                                                               \rGet:6 http://security.ubuntu.com/ubuntu bionic-security InRelease [88.7 kB]\n",
            "Hit:7 https://developer.download.nvidia.com/compute/machine-learning/repos/ubuntu1804/x86_64  Release\n",
            "Hit:8 http://archive.ubuntu.com/ubuntu bionic InRelease\n",
            "Get:9 http://archive.ubuntu.com/ubuntu bionic-updates InRelease [88.7 kB]\n",
            "Hit:10 http://ppa.launchpad.net/cran/libgit2/ubuntu bionic InRelease\n",
            "Hit:11 http://ppa.launchpad.net/deadsnakes/ppa/ubuntu bionic InRelease\n",
            "Get:12 http://archive.ubuntu.com/ubuntu bionic-backports InRelease [74.6 kB]\n",
            "Hit:14 http://ppa.launchpad.net/graphics-drivers/ppa/ubuntu bionic InRelease\n",
            "Get:16 http://archive.ubuntu.com/ubuntu bionic-updates/universe amd64 Packages [2,173 kB]\n",
            "Get:17 http://archive.ubuntu.com/ubuntu bionic-updates/main amd64 Packages [2,476 kB]\n",
            "Fetched 4,905 kB in 4s (1,329 kB/s)\n",
            "Reading package lists... Done\n"
          ],
          "name": "stdout"
        }
      ]
    },
    {
      "cell_type": "code",
      "metadata": {
        "colab": {
          "base_uri": "https://localhost:8080/"
        },
        "id": "AISrQYkCNbEz",
        "outputId": "318db223-e190-4acd-b359-2fe163c4c41c"
      },
      "source": [
        "!wget https://jdbc.postgresql.org/download/postgresql-42.2.9.jar"
      ],
      "execution_count": 2,
      "outputs": [
        {
          "output_type": "stream",
          "text": [
            "--2021-04-10 19:16:19--  https://jdbc.postgresql.org/download/postgresql-42.2.9.jar\n",
            "Resolving jdbc.postgresql.org (jdbc.postgresql.org)... 72.32.157.228, 2001:4800:3e1:1::228\n",
            "Connecting to jdbc.postgresql.org (jdbc.postgresql.org)|72.32.157.228|:443... connected.\n",
            "HTTP request sent, awaiting response... 200 OK\n",
            "Length: 914037 (893K) [application/java-archive]\n",
            "Saving to: ‘postgresql-42.2.9.jar.2’\n",
            "\n",
            "postgresql-42.2.9.j 100%[===================>] 892.61K  --.-KB/s    in 0.1s    \n",
            "\n",
            "2021-04-10 19:16:19 (6.00 MB/s) - ‘postgresql-42.2.9.jar.2’ saved [914037/914037]\n",
            "\n"
          ],
          "name": "stdout"
        }
      ]
    },
    {
      "cell_type": "code",
      "metadata": {
        "id": "U90hcLigNcCW"
      },
      "source": [
        "from pyspark.sql import SparkSession\n",
        "spark = SparkSession.builder.appName(\"CloudETL\").config(\"spark.driver.extraClassPath\",\"/content/postgresql-42.2.9.jar\").getOrCreate()"
      ],
      "execution_count": 3,
      "outputs": []
    },
    {
      "cell_type": "code",
      "metadata": {
        "id": "HWYHnEIUW6Cz"
      },
      "source": [
        ""
      ],
      "execution_count": 2,
      "outputs": []
    },
    {
      "cell_type": "code",
      "metadata": {
        "colab": {
          "base_uri": "https://localhost:8080/"
        },
        "id": "NJs6T_IhW8ZO",
        "outputId": "d78daaf4-db24-4e04-9e46-810ed22e90e9"
      },
      "source": [
        "from pyspark import SparkFiles\n",
        "url =\"https://aperezbucket.s3.us-east-2.amazonaws.com/2015_data.csv\"\n",
        "spark.sparkContext.addFile(url)\n",
        "death_2015 = spark.read.csv(SparkFiles.get(\"2015_data.csv\"), sep=\",\", header=True)\n",
        "\n",
        "# Show DataFrame\n",
        "death_2015.show()"
      ],
      "execution_count": 4,
      "outputs": [
        {
          "output_type": "stream",
          "text": [
            "+---------------+-----------------------+-----------------------+------------------------+--------------+---+---------------+----------+---------------------+-------------+-------------+-------------+--------------------+-----------------------------------+--------------+--------------------+-----------------+--------------+---------------+---------------------+-------+-------------+------------------------------------------------------+----------------------+----------------+----------------+-----------------------+---------------+--------------------------------+------------------+------------------+------------------+------------------+------------------+------------------+------------------+------------------+------------------+-------------------+-------------------+-------------------+-------------------+-------------------+-------------------+-------------------+-------------------+-------------------+-------------------+-------------------+--------------------------------+------------------+------------------+------------------+------------------+------------------+------------------+------------------+------------------+------------------+-------------------+-------------------+-------------------+-------------------+-------------------+-------------------+-------------------+-------------------+-------------------+-------------------+-------------------+----+-----------------+--------------------+-------------+-------------+---------------+--------------------------+\n",
            "|resident_status|education_1989_revision|education_2003_revision|education_reporting_flag|month_of_death|sex|detail_age_type|detail_age|age_substitution_flag|age_recode_52|age_recode_27|age_recode_12|infant_age_recode_22|place_of_death_and_decedents_status|marital_status|day_of_week_of_death|current_data_year|injury_at_work|manner_of_death|method_of_disposition|autopsy|activity_code|place_of_injury_for_causes_w00_y34_except_y06_and_y07_|icd_code_10th_revision|358_cause_recode|113_cause_recode|130_infant_cause_recode|39_cause_recode|number_of_entity_axis_conditions|entity_condition_1|entity_condition_2|entity_condition_3|entity_condition_4|entity_condition_5|entity_condition_6|entity_condition_7|entity_condition_8|entity_condition_9|entity_condition_10|entity_condition_11|entity_condition_12|entity_condition_13|entity_condition_14|entity_condition_15|entity_condition_16|entity_condition_17|entity_condition_18|entity_condition_19|entity_condition_20|number_of_record_axis_conditions|record_condition_1|record_condition_2|record_condition_3|record_condition_4|record_condition_5|record_condition_6|record_condition_7|record_condition_8|record_condition_9|record_condition_10|record_condition_11|record_condition_12|record_condition_13|record_condition_14|record_condition_15|record_condition_16|record_condition_17|record_condition_18|record_condition_19|record_condition_20|race|bridged_race_flag|race_imputation_flag|race_recode_3|race_recode_5|hispanic_origin|hispanic_originrace_recode|\n",
            "+---------------+-----------------------+-----------------------+------------------------+--------------+---+---------------+----------+---------------------+-------------+-------------+-------------+--------------------+-----------------------------------+--------------+--------------------+-----------------+--------------+---------------+---------------------+-------+-------------+------------------------------------------------------+----------------------+----------------+----------------+-----------------------+---------------+--------------------------------+------------------+------------------+------------------+------------------+------------------+------------------+------------------+------------------+------------------+-------------------+-------------------+-------------------+-------------------+-------------------+-------------------+-------------------+-------------------+-------------------+-------------------+-------------------+--------------------------------+------------------+------------------+------------------+------------------+------------------+------------------+------------------+------------------+------------------+-------------------+-------------------+-------------------+-------------------+-------------------+-------------------+-------------------+-------------------+-------------------+-------------------+-------------------+----+-----------------+--------------------+-------------+-------------+---------------+--------------------------+\n",
            "|              1|                   null|                      3|                       1|            01|  M|              1|       084|                 null|           42|           22|           10|                null|                                  1|             M|                   1|             2015|             U|              7|                    B|      N|         null|                                                  null|                  I500|             230|             067|                   null|             22|                              02|            11I500|            61L031|              null|              null|              null|              null|              null|              null|              null|               null|               null|               null|               null|               null|               null|               null|               null|               null|               null|               null|                              02|              I500|              L031|              null|              null|              null|              null|              null|              null|              null|               null|               null|               null|               null|               null|               null|               null|               null|               null|               null|               null|  01|             null|                null|            1|            1|            100|                         6|\n",
            "|              1|                   null|                      6|                       1|            01|  M|              1|       070|                 null|           40|           20|           09|                null|                                  1|             M|                   2|             2015|             U|              7|                    C|      N|         null|                                                  null|                  C349|             093|             027|                   null|             08|                              08|            11I469|            21R042|            31C349|            41J189|             42J90|            61J449|            62I251|            63F179|              null|               null|               null|               null|               null|               null|               null|               null|               null|               null|               null|               null|                              07|              C349|              F179|              I251|              I469|              J440|               J90|              R042|              null|              null|               null|               null|               null|               null|               null|               null|               null|               null|               null|               null|               null|  01|             null|                null|            1|            1|            100|                         6|\n",
            "|              1|                   null|                      3|                       1|            01|  F|              1|       091|                 null|           44|           24|           11|                null|                                  4|             W|                   6|             2015|             U|              7|                    C|      N|         null|                                                  null|                  G309|             189|             052|                   null|             17|                              01|            11G309|              null|              null|              null|              null|              null|              null|              null|              null|               null|               null|               null|               null|               null|               null|               null|               null|               null|               null|               null|                              01|              G309|              null|              null|              null|              null|              null|              null|              null|              null|               null|               null|               null|               null|               null|               null|               null|               null|               null|               null|               null|  01|             null|                null|            1|            1|            100|                         6|\n",
            "|              1|                   null|                      3|                       1|            01|  F|              1|       040|                 null|           34|           14|           06|                null|                                  4|             S|                   5|             2015|             N|              3|                    B|      Y|            9|                                                     9|                   X91|             434|             129|                   null|             41|                              06|             11T71|             12X91|             21T71|            61T149|            62S223|            63S299|              null|              null|              null|               null|               null|               null|               null|               null|               null|               null|               null|               null|               null|               null|                              05|               X91|              S223|              S299|              T149|               T71|              null|              null|              null|              null|               null|               null|               null|               null|               null|               null|               null|               null|               null|               null|               null|  03|             null|                null|            2|            3|            100|                         8|\n",
            "|              1|                   null|                      5|                       1|            01|  F|              1|       089|                 null|           43|           23|           11|                null|                                  6|             W|                   5|             2015|             U|              7|                    C|      N|         null|                                                     9|                  I250|             214|             062|                   null|             21|                              03|            11I250|            21S720|            61X590|              null|              null|              null|              null|              null|              null|               null|               null|               null|               null|               null|               null|               null|               null|               null|               null|               null|                              03|              I250|              S720|              X590|              null|              null|              null|              null|              null|              null|               null|               null|               null|               null|               null|               null|               null|               null|               null|               null|               null|  01|             null|                null|            1|            1|            100|                         6|\n",
            "|              1|                   null|                      6|                       1|            01|  M|              1|       078|                 null|           41|           21|           10|                null|                                  4|             W|                   6|             2015|             U|              7|                    C|      N|         null|                                                  null|                  I516|             233|             068|                   null|             22|                              04|            11I499|            21I516|            61E780|            62F179|              null|              null|              null|              null|              null|               null|               null|               null|               null|               null|               null|               null|               null|               null|               null|               null|                              04|              I516|              E780|              F179|              I499|              null|              null|              null|              null|              null|               null|               null|               null|               null|               null|               null|               null|               null|               null|               null|               null|  03|             null|                null|            2|            3|            100|                         8|\n",
            "|              1|                   null|                      4|                       1|            01|  M|              1|       092|                 null|           44|           24|           11|                null|                                  4|             W|                   1|             2015|             U|              7|                    R|      N|         null|                                                  null|                  E274|             161|             111|                   null|             37|                              01|            11E274|              null|              null|              null|              null|              null|              null|              null|              null|               null|               null|               null|               null|               null|               null|               null|               null|               null|               null|               null|                              01|              E274|              null|              null|              null|              null|              null|              null|              null|              null|               null|               null|               null|               null|               null|               null|               null|               null|               null|               null|               null|  01|             null|                null|            1|            1|            100|                         6|\n",
            "|              1|                   null|                      3|                       1|            01|  M|              1|       082|                 null|           42|           22|           10|                null|                                  4|             M|                   1|             2015|             U|              7|                    C|      N|         null|                                                  null|                  I500|             230|             067|                   null|             22|                              01|            11I500|              null|              null|              null|              null|              null|              null|              null|              null|               null|               null|               null|               null|               null|               null|               null|               null|               null|               null|               null|                              01|              I500|              null|              null|              null|              null|              null|              null|              null|              null|               null|               null|               null|               null|               null|               null|               null|               null|               null|               null|               null|  01|             null|                null|            1|            1|            100|                         6|\n",
            "|              1|                   null|                      3|                       1|            01|  F|              1|       089|                 null|           43|           23|           11|                null|                                  4|             W|                   1|             2015|             U|              7|                    B|      N|         null|                                                  null|                  I350|             225|             068|                   null|             22|                              02|            11I500|            21I350|              null|              null|              null|              null|              null|              null|              null|               null|               null|               null|               null|               null|               null|               null|               null|               null|               null|               null|                              02|              I350|              I500|              null|              null|              null|              null|              null|              null|              null|               null|               null|               null|               null|               null|               null|               null|               null|               null|               null|               null|  01|             null|                null|            1|            1|            100|                         6|\n",
            "|              1|                   null|                      9|                       1|            01|  F|              1|       093|                 null|           44|           24|           11|                null|                                  6|             W|                   7|             2015|             U|              7|                    C|      N|            9|                                                     9|                   W19|             406|             118|                   null|             39|                              06|            11T142|             21W19|            31R688|            41I694|             61F03|            62E039|              null|              null|              null|               null|               null|               null|               null|               null|               null|               null|               null|               null|               null|               null|                              06|               W19|              E039|               F03|              I694|              R688|              T142|              null|              null|              null|               null|               null|               null|               null|               null|               null|               null|               null|               null|               null|               null|  01|             null|                null|            1|            1|            100|                         6|\n",
            "|              1|                   null|                      6|                       1|            01|  F|              1|       084|                 null|           42|           22|           10|                null|                                  6|             M|                   1|             2015|             U|              7|                    B|      N|         null|                                                  null|                   I48|             228|             068|                   null|             22|                              04|            11J189|             21I48|             61I64|             62G20|              null|              null|              null|              null|              null|               null|               null|               null|               null|               null|               null|               null|               null|               null|               null|               null|                              04|               I48|               G20|               I64|              J189|              null|              null|              null|              null|              null|               null|               null|               null|               null|               null|               null|               null|               null|               null|               null|               null|  01|             null|                null|            1|            1|            100|                         6|\n",
            "|              1|                   null|                      3|                       1|            01|  F|              1|       084|                 null|           42|           22|           10|                null|                                  6|             M|                   1|             2015|             U|              7|                    C|      N|         null|                                                  null|                  G309|             189|             052|                   null|             17|                              02|            11G309|            61I500|              null|              null|              null|              null|              null|              null|              null|               null|               null|               null|               null|               null|               null|               null|               null|               null|               null|               null|                              02|              G309|              I500|              null|              null|              null|              null|              null|              null|              null|               null|               null|               null|               null|               null|               null|               null|               null|               null|               null|               null|  01|             null|                null|            1|            1|            100|                         6|\n",
            "|              1|                   null|                      3|                       1|            01|  F|              1|       067|                 null|           39|           19|           09|                null|                                  1|             M|                   2|             2015|             U|              7|                    C|      N|         null|                                                  null|                  I219|             211|             059|                   null|             21|                              03|            11I219|            21I251|             61N19|              null|              null|              null|              null|              null|              null|               null|               null|               null|               null|               null|               null|               null|               null|               null|               null|               null|                              03|              I219|              I251|               N19|              null|              null|              null|              null|              null|              null|               null|               null|               null|               null|               null|               null|               null|               null|               null|               null|               null|  01|             null|                null|            1|            1|            100|                         6|\n",
            "|              1|                   null|                      6|                       1|            01|  M|              1|       094|                 null|           44|           24|           11|                null|                                  6|             W|                   7|             2015|             U|              7|                    C|      N|         null|                                                  null|                  R688|             380|             110|                   null|             36|                              02|            11R688|             12R54|              null|              null|              null|              null|              null|              null|              null|               null|               null|               null|               null|               null|               null|               null|               null|               null|               null|               null|                              02|              R688|               R54|              null|              null|              null|              null|              null|              null|              null|               null|               null|               null|               null|               null|               null|               null|               null|               null|               null|               null|  01|             null|                null|            1|            1|            100|                         6|\n",
            "|              1|                   null|                      2|                       1|            01|  M|              1|       056|                 null|           37|           17|           08|                null|                                  6|             M|                   7|             2015|             U|              7|                    C|      N|         null|                                                  null|                  C798|             125|             043|                   null|             15|                              03|            11C798|            61K769|            62F179|              null|              null|              null|              null|              null|              null|               null|               null|               null|               null|               null|               null|               null|               null|               null|               null|               null|                              03|              C798|              F179|              K769|              null|              null|              null|              null|              null|              null|               null|               null|               null|               null|               null|               null|               null|               null|               null|               null|               null|  01|             null|                null|            1|            1|            100|                         6|\n",
            "|              1|                   null|                      3|                       1|            01|  M|              1|       032|                 null|           32|           12|           05|                null|                                  1|             S|                   6|             2015|             N|              1|                    B|      N|            9|                                                     9|                  X599|             423|             123|                   null|             39|                              02|            11S099|            12X599|              null|              null|              null|              null|              null|              null|              null|               null|               null|               null|               null|               null|               null|               null|               null|               null|               null|               null|                              02|              X599|              S099|              null|              null|              null|              null|              null|              null|              null|               null|               null|               null|               null|               null|               null|               null|               null|               null|               null|               null|  03|             null|                null|            2|            3|            100|                         8|\n",
            "|              1|                   null|                      2|                       1|            01|  M|              1|       018|                 null|           29|           09|           04|                null|                                  7|             S|                   1|             2015|             N|              2|                    B|      N|            9|                                                     9|                   X70|             428|             126|                   null|             40|                              04|             11T71|             12X70|             21T71|             61T71|              null|              null|              null|              null|              null|               null|               null|               null|               null|               null|               null|               null|               null|               null|               null|               null|                              02|               X70|               T71|              null|              null|              null|              null|              null|              null|              null|               null|               null|               null|               null|               null|               null|               null|               null|               null|               null|               null|  03|             null|                null|            2|            3|            100|                         8|\n",
            "|              1|                   null|                      3|                       1|            01|  M|              1|       048|                 null|           35|           15|           07|                null|                                  4|             M|                   7|             2015|             N|              2|                    C|      N|            9|                                                     0|                   X72|             429|             125|                   null|             40|                              04|            11S069|            21S019|             22X72|            61S015|              null|              null|              null|              null|              null|               null|               null|               null|               null|               null|               null|               null|               null|               null|               null|               null|                              04|               X72|              S015|              S019|              S069|              null|              null|              null|              null|              null|               null|               null|               null|               null|               null|               null|               null|               null|               null|               null|               null|  01|             null|                null|            1|            1|            100|                         6|\n",
            "|              1|                   null|                      4|                       1|            01|  F|              1|       079|                 null|           41|           21|           10|                null|                                  6|             W|                   5|             2015|             U|              7|                    C|      N|         null|                                                  null|                   I64|             238|             070|                   null|             24|                              02|             11I64|             21R13|              null|              null|              null|              null|              null|              null|              null|               null|               null|               null|               null|               null|               null|               null|               null|               null|               null|               null|                              02|               I64|               R13|              null|              null|              null|              null|              null|              null|              null|               null|               null|               null|               null|               null|               null|               null|               null|               null|               null|               null|  03|                1|                null|            2|            3|            100|                         8|\n",
            "|              1|                   null|                      6|                       1|            01|  M|              1|       085|                 null|           43|           23|           11|                null|                                  6|             W|                   6|             2015|             U|              7|                    C|      N|         null|                                                  null|                   I64|             238|             070|                   null|             24|                              03|            11J189|             61G20|             62I64|              null|              null|              null|              null|              null|              null|               null|               null|               null|               null|               null|               null|               null|               null|               null|               null|               null|                              03|               I64|               G20|              J189|              null|              null|              null|              null|              null|              null|               null|               null|               null|               null|               null|               null|               null|               null|               null|               null|               null|  01|             null|                null|            1|            1|            100|                         6|\n",
            "+---------------+-----------------------+-----------------------+------------------------+--------------+---+---------------+----------+---------------------+-------------+-------------+-------------+--------------------+-----------------------------------+--------------+--------------------+-----------------+--------------+---------------+---------------------+-------+-------------+------------------------------------------------------+----------------------+----------------+----------------+-----------------------+---------------+--------------------------------+------------------+------------------+------------------+------------------+------------------+------------------+------------------+------------------+------------------+-------------------+-------------------+-------------------+-------------------+-------------------+-------------------+-------------------+-------------------+-------------------+-------------------+-------------------+--------------------------------+------------------+------------------+------------------+------------------+------------------+------------------+------------------+------------------+------------------+-------------------+-------------------+-------------------+-------------------+-------------------+-------------------+-------------------+-------------------+-------------------+-------------------+-------------------+----+-----------------+--------------------+-------------+-------------+---------------+--------------------------+\n",
            "only showing top 20 rows\n",
            "\n"
          ],
          "name": "stdout"
        }
      ]
    },
    {
      "cell_type": "code",
      "metadata": {
        "id": "Myo-TfkDldHU"
      },
      "source": [
        "#removing unneded columns\n",
        "death_2015_clean = death_2015.drop(\"education_1989_revision\",\"education_reporting_flag\",\"age_substitution_flag\",\"age_recode_52\",\"age_recode_27\",\"age_recode_12\", \"infant_age_recode_22\",\n",
        "\"place_of_death_and_decedents_status\",\"method_of_disposition\",\"autopsy\", \"activity_code\", \"place_of_injury_for_causes_w00_y34_except_y06_and_y07_\", \"358_cause_recode\", \"113_cause_recode\",\n",
        "\"130_infant_cause_recode\", \"39_cause_recode\", \"bridged_race_flag\", \"race_imputation_flag\", \"race_recode_3\", \"race_recode_5\", \"hispanic_origin\")"
      ],
      "execution_count": 5,
      "outputs": []
    },
    {
      "cell_type": "code",
      "metadata": {
        "colab": {
          "base_uri": "https://localhost:8080/"
        },
        "id": "-gYmG2FFIP0u",
        "outputId": "aa67a07f-0e8f-4cac-87e5-b49c6149bc7e"
      },
      "source": [
        "death_2015_clean.show()"
      ],
      "execution_count": 6,
      "outputs": [
        {
          "output_type": "stream",
          "text": [
            "+---------------+-----------------------+--------------+---+---------------+----------+--------------+--------------------+-----------------+--------------+---------------+----------------------+--------------------------------+------------------+------------------+------------------+------------------+------------------+------------------+------------------+------------------+------------------+-------------------+-------------------+-------------------+-------------------+-------------------+-------------------+-------------------+-------------------+-------------------+-------------------+-------------------+--------------------------------+------------------+------------------+------------------+------------------+------------------+------------------+------------------+------------------+------------------+-------------------+-------------------+-------------------+-------------------+-------------------+-------------------+-------------------+-------------------+-------------------+-------------------+-------------------+----+--------------------------+\n",
            "|resident_status|education_2003_revision|month_of_death|sex|detail_age_type|detail_age|marital_status|day_of_week_of_death|current_data_year|injury_at_work|manner_of_death|icd_code_10th_revision|number_of_entity_axis_conditions|entity_condition_1|entity_condition_2|entity_condition_3|entity_condition_4|entity_condition_5|entity_condition_6|entity_condition_7|entity_condition_8|entity_condition_9|entity_condition_10|entity_condition_11|entity_condition_12|entity_condition_13|entity_condition_14|entity_condition_15|entity_condition_16|entity_condition_17|entity_condition_18|entity_condition_19|entity_condition_20|number_of_record_axis_conditions|record_condition_1|record_condition_2|record_condition_3|record_condition_4|record_condition_5|record_condition_6|record_condition_7|record_condition_8|record_condition_9|record_condition_10|record_condition_11|record_condition_12|record_condition_13|record_condition_14|record_condition_15|record_condition_16|record_condition_17|record_condition_18|record_condition_19|record_condition_20|race|hispanic_originrace_recode|\n",
            "+---------------+-----------------------+--------------+---+---------------+----------+--------------+--------------------+-----------------+--------------+---------------+----------------------+--------------------------------+------------------+------------------+------------------+------------------+------------------+------------------+------------------+------------------+------------------+-------------------+-------------------+-------------------+-------------------+-------------------+-------------------+-------------------+-------------------+-------------------+-------------------+-------------------+--------------------------------+------------------+------------------+------------------+------------------+------------------+------------------+------------------+------------------+------------------+-------------------+-------------------+-------------------+-------------------+-------------------+-------------------+-------------------+-------------------+-------------------+-------------------+-------------------+----+--------------------------+\n",
            "|              1|                      3|            01|  M|              1|       084|             M|                   1|             2015|             U|              7|                  I500|                              02|            11I500|            61L031|              null|              null|              null|              null|              null|              null|              null|               null|               null|               null|               null|               null|               null|               null|               null|               null|               null|               null|                              02|              I500|              L031|              null|              null|              null|              null|              null|              null|              null|               null|               null|               null|               null|               null|               null|               null|               null|               null|               null|               null|  01|                         6|\n",
            "|              1|                      6|            01|  M|              1|       070|             M|                   2|             2015|             U|              7|                  C349|                              08|            11I469|            21R042|            31C349|            41J189|             42J90|            61J449|            62I251|            63F179|              null|               null|               null|               null|               null|               null|               null|               null|               null|               null|               null|               null|                              07|              C349|              F179|              I251|              I469|              J440|               J90|              R042|              null|              null|               null|               null|               null|               null|               null|               null|               null|               null|               null|               null|               null|  01|                         6|\n",
            "|              1|                      3|            01|  F|              1|       091|             W|                   6|             2015|             U|              7|                  G309|                              01|            11G309|              null|              null|              null|              null|              null|              null|              null|              null|               null|               null|               null|               null|               null|               null|               null|               null|               null|               null|               null|                              01|              G309|              null|              null|              null|              null|              null|              null|              null|              null|               null|               null|               null|               null|               null|               null|               null|               null|               null|               null|               null|  01|                         6|\n",
            "|              1|                      3|            01|  F|              1|       040|             S|                   5|             2015|             N|              3|                   X91|                              06|             11T71|             12X91|             21T71|            61T149|            62S223|            63S299|              null|              null|              null|               null|               null|               null|               null|               null|               null|               null|               null|               null|               null|               null|                              05|               X91|              S223|              S299|              T149|               T71|              null|              null|              null|              null|               null|               null|               null|               null|               null|               null|               null|               null|               null|               null|               null|  03|                         8|\n",
            "|              1|                      5|            01|  F|              1|       089|             W|                   5|             2015|             U|              7|                  I250|                              03|            11I250|            21S720|            61X590|              null|              null|              null|              null|              null|              null|               null|               null|               null|               null|               null|               null|               null|               null|               null|               null|               null|                              03|              I250|              S720|              X590|              null|              null|              null|              null|              null|              null|               null|               null|               null|               null|               null|               null|               null|               null|               null|               null|               null|  01|                         6|\n",
            "|              1|                      6|            01|  M|              1|       078|             W|                   6|             2015|             U|              7|                  I516|                              04|            11I499|            21I516|            61E780|            62F179|              null|              null|              null|              null|              null|               null|               null|               null|               null|               null|               null|               null|               null|               null|               null|               null|                              04|              I516|              E780|              F179|              I499|              null|              null|              null|              null|              null|               null|               null|               null|               null|               null|               null|               null|               null|               null|               null|               null|  03|                         8|\n",
            "|              1|                      4|            01|  M|              1|       092|             W|                   1|             2015|             U|              7|                  E274|                              01|            11E274|              null|              null|              null|              null|              null|              null|              null|              null|               null|               null|               null|               null|               null|               null|               null|               null|               null|               null|               null|                              01|              E274|              null|              null|              null|              null|              null|              null|              null|              null|               null|               null|               null|               null|               null|               null|               null|               null|               null|               null|               null|  01|                         6|\n",
            "|              1|                      3|            01|  M|              1|       082|             M|                   1|             2015|             U|              7|                  I500|                              01|            11I500|              null|              null|              null|              null|              null|              null|              null|              null|               null|               null|               null|               null|               null|               null|               null|               null|               null|               null|               null|                              01|              I500|              null|              null|              null|              null|              null|              null|              null|              null|               null|               null|               null|               null|               null|               null|               null|               null|               null|               null|               null|  01|                         6|\n",
            "|              1|                      3|            01|  F|              1|       089|             W|                   1|             2015|             U|              7|                  I350|                              02|            11I500|            21I350|              null|              null|              null|              null|              null|              null|              null|               null|               null|               null|               null|               null|               null|               null|               null|               null|               null|               null|                              02|              I350|              I500|              null|              null|              null|              null|              null|              null|              null|               null|               null|               null|               null|               null|               null|               null|               null|               null|               null|               null|  01|                         6|\n",
            "|              1|                      9|            01|  F|              1|       093|             W|                   7|             2015|             U|              7|                   W19|                              06|            11T142|             21W19|            31R688|            41I694|             61F03|            62E039|              null|              null|              null|               null|               null|               null|               null|               null|               null|               null|               null|               null|               null|               null|                              06|               W19|              E039|               F03|              I694|              R688|              T142|              null|              null|              null|               null|               null|               null|               null|               null|               null|               null|               null|               null|               null|               null|  01|                         6|\n",
            "|              1|                      6|            01|  F|              1|       084|             M|                   1|             2015|             U|              7|                   I48|                              04|            11J189|             21I48|             61I64|             62G20|              null|              null|              null|              null|              null|               null|               null|               null|               null|               null|               null|               null|               null|               null|               null|               null|                              04|               I48|               G20|               I64|              J189|              null|              null|              null|              null|              null|               null|               null|               null|               null|               null|               null|               null|               null|               null|               null|               null|  01|                         6|\n",
            "|              1|                      3|            01|  F|              1|       084|             M|                   1|             2015|             U|              7|                  G309|                              02|            11G309|            61I500|              null|              null|              null|              null|              null|              null|              null|               null|               null|               null|               null|               null|               null|               null|               null|               null|               null|               null|                              02|              G309|              I500|              null|              null|              null|              null|              null|              null|              null|               null|               null|               null|               null|               null|               null|               null|               null|               null|               null|               null|  01|                         6|\n",
            "|              1|                      3|            01|  F|              1|       067|             M|                   2|             2015|             U|              7|                  I219|                              03|            11I219|            21I251|             61N19|              null|              null|              null|              null|              null|              null|               null|               null|               null|               null|               null|               null|               null|               null|               null|               null|               null|                              03|              I219|              I251|               N19|              null|              null|              null|              null|              null|              null|               null|               null|               null|               null|               null|               null|               null|               null|               null|               null|               null|  01|                         6|\n",
            "|              1|                      6|            01|  M|              1|       094|             W|                   7|             2015|             U|              7|                  R688|                              02|            11R688|             12R54|              null|              null|              null|              null|              null|              null|              null|               null|               null|               null|               null|               null|               null|               null|               null|               null|               null|               null|                              02|              R688|               R54|              null|              null|              null|              null|              null|              null|              null|               null|               null|               null|               null|               null|               null|               null|               null|               null|               null|               null|  01|                         6|\n",
            "|              1|                      2|            01|  M|              1|       056|             M|                   7|             2015|             U|              7|                  C798|                              03|            11C798|            61K769|            62F179|              null|              null|              null|              null|              null|              null|               null|               null|               null|               null|               null|               null|               null|               null|               null|               null|               null|                              03|              C798|              F179|              K769|              null|              null|              null|              null|              null|              null|               null|               null|               null|               null|               null|               null|               null|               null|               null|               null|               null|  01|                         6|\n",
            "|              1|                      3|            01|  M|              1|       032|             S|                   6|             2015|             N|              1|                  X599|                              02|            11S099|            12X599|              null|              null|              null|              null|              null|              null|              null|               null|               null|               null|               null|               null|               null|               null|               null|               null|               null|               null|                              02|              X599|              S099|              null|              null|              null|              null|              null|              null|              null|               null|               null|               null|               null|               null|               null|               null|               null|               null|               null|               null|  03|                         8|\n",
            "|              1|                      2|            01|  M|              1|       018|             S|                   1|             2015|             N|              2|                   X70|                              04|             11T71|             12X70|             21T71|             61T71|              null|              null|              null|              null|              null|               null|               null|               null|               null|               null|               null|               null|               null|               null|               null|               null|                              02|               X70|               T71|              null|              null|              null|              null|              null|              null|              null|               null|               null|               null|               null|               null|               null|               null|               null|               null|               null|               null|  03|                         8|\n",
            "|              1|                      3|            01|  M|              1|       048|             M|                   7|             2015|             N|              2|                   X72|                              04|            11S069|            21S019|             22X72|            61S015|              null|              null|              null|              null|              null|               null|               null|               null|               null|               null|               null|               null|               null|               null|               null|               null|                              04|               X72|              S015|              S019|              S069|              null|              null|              null|              null|              null|               null|               null|               null|               null|               null|               null|               null|               null|               null|               null|               null|  01|                         6|\n",
            "|              1|                      4|            01|  F|              1|       079|             W|                   5|             2015|             U|              7|                   I64|                              02|             11I64|             21R13|              null|              null|              null|              null|              null|              null|              null|               null|               null|               null|               null|               null|               null|               null|               null|               null|               null|               null|                              02|               I64|               R13|              null|              null|              null|              null|              null|              null|              null|               null|               null|               null|               null|               null|               null|               null|               null|               null|               null|               null|  03|                         8|\n",
            "|              1|                      6|            01|  M|              1|       085|             W|                   6|             2015|             U|              7|                   I64|                              03|            11J189|             61G20|             62I64|              null|              null|              null|              null|              null|              null|               null|               null|               null|               null|               null|               null|               null|               null|               null|               null|               null|                              03|               I64|               G20|              J189|              null|              null|              null|              null|              null|              null|               null|               null|               null|               null|               null|               null|               null|               null|               null|               null|               null|  01|                         6|\n",
            "+---------------+-----------------------+--------------+---+---------------+----------+--------------+--------------------+-----------------+--------------+---------------+----------------------+--------------------------------+------------------+------------------+------------------+------------------+------------------+------------------+------------------+------------------+------------------+-------------------+-------------------+-------------------+-------------------+-------------------+-------------------+-------------------+-------------------+-------------------+-------------------+-------------------+--------------------------------+------------------+------------------+------------------+------------------+------------------+------------------+------------------+------------------+------------------+-------------------+-------------------+-------------------+-------------------+-------------------+-------------------+-------------------+-------------------+-------------------+-------------------+-------------------+----+--------------------------+\n",
            "only showing top 20 rows\n",
            "\n"
          ],
          "name": "stdout"
        }
      ]
    },
    {
      "cell_type": "code",
      "metadata": {
        "colab": {
          "base_uri": "https://localhost:8080/"
        },
        "id": "Abvj8uS9IVu0",
        "outputId": "17dac591-6aca-4406-9db0-4d8c13d6b109"
      },
      "source": [
        "#removing any individual under the age of one due to how their recorded in the data per the documentation\n",
        "#for any subject where \"detail_age_type\" = 1, the detail_age is the age in years, but \"detail_age_type\" = 2 through 9, age is months(2), days(4), hours(5), minutes(6), or not stated (9)\n",
        "\n",
        "death_2015_clean_adults = death_2015_clean.filter((death_2015_clean.detail_age_type == 1))\n",
        "death_2015_clean_adults.show()"
      ],
      "execution_count": 7,
      "outputs": [
        {
          "output_type": "stream",
          "text": [
            "+---------------+-----------------------+--------------+---+---------------+----------+--------------+--------------------+-----------------+--------------+---------------+----------------------+--------------------------------+------------------+------------------+------------------+------------------+------------------+------------------+------------------+------------------+------------------+-------------------+-------------------+-------------------+-------------------+-------------------+-------------------+-------------------+-------------------+-------------------+-------------------+-------------------+--------------------------------+------------------+------------------+------------------+------------------+------------------+------------------+------------------+------------------+------------------+-------------------+-------------------+-------------------+-------------------+-------------------+-------------------+-------------------+-------------------+-------------------+-------------------+-------------------+----+--------------------------+\n",
            "|resident_status|education_2003_revision|month_of_death|sex|detail_age_type|detail_age|marital_status|day_of_week_of_death|current_data_year|injury_at_work|manner_of_death|icd_code_10th_revision|number_of_entity_axis_conditions|entity_condition_1|entity_condition_2|entity_condition_3|entity_condition_4|entity_condition_5|entity_condition_6|entity_condition_7|entity_condition_8|entity_condition_9|entity_condition_10|entity_condition_11|entity_condition_12|entity_condition_13|entity_condition_14|entity_condition_15|entity_condition_16|entity_condition_17|entity_condition_18|entity_condition_19|entity_condition_20|number_of_record_axis_conditions|record_condition_1|record_condition_2|record_condition_3|record_condition_4|record_condition_5|record_condition_6|record_condition_7|record_condition_8|record_condition_9|record_condition_10|record_condition_11|record_condition_12|record_condition_13|record_condition_14|record_condition_15|record_condition_16|record_condition_17|record_condition_18|record_condition_19|record_condition_20|race|hispanic_originrace_recode|\n",
            "+---------------+-----------------------+--------------+---+---------------+----------+--------------+--------------------+-----------------+--------------+---------------+----------------------+--------------------------------+------------------+------------------+------------------+------------------+------------------+------------------+------------------+------------------+------------------+-------------------+-------------------+-------------------+-------------------+-------------------+-------------------+-------------------+-------------------+-------------------+-------------------+-------------------+--------------------------------+------------------+------------------+------------------+------------------+------------------+------------------+------------------+------------------+------------------+-------------------+-------------------+-------------------+-------------------+-------------------+-------------------+-------------------+-------------------+-------------------+-------------------+-------------------+----+--------------------------+\n",
            "|              1|                      3|            01|  M|              1|       084|             M|                   1|             2015|             U|              7|                  I500|                              02|            11I500|            61L031|              null|              null|              null|              null|              null|              null|              null|               null|               null|               null|               null|               null|               null|               null|               null|               null|               null|               null|                              02|              I500|              L031|              null|              null|              null|              null|              null|              null|              null|               null|               null|               null|               null|               null|               null|               null|               null|               null|               null|               null|  01|                         6|\n",
            "|              1|                      6|            01|  M|              1|       070|             M|                   2|             2015|             U|              7|                  C349|                              08|            11I469|            21R042|            31C349|            41J189|             42J90|            61J449|            62I251|            63F179|              null|               null|               null|               null|               null|               null|               null|               null|               null|               null|               null|               null|                              07|              C349|              F179|              I251|              I469|              J440|               J90|              R042|              null|              null|               null|               null|               null|               null|               null|               null|               null|               null|               null|               null|               null|  01|                         6|\n",
            "|              1|                      3|            01|  F|              1|       091|             W|                   6|             2015|             U|              7|                  G309|                              01|            11G309|              null|              null|              null|              null|              null|              null|              null|              null|               null|               null|               null|               null|               null|               null|               null|               null|               null|               null|               null|                              01|              G309|              null|              null|              null|              null|              null|              null|              null|              null|               null|               null|               null|               null|               null|               null|               null|               null|               null|               null|               null|  01|                         6|\n",
            "|              1|                      3|            01|  F|              1|       040|             S|                   5|             2015|             N|              3|                   X91|                              06|             11T71|             12X91|             21T71|            61T149|            62S223|            63S299|              null|              null|              null|               null|               null|               null|               null|               null|               null|               null|               null|               null|               null|               null|                              05|               X91|              S223|              S299|              T149|               T71|              null|              null|              null|              null|               null|               null|               null|               null|               null|               null|               null|               null|               null|               null|               null|  03|                         8|\n",
            "|              1|                      5|            01|  F|              1|       089|             W|                   5|             2015|             U|              7|                  I250|                              03|            11I250|            21S720|            61X590|              null|              null|              null|              null|              null|              null|               null|               null|               null|               null|               null|               null|               null|               null|               null|               null|               null|                              03|              I250|              S720|              X590|              null|              null|              null|              null|              null|              null|               null|               null|               null|               null|               null|               null|               null|               null|               null|               null|               null|  01|                         6|\n",
            "|              1|                      6|            01|  M|              1|       078|             W|                   6|             2015|             U|              7|                  I516|                              04|            11I499|            21I516|            61E780|            62F179|              null|              null|              null|              null|              null|               null|               null|               null|               null|               null|               null|               null|               null|               null|               null|               null|                              04|              I516|              E780|              F179|              I499|              null|              null|              null|              null|              null|               null|               null|               null|               null|               null|               null|               null|               null|               null|               null|               null|  03|                         8|\n",
            "|              1|                      4|            01|  M|              1|       092|             W|                   1|             2015|             U|              7|                  E274|                              01|            11E274|              null|              null|              null|              null|              null|              null|              null|              null|               null|               null|               null|               null|               null|               null|               null|               null|               null|               null|               null|                              01|              E274|              null|              null|              null|              null|              null|              null|              null|              null|               null|               null|               null|               null|               null|               null|               null|               null|               null|               null|               null|  01|                         6|\n",
            "|              1|                      3|            01|  M|              1|       082|             M|                   1|             2015|             U|              7|                  I500|                              01|            11I500|              null|              null|              null|              null|              null|              null|              null|              null|               null|               null|               null|               null|               null|               null|               null|               null|               null|               null|               null|                              01|              I500|              null|              null|              null|              null|              null|              null|              null|              null|               null|               null|               null|               null|               null|               null|               null|               null|               null|               null|               null|  01|                         6|\n",
            "|              1|                      3|            01|  F|              1|       089|             W|                   1|             2015|             U|              7|                  I350|                              02|            11I500|            21I350|              null|              null|              null|              null|              null|              null|              null|               null|               null|               null|               null|               null|               null|               null|               null|               null|               null|               null|                              02|              I350|              I500|              null|              null|              null|              null|              null|              null|              null|               null|               null|               null|               null|               null|               null|               null|               null|               null|               null|               null|  01|                         6|\n",
            "|              1|                      9|            01|  F|              1|       093|             W|                   7|             2015|             U|              7|                   W19|                              06|            11T142|             21W19|            31R688|            41I694|             61F03|            62E039|              null|              null|              null|               null|               null|               null|               null|               null|               null|               null|               null|               null|               null|               null|                              06|               W19|              E039|               F03|              I694|              R688|              T142|              null|              null|              null|               null|               null|               null|               null|               null|               null|               null|               null|               null|               null|               null|  01|                         6|\n",
            "|              1|                      6|            01|  F|              1|       084|             M|                   1|             2015|             U|              7|                   I48|                              04|            11J189|             21I48|             61I64|             62G20|              null|              null|              null|              null|              null|               null|               null|               null|               null|               null|               null|               null|               null|               null|               null|               null|                              04|               I48|               G20|               I64|              J189|              null|              null|              null|              null|              null|               null|               null|               null|               null|               null|               null|               null|               null|               null|               null|               null|  01|                         6|\n",
            "|              1|                      3|            01|  F|              1|       084|             M|                   1|             2015|             U|              7|                  G309|                              02|            11G309|            61I500|              null|              null|              null|              null|              null|              null|              null|               null|               null|               null|               null|               null|               null|               null|               null|               null|               null|               null|                              02|              G309|              I500|              null|              null|              null|              null|              null|              null|              null|               null|               null|               null|               null|               null|               null|               null|               null|               null|               null|               null|  01|                         6|\n",
            "|              1|                      3|            01|  F|              1|       067|             M|                   2|             2015|             U|              7|                  I219|                              03|            11I219|            21I251|             61N19|              null|              null|              null|              null|              null|              null|               null|               null|               null|               null|               null|               null|               null|               null|               null|               null|               null|                              03|              I219|              I251|               N19|              null|              null|              null|              null|              null|              null|               null|               null|               null|               null|               null|               null|               null|               null|               null|               null|               null|  01|                         6|\n",
            "|              1|                      6|            01|  M|              1|       094|             W|                   7|             2015|             U|              7|                  R688|                              02|            11R688|             12R54|              null|              null|              null|              null|              null|              null|              null|               null|               null|               null|               null|               null|               null|               null|               null|               null|               null|               null|                              02|              R688|               R54|              null|              null|              null|              null|              null|              null|              null|               null|               null|               null|               null|               null|               null|               null|               null|               null|               null|               null|  01|                         6|\n",
            "|              1|                      2|            01|  M|              1|       056|             M|                   7|             2015|             U|              7|                  C798|                              03|            11C798|            61K769|            62F179|              null|              null|              null|              null|              null|              null|               null|               null|               null|               null|               null|               null|               null|               null|               null|               null|               null|                              03|              C798|              F179|              K769|              null|              null|              null|              null|              null|              null|               null|               null|               null|               null|               null|               null|               null|               null|               null|               null|               null|  01|                         6|\n",
            "|              1|                      3|            01|  M|              1|       032|             S|                   6|             2015|             N|              1|                  X599|                              02|            11S099|            12X599|              null|              null|              null|              null|              null|              null|              null|               null|               null|               null|               null|               null|               null|               null|               null|               null|               null|               null|                              02|              X599|              S099|              null|              null|              null|              null|              null|              null|              null|               null|               null|               null|               null|               null|               null|               null|               null|               null|               null|               null|  03|                         8|\n",
            "|              1|                      2|            01|  M|              1|       018|             S|                   1|             2015|             N|              2|                   X70|                              04|             11T71|             12X70|             21T71|             61T71|              null|              null|              null|              null|              null|               null|               null|               null|               null|               null|               null|               null|               null|               null|               null|               null|                              02|               X70|               T71|              null|              null|              null|              null|              null|              null|              null|               null|               null|               null|               null|               null|               null|               null|               null|               null|               null|               null|  03|                         8|\n",
            "|              1|                      3|            01|  M|              1|       048|             M|                   7|             2015|             N|              2|                   X72|                              04|            11S069|            21S019|             22X72|            61S015|              null|              null|              null|              null|              null|               null|               null|               null|               null|               null|               null|               null|               null|               null|               null|               null|                              04|               X72|              S015|              S019|              S069|              null|              null|              null|              null|              null|               null|               null|               null|               null|               null|               null|               null|               null|               null|               null|               null|  01|                         6|\n",
            "|              1|                      4|            01|  F|              1|       079|             W|                   5|             2015|             U|              7|                   I64|                              02|             11I64|             21R13|              null|              null|              null|              null|              null|              null|              null|               null|               null|               null|               null|               null|               null|               null|               null|               null|               null|               null|                              02|               I64|               R13|              null|              null|              null|              null|              null|              null|              null|               null|               null|               null|               null|               null|               null|               null|               null|               null|               null|               null|  03|                         8|\n",
            "|              1|                      6|            01|  M|              1|       085|             W|                   6|             2015|             U|              7|                   I64|                              03|            11J189|             61G20|             62I64|              null|              null|              null|              null|              null|              null|               null|               null|               null|               null|               null|               null|               null|               null|               null|               null|               null|                              03|               I64|               G20|              J189|              null|              null|              null|              null|              null|              null|               null|               null|               null|               null|               null|               null|               null|               null|               null|               null|               null|  01|                         6|\n",
            "+---------------+-----------------------+--------------+---+---------------+----------+--------------+--------------------+-----------------+--------------+---------------+----------------------+--------------------------------+------------------+------------------+------------------+------------------+------------------+------------------+------------------+------------------+------------------+-------------------+-------------------+-------------------+-------------------+-------------------+-------------------+-------------------+-------------------+-------------------+-------------------+-------------------+--------------------------------+------------------+------------------+------------------+------------------+------------------+------------------+------------------+------------------+------------------+-------------------+-------------------+-------------------+-------------------+-------------------+-------------------+-------------------+-------------------+-------------------+-------------------+-------------------+----+--------------------------+\n",
            "only showing top 20 rows\n",
            "\n"
          ],
          "name": "stdout"
        }
      ]
    },
    {
      "cell_type": "code",
      "metadata": {
        "colab": {
          "base_uri": "https://localhost:8080/"
        },
        "id": "K-GgqdceGAko",
        "outputId": "d8d79edf-18c7-4a43-e048-8026bdba94d7"
      },
      "source": [
        "#removed anyone under the age of 1 (not in category 1), now removing the \"detail_age_type\" category as it will no longer be needed\n",
        "death_2015_adults = death_2015_clean_adults.drop(\"detail_age_type\")\n",
        "death_2015_adults.show()"
      ],
      "execution_count": 8,
      "outputs": [
        {
          "output_type": "stream",
          "text": [
            "+---------------+-----------------------+--------------+---+----------+--------------+--------------------+-----------------+--------------+---------------+----------------------+--------------------------------+------------------+------------------+------------------+------------------+------------------+------------------+------------------+------------------+------------------+-------------------+-------------------+-------------------+-------------------+-------------------+-------------------+-------------------+-------------------+-------------------+-------------------+-------------------+--------------------------------+------------------+------------------+------------------+------------------+------------------+------------------+------------------+------------------+------------------+-------------------+-------------------+-------------------+-------------------+-------------------+-------------------+-------------------+-------------------+-------------------+-------------------+-------------------+----+--------------------------+\n",
            "|resident_status|education_2003_revision|month_of_death|sex|detail_age|marital_status|day_of_week_of_death|current_data_year|injury_at_work|manner_of_death|icd_code_10th_revision|number_of_entity_axis_conditions|entity_condition_1|entity_condition_2|entity_condition_3|entity_condition_4|entity_condition_5|entity_condition_6|entity_condition_7|entity_condition_8|entity_condition_9|entity_condition_10|entity_condition_11|entity_condition_12|entity_condition_13|entity_condition_14|entity_condition_15|entity_condition_16|entity_condition_17|entity_condition_18|entity_condition_19|entity_condition_20|number_of_record_axis_conditions|record_condition_1|record_condition_2|record_condition_3|record_condition_4|record_condition_5|record_condition_6|record_condition_7|record_condition_8|record_condition_9|record_condition_10|record_condition_11|record_condition_12|record_condition_13|record_condition_14|record_condition_15|record_condition_16|record_condition_17|record_condition_18|record_condition_19|record_condition_20|race|hispanic_originrace_recode|\n",
            "+---------------+-----------------------+--------------+---+----------+--------------+--------------------+-----------------+--------------+---------------+----------------------+--------------------------------+------------------+------------------+------------------+------------------+------------------+------------------+------------------+------------------+------------------+-------------------+-------------------+-------------------+-------------------+-------------------+-------------------+-------------------+-------------------+-------------------+-------------------+-------------------+--------------------------------+------------------+------------------+------------------+------------------+------------------+------------------+------------------+------------------+------------------+-------------------+-------------------+-------------------+-------------------+-------------------+-------------------+-------------------+-------------------+-------------------+-------------------+-------------------+----+--------------------------+\n",
            "|              1|                      3|            01|  M|       084|             M|                   1|             2015|             U|              7|                  I500|                              02|            11I500|            61L031|              null|              null|              null|              null|              null|              null|              null|               null|               null|               null|               null|               null|               null|               null|               null|               null|               null|               null|                              02|              I500|              L031|              null|              null|              null|              null|              null|              null|              null|               null|               null|               null|               null|               null|               null|               null|               null|               null|               null|               null|  01|                         6|\n",
            "|              1|                      6|            01|  M|       070|             M|                   2|             2015|             U|              7|                  C349|                              08|            11I469|            21R042|            31C349|            41J189|             42J90|            61J449|            62I251|            63F179|              null|               null|               null|               null|               null|               null|               null|               null|               null|               null|               null|               null|                              07|              C349|              F179|              I251|              I469|              J440|               J90|              R042|              null|              null|               null|               null|               null|               null|               null|               null|               null|               null|               null|               null|               null|  01|                         6|\n",
            "|              1|                      3|            01|  F|       091|             W|                   6|             2015|             U|              7|                  G309|                              01|            11G309|              null|              null|              null|              null|              null|              null|              null|              null|               null|               null|               null|               null|               null|               null|               null|               null|               null|               null|               null|                              01|              G309|              null|              null|              null|              null|              null|              null|              null|              null|               null|               null|               null|               null|               null|               null|               null|               null|               null|               null|               null|  01|                         6|\n",
            "|              1|                      3|            01|  F|       040|             S|                   5|             2015|             N|              3|                   X91|                              06|             11T71|             12X91|             21T71|            61T149|            62S223|            63S299|              null|              null|              null|               null|               null|               null|               null|               null|               null|               null|               null|               null|               null|               null|                              05|               X91|              S223|              S299|              T149|               T71|              null|              null|              null|              null|               null|               null|               null|               null|               null|               null|               null|               null|               null|               null|               null|  03|                         8|\n",
            "|              1|                      5|            01|  F|       089|             W|                   5|             2015|             U|              7|                  I250|                              03|            11I250|            21S720|            61X590|              null|              null|              null|              null|              null|              null|               null|               null|               null|               null|               null|               null|               null|               null|               null|               null|               null|                              03|              I250|              S720|              X590|              null|              null|              null|              null|              null|              null|               null|               null|               null|               null|               null|               null|               null|               null|               null|               null|               null|  01|                         6|\n",
            "|              1|                      6|            01|  M|       078|             W|                   6|             2015|             U|              7|                  I516|                              04|            11I499|            21I516|            61E780|            62F179|              null|              null|              null|              null|              null|               null|               null|               null|               null|               null|               null|               null|               null|               null|               null|               null|                              04|              I516|              E780|              F179|              I499|              null|              null|              null|              null|              null|               null|               null|               null|               null|               null|               null|               null|               null|               null|               null|               null|  03|                         8|\n",
            "|              1|                      4|            01|  M|       092|             W|                   1|             2015|             U|              7|                  E274|                              01|            11E274|              null|              null|              null|              null|              null|              null|              null|              null|               null|               null|               null|               null|               null|               null|               null|               null|               null|               null|               null|                              01|              E274|              null|              null|              null|              null|              null|              null|              null|              null|               null|               null|               null|               null|               null|               null|               null|               null|               null|               null|               null|  01|                         6|\n",
            "|              1|                      3|            01|  M|       082|             M|                   1|             2015|             U|              7|                  I500|                              01|            11I500|              null|              null|              null|              null|              null|              null|              null|              null|               null|               null|               null|               null|               null|               null|               null|               null|               null|               null|               null|                              01|              I500|              null|              null|              null|              null|              null|              null|              null|              null|               null|               null|               null|               null|               null|               null|               null|               null|               null|               null|               null|  01|                         6|\n",
            "|              1|                      3|            01|  F|       089|             W|                   1|             2015|             U|              7|                  I350|                              02|            11I500|            21I350|              null|              null|              null|              null|              null|              null|              null|               null|               null|               null|               null|               null|               null|               null|               null|               null|               null|               null|                              02|              I350|              I500|              null|              null|              null|              null|              null|              null|              null|               null|               null|               null|               null|               null|               null|               null|               null|               null|               null|               null|  01|                         6|\n",
            "|              1|                      9|            01|  F|       093|             W|                   7|             2015|             U|              7|                   W19|                              06|            11T142|             21W19|            31R688|            41I694|             61F03|            62E039|              null|              null|              null|               null|               null|               null|               null|               null|               null|               null|               null|               null|               null|               null|                              06|               W19|              E039|               F03|              I694|              R688|              T142|              null|              null|              null|               null|               null|               null|               null|               null|               null|               null|               null|               null|               null|               null|  01|                         6|\n",
            "|              1|                      6|            01|  F|       084|             M|                   1|             2015|             U|              7|                   I48|                              04|            11J189|             21I48|             61I64|             62G20|              null|              null|              null|              null|              null|               null|               null|               null|               null|               null|               null|               null|               null|               null|               null|               null|                              04|               I48|               G20|               I64|              J189|              null|              null|              null|              null|              null|               null|               null|               null|               null|               null|               null|               null|               null|               null|               null|               null|  01|                         6|\n",
            "|              1|                      3|            01|  F|       084|             M|                   1|             2015|             U|              7|                  G309|                              02|            11G309|            61I500|              null|              null|              null|              null|              null|              null|              null|               null|               null|               null|               null|               null|               null|               null|               null|               null|               null|               null|                              02|              G309|              I500|              null|              null|              null|              null|              null|              null|              null|               null|               null|               null|               null|               null|               null|               null|               null|               null|               null|               null|  01|                         6|\n",
            "|              1|                      3|            01|  F|       067|             M|                   2|             2015|             U|              7|                  I219|                              03|            11I219|            21I251|             61N19|              null|              null|              null|              null|              null|              null|               null|               null|               null|               null|               null|               null|               null|               null|               null|               null|               null|                              03|              I219|              I251|               N19|              null|              null|              null|              null|              null|              null|               null|               null|               null|               null|               null|               null|               null|               null|               null|               null|               null|  01|                         6|\n",
            "|              1|                      6|            01|  M|       094|             W|                   7|             2015|             U|              7|                  R688|                              02|            11R688|             12R54|              null|              null|              null|              null|              null|              null|              null|               null|               null|               null|               null|               null|               null|               null|               null|               null|               null|               null|                              02|              R688|               R54|              null|              null|              null|              null|              null|              null|              null|               null|               null|               null|               null|               null|               null|               null|               null|               null|               null|               null|  01|                         6|\n",
            "|              1|                      2|            01|  M|       056|             M|                   7|             2015|             U|              7|                  C798|                              03|            11C798|            61K769|            62F179|              null|              null|              null|              null|              null|              null|               null|               null|               null|               null|               null|               null|               null|               null|               null|               null|               null|                              03|              C798|              F179|              K769|              null|              null|              null|              null|              null|              null|               null|               null|               null|               null|               null|               null|               null|               null|               null|               null|               null|  01|                         6|\n",
            "|              1|                      3|            01|  M|       032|             S|                   6|             2015|             N|              1|                  X599|                              02|            11S099|            12X599|              null|              null|              null|              null|              null|              null|              null|               null|               null|               null|               null|               null|               null|               null|               null|               null|               null|               null|                              02|              X599|              S099|              null|              null|              null|              null|              null|              null|              null|               null|               null|               null|               null|               null|               null|               null|               null|               null|               null|               null|  03|                         8|\n",
            "|              1|                      2|            01|  M|       018|             S|                   1|             2015|             N|              2|                   X70|                              04|             11T71|             12X70|             21T71|             61T71|              null|              null|              null|              null|              null|               null|               null|               null|               null|               null|               null|               null|               null|               null|               null|               null|                              02|               X70|               T71|              null|              null|              null|              null|              null|              null|              null|               null|               null|               null|               null|               null|               null|               null|               null|               null|               null|               null|  03|                         8|\n",
            "|              1|                      3|            01|  M|       048|             M|                   7|             2015|             N|              2|                   X72|                              04|            11S069|            21S019|             22X72|            61S015|              null|              null|              null|              null|              null|               null|               null|               null|               null|               null|               null|               null|               null|               null|               null|               null|                              04|               X72|              S015|              S019|              S069|              null|              null|              null|              null|              null|               null|               null|               null|               null|               null|               null|               null|               null|               null|               null|               null|  01|                         6|\n",
            "|              1|                      4|            01|  F|       079|             W|                   5|             2015|             U|              7|                   I64|                              02|             11I64|             21R13|              null|              null|              null|              null|              null|              null|              null|               null|               null|               null|               null|               null|               null|               null|               null|               null|               null|               null|                              02|               I64|               R13|              null|              null|              null|              null|              null|              null|              null|               null|               null|               null|               null|               null|               null|               null|               null|               null|               null|               null|  03|                         8|\n",
            "|              1|                      6|            01|  M|       085|             W|                   6|             2015|             U|              7|                   I64|                              03|            11J189|             61G20|             62I64|              null|              null|              null|              null|              null|              null|               null|               null|               null|               null|               null|               null|               null|               null|               null|               null|               null|                              03|               I64|               G20|              J189|              null|              null|              null|              null|              null|              null|               null|               null|               null|               null|               null|               null|               null|               null|               null|               null|               null|  01|                         6|\n",
            "+---------------+-----------------------+--------------+---+----------+--------------+--------------------+-----------------+--------------+---------------+----------------------+--------------------------------+------------------+------------------+------------------+------------------+------------------+------------------+------------------+------------------+------------------+-------------------+-------------------+-------------------+-------------------+-------------------+-------------------+-------------------+-------------------+-------------------+-------------------+-------------------+--------------------------------+------------------+------------------+------------------+------------------+------------------+------------------+------------------+------------------+------------------+-------------------+-------------------+-------------------+-------------------+-------------------+-------------------+-------------------+-------------------+-------------------+-------------------+-------------------+----+--------------------------+\n",
            "only showing top 20 rows\n",
            "\n"
          ],
          "name": "stdout"
        }
      ]
    },
    {
      "cell_type": "code",
      "metadata": {
        "colab": {
          "base_uri": "https://localhost:8080/"
        },
        "id": "PntbIpt1H38z",
        "outputId": "1fef5fff-837f-48f5-9908-4c7b373ce653"
      },
      "source": [
        "death_2015_adults.printSchema()"
      ],
      "execution_count": 9,
      "outputs": [
        {
          "output_type": "stream",
          "text": [
            "root\n",
            " |-- resident_status: string (nullable = true)\n",
            " |-- education_2003_revision: string (nullable = true)\n",
            " |-- month_of_death: string (nullable = true)\n",
            " |-- sex: string (nullable = true)\n",
            " |-- detail_age: string (nullable = true)\n",
            " |-- marital_status: string (nullable = true)\n",
            " |-- day_of_week_of_death: string (nullable = true)\n",
            " |-- current_data_year: string (nullable = true)\n",
            " |-- injury_at_work: string (nullable = true)\n",
            " |-- manner_of_death: string (nullable = true)\n",
            " |-- icd_code_10th_revision: string (nullable = true)\n",
            " |-- number_of_entity_axis_conditions: string (nullable = true)\n",
            " |-- entity_condition_1: string (nullable = true)\n",
            " |-- entity_condition_2: string (nullable = true)\n",
            " |-- entity_condition_3: string (nullable = true)\n",
            " |-- entity_condition_4: string (nullable = true)\n",
            " |-- entity_condition_5: string (nullable = true)\n",
            " |-- entity_condition_6: string (nullable = true)\n",
            " |-- entity_condition_7: string (nullable = true)\n",
            " |-- entity_condition_8: string (nullable = true)\n",
            " |-- entity_condition_9: string (nullable = true)\n",
            " |-- entity_condition_10: string (nullable = true)\n",
            " |-- entity_condition_11: string (nullable = true)\n",
            " |-- entity_condition_12: string (nullable = true)\n",
            " |-- entity_condition_13: string (nullable = true)\n",
            " |-- entity_condition_14: string (nullable = true)\n",
            " |-- entity_condition_15: string (nullable = true)\n",
            " |-- entity_condition_16: string (nullable = true)\n",
            " |-- entity_condition_17: string (nullable = true)\n",
            " |-- entity_condition_18: string (nullable = true)\n",
            " |-- entity_condition_19: string (nullable = true)\n",
            " |-- entity_condition_20: string (nullable = true)\n",
            " |-- number_of_record_axis_conditions: string (nullable = true)\n",
            " |-- record_condition_1: string (nullable = true)\n",
            " |-- record_condition_2: string (nullable = true)\n",
            " |-- record_condition_3: string (nullable = true)\n",
            " |-- record_condition_4: string (nullable = true)\n",
            " |-- record_condition_5: string (nullable = true)\n",
            " |-- record_condition_6: string (nullable = true)\n",
            " |-- record_condition_7: string (nullable = true)\n",
            " |-- record_condition_8: string (nullable = true)\n",
            " |-- record_condition_9: string (nullable = true)\n",
            " |-- record_condition_10: string (nullable = true)\n",
            " |-- record_condition_11: string (nullable = true)\n",
            " |-- record_condition_12: string (nullable = true)\n",
            " |-- record_condition_13: string (nullable = true)\n",
            " |-- record_condition_14: string (nullable = true)\n",
            " |-- record_condition_15: string (nullable = true)\n",
            " |-- record_condition_16: string (nullable = true)\n",
            " |-- record_condition_17: string (nullable = true)\n",
            " |-- record_condition_18: string (nullable = true)\n",
            " |-- record_condition_19: string (nullable = true)\n",
            " |-- record_condition_20: string (nullable = true)\n",
            " |-- race: string (nullable = true)\n",
            " |-- hispanic_originrace_recode: string (nullable = true)\n",
            "\n"
          ],
          "name": "stdout"
        }
      ]
    },
    {
      "cell_type": "code",
      "metadata": {
        "colab": {
          "base_uri": "https://localhost:8080/"
        },
        "id": "BIkB43sOJuZW",
        "outputId": "bac3e86f-55bf-4f25-b791-909929e26f95"
      },
      "source": [
        "#row count\n",
        "death_2015_adults.count()"
      ],
      "execution_count": 10,
      "outputs": [
        {
          "output_type": "execute_result",
          "data": {
            "text/plain": [
              "2694400"
            ]
          },
          "metadata": {
            "tags": []
          },
          "execution_count": 10
        }
      ]
    },
    {
      "cell_type": "code",
      "metadata": {
        "colab": {
          "base_uri": "https://localhost:8080/"
        },
        "id": "3lyN6mtwIdJO",
        "outputId": "1b3381d2-f5f0-46ec-fb42-700f8c622234"
      },
      "source": [
        "#need to get some data on the figures for the condition columns but they are strings\n",
        "from pyspark.sql.functions import col\n",
        "from pyspark.sql.types import IntegerType\n",
        "death_2015_update = death_2015_adults.withColumn(\"number_of_entity_axis_conditions\",col(\"number_of_entity_axis_conditions\").cast(\"integer\")).withColumn(\"number_of_record_axis_conditions\",col(\"number_of_record_axis_conditions\").cast(\"integer\"))\n",
        "death_2015_update.printSchema()"
      ],
      "execution_count": 11,
      "outputs": [
        {
          "output_type": "stream",
          "text": [
            "root\n",
            " |-- resident_status: string (nullable = true)\n",
            " |-- education_2003_revision: string (nullable = true)\n",
            " |-- month_of_death: string (nullable = true)\n",
            " |-- sex: string (nullable = true)\n",
            " |-- detail_age: string (nullable = true)\n",
            " |-- marital_status: string (nullable = true)\n",
            " |-- day_of_week_of_death: string (nullable = true)\n",
            " |-- current_data_year: string (nullable = true)\n",
            " |-- injury_at_work: string (nullable = true)\n",
            " |-- manner_of_death: string (nullable = true)\n",
            " |-- icd_code_10th_revision: string (nullable = true)\n",
            " |-- number_of_entity_axis_conditions: integer (nullable = true)\n",
            " |-- entity_condition_1: string (nullable = true)\n",
            " |-- entity_condition_2: string (nullable = true)\n",
            " |-- entity_condition_3: string (nullable = true)\n",
            " |-- entity_condition_4: string (nullable = true)\n",
            " |-- entity_condition_5: string (nullable = true)\n",
            " |-- entity_condition_6: string (nullable = true)\n",
            " |-- entity_condition_7: string (nullable = true)\n",
            " |-- entity_condition_8: string (nullable = true)\n",
            " |-- entity_condition_9: string (nullable = true)\n",
            " |-- entity_condition_10: string (nullable = true)\n",
            " |-- entity_condition_11: string (nullable = true)\n",
            " |-- entity_condition_12: string (nullable = true)\n",
            " |-- entity_condition_13: string (nullable = true)\n",
            " |-- entity_condition_14: string (nullable = true)\n",
            " |-- entity_condition_15: string (nullable = true)\n",
            " |-- entity_condition_16: string (nullable = true)\n",
            " |-- entity_condition_17: string (nullable = true)\n",
            " |-- entity_condition_18: string (nullable = true)\n",
            " |-- entity_condition_19: string (nullable = true)\n",
            " |-- entity_condition_20: string (nullable = true)\n",
            " |-- number_of_record_axis_conditions: integer (nullable = true)\n",
            " |-- record_condition_1: string (nullable = true)\n",
            " |-- record_condition_2: string (nullable = true)\n",
            " |-- record_condition_3: string (nullable = true)\n",
            " |-- record_condition_4: string (nullable = true)\n",
            " |-- record_condition_5: string (nullable = true)\n",
            " |-- record_condition_6: string (nullable = true)\n",
            " |-- record_condition_7: string (nullable = true)\n",
            " |-- record_condition_8: string (nullable = true)\n",
            " |-- record_condition_9: string (nullable = true)\n",
            " |-- record_condition_10: string (nullable = true)\n",
            " |-- record_condition_11: string (nullable = true)\n",
            " |-- record_condition_12: string (nullable = true)\n",
            " |-- record_condition_13: string (nullable = true)\n",
            " |-- record_condition_14: string (nullable = true)\n",
            " |-- record_condition_15: string (nullable = true)\n",
            " |-- record_condition_16: string (nullable = true)\n",
            " |-- record_condition_17: string (nullable = true)\n",
            " |-- record_condition_18: string (nullable = true)\n",
            " |-- record_condition_19: string (nullable = true)\n",
            " |-- record_condition_20: string (nullable = true)\n",
            " |-- race: string (nullable = true)\n",
            " |-- hispanic_originrace_recode: string (nullable = true)\n",
            "\n"
          ],
          "name": "stdout"
        }
      ]
    },
    {
      "cell_type": "code",
      "metadata": {
        "colab": {
          "base_uri": "https://localhost:8080/"
        },
        "id": "g0GP26uKGrsK",
        "outputId": "c16d30c1-2fd8-4aed-cf4c-eb24c20f5852"
      },
      "source": [
        "#need to know on average how many underlying conditions there are 20 options are available\n",
        "death_2015_update.select(\"number_of_entity_axis_conditions\", \"number_of_record_axis_conditions\").describe().show()"
      ],
      "execution_count": 12,
      "outputs": [
        {
          "output_type": "stream",
          "text": [
            "+-------+--------------------------------+--------------------------------+\n",
            "|summary|number_of_entity_axis_conditions|number_of_record_axis_conditions|\n",
            "+-------+--------------------------------+--------------------------------+\n",
            "|  count|                         2694400|                         2694400|\n",
            "|   mean|               3.103408551068884|               2.953636059976247|\n",
            "| stddev|              1.9167837941567076|              1.7928775740469587|\n",
            "|    min|                               1|                               1|\n",
            "|    max|                              15|                              15|\n",
            "+-------+--------------------------------+--------------------------------+\n",
            "\n"
          ],
          "name": "stdout"
        }
      ]
    },
    {
      "cell_type": "code",
      "metadata": {
        "id": "0BmmFoVkGtu5"
      },
      "source": [
        "#per documentation of the data, record_axis will be removed as it is for the death certificate, and the entity is pre-known conditions\n",
        "#for the entity conditions, droppping all but the average of 3, and removing the number of entity as it is no longer needed \n",
        "death_2015_cleaned = death_2015_update.drop(\"number_of_entity_axis_conditions\",\"entity_condition_4\",\"entity_condition_5\",\"entity_condition_6\",\"entity_condition_7\",\"entity_condition_8\",\n",
        "                                            \"entity_condition_9\",\"entity_condition_10\",\"entity_condition_11\",\"entity_condition_12\",\"entity_condition_13\",\"entity_condition_14\",\n",
        "                                            \"entity_condition_15\",\"entity_condition_16\",\"entity_condition_17\",\"entity_condition_18\",\"entity_condition_19\",\"entity_condition_20\",\n",
        "                                            \"number_of_record_axis_conditions\", \"record_condition_1\", \"record_condition_2\",\"record_condition_3\",\"record_condition_4\",\"record_condition_5\",\n",
        "                                            \"record_condition_6\",\"record_condition_7\",\"record_condition_8\",\"record_condition_9\",\"record_condition_10\",\"record_condition_11\",\"record_condition_12\",\n",
        "                                            \"record_condition_13\",\"record_condition_14\",\"record_condition_15\",\"record_condition_16\",\"record_condition_17\",\"record_condition_18\",\"record_condition_19\",\n",
        "                                            \"record_condition_20\",)"
      ],
      "execution_count": 13,
      "outputs": []
    },
    {
      "cell_type": "code",
      "metadata": {
        "colab": {
          "base_uri": "https://localhost:8080/"
        },
        "id": "NkLPS_xyGuDS",
        "outputId": "25ff8d0c-e331-40b4-82e4-70e66774476c"
      },
      "source": [
        "death_2015_cleaned.show()"
      ],
      "execution_count": 14,
      "outputs": [
        {
          "output_type": "stream",
          "text": [
            "+---------------+-----------------------+--------------+---+----------+--------------+--------------------+-----------------+--------------+---------------+----------------------+------------------+------------------+------------------+----+--------------------------+\n",
            "|resident_status|education_2003_revision|month_of_death|sex|detail_age|marital_status|day_of_week_of_death|current_data_year|injury_at_work|manner_of_death|icd_code_10th_revision|entity_condition_1|entity_condition_2|entity_condition_3|race|hispanic_originrace_recode|\n",
            "+---------------+-----------------------+--------------+---+----------+--------------+--------------------+-----------------+--------------+---------------+----------------------+------------------+------------------+------------------+----+--------------------------+\n",
            "|              1|                      3|            01|  M|       084|             M|                   1|             2015|             U|              7|                  I500|            11I500|            61L031|              null|  01|                         6|\n",
            "|              1|                      6|            01|  M|       070|             M|                   2|             2015|             U|              7|                  C349|            11I469|            21R042|            31C349|  01|                         6|\n",
            "|              1|                      3|            01|  F|       091|             W|                   6|             2015|             U|              7|                  G309|            11G309|              null|              null|  01|                         6|\n",
            "|              1|                      3|            01|  F|       040|             S|                   5|             2015|             N|              3|                   X91|             11T71|             12X91|             21T71|  03|                         8|\n",
            "|              1|                      5|            01|  F|       089|             W|                   5|             2015|             U|              7|                  I250|            11I250|            21S720|            61X590|  01|                         6|\n",
            "|              1|                      6|            01|  M|       078|             W|                   6|             2015|             U|              7|                  I516|            11I499|            21I516|            61E780|  03|                         8|\n",
            "|              1|                      4|            01|  M|       092|             W|                   1|             2015|             U|              7|                  E274|            11E274|              null|              null|  01|                         6|\n",
            "|              1|                      3|            01|  M|       082|             M|                   1|             2015|             U|              7|                  I500|            11I500|              null|              null|  01|                         6|\n",
            "|              1|                      3|            01|  F|       089|             W|                   1|             2015|             U|              7|                  I350|            11I500|            21I350|              null|  01|                         6|\n",
            "|              1|                      9|            01|  F|       093|             W|                   7|             2015|             U|              7|                   W19|            11T142|             21W19|            31R688|  01|                         6|\n",
            "|              1|                      6|            01|  F|       084|             M|                   1|             2015|             U|              7|                   I48|            11J189|             21I48|             61I64|  01|                         6|\n",
            "|              1|                      3|            01|  F|       084|             M|                   1|             2015|             U|              7|                  G309|            11G309|            61I500|              null|  01|                         6|\n",
            "|              1|                      3|            01|  F|       067|             M|                   2|             2015|             U|              7|                  I219|            11I219|            21I251|             61N19|  01|                         6|\n",
            "|              1|                      6|            01|  M|       094|             W|                   7|             2015|             U|              7|                  R688|            11R688|             12R54|              null|  01|                         6|\n",
            "|              1|                      2|            01|  M|       056|             M|                   7|             2015|             U|              7|                  C798|            11C798|            61K769|            62F179|  01|                         6|\n",
            "|              1|                      3|            01|  M|       032|             S|                   6|             2015|             N|              1|                  X599|            11S099|            12X599|              null|  03|                         8|\n",
            "|              1|                      2|            01|  M|       018|             S|                   1|             2015|             N|              2|                   X70|             11T71|             12X70|             21T71|  03|                         8|\n",
            "|              1|                      3|            01|  M|       048|             M|                   7|             2015|             N|              2|                   X72|            11S069|            21S019|             22X72|  01|                         6|\n",
            "|              1|                      4|            01|  F|       079|             W|                   5|             2015|             U|              7|                   I64|             11I64|             21R13|              null|  03|                         8|\n",
            "|              1|                      6|            01|  M|       085|             W|                   6|             2015|             U|              7|                   I64|            11J189|             61G20|             62I64|  01|                         6|\n",
            "+---------------+-----------------------+--------------+---+----------+--------------+--------------------+-----------------+--------------+---------------+----------------------+------------------+------------------+------------------+----+--------------------------+\n",
            "only showing top 20 rows\n",
            "\n"
          ],
          "name": "stdout"
        }
      ]
    },
    {
      "cell_type": "code",
      "metadata": {
        "colab": {
          "base_uri": "https://localhost:8080/"
        },
        "id": "XT-wl8k2mGgN",
        "outputId": "9c31be27-3a80-47af-85a0-8d5a1d7988d9"
      },
      "source": [
        "#list of columns\n",
        "death_2015_cleaned.schema.names"
      ],
      "execution_count": 15,
      "outputs": [
        {
          "output_type": "execute_result",
          "data": {
            "text/plain": [
              "['resident_status',\n",
              " 'education_2003_revision',\n",
              " 'month_of_death',\n",
              " 'sex',\n",
              " 'detail_age',\n",
              " 'marital_status',\n",
              " 'day_of_week_of_death',\n",
              " 'current_data_year',\n",
              " 'injury_at_work',\n",
              " 'manner_of_death',\n",
              " 'icd_code_10th_revision',\n",
              " 'entity_condition_1',\n",
              " 'entity_condition_2',\n",
              " 'entity_condition_3',\n",
              " 'race',\n",
              " 'hispanic_originrace_recode']"
            ]
          },
          "metadata": {
            "tags": []
          },
          "execution_count": 15
        }
      ]
    },
    {
      "cell_type": "code",
      "metadata": {
        "colab": {
          "base_uri": "https://localhost:8080/"
        },
        "id": "hclIxaILl77G",
        "outputId": "b0e13de4-6f82-498d-93e4-67c7bfbf277f"
      },
      "source": [
        "#cleaning up names\n",
        "death_2015_columns = death_2015_cleaned.withColumnRenamed(\"resident_status\",\"resident\").withColumnRenamed(\"education_2003_revision\",\"education\").withColumnRenamed(\"detail_age\", \"age\").withColumnRenamed(\"current_date_year\", \"year\").withColumnRenamed(\"icd_code_10th_revision\", \"icd_death_code\").withColumnRenamed(\"hispanic_originrace_recode\", \"hispanic\")\n",
        "death_2015_columns.show()"
      ],
      "execution_count": 16,
      "outputs": [
        {
          "output_type": "stream",
          "text": [
            "+--------+---------+--------------+---+---+--------------+--------------------+-----------------+--------------+---------------+--------------+------------------+------------------+------------------+----+--------+\n",
            "|resident|education|month_of_death|sex|age|marital_status|day_of_week_of_death|current_data_year|injury_at_work|manner_of_death|icd_death_code|entity_condition_1|entity_condition_2|entity_condition_3|race|hispanic|\n",
            "+--------+---------+--------------+---+---+--------------+--------------------+-----------------+--------------+---------------+--------------+------------------+------------------+------------------+----+--------+\n",
            "|       1|        3|            01|  M|084|             M|                   1|             2015|             U|              7|          I500|            11I500|            61L031|              null|  01|       6|\n",
            "|       1|        6|            01|  M|070|             M|                   2|             2015|             U|              7|          C349|            11I469|            21R042|            31C349|  01|       6|\n",
            "|       1|        3|            01|  F|091|             W|                   6|             2015|             U|              7|          G309|            11G309|              null|              null|  01|       6|\n",
            "|       1|        3|            01|  F|040|             S|                   5|             2015|             N|              3|           X91|             11T71|             12X91|             21T71|  03|       8|\n",
            "|       1|        5|            01|  F|089|             W|                   5|             2015|             U|              7|          I250|            11I250|            21S720|            61X590|  01|       6|\n",
            "|       1|        6|            01|  M|078|             W|                   6|             2015|             U|              7|          I516|            11I499|            21I516|            61E780|  03|       8|\n",
            "|       1|        4|            01|  M|092|             W|                   1|             2015|             U|              7|          E274|            11E274|              null|              null|  01|       6|\n",
            "|       1|        3|            01|  M|082|             M|                   1|             2015|             U|              7|          I500|            11I500|              null|              null|  01|       6|\n",
            "|       1|        3|            01|  F|089|             W|                   1|             2015|             U|              7|          I350|            11I500|            21I350|              null|  01|       6|\n",
            "|       1|        9|            01|  F|093|             W|                   7|             2015|             U|              7|           W19|            11T142|             21W19|            31R688|  01|       6|\n",
            "|       1|        6|            01|  F|084|             M|                   1|             2015|             U|              7|           I48|            11J189|             21I48|             61I64|  01|       6|\n",
            "|       1|        3|            01|  F|084|             M|                   1|             2015|             U|              7|          G309|            11G309|            61I500|              null|  01|       6|\n",
            "|       1|        3|            01|  F|067|             M|                   2|             2015|             U|              7|          I219|            11I219|            21I251|             61N19|  01|       6|\n",
            "|       1|        6|            01|  M|094|             W|                   7|             2015|             U|              7|          R688|            11R688|             12R54|              null|  01|       6|\n",
            "|       1|        2|            01|  M|056|             M|                   7|             2015|             U|              7|          C798|            11C798|            61K769|            62F179|  01|       6|\n",
            "|       1|        3|            01|  M|032|             S|                   6|             2015|             N|              1|          X599|            11S099|            12X599|              null|  03|       8|\n",
            "|       1|        2|            01|  M|018|             S|                   1|             2015|             N|              2|           X70|             11T71|             12X70|             21T71|  03|       8|\n",
            "|       1|        3|            01|  M|048|             M|                   7|             2015|             N|              2|           X72|            11S069|            21S019|             22X72|  01|       6|\n",
            "|       1|        4|            01|  F|079|             W|                   5|             2015|             U|              7|           I64|             11I64|             21R13|              null|  03|       8|\n",
            "|       1|        6|            01|  M|085|             W|                   6|             2015|             U|              7|           I64|            11J189|             61G20|             62I64|  01|       6|\n",
            "+--------+---------+--------------+---+---+--------------+--------------------+-----------------+--------------+---------------+--------------+------------------+------------------+------------------+----+--------+\n",
            "only showing top 20 rows\n",
            "\n"
          ],
          "name": "stdout"
        }
      ]
    },
    {
      "cell_type": "code",
      "metadata": {
        "colab": {
          "base_uri": "https://localhost:8080/"
        },
        "id": "n50Zc1fDlR89",
        "outputId": "34bcb38a-1804-42c5-ab96-c51057266c3d"
      },
      "source": [
        "#what are the types\n",
        "death_2015_columns.printSchema()"
      ],
      "execution_count": 17,
      "outputs": [
        {
          "output_type": "stream",
          "text": [
            "root\n",
            " |-- resident: string (nullable = true)\n",
            " |-- education: string (nullable = true)\n",
            " |-- month_of_death: string (nullable = true)\n",
            " |-- sex: string (nullable = true)\n",
            " |-- age: string (nullable = true)\n",
            " |-- marital_status: string (nullable = true)\n",
            " |-- day_of_week_of_death: string (nullable = true)\n",
            " |-- current_data_year: string (nullable = true)\n",
            " |-- injury_at_work: string (nullable = true)\n",
            " |-- manner_of_death: string (nullable = true)\n",
            " |-- icd_death_code: string (nullable = true)\n",
            " |-- entity_condition_1: string (nullable = true)\n",
            " |-- entity_condition_2: string (nullable = true)\n",
            " |-- entity_condition_3: string (nullable = true)\n",
            " |-- race: string (nullable = true)\n",
            " |-- hispanic: string (nullable = true)\n",
            "\n"
          ],
          "name": "stdout"
        }
      ]
    },
    {
      "cell_type": "code",
      "metadata": {
        "colab": {
          "base_uri": "https://localhost:8080/"
        },
        "id": "kBe40b9WlhXG",
        "outputId": "8a952df5-d053-4c15-97f8-f7675159d724"
      },
      "source": [
        "#making the integer columns integer, the death and entity conditions cannot be integers as they have letters as well as numbers\n",
        "death_2015_int = death_2015_columns.withColumn(\"resident\",col(\"resident\").cast(\"integer\")).withColumn(\"education\",col(\"education\").cast(\"integer\")).withColumn(\"month_of_death\",col(\"month_of_death\").cast(\"integer\")).withColumn(\"age\",col(\"age\").cast(\"integer\")).withColumn(\"day_of_week_of_death\",col(\"day_of_week_of_death\").cast(\"integer\")).withColumn(\"current_data_year\",col(\"current_data_year\").cast(\"integer\")).withColumn(\"manner_of_death\",col(\"manner_of_death\").cast(\"integer\")).withColumn(\"race\",col(\"race\").cast(\"integer\")).withColumn(\"hispanic\",col(\"hispanic\").cast(\"integer\"))\n",
        "death_2015_int.show()"
      ],
      "execution_count": 18,
      "outputs": [
        {
          "output_type": "stream",
          "text": [
            "+--------+---------+--------------+---+---+--------------+--------------------+-----------------+--------------+---------------+--------------+------------------+------------------+------------------+----+--------+\n",
            "|resident|education|month_of_death|sex|age|marital_status|day_of_week_of_death|current_data_year|injury_at_work|manner_of_death|icd_death_code|entity_condition_1|entity_condition_2|entity_condition_3|race|hispanic|\n",
            "+--------+---------+--------------+---+---+--------------+--------------------+-----------------+--------------+---------------+--------------+------------------+------------------+------------------+----+--------+\n",
            "|       1|        3|             1|  M| 84|             M|                   1|             2015|             U|              7|          I500|            11I500|            61L031|              null|   1|       6|\n",
            "|       1|        6|             1|  M| 70|             M|                   2|             2015|             U|              7|          C349|            11I469|            21R042|            31C349|   1|       6|\n",
            "|       1|        3|             1|  F| 91|             W|                   6|             2015|             U|              7|          G309|            11G309|              null|              null|   1|       6|\n",
            "|       1|        3|             1|  F| 40|             S|                   5|             2015|             N|              3|           X91|             11T71|             12X91|             21T71|   3|       8|\n",
            "|       1|        5|             1|  F| 89|             W|                   5|             2015|             U|              7|          I250|            11I250|            21S720|            61X590|   1|       6|\n",
            "|       1|        6|             1|  M| 78|             W|                   6|             2015|             U|              7|          I516|            11I499|            21I516|            61E780|   3|       8|\n",
            "|       1|        4|             1|  M| 92|             W|                   1|             2015|             U|              7|          E274|            11E274|              null|              null|   1|       6|\n",
            "|       1|        3|             1|  M| 82|             M|                   1|             2015|             U|              7|          I500|            11I500|              null|              null|   1|       6|\n",
            "|       1|        3|             1|  F| 89|             W|                   1|             2015|             U|              7|          I350|            11I500|            21I350|              null|   1|       6|\n",
            "|       1|        9|             1|  F| 93|             W|                   7|             2015|             U|              7|           W19|            11T142|             21W19|            31R688|   1|       6|\n",
            "|       1|        6|             1|  F| 84|             M|                   1|             2015|             U|              7|           I48|            11J189|             21I48|             61I64|   1|       6|\n",
            "|       1|        3|             1|  F| 84|             M|                   1|             2015|             U|              7|          G309|            11G309|            61I500|              null|   1|       6|\n",
            "|       1|        3|             1|  F| 67|             M|                   2|             2015|             U|              7|          I219|            11I219|            21I251|             61N19|   1|       6|\n",
            "|       1|        6|             1|  M| 94|             W|                   7|             2015|             U|              7|          R688|            11R688|             12R54|              null|   1|       6|\n",
            "|       1|        2|             1|  M| 56|             M|                   7|             2015|             U|              7|          C798|            11C798|            61K769|            62F179|   1|       6|\n",
            "|       1|        3|             1|  M| 32|             S|                   6|             2015|             N|              1|          X599|            11S099|            12X599|              null|   3|       8|\n",
            "|       1|        2|             1|  M| 18|             S|                   1|             2015|             N|              2|           X70|             11T71|             12X70|             21T71|   3|       8|\n",
            "|       1|        3|             1|  M| 48|             M|                   7|             2015|             N|              2|           X72|            11S069|            21S019|             22X72|   1|       6|\n",
            "|       1|        4|             1|  F| 79|             W|                   5|             2015|             U|              7|           I64|             11I64|             21R13|              null|   3|       8|\n",
            "|       1|        6|             1|  M| 85|             W|                   6|             2015|             U|              7|           I64|            11J189|             61G20|             62I64|   1|       6|\n",
            "+--------+---------+--------------+---+---+--------------+--------------------+-----------------+--------------+---------------+--------------+------------------+------------------+------------------+----+--------+\n",
            "only showing top 20 rows\n",
            "\n"
          ],
          "name": "stdout"
        }
      ]
    },
    {
      "cell_type": "code",
      "metadata": {
        "colab": {
          "base_uri": "https://localhost:8080/"
        },
        "id": "gekLPy_eoIwj",
        "outputId": "5fcfee83-88d6-41a7-d9cf-3456c14f339e"
      },
      "source": [
        "#filling in the null values with zero\n",
        "#we want to maintain the rows, but they will not have other conditions or less than 3\n",
        "death_2015_final = death_2015_int.fillna(value=\"0\",subset=[\"entity_condition_1\"]).fillna(value=\"0\",subset=[\"entity_condition_2\"]).fillna(value=\"0\",subset=[\"entity_condition_3\"])\n",
        "death_2015_final.show()"
      ],
      "execution_count": 19,
      "outputs": [
        {
          "output_type": "stream",
          "text": [
            "+--------+---------+--------------+---+---+--------------+--------------------+-----------------+--------------+---------------+--------------+------------------+------------------+------------------+----+--------+\n",
            "|resident|education|month_of_death|sex|age|marital_status|day_of_week_of_death|current_data_year|injury_at_work|manner_of_death|icd_death_code|entity_condition_1|entity_condition_2|entity_condition_3|race|hispanic|\n",
            "+--------+---------+--------------+---+---+--------------+--------------------+-----------------+--------------+---------------+--------------+------------------+------------------+------------------+----+--------+\n",
            "|       1|        3|             1|  M| 84|             M|                   1|             2015|             U|              7|          I500|            11I500|            61L031|                 0|   1|       6|\n",
            "|       1|        6|             1|  M| 70|             M|                   2|             2015|             U|              7|          C349|            11I469|            21R042|            31C349|   1|       6|\n",
            "|       1|        3|             1|  F| 91|             W|                   6|             2015|             U|              7|          G309|            11G309|                 0|                 0|   1|       6|\n",
            "|       1|        3|             1|  F| 40|             S|                   5|             2015|             N|              3|           X91|             11T71|             12X91|             21T71|   3|       8|\n",
            "|       1|        5|             1|  F| 89|             W|                   5|             2015|             U|              7|          I250|            11I250|            21S720|            61X590|   1|       6|\n",
            "|       1|        6|             1|  M| 78|             W|                   6|             2015|             U|              7|          I516|            11I499|            21I516|            61E780|   3|       8|\n",
            "|       1|        4|             1|  M| 92|             W|                   1|             2015|             U|              7|          E274|            11E274|                 0|                 0|   1|       6|\n",
            "|       1|        3|             1|  M| 82|             M|                   1|             2015|             U|              7|          I500|            11I500|                 0|                 0|   1|       6|\n",
            "|       1|        3|             1|  F| 89|             W|                   1|             2015|             U|              7|          I350|            11I500|            21I350|                 0|   1|       6|\n",
            "|       1|        9|             1|  F| 93|             W|                   7|             2015|             U|              7|           W19|            11T142|             21W19|            31R688|   1|       6|\n",
            "|       1|        6|             1|  F| 84|             M|                   1|             2015|             U|              7|           I48|            11J189|             21I48|             61I64|   1|       6|\n",
            "|       1|        3|             1|  F| 84|             M|                   1|             2015|             U|              7|          G309|            11G309|            61I500|                 0|   1|       6|\n",
            "|       1|        3|             1|  F| 67|             M|                   2|             2015|             U|              7|          I219|            11I219|            21I251|             61N19|   1|       6|\n",
            "|       1|        6|             1|  M| 94|             W|                   7|             2015|             U|              7|          R688|            11R688|             12R54|                 0|   1|       6|\n",
            "|       1|        2|             1|  M| 56|             M|                   7|             2015|             U|              7|          C798|            11C798|            61K769|            62F179|   1|       6|\n",
            "|       1|        3|             1|  M| 32|             S|                   6|             2015|             N|              1|          X599|            11S099|            12X599|                 0|   3|       8|\n",
            "|       1|        2|             1|  M| 18|             S|                   1|             2015|             N|              2|           X70|             11T71|             12X70|             21T71|   3|       8|\n",
            "|       1|        3|             1|  M| 48|             M|                   7|             2015|             N|              2|           X72|            11S069|            21S019|             22X72|   1|       6|\n",
            "|       1|        4|             1|  F| 79|             W|                   5|             2015|             U|              7|           I64|             11I64|             21R13|                 0|   3|       8|\n",
            "|       1|        6|             1|  M| 85|             W|                   6|             2015|             U|              7|           I64|            11J189|             61G20|             62I64|   1|       6|\n",
            "+--------+---------+--------------+---+---+--------------+--------------------+-----------------+--------------+---------------+--------------+------------------+------------------+------------------+----+--------+\n",
            "only showing top 20 rows\n",
            "\n"
          ],
          "name": "stdout"
        }
      ]
    },
    {
      "cell_type": "code",
      "metadata": {
        "id": "jI-z2hPl1vww"
      },
      "source": [
        "#function for other data sets to be cleaned up - only can be used for 2014 and 2015 and newer, older pages use a different education marker\n",
        "def data_clean_up(data):\n",
        "  data = data.drop(\"education_1989_revision\",\"education_reporting_flag\",\"age_substitution_flag\",\"age_recode_52\",\"age_recode_27\",\"age_recode_12\", \"infant_age_recode_22\",\n",
        "\"place_of_death_and_decedents_status\",\"method_of_disposition\",\"autopsy\", \"activity_code\", \"place_of_injury_for_causes_w00_y34_except_y06_and_y07_\", \"358_cause_recode\", \"113_cause_recode\",\n",
        "\"130_infant_cause_recode\", \"39_cause_recode\", \"bridged_race_flag\", \"race_imputation_flag\", \"race_recode_3\", \"race_recode_5\", \"hispanic_origin\");\n",
        "  data = data.filter((data.detail_age_type == 1))\n",
        "  data = data.drop(\"detail_age_type\")\n",
        "  data = data.drop(\"number_of_entity_axis_conditions\",\"entity_condition_4\",\"entity_condition_5\",\"entity_condition_6\",\"entity_condition_7\",\"entity_condition_8\",\n",
        "                                            \"entity_condition_9\",\"entity_condition_10\",\"entity_condition_11\",\"entity_condition_12\",\"entity_condition_13\",\"entity_condition_14\",\n",
        "                                            \"entity_condition_15\",\"entity_condition_16\",\"entity_condition_17\",\"entity_condition_18\",\"entity_condition_19\",\"entity_condition_20\",\n",
        "                                            \"number_of_record_axis_conditions\", \"record_condition_1\", \"record_condition_2\",\"record_condition_3\",\"record_condition_4\",\"record_condition_5\",\n",
        "                                            \"record_condition_6\",\"record_condition_7\",\"record_condition_8\",\"record_condition_9\",\"record_condition_10\",\"record_condition_11\",\"record_condition_12\",\n",
        "                                            \"record_condition_13\",\"record_condition_14\",\"record_condition_15\",\"record_condition_16\",\"record_condition_17\",\"record_condition_18\",\"record_condition_19\",\n",
        "                                            \"record_condition_20\",)\n",
        "  data = data.withColumnRenamed(\"resident_status\",\"resident\").withColumnRenamed(\"education_2003_revision\",\"education\").withColumnRenamed(\"detail_age\", \"age\").withColumnRenamed(\"current_date_year\", \"year\").withColumnRenamed(\"icd_code_10th_revision\", \"icd_death_code\").withColumnRenamed(\"hispanic_originrace_recode\", \"hispanic\")\n",
        "  data = data.withColumn(\"resident\",col(\"resident\").cast(\"integer\")).withColumn(\"education\",col(\"education\").cast(\"integer\")).withColumn(\"month_of_death\",col(\"month_of_death\").cast(\"integer\")).withColumn(\"age\",col(\"age\").cast(\"integer\")).withColumn(\"day_of_week_of_death\",col(\"day_of_week_of_death\").cast(\"integer\")).withColumn(\"current_data_year\",col(\"current_data_year\").cast(\"integer\")).withColumn(\"manner_of_death\",col(\"manner_of_death\").cast(\"integer\")).withColumn(\"race\",col(\"race\").cast(\"integer\")).withColumn(\"hispanic\",col(\"hispanic\").cast(\"integer\"))\n",
        "  data = data.fillna(value=\"0\",subset=[\"entity_condition_1\"]).fillna(value=\"0\",subset=[\"entity_condition_2\"]).fillna(value=\"0\",subset=[\"entity_condition_3\"])\n",
        "  return data\n"
      ],
      "execution_count": 20,
      "outputs": []
    },
    {
      "cell_type": "code",
      "metadata": {
        "id": "BxarpzsiCYEV"
      },
      "source": [
        "#function for other data sets to be cleaned up - only can be used for 2014 and 2015 and newer, older pages use a different education marker\n",
        "def data_clean_up2(data):\n",
        "  data = data.drop(\"education_2003_revision\",\"education_reporting_flag\",\"age_substitution_flag\",\"age_recode_52\",\"age_recode_27\",\"age_recode_12\", \"infant_age_recode_22\",\n",
        "\"place_of_death_and_decedents_status\",\"method_of_disposition\",\"autopsy\", \"activity_code\", \"place_of_injury_for_causes_w00_y34_except_y06_and_y07_\", \"358_cause_recode\", \"113_cause_recode\",\n",
        "\"130_infant_cause_recode\", \"39_cause_recode\", \"bridged_race_flag\", \"race_imputation_flag\", \"race_recode_3\", \"race_recode_5\", \"hispanic_origin\");\n",
        "  data = data.filter((data.detail_age_type == 1))\n",
        "  data = data.drop(\"detail_age_type\")\n",
        "  data = data.drop(\"number_of_entity_axis_conditions\",\"entity_condition_4\",\"entity_condition_5\",\"entity_condition_6\",\"entity_condition_7\",\"entity_condition_8\",\n",
        "                                            \"entity_condition_9\",\"entity_condition_10\",\"entity_condition_11\",\"entity_condition_12\",\"entity_condition_13\",\"entity_condition_14\",\n",
        "                                            \"entity_condition_15\",\"entity_condition_16\",\"entity_condition_17\",\"entity_condition_18\",\"entity_condition_19\",\"entity_condition_20\",\n",
        "                                            \"number_of_record_axis_conditions\", \"record_condition_1\", \"record_condition_2\",\"record_condition_3\",\"record_condition_4\",\"record_condition_5\",\n",
        "                                            \"record_condition_6\",\"record_condition_7\",\"record_condition_8\",\"record_condition_9\",\"record_condition_10\",\"record_condition_11\",\"record_condition_12\",\n",
        "                                            \"record_condition_13\",\"record_condition_14\",\"record_condition_15\",\"record_condition_16\",\"record_condition_17\",\"record_condition_18\",\"record_condition_19\",\n",
        "                                            \"record_condition_20\",)\n",
        "  data = data.withColumnRenamed(\"resident_status\",\"resident\").withColumnRenamed(\"education_1989_revision\",\"education\").withColumnRenamed(\"detail_age\", \"age\").withColumnRenamed(\"current_date_year\", \"year\").withColumnRenamed(\"icd_code_10th_revision\", \"icd_death_code\").withColumnRenamed(\"hispanic_originrace_recode\", \"hispanic\")\n",
        "  data = data.withColumn(\"resident\",col(\"resident\").cast(\"integer\")).withColumn(\"education\",col(\"education\").cast(\"integer\")).withColumn(\"month_of_death\",col(\"month_of_death\").cast(\"integer\")).withColumn(\"age\",col(\"age\").cast(\"integer\")).withColumn(\"day_of_week_of_death\",col(\"day_of_week_of_death\").cast(\"integer\")).withColumn(\"current_data_year\",col(\"current_data_year\").cast(\"integer\")).withColumn(\"manner_of_death\",col(\"manner_of_death\").cast(\"integer\")).withColumn(\"race\",col(\"race\").cast(\"integer\")).withColumn(\"hispanic\",col(\"hispanic\").cast(\"integer\"))\n",
        "  data = data.fillna(value=\"0\",subset=[\"entity_condition_1\"]).fillna(value=\"0\",subset=[\"entity_condition_2\"]).fillna(value=\"0\",subset=[\"entity_condition_3\"])\n",
        "  return data"
      ],
      "execution_count": 21,
      "outputs": []
    },
    {
      "cell_type": "code",
      "metadata": {
        "colab": {
          "base_uri": "https://localhost:8080/"
        },
        "id": "nKx6L6nj7qjT",
        "outputId": "490d63bc-3292-49af-c2c2-70a7299ee5bf"
      },
      "source": [
        "url =\"https://aperezbucket.s3.us-east-2.amazonaws.com/2014_data.csv\"\n",
        "spark.sparkContext.addFile(url)\n",
        "death_2014 = spark.read.csv(SparkFiles.get(\"2014_data.csv\"), sep=\",\", header=True)\n",
        "\n",
        "#run the function for clean_up and show that dataframe\n",
        "death_2014_final = data_clean_up(death_2014)\n",
        "death_2014_final.show()"
      ],
      "execution_count": 130,
      "outputs": [
        {
          "output_type": "stream",
          "text": [
            "+--------+---------+--------------+---+---+--------------+--------------------+-----------------+--------------+---------------+--------------+------------------+------------------+------------------+----+--------+\n",
            "|resident|education|month_of_death|sex|age|marital_status|day_of_week_of_death|current_data_year|injury_at_work|manner_of_death|icd_death_code|entity_condition_1|entity_condition_2|entity_condition_3|race|hispanic|\n",
            "+--------+---------+--------------+---+---+--------------+--------------------+-----------------+--------------+---------------+--------------+------------------+------------------+------------------+----+--------+\n",
            "|       1|        2|             1|  M| 87|             M|                   4|             2014|             U|              7|           I64|             11I64|                 0|                 0|   1|       6|\n",
            "|       1|        2|             1|  M| 58|             D|                   3|             2014|             U|              7|          I250|            11I250|            61I272|            62E669|   1|       6|\n",
            "|       1|        7|             1|  F| 75|             W|                   2|             2014|             U|              7|          J449|            11J449|            61F179|                 0|   1|       6|\n",
            "|       1|        6|             1|  M| 74|             D|                   1|             2014|             U|              7|           I48|             11I64|             21I48|             61F03|   1|       6|\n",
            "|       1|        3|             1|  M| 64|             D|                   2|             2014|             U|              7|          I250|            11I250|                 0|                 0|   1|       6|\n",
            "|       1|        5|             1|  F| 93|             W|                   4|             2014|             U|              7|          K137|            11K137|            12R040|            21C349|   1|       6|\n",
            "|       1|        4|             1|  M| 82|             M|                   6|             2014|             U|              7|          I251|            11I469|            21I259|            31I251|   1|       6|\n",
            "|       1|        4|             1|  M| 55|             S|                   6|             2014|             U|              7|          I250|            11I250|            61F102|                 0|   2|       7|\n",
            "|       1|        3|             1|  F| 86|             W|                   6|             2014|             U|              7|           F03|             11F03|                 0|                 0|   1|       6|\n",
            "|       1|        3|             1|  M| 23|             S|                   4|             2014|             N|              2|           X72|            11S019|             12X72|            61T141|   1|       6|\n",
            "|       1|        3|             1|  F| 79|             W|                   2|             2014|             U|              7|          I350|            11I500|            21I350|                 0|   1|       6|\n",
            "|       1|        2|             1|  M| 86|             W|                   3|             2014|             U|              7|           G20|             11F03|             21G20|                 0|   1|       6|\n",
            "|       1|        4|             1|  F| 85|             W|                   3|             2014|             U|              7|          I350|            11I500|            21I350|            61E149|   1|       6|\n",
            "|       1|        3|             1|  F| 84|             W|                   4|             2014|             U|              7|          C349|            11C349|            61F179|                 0|   1|       6|\n",
            "|       1|        3|             1|  F| 66|             D|                   6|             2014|             U|              7|          C349|            11C349|            61E149|            62I730|   1|       6|\n",
            "|       1|        4|             1|  F| 70|             M|                   4|             2014|             U|              7|          I251|            11I251|            12I469|            21J449|   3|       8|\n",
            "|       1|        6|             1|  F| 92|             W|                   2|             2014|             U|              7|           I48|            11I500|             21R99|             61F03|   1|       6|\n",
            "|       1|        5|             1|  F| 82|             W|                   5|             2014|             U|              7|          I251|            11I350|            21I251|                 0|  28|       8|\n",
            "|       1|        1|             1|  M| 83|             M|                   4|             2014|             U|              7|          J449|            11J449|             21R99|            61I251|   1|       6|\n",
            "|       1|        3|             1|  F| 84|             W|                   1|             2014|             U|              7|          C844|            11C844|            61E149|             62I10|   2|       7|\n",
            "+--------+---------+--------------+---+---+--------------+--------------------+-----------------+--------------+---------------+--------------+------------------+------------------+------------------+----+--------+\n",
            "only showing top 20 rows\n",
            "\n"
          ],
          "name": "stdout"
        }
      ]
    },
    {
      "cell_type": "code",
      "metadata": {
        "colab": {
          "base_uri": "https://localhost:8080/"
        },
        "id": "g9l4ZBIp7wAY",
        "outputId": "acfd4e26-25d4-4e6e-b398-613beeec357c"
      },
      "source": [
        "url =\"https://aperezbucket.s3.us-east-2.amazonaws.com/2013_data.csv\"\n",
        "spark.sparkContext.addFile(url)\n",
        "death_2013 = spark.read.csv(SparkFiles.get(\"2013_data.csv\"), sep=\",\", header=True)\n",
        "\n",
        "#run the function for clean_up and show that dataframe\n",
        "death_2013_final = data_clean_up(death_2013)\n",
        "death_2013.show()"
      ],
      "execution_count": 140,
      "outputs": [
        {
          "output_type": "stream",
          "text": [
            "+---------------+-----------------------+-----------------------+------------------------+--------------+---+---------------+----------+---------------------+-------------+-------------+-------------+--------------------+-----------------------------------+--------------+--------------------+-----------------+--------------+---------------+---------------------+-------+-------------+------------------------------------------------------+----------------------+----------------+----------------+-----------------------+---------------+--------------------------------+------------------+------------------+------------------+------------------+------------------+------------------+------------------+------------------+------------------+-------------------+-------------------+-------------------+-------------------+-------------------+-------------------+-------------------+-------------------+-------------------+-------------------+-------------------+--------------------------------+------------------+------------------+------------------+------------------+------------------+------------------+------------------+------------------+------------------+-------------------+-------------------+-------------------+-------------------+-------------------+-------------------+-------------------+-------------------+-------------------+-------------------+-------------------+----+-----------------+--------------------+-------------+-------------+---------------+--------------------------+\n",
            "|resident_status|education_1989_revision|education_2003_revision|education_reporting_flag|month_of_death|sex|detail_age_type|detail_age|age_substitution_flag|age_recode_52|age_recode_27|age_recode_12|infant_age_recode_22|place_of_death_and_decedents_status|marital_status|day_of_week_of_death|current_data_year|injury_at_work|manner_of_death|method_of_disposition|autopsy|activity_code|place_of_injury_for_causes_w00_y34_except_y06_and_y07_|icd_code_10th_revision|358_cause_recode|113_cause_recode|130_infant_cause_recode|39_cause_recode|number_of_entity_axis_conditions|entity_condition_1|entity_condition_2|entity_condition_3|entity_condition_4|entity_condition_5|entity_condition_6|entity_condition_7|entity_condition_8|entity_condition_9|entity_condition_10|entity_condition_11|entity_condition_12|entity_condition_13|entity_condition_14|entity_condition_15|entity_condition_16|entity_condition_17|entity_condition_18|entity_condition_19|entity_condition_20|number_of_record_axis_conditions|record_condition_1|record_condition_2|record_condition_3|record_condition_4|record_condition_5|record_condition_6|record_condition_7|record_condition_8|record_condition_9|record_condition_10|record_condition_11|record_condition_12|record_condition_13|record_condition_14|record_condition_15|record_condition_16|record_condition_17|record_condition_18|record_condition_19|record_condition_20|race|bridged_race_flag|race_imputation_flag|race_recode_3|race_recode_5|hispanic_origin|hispanic_originrace_recode|\n",
            "+---------------+-----------------------+-----------------------+------------------------+--------------+---+---------------+----------+---------------------+-------------+-------------+-------------+--------------------+-----------------------------------+--------------+--------------------+-----------------+--------------+---------------+---------------------+-------+-------------+------------------------------------------------------+----------------------+----------------+----------------+-----------------------+---------------+--------------------------------+------------------+------------------+------------------+------------------+------------------+------------------+------------------+------------------+------------------+-------------------+-------------------+-------------------+-------------------+-------------------+-------------------+-------------------+-------------------+-------------------+-------------------+-------------------+--------------------------------+------------------+------------------+------------------+------------------+------------------+------------------+------------------+------------------+------------------+-------------------+-------------------+-------------------+-------------------+-------------------+-------------------+-------------------+-------------------+-------------------+-------------------+-------------------+----+-----------------+--------------------+-------------+-------------+---------------+--------------------------+\n",
            "|              1|                     15|                   null|                       0|            01|  M|              1|       090|                 null|           44|           24|           11|                null|                                  6|             M|                   4|             2013|             U|              7|                    U|      N|         null|                                                  null|                   F03|             175|             111|                   null|             37|                              03|             11F03|             61I10|            62K579|              null|              null|              null|              null|              null|              null|               null|               null|               null|               null|               null|               null|               null|               null|               null|               null|               null|                              03|               F03|               I10|              K579|              null|              null|              null|              null|              null|              null|               null|               null|               null|               null|               null|               null|               null|               null|               null|               null|               null|  01|             null|                null|            1|            1|            100|                         6|\n",
            "|              1|                     12|                   null|                       0|            01|  F|              1|       080|                 null|           42|           22|           10|                null|                                  6|             W|                   3|             2013|             U|              7|                    U|      N|         null|                                                  null|                   F03|             175|             111|                   null|             37|                              01|             11F03|              null|              null|              null|              null|              null|              null|              null|              null|               null|               null|               null|               null|               null|               null|               null|               null|               null|               null|               null|                              01|               F03|              null|              null|              null|              null|              null|              null|              null|              null|               null|               null|               null|               null|               null|               null|               null|               null|               null|               null|               null|  01|             null|                null|            1|            1|            100|                         6|\n",
            "|              2|                     17|                   null|                       0|            01|  M|              1|       073|                 null|           40|           20|           09|                null|                                  6|             D|                   4|             2013|             U|              7|                    U|      N|         null|                                                  null|                   F03|             175|             111|                   null|             37|                              01|             11F03|              null|              null|              null|              null|              null|              null|              null|              null|               null|               null|               null|               null|               null|               null|               null|               null|               null|               null|               null|                              01|               F03|              null|              null|              null|              null|              null|              null|              null|              null|               null|               null|               null|               null|               null|               null|               null|               null|               null|               null|               null|  01|             null|                null|            1|            1|            100|                         6|\n",
            "|              1|                     99|                   null|                       0|            01|  M|              1|       078|                 null|           41|           21|           10|                null|                                  1|             M|                   1|             2013|             U|              7|                    U|      N|         null|                                                  null|                  C798|             125|             043|                   null|             15|                              02|            11C798|            61J449|              null|              null|              null|              null|              null|              null|              null|               null|               null|               null|               null|               null|               null|               null|               null|               null|               null|               null|                              02|              C798|              J449|              null|              null|              null|              null|              null|              null|              null|               null|               null|               null|               null|               null|               null|               null|               null|               null|               null|               null|  03|             null|                null|            2|            3|            100|                         8|\n",
            "|              1|                     12|                   null|                       0|            01|  F|              1|       083|                 null|           42|           22|           10|                null|                                  6|             D|                   4|             2013|             U|              7|                    U|      N|         null|                                                  null|                  C349|             093|             027|                   null|             08|                              04|            11C349|            21F179|            61J449|             62I48|              null|              null|              null|              null|              null|               null|               null|               null|               null|               null|               null|               null|               null|               null|               null|               null|                              04|              C349|              F179|               I48|              J449|              null|              null|              null|              null|              null|               null|               null|               null|               null|               null|               null|               null|               null|               null|               null|               null|  01|             null|                null|            1|            1|            100|                         6|\n",
            "|              2|                     12|                   null|                       0|            01|  F|              1|       089|                 null|           43|           23|           11|                null|                                  1|             W|                   7|             2013|             U|              7|                    U|      N|         null|                                                  null|                  I500|             230|             067|                   null|             22|                              03|            11N179|            21I500|            61D471|              null|              null|              null|              null|              null|              null|               null|               null|               null|               null|               null|               null|               null|               null|               null|               null|               null|                              03|              I500|              D471|              N179|              null|              null|              null|              null|              null|              null|               null|               null|               null|               null|               null|               null|               null|               null|               null|               null|               null|  01|             null|                null|            1|            1|            100|                         6|\n",
            "|              1|                     16|                   null|                       0|            01|  F|              1|       069|                 null|           39|           19|           09|                null|                                  1|             D|                   6|             2013|             U|              7|                    U|      N|         null|                                                  null|                  C349|             093|             027|                   null|             08|                              02|            11C349|            21F171|              null|              null|              null|              null|              null|              null|              null|               null|               null|               null|               null|               null|               null|               null|               null|               null|               null|               null|                              02|              C349|              F171|              null|              null|              null|              null|              null|              null|              null|               null|               null|               null|               null|               null|               null|               null|               null|               null|               null|               null|  01|             null|                null|            1|            1|            100|                         6|\n",
            "|              1|                     13|                   null|                       0|            01|  F|              1|       064|                 null|           38|           18|           08|                null|                                  1|             D|                   4|             2013|             U|              7|                    U|      N|         null|                                                  null|                  A419|             023|             010|                   null|             37|                              03|            11R688|            21A419|            61C221|              null|              null|              null|              null|              null|              null|               null|               null|               null|               null|               null|               null|               null|               null|               null|               null|               null|                              03|              A419|              C221|              R688|              null|              null|              null|              null|              null|              null|               null|               null|               null|               null|               null|               null|               null|               null|               null|               null|               null|  01|             null|                null|            1|            1|            100|                         6|\n",
            "|              1|                     17|                   null|                       0|            01|  F|              1|       087|                 null|           43|           23|           11|                null|                                  6|             W|                   1|             2013|             U|              7|                    U|      N|         null|                                                  null|                  G309|             189|             052|                   null|             17|                              03|            11G309|            21J969|            22J189|              null|              null|              null|              null|              null|              null|               null|               null|               null|               null|               null|               null|               null|               null|               null|               null|               null|                              03|              G309|              J189|              J969|              null|              null|              null|              null|              null|              null|               null|               null|               null|               null|               null|               null|               null|               null|               null|               null|               null|  01|             null|                null|            1|            1|            100|                         6|\n",
            "|              2|                     12|                   null|                       0|            01|  F|              1|       024|                 null|           30|           10|           04|                null|                                  1|             S|                   3|             2013|             U|              7|                    U|      N|         null|                                                  null|                  C717|             122|             036|                   null|             15|                              02|            11G935|            21C717|              null|              null|              null|              null|              null|              null|              null|               null|               null|               null|               null|               null|               null|               null|               null|               null|               null|               null|                              02|              C717|              G935|              null|              null|              null|              null|              null|              null|              null|               null|               null|               null|               null|               null|               null|               null|               null|               null|               null|               null|  03|             null|                null|            2|            3|            100|                         8|\n",
            "|              1|                     12|                   null|                       0|            01|  M|              1|       047|                 null|           35|           15|           07|                null|                                  7|             M|                   4|             2013|             U|              7|                    U|      N|         null|                                                  null|                  I250|             214|             062|                   null|             21|                              02|            11I119|            12I250|              null|              null|              null|              null|              null|              null|              null|               null|               null|               null|               null|               null|               null|               null|               null|               null|               null|               null|                              02|              I250|              I119|              null|              null|              null|              null|              null|              null|              null|               null|               null|               null|               null|               null|               null|               null|               null|               null|               null|               null|  03|             null|                null|            2|            3|            100|                         8|\n",
            "|              2|                     16|                   null|                       0|            01|  M|              1|       062|                 null|           38|           18|           08|                null|                                  1|             S|                   5|             2013|             U|              7|                    U|      N|         null|                                                  null|                  C159|             077|             021|                   null|             15|                              01|            11C159|              null|              null|              null|              null|              null|              null|              null|              null|               null|               null|               null|               null|               null|               null|               null|               null|               null|               null|               null|                              01|              C159|              null|              null|              null|              null|              null|              null|              null|              null|               null|               null|               null|               null|               null|               null|               null|               null|               null|               null|               null|  03|             null|                null|            2|            3|            100|                         8|\n",
            "|              1|                     00|                   null|                       0|            01|  M|              1|       075|                 null|           41|           21|           10|                null|                                  1|             S|                   6|             2013|             U|              7|                    U|      N|         null|                                                  null|                  I429|             227|             068|                   null|             22|                              05|            11I429|             12I48|            61C780|             62C61|            63B909|              null|              null|              null|              null|               null|               null|               null|               null|               null|               null|               null|               null|               null|               null|               null|                              05|              I429|              B909|               C61|              C780|               I48|              null|              null|              null|              null|               null|               null|               null|               null|               null|               null|               null|               null|               null|               null|               null|  03|             null|                null|            2|            3|            100|                         8|\n",
            "|              1|                     11|                   null|                       0|            01|  M|              1|       058|                 null|           37|           17|           08|                null|                                  4|             D|                   7|             2013|             U|              7|                    U|      N|         null|                                                  null|                  C189|             081|             023|                   null|             06|                              02|            11C189|             61I10|              null|              null|              null|              null|              null|              null|              null|               null|               null|               null|               null|               null|               null|               null|               null|               null|               null|               null|                              02|              C189|               I10|              null|              null|              null|              null|              null|              null|              null|               null|               null|               null|               null|               null|               null|               null|               null|               null|               null|               null|  01|             null|                null|            1|            1|            100|                         6|\n",
            "|              1|                     13|                   null|                       0|            01|  F|              1|       089|                 null|           43|           23|           11|                null|                                  4|             M|                   6|             2013|             U|              7|                    U|      N|         null|                                                  null|                  C509|             104|             029|                   null|             09|                              01|            11C509|              null|              null|              null|              null|              null|              null|              null|              null|               null|               null|               null|               null|               null|               null|               null|               null|               null|               null|               null|                              01|              C509|              null|              null|              null|              null|              null|              null|              null|              null|               null|               null|               null|               null|               null|               null|               null|               null|               null|               null|               null|  01|             null|                null|            1|            1|            100|                         6|\n",
            "|              1|                     10|                   null|                       0|            01|  M|              1|       085|                 null|           43|           23|           11|                null|                                  6|             W|                   7|             2013|             U|              7|                    U|      N|         null|                                                  null|                  I809|             245|             075|                   null|             37|                              05|            11I739|            21I809|            31I829|             61R54|             62R53|              null|              null|              null|              null|               null|               null|               null|               null|               null|               null|               null|               null|               null|               null|               null|                              04|              I809|              I739|               R53|               R54|              null|              null|              null|              null|              null|               null|               null|               null|               null|               null|               null|               null|               null|               null|               null|               null|  01|             null|                null|            1|            1|            100|                         6|\n",
            "|              1|                     14|                   null|                       0|            01|  F|              1|       080|                 null|           42|           22|           10|                null|                                  1|             W|                   5|             2013|             U|              7|                    U|      N|         null|                                                  null|                  J690|             273|             088|                   null|             37|                              07|            11J690|            61M350|            62G473|             63I10|            64C189|             65I48|             66N19|              null|              null|               null|               null|               null|               null|               null|               null|               null|               null|               null|               null|               null|                              06|              J690|              C189|              G473|              I120|               I48|              M350|              null|              null|              null|               null|               null|               null|               null|               null|               null|               null|               null|               null|               null|               null|  01|             null|                null|            1|            1|            100|                         6|\n",
            "|              2|                     17|                   null|                       0|            01|  M|              1|       057|                 null|           37|           17|           08|                null|                                  1|             M|                   3|             2013|             U|              7|                    U|      N|         null|                                                  null|                  I429|             227|             068|                   null|             22|                              06|            11R579|            21I429|            22A419|            31J690|            61R688|            62J969|              null|              null|              null|               null|               null|               null|               null|               null|               null|               null|               null|               null|               null|               null|                              06|              I429|              A419|              J690|              J969|              R579|              R688|              null|              null|              null|               null|               null|               null|               null|               null|               null|               null|               null|               null|               null|               null|  02|             null|                null|            3|            2|            100|                         7|\n",
            "|              1|                     03|                   null|                       0|            01|  M|              1|       068|                 null|           39|           19|           09|                null|                                  1|             M|                   1|             2013|             U|              7|                    U|      N|         null|                                                  null|                  I619|             236|             070|                   null|             24|                              03|            11I619|             21I10|             61I48|              null|              null|              null|              null|              null|              null|               null|               null|               null|               null|               null|               null|               null|               null|               null|               null|               null|                              03|              I619|               I10|               I48|              null|              null|              null|              null|              null|              null|               null|               null|               null|               null|               null|               null|               null|               null|               null|               null|               null|  07|             null|                null|            2|            4|            100|                         8|\n",
            "|              1|                     12|                   null|                       0|            01|  M|              1|       083|                 null|           42|           22|           10|                null|                                  1|             M|                   2|             2013|             U|              7|                    U|      N|         null|                                                  null|                   F03|             175|             111|                   null|             37|                              04|             11F03|             61I10|             62I64|            63K219|              null|              null|              null|              null|              null|               null|               null|               null|               null|               null|               null|               null|               null|               null|               null|               null|                              04|               F03|               I10|               I64|              K219|              null|              null|              null|              null|              null|               null|               null|               null|               null|               null|               null|               null|               null|               null|               null|               null|  01|             null|                null|            1|            1|            100|                         6|\n",
            "+---------------+-----------------------+-----------------------+------------------------+--------------+---+---------------+----------+---------------------+-------------+-------------+-------------+--------------------+-----------------------------------+--------------+--------------------+-----------------+--------------+---------------+---------------------+-------+-------------+------------------------------------------------------+----------------------+----------------+----------------+-----------------------+---------------+--------------------------------+------------------+------------------+------------------+------------------+------------------+------------------+------------------+------------------+------------------+-------------------+-------------------+-------------------+-------------------+-------------------+-------------------+-------------------+-------------------+-------------------+-------------------+-------------------+--------------------------------+------------------+------------------+------------------+------------------+------------------+------------------+------------------+------------------+------------------+-------------------+-------------------+-------------------+-------------------+-------------------+-------------------+-------------------+-------------------+-------------------+-------------------+-------------------+----+-----------------+--------------------+-------------+-------------+---------------+--------------------------+\n",
            "only showing top 20 rows\n",
            "\n"
          ],
          "name": "stdout"
        }
      ]
    },
    {
      "cell_type": "code",
      "metadata": {
        "colab": {
          "base_uri": "https://localhost:8080/"
        },
        "id": "z0ihrSc-7zMn",
        "outputId": "e519ca5f-f713-44ac-fd92-5d3bdd7496e9"
      },
      "source": [
        "url =\"https://aperezbucket.s3.us-east-2.amazonaws.com/2012_data.csv\"\n",
        "spark.sparkContext.addFile(url)\n",
        "death_2012 = spark.read.csv(SparkFiles.get(\"2012_data.csv\"), sep=\",\", header=True)\n",
        "\n",
        "#run the function for clean_up and show that dataframe\n",
        "death_2012_final = data_clean_up(death_2012)\n",
        "death_2012_final.show()"
      ],
      "execution_count": 132,
      "outputs": [
        {
          "output_type": "stream",
          "text": [
            "+--------+---------+--------------+---+---+--------------+--------------------+-----------------+--------------+---------------+-----------+------------------+------------------+------------------+----+--------+\n",
            "|resident|education|month_of_death|sex|age|marital_status|day_of_week_of_death|current_data_year|injury_at_work|manner_of_death|icd_code_10|entity_condition_1|entity_condition_2|entity_condition_3|race|hispanic|\n",
            "+--------+---------+--------------+---+---+--------------+--------------------+-----------------+--------------+---------------+-----------+------------------+------------------+------------------+----+--------+\n",
            "|       1|     null|             1|  F| 59|             W|                   1|             2012|             U|              7|       C349|            11C349|                 0|                 0|   1|       6|\n",
            "|       1|     null|             1|  F| 90|             W|                   2|             2012|             U|              7|        F03|             11R53|             21R54|             61F03|   1|       6|\n",
            "|       1|     null|             1|  F| 58|             M|                   2|             2012|             U|              7|       K754|            11I469|            21J969|            31K729|   3|       8|\n",
            "|       2|     null|             1|  M| 85|             D|                   3|             2012|             U|              7|        N19|             11N19|                 0|                 0|   1|       6|\n",
            "|       2|     null|             1|  M| 54|             M|                   1|             2012|             U|              7|       M259|            11I269|            21T817|            31Y831|   1|       6|\n",
            "|       1|     null|             1|  F| 44|             M|                   4|             2012|             U|              7|       C439|            11C439|             61I10|            62N028|   1|       6|\n",
            "|       1|     null|             1|  F| 87|             M|                   1|             2012|             U|              7|        I10|            11I711|             21I10|                 0|   3|       8|\n",
            "|       1|     null|             1|  F| 31|             M|                   1|             2012|             N|              2|        X70|             11T71|             12X70|             61T71|   1|       6|\n",
            "|       1|     null|             1|  F| 75|             D|                   2|             2012|             U|              7|       D432|            11D432|            21I619|                 0|   1|       6|\n",
            "|       2|     null|             1|  M| 90|             M|                   4|             2012|             U|              7|        I48|             11I64|             21I48|                 0|   1|       6|\n",
            "|       1|     null|             1|  F| 79|             W|                   1|             2012|             U|              7|       I500|            11I500|            61J449|            62E149|   1|       6|\n",
            "|       1|     null|             1|  F| 69|             M|                   3|             2012|             U|              7|       C349|            11C349|             61N19|             62C80|   1|       6|\n",
            "|       1|     null|             1|  M| 58|             D|                   1|             2012|             U|              7|       R092|            11R092|            12R090|                 0|   3|       8|\n",
            "|       1|     null|             1|  F| 82|             D|                   1|             2012|             U|              7|       J449|            11I500|             21N19|            31J449|   1|       6|\n",
            "|       1|     null|             1|  M| 62|             M|                   3|             2012|             U|              7|       I119|            11I119|            61F101|                 0|   1|       6|\n",
            "|       1|     null|             1|  F|100|             W|                   3|             2012|             U|              7|       I632|            11I442|            21I632|             31I10|   3|       8|\n",
            "|       1|     null|             1|  F| 57|             M|                   7|             2012|             U|              7|       D469|            11D469|                 0|                 0|   1|       6|\n",
            "|       1|     null|             1|  F| 86|             W|                   7|             2012|             U|              7|       G309|            11G309|                 0|                 0|   1|       6|\n",
            "|       1|     null|             1|  M| 82|             S|                   6|             2012|             U|              7|        C61|             11C61|                 0|                 0|   1|       6|\n",
            "|       1|     null|             1|  M| 82|             M|                   2|             2012|             U|              7|       K550|            11K550|            21K550|            61I251|   1|       6|\n",
            "+--------+---------+--------------+---+---+--------------+--------------------+-----------------+--------------+---------------+-----------+------------------+------------------+------------------+----+--------+\n",
            "only showing top 20 rows\n",
            "\n"
          ],
          "name": "stdout"
        }
      ]
    },
    {
      "cell_type": "code",
      "metadata": {
        "colab": {
          "base_uri": "https://localhost:8080/"
        },
        "id": "79hdpboy70jQ",
        "outputId": "54aff9ed-127d-4389-9292-e9a983bdafc8"
      },
      "source": [
        "url =\"https://aperezbucket.s3.us-east-2.amazonaws.com/2011_data.csv\"\n",
        "spark.sparkContext.addFile(url)\n",
        "death_2011 = spark.read.csv(SparkFiles.get(\"2011_data.csv\"), sep=\",\", header=True)\n",
        "\n",
        "#run the function for clean_up and show that dataframe\n",
        "death_2011_final = data_clean_up(death_2011)\n",
        "death_2011_final.show()"
      ],
      "execution_count": 133,
      "outputs": [
        {
          "output_type": "stream",
          "text": [
            "+--------+---------+--------------+---+---+--------------+--------------------+-----------------+--------------+---------------+--------------+------------------+------------------+------------------+----+--------+\n",
            "|resident|education|month_of_death|sex|age|marital_status|day_of_week_of_death|current_data_year|injury_at_work|manner_of_death|icd_death_code|entity_condition_1|entity_condition_2|entity_condition_3|race|hispanic|\n",
            "+--------+---------+--------------+---+---+--------------+--------------------+-----------------+--------------+---------------+--------------+------------------+------------------+------------------+----+--------+\n",
            "|       2|     null|             1|  F| 65|             M|                   2|             2011|             U|              7|          C859|            11C859|                 0|                 0|   1|       6|\n",
            "|       1|     null|             1|  F| 57|             S|                   7|             2011|             U|              7|          C509|            11R092|            21C509|                 0|   3|       8|\n",
            "|       1|     null|             1|  M| 75|             M|                   3|             2011|             U|              7|          I251|            11K559|            21I251|            31I739|   1|       6|\n",
            "|       1|     null|             1|  F| 61|             M|                   1|             2011|             U|              7|          I250|            11I250|            61F102|            62J449|   1|       6|\n",
            "|       1|     null|             1|  M| 20|             S|                   7|             2011|             N|              1|          V869|            11S099|            12V869|                 0|   3|       8|\n",
            "|       1|     null|             1|  M| 50|             M|                   7|             2011|             U|              7|          C220|            11C220|                 0|                 0|  68|       8|\n",
            "|       1|     null|             1|  M| 88|             M|                   1|             2011|             U|              7|          I251|            11I500|            21I251|            61C189|   1|       6|\n",
            "|       1|     null|             1|  F| 85|             W|                   7|             2011|             U|              7|          G319|             11F03|            21G319|                 0|   1|       6|\n",
            "|       1|     null|             1|  F| 75|             W|                   4|             2011|             U|              7|          C349|            11C349|            61F172|                 0|   3|       8|\n",
            "|       1|     null|             1|  F| 67|             W|                   1|             2011|             U|              7|          K550|            11A419|            21K638|            31K550|   3|       8|\n",
            "|       1|     null|             1|  M| 44|             D|                   7|             2011|             N|              2|           X80|            11S099|             12X80|                 0|   3|       8|\n",
            "|       1|     null|             1|  F| 76|             M|                   4|             2011|             N|              1|          V436|            11S099|            12V436|            13S199|   1|       6|\n",
            "|       2|     null|             1|  M| 82|             W|                   4|             2011|             N|              1|          V436|            11S099|            12V436|            13T099|   1|       6|\n",
            "|       1|     null|             1|  F| 74|             W|                   2|             2011|             U|              7|          K869|            11K869|            21R522|            31M139|   1|       6|\n",
            "|       1|     null|             1|  M| 58|             S|                   2|             2011|             U|              7|          M321|            11I469|            21M329|                 0|   1|       6|\n",
            "|       1|     null|             1|  F| 60|             M|                   4|             2011|             N|              1|          V877|            11S099|            12V877|                 0|   1|       6|\n",
            "|       1|     null|             1|  F| 71|             D|                   4|             2011|             U|              7|          I620|            11I620|                 0|                 0|   1|       6|\n",
            "|       1|     null|             1|  F| 96|             W|                   2|             2011|             U|              7|           J90|             11J90|             61F03|                 0|   2|       7|\n",
            "|       2|     null|             1|  F| 95|             W|                   3|             2011|             U|              7|          I516|            11I516|            61N189|                 0|   3|       8|\n",
            "|       2|     null|             1|  F| 61|             M|                   2|             2011|             U|              7|          R048|            11R048|                 0|                 0|   3|       8|\n",
            "+--------+---------+--------------+---+---+--------------+--------------------+-----------------+--------------+---------------+--------------+------------------+------------------+------------------+----+--------+\n",
            "only showing top 20 rows\n",
            "\n"
          ],
          "name": "stdout"
        }
      ]
    },
    {
      "cell_type": "code",
      "metadata": {
        "colab": {
          "base_uri": "https://localhost:8080/"
        },
        "id": "cai147P0732n",
        "outputId": "6e7a4d35-184c-42b3-c0a2-455418f98373"
      },
      "source": [
        "url =\"https://aperezbucket.s3.us-east-2.amazonaws.com/2010_data.csv\"\n",
        "spark.sparkContext.addFile(url)\n",
        "death_2010 = spark.read.csv(SparkFiles.get(\"2010_data.csv\"), sep=\",\", header=True)\n",
        "\n",
        "#run the function for clean_up and show that dataframe\n",
        "death_2010_final = data_clean_up(death_2010)\n",
        "death_2010_final.show()"
      ],
      "execution_count": 134,
      "outputs": [
        {
          "output_type": "stream",
          "text": [
            "+--------+---------+--------------+---+---+--------------+--------------------+-----------------+--------------+---------------+--------------+------------------+------------------+------------------+----+--------+\n",
            "|resident|education|month_of_death|sex|age|marital_status|day_of_week_of_death|current_data_year|injury_at_work|manner_of_death|icd_death_code|entity_condition_1|entity_condition_2|entity_condition_3|race|hispanic|\n",
            "+--------+---------+--------------+---+---+--------------+--------------------+-----------------+--------------+---------------+--------------+------------------+------------------+------------------+----+--------+\n",
            "|       2|     null|             1|  F| 68|             D|                   6|             2010|             U|              7|          G049|            11G049|             61F03|                 0|   3|       8|\n",
            "|       1|     null|             1|  F| 12|             S|                   1|             2010|             U|              7|           C37|             11C37|                 0|                 0|   1|       6|\n",
            "|       1|     null|             1|  F| 75|             D|                   1|             2010|             U|              7|          C719|            11C719|             21C80|            22R529|   1|       6|\n",
            "|       1|     null|             1|  M| 61|             W|                   6|             2010|             U|              7|           F03|             11F03|             21E46|            31J189|  68|       8|\n",
            "|       1|     null|             1|  F| 46|             M|                   7|             2010|             N|              2|           X72|            11S019|             12X72|            61T141|   1|       6|\n",
            "|       1|     null|             1|  M| 66|             M|                   1|             2010|             U|              7|          C259|            11C259|                 0|                 0|   1|       6|\n",
            "|       1|     null|             1|  F| 80|             D|                   4|             2010|             U|              7|          E145|             11I64|            21E149|             31I10|   2|       7|\n",
            "|       1|     null|             1|  F| 96|             M|                   3|             2010|             U|              7|           C80|            11I802|            12I269|             21C80|   1|       6|\n",
            "|       1|     null|             1|  F| 79|             D|                   5|             2010|             U|              7|          C189|            11C189|                 0|                 0|   3|       8|\n",
            "|       1|     null|             1|  F| 83|             M|                   7|             2010|             U|              7|          I250|            11I250|            21G309|                 0|   1|       6|\n",
            "|       1|     null|             1|  M| 62|             S|                   1|             2010|             U|              7|           C64|             11C64|                 0|                 0|   1|       6|\n",
            "|       2|     null|             1|  F| 65|             M|                   1|             2010|             U|              7|          K559|            11K559|            61I739|            62J449|   1|       6|\n",
            "|       1|     null|             1|  F| 48|             S|                   2|             2010|             U|              7|          K703|            11K922|            21K746|            31F102|   1|       6|\n",
            "|       1|     null|             1|  F| 68|             D|                   4|             2010|             U|              7|          D432|            11D432|                 0|                 0|   1|       5|\n",
            "|       1|     null|             1|  M| 72|             M|                   1|             2010|             U|              7|          A419|            11A419|            61N039|            62M109|  68|       8|\n",
            "|       2|     null|             1|  M| 47|             M|                   1|             2010|             U|              7|          C349|            11C349|                 0|                 0|   3|       8|\n",
            "|       1|     null|             1|  F| 90|             W|                   5|             2010|             U|              7|          C509|            11C509|                 0|                 0|   1|       6|\n",
            "|       2|     null|             1|  F| 64|             W|                   1|             2010|             U|              7|           I64|            11K922|             21I64|                 0|   3|       8|\n",
            "|       1|     null|             1|  F| 98|             W|                   5|             2010|             U|              7|          I469|            11I469|                 0|                 0|   2|       7|\n",
            "|       1|     null|             1|  F| 80|             S|                   5|             2010|             U|              7|          I250|            11I250|                 0|                 0|   1|       6|\n",
            "+--------+---------+--------------+---+---+--------------+--------------------+-----------------+--------------+---------------+--------------+------------------+------------------+------------------+----+--------+\n",
            "only showing top 20 rows\n",
            "\n"
          ],
          "name": "stdout"
        }
      ]
    },
    {
      "cell_type": "code",
      "metadata": {
        "colab": {
          "base_uri": "https://localhost:8080/"
        },
        "id": "89Crug-w74W4",
        "outputId": "cc87de5f-7d1f-4809-ddd6-fbd01b094e12"
      },
      "source": [
        "url =\"https://aperezbucket.s3.us-east-2.amazonaws.com/2009_data.csv\"\n",
        "spark.sparkContext.addFile(url)\n",
        "death_2009 = spark.read.csv(SparkFiles.get(\"2009_data.csv\"), sep=\",\", header=True)\n",
        "\n",
        "#run the function for clean_up and show that dataframe\n",
        "death_2009_final = data_clean_up(death_2009)\n",
        "death_2009_final.show()"
      ],
      "execution_count": 135,
      "outputs": [
        {
          "output_type": "stream",
          "text": [
            "+--------+---------+--------------+---+---+--------------+--------------------+-----------------+--------------+---------------+--------------+------------------+------------------+------------------+----+--------+\n",
            "|resident|education|month_of_death|sex|age|marital_status|day_of_week_of_death|current_data_year|injury_at_work|manner_of_death|icd_death_code|entity_condition_1|entity_condition_2|entity_condition_3|race|hispanic|\n",
            "+--------+---------+--------------+---+---+--------------+--------------------+-----------------+--------------+---------------+--------------+------------------+------------------+------------------+----+--------+\n",
            "|       1|     null|             1|  F| 80|             M|                   2|             2009|             U|              7|          F329|             11E46|            21F329|             61I64|  68|       8|\n",
            "|       1|     null|             1|  M| 77|             W|                   1|             2009|             U|              7|          C920|            11C920|            61D469|                 0|   1|       6|\n",
            "|       1|     null|             1|  M| 86|             W|                   5|             2009|             U|              7|           I10|            11I469|             61I10|             62F03|   1|       6|\n",
            "|       1|     null|             1|  M| 88|             M|                   7|             2009|             U|              7|          C900|            11C900|            61K224|            62J449|   1|       6|\n",
            "|       1|     null|             1|  F| 83|             W|                   3|             2009|             U|              7|          K559|            11R092|            21K559|            61G309|   1|       6|\n",
            "|       1|     null|             1|  F| 74|             M|                   7|             2009|             U|              7|          C189|            11C189|                 0|                 0|   1|       6|\n",
            "|       1|     null|             1|  M| 85|             M|                   5|             2009|             U|              7|          G309|            11G309|                 0|                 0|   1|       6|\n",
            "|       3|     null|             1|  M| 84|             W|                   2|             2009|             U|              7|          C349|            11C349|                 0|                 0|   1|       6|\n",
            "|       1|     null|             1|  M| 59|             M|                   1|             2009|             U|              7|          C220|            11C220|                 0|                 0|   1|       6|\n",
            "|       1|     null|             1|  M| 81|             S|                   7|             2009|             U|              7|          C959|            11C959|                 0|                 0|   1|       6|\n",
            "|       1|     null|             1|  M| 85|             M|                   5|             2009|             U|              7|          C349|            11A419|            21K566|            31C349|   1|       6|\n",
            "|       1|     null|             1|  F| 81|             W|                   6|             2009|             U|              7|          C831|            11C831|                 0|                 0|   3|       8|\n",
            "|       1|     null|             1|  M| 90|             M|                   1|             2009|             U|              7|          F019|            11F019|            21I639|            31I679|   2|       7|\n",
            "|       3|     null|             1|  M| 70|             D|                   7|             2009|             U|              7|          I219|            11I219|            21I259|            31I709|  68|       8|\n",
            "|       2|     null|             1|  F| 85|             W|                   1|             2009|             U|              7|          C494|            11J961|            61C494|            62C781|   1|       6|\n",
            "|       1|     null|             1|  F| 70|             M|                   4|             2009|             U|              7|           C20|             11C20|            61I251|             62I10|   1|       6|\n",
            "|       1|     null|             1|  M| 55|             D|                   2|             2009|             U|              7|          E109|            11N180|            21A490|            31E109|   1|       6|\n",
            "|       1|     null|             1|  M| 74|             S|                   3|             2009|             U|              7|          C259|            11A419|            21C259|                 0|   1|       6|\n",
            "|       1|     null|             1|  F| 70|             M|                   6|             2009|             U|              7|          N180|             11I64|            21I469|            31J969|   1|       1|\n",
            "|       1|     null|             1|  F| 40|             U|                   7|             2009|             U|              7|          A169|            11A419|            21J969|            31N179|   3|       8|\n",
            "+--------+---------+--------------+---+---+--------------+--------------------+-----------------+--------------+---------------+--------------+------------------+------------------+------------------+----+--------+\n",
            "only showing top 20 rows\n",
            "\n"
          ],
          "name": "stdout"
        }
      ]
    },
    {
      "cell_type": "code",
      "metadata": {
        "colab": {
          "base_uri": "https://localhost:8080/"
        },
        "id": "wpwJxJnXAor5",
        "outputId": "e0eb5d9a-0703-4412-bdca-c64f3cbb7056"
      },
      "source": [
        "url =\"https://aperezbucket.s3.us-east-2.amazonaws.com/2008_data.csv\"\n",
        "spark.sparkContext.addFile(url)\n",
        "death_2008 = spark.read.csv(SparkFiles.get(\"2008_data.csv\"), sep=\",\", header=True)\n",
        "\n",
        "#run the function for clean_up and show that dataframe\n",
        "death_2008_final = data_clean_up(death_2008)\n",
        "death_2008_final.show()"
      ],
      "execution_count": 136,
      "outputs": [
        {
          "output_type": "stream",
          "text": [
            "+--------+---------+--------------+---+---+--------------+--------------------+-----------------+--------------+---------------+--------------+------------------+------------------+------------------+----+--------+\n",
            "|resident|education|month_of_death|sex|age|marital_status|day_of_week_of_death|current_data_year|injury_at_work|manner_of_death|icd_death_code|entity_condition_1|entity_condition_2|entity_condition_3|race|hispanic|\n",
            "+--------+---------+--------------+---+---+--------------+--------------------+-----------------+--------------+---------------+--------------+------------------+------------------+------------------+----+--------+\n",
            "|       1|     null|             1|  M| 65|             M|                   1|             2008|             U|              7|          C159|            11C159|                 0|                 0|   1|       6|\n",
            "|       1|     null|             1|  M| 78|             M|                   7|             2008|             U|              7|          I251|            11I251|            21J449|            31G309|   1|       6|\n",
            "|       2|     null|             1|  F| 83|             W|                   5|             2008|             U|              7|          C900|            11C900|                 0|                 0|   1|       6|\n",
            "|       2|     null|             1|  M| 54|             S|                   4|             2008|             U|              7|          C229|            11C229|                 0|                 0|   1|       6|\n",
            "|       1|     null|             1|  F| 61|             S|                   2|             2008|             U|              7|          K746|            11K769|            21K746|                 0|   1|       6|\n",
            "|       2|     null|             1|  F| 41|             D|                   1|             2008|             U|              7|          J449|            11J449|            21F171|             61B24|   1|       6|\n",
            "|       1|     null|             1|  F| 74|             W|                   5|             2008|             U|              7|          C189|            11E889|            21C189|            61C787|   3|       8|\n",
            "|       1|     null|             1|  F| 72|             M|                   3|             2008|             U|              7|          I251|            61I251|            62E149|            63E039|   1|       6|\n",
            "|       1|     null|             1|  M| 91|             M|                   4|             2008|             U|              7|          I679|            11I679|                 0|                 0|   1|       4|\n",
            "|       1|     null|             1|  M| 76|             W|                   1|             2008|             U|              7|          I251|            11I251|            61I739|                 0|   1|       6|\n",
            "|       1|     null|             1|  M| 87|             W|                   5|             2008|             U|              7|          I518|            11J449|            21I518|                 0|   1|       6|\n",
            "|       1|     null|             1|  F| 73|             M|                   3|             2008|             U|              7|          C920|            11C920|                 0|                 0|   1|       6|\n",
            "|       1|     null|             1|  F| 86|             D|                   7|             2008|             U|              7|          K318|            11R090|            21J690|            31K566|   1|       6|\n",
            "|       1|     null|             1|  F| 87|             M|                   5|             2008|             U|              7|          G122|            11G122|             61I48|                 0|   1|       6|\n",
            "|       1|     null|             1|  F| 47|             M|                   1|             2008|             U|              7|          G122|            11G122|                 0|                 0|   2|       7|\n",
            "|       1|     null|             1|  M| 82|             W|                   4|             2008|             U|              7|          I251|            11I251|                 0|                 0|   1|       6|\n",
            "|       1|     null|             1|  F| 62|             M|                   3|             2008|             U|              7|          C519|            11J969|            21C519|                 0|   1|       6|\n",
            "|       1|     null|             1|  F| 75|             W|                   2|             2008|             U|              7|           I64|            11R628|             21I64|            22G819|   1|       6|\n",
            "|       1|     null|             1|  F| 75|             W|                   4|             2008|             U|              7|          M313|            11M313|            61J449|                 0|   1|       6|\n",
            "|       1|     null|             1|  M| 62|             M|                   3|             2008|             U|              7|          I694|            11N390|            21I694|                 0|   1|       6|\n",
            "+--------+---------+--------------+---+---+--------------+--------------------+-----------------+--------------+---------------+--------------+------------------+------------------+------------------+----+--------+\n",
            "only showing top 20 rows\n",
            "\n"
          ],
          "name": "stdout"
        }
      ]
    },
    {
      "cell_type": "code",
      "metadata": {
        "colab": {
          "base_uri": "https://localhost:8080/"
        },
        "id": "7CSvSF6cAo9F",
        "outputId": "ee318fb2-0354-4997-8bb5-ad9d9d817308"
      },
      "source": [
        "url =\"https://aperezbucket.s3.us-east-2.amazonaws.com/2007_data.csv\"\n",
        "spark.sparkContext.addFile(url)\n",
        "death_2007 = spark.read.csv(SparkFiles.get(\"2007_data.csv\"), sep=\",\", header=True)\n",
        "\n",
        "#run the function for clean_up and show that dataframe\n",
        "death_2007_final = data_clean_up(death_2007)\n",
        "death_2007_final.show()"
      ],
      "execution_count": 137,
      "outputs": [
        {
          "output_type": "stream",
          "text": [
            "+--------+---------+--------------+---+---+--------------+--------------------+-----------------+--------------+---------------+--------------+------------------+------------------+------------------+----+--------+\n",
            "|resident|education|month_of_death|sex|age|marital_status|day_of_week_of_death|current_data_year|injury_at_work|manner_of_death|icd_death_code|entity_condition_1|entity_condition_2|entity_condition_3|race|hispanic|\n",
            "+--------+---------+--------------+---+---+--------------+--------------------+-----------------+--------------+---------------+--------------+------------------+------------------+------------------+----+--------+\n",
            "|       3|     null|             1|  M| 72|             M|                   2|             2007|             U|              7|          C259|            11C259|                 0|                 0|   1|       6|\n",
            "|       1|     null|             1|  M| 35|             M|                   2|             2007|             U|              2|           X74|            11T141|             12X74|                 0|   1|       6|\n",
            "|       1|     null|             1|  F| 68|             D|                   3|             2007|             U|              7|           C80|             11C80|                 0|                 0|   1|       6|\n",
            "|       1|     null|             1|  M| 70|             S|                   3|             2007|             U|              7|          C189|            11C189|            21I500|                 0|   1|       6|\n",
            "|       1|     null|             1|  F| 53|             M|                   5|             2007|             U|              7|          I501|            11I501|                 0|                 0|   2|       7|\n",
            "|       1|     null|             1|  F| 75|             M|                   5|             2007|             U|              7|           J90|            11J189|            21J942|             31J90|   1|       6|\n",
            "|       1|     null|             1|  F| 70|             M|                   3|             2007|             U|              7|          C349|            11C349|            61J449|                 0|   1|       6|\n",
            "|       1|     null|             1|  M| 59|             D|                   4|             2007|             U|              7|          I516|            11I469|            21I516|                 0|   1|       6|\n",
            "|       1|     null|             1|  F| 60|             M|                   3|             2007|             U|           null|          C509|            11A419|             21D70|            31Y433|   1|       6|\n",
            "|       1|     null|             1|  F| 51|             M|                   2|             2007|             U|              7|          N180|            11N180|                 0|                 0|   2|       7|\n",
            "|       1|     null|             1|  F| 68|             W|                   4|             2007|             U|              7|          C189|            11C189|                 0|                 0|   1|       6|\n",
            "|       1|     null|             1|  M| 56|             D|                   2|             2007|             U|              7|          I516|            11I469|            21I516|                 0|   1|       6|\n",
            "|       1|     null|             1|  M| 89|             W|                   3|             2007|             U|              7|          I251|            11N180|            21I709|            61I251|   1|       6|\n",
            "|       2|     null|             1|  M| 14|             S|                   7|             2007|             N|              1|          V869|            11S099|            12V869|                 0|   2|       7|\n",
            "|       1|     null|             1|  F| 92|             D|                   3|             2007|             U|              7|           J22|             11J22|                 0|                 0|   1|       6|\n",
            "|       1|     null|             1|  M| 76|             M|                   3|             2007|             U|              7|          G309|            11G309|                 0|                 0|   1|       6|\n",
            "|       1|     null|             1|  F| 93|             W|                   2|             2007|             U|              7|           I64|            11J690|            21T179|             22W78|   1|       6|\n",
            "|       1|     null|             1|  M| 54|             M|                   3|             2007|             U|              7|          C959|            11A419|             21D70|            31C959|  68|       8|\n",
            "|       1|     null|             1|  M| 83|             W|                   2|             2007|             U|              7|          I500|             11N19|            21I500|             61I10|   1|       6|\n",
            "|       1|     null|             1|  F| 77|             W|                   3|             2007|             U|              7|          I219|            11I219|            21I251|            61E119|   1|       6|\n",
            "+--------+---------+--------------+---+---+--------------+--------------------+-----------------+--------------+---------------+--------------+------------------+------------------+------------------+----+--------+\n",
            "only showing top 20 rows\n",
            "\n"
          ],
          "name": "stdout"
        }
      ]
    },
    {
      "cell_type": "code",
      "metadata": {
        "colab": {
          "base_uri": "https://localhost:8080/"
        },
        "id": "ge08O6iaApkF",
        "outputId": "94a46e62-8739-403c-ff9f-8c8ce163f769"
      },
      "source": [
        "url =\"https://aperezbucket.s3.us-east-2.amazonaws.com/2006_data.csv\"\n",
        "spark.sparkContext.addFile(url)\n",
        "death_2006 = spark.read.csv(SparkFiles.get(\"2006_data.csv\"), sep=\",\", header=True)\n",
        "\n",
        "#run the function for clean_up and show that dataframe\n",
        "death_2006_final = data_clean_up(death_2006)\n",
        "death_2006_final.show()"
      ],
      "execution_count": 138,
      "outputs": [
        {
          "output_type": "stream",
          "text": [
            "+--------+---------+--------------+---+---+--------------+--------------------+-----------------+--------------+---------------+--------------+------------------+------------------+------------------+----+--------+\n",
            "|resident|education|month_of_death|sex|age|marital_status|day_of_week_of_death|current_data_year|injury_at_work|manner_of_death|icd_death_code|entity_condition_1|entity_condition_2|entity_condition_3|race|hispanic|\n",
            "+--------+---------+--------------+---+---+--------------+--------------------+-----------------+--------------+---------------+--------------+------------------+------------------+------------------+----+--------+\n",
            "|       1|     null|             1|  F| 84|             W|                   2|             2006|             U|           null|          I500|            11I500|                 0|                 0|   1|       6|\n",
            "|       1|     null|             1|  F| 93|             W|                   1|             2006|             U|           null|          I251|            11I500|             12J81|            21I251|   1|       6|\n",
            "|       1|     null|             1|  M| 76|             M|                   2|             2006|             U|           null|          N189|            11I500|            21N189|                 0|   1|       6|\n",
            "|       2|     null|             1|  M| 78|             W|                   1|             2006|             U|              7|          J449|            11I469|            61J449|            62J984|   1|       6|\n",
            "|       1|     null|             1|  F| 73|             D|                   2|             2006|             U|              7|          C509|            11J969|            21C509|                 0|   2|       7|\n",
            "|       1|     null|             1|  M| 50|             M|                   1|             2006|             U|              1|          V299|            11T149|            12V299|                 0|   1|       6|\n",
            "|       1|     null|             1|  M| 59|             M|                   3|             2006|             U|              7|          I469|            11I469|                 0|                 0|   1|       6|\n",
            "|       1|     null|             1|  F| 84|             W|                   2|             2006|             U|              1|           X59|            11R092|            21S068|             61I10|   1|       6|\n",
            "|       1|     null|             1|  F| 89|             W|                   1|             2006|             U|              7|          J449|            11J449|                 0|                 0|   1|       6|\n",
            "|       1|     null|             1|  F| 41|             M|                   2|             2006|             U|              1|          V892|            11S099|            12V892|            13S299|   1|       6|\n",
            "|       1|     null|             1|  F| 77|             M|                   1|             2006|             U|              7|          G309|            11I469|            21G309|                 0|   1|       6|\n",
            "|       1|     null|             1|  F| 86|             W|                   2|             2006|             U|           null|          J189|            11I469|            21R092|            31J189|   1|       6|\n",
            "|       1|     null|             1|  M| 93|             W|                   1|             2006|             U|           null|           N19|            11I219|             21N19|                 0|   1|       6|\n",
            "|       1|     null|             1|  F| 52|             M|                   1|             2006|             U|           null|          J449|            11I469|            21R688|            61J449|   1|       6|\n",
            "|       1|     null|             1|  F| 42|             M|                   1|             2006|             U|              7|          C509|            11C509|                 0|                 0|   1|       6|\n",
            "|       1|     null|             1|  M| 57|             D|                   3|             2006|             U|              7|          I500|            11I500|                 0|                 0|   1|       6|\n",
            "|       1|     null|             1|  F| 73|             M|                   1|             2006|             U|              7|           D70|            11L039|            21A419|             31D70|   1|       6|\n",
            "|       1|     null|             1|  F| 74|             W|                   2|             2006|             U|              7|          C189|            11C189|                 0|                 0|   2|       7|\n",
            "|       2|     null|             1|  F| 57|             W|                   2|             2006|             U|              7|          I519|            11R688|            21I519|            31R578|   1|       6|\n",
            "|       2|     null|             1|  M| 71|             M|                   3|             2006|             U|              7|          C920|            11J969|            21D469|            31C920|   1|       6|\n",
            "+--------+---------+--------------+---+---+--------------+--------------------+-----------------+--------------+---------------+--------------+------------------+------------------+------------------+----+--------+\n",
            "only showing top 20 rows\n",
            "\n"
          ],
          "name": "stdout"
        }
      ]
    },
    {
      "cell_type": "code",
      "metadata": {
        "colab": {
          "base_uri": "https://localhost:8080/"
        },
        "id": "71H0GED5Apxn",
        "outputId": "d4319132-6cfa-4826-c362-44afb8ad284e"
      },
      "source": [
        "url =\"https://aperezbucket.s3.us-east-2.amazonaws.com/2005_data.csv\"\n",
        "spark.sparkContext.addFile(url)\n",
        "death_2005 = spark.read.csv(SparkFiles.get(\"2005_data.csv\"), sep=\",\", header=True)\n",
        "\n",
        "#run the function for clean_up and show that dataframe\n",
        "death_2005_final = data_clean_up(death_2005)\n",
        "death_2005_final.show()"
      ],
      "execution_count": 139,
      "outputs": [
        {
          "output_type": "stream",
          "text": [
            "+--------+---------+--------------+---+---+--------------+--------------------+-----------------+--------------+---------------+--------------+------------------+------------------+------------------+----+--------+\n",
            "|resident|education|month_of_death|sex|age|marital_status|day_of_week_of_death|current_data_year|injury_at_work|manner_of_death|icd_death_code|entity_condition_1|entity_condition_2|entity_condition_3|race|hispanic|\n",
            "+--------+---------+--------------+---+---+--------------+--------------------+-----------------+--------------+---------------+--------------+------------------+------------------+------------------+----+--------+\n",
            "|       1|     null|             1|  F| 45|             M|                   2|             2005|             U|              7|          C439|            11C439|                 0|                 0|   1|       6|\n",
            "|       1|     null|             1|  M| 61|             D|                   7|             2005|             U|              7|          J439|            11J439|                 0|                 0|   1|       6|\n",
            "|       1|     null|             1|  F| 79|             D|                   1|             2005|             U|              7|          I698|            11R628|            21I698|            61J449|   1|       6|\n",
            "|       1|     null|             1|  M| 50|             S|                   4|             2005|             U|              7|          E119|            11I469|            61E119|            62I500|   1|       6|\n",
            "|       1|     null|             1|  F| 68|             M|                   2|             2005|             U|              7|          C349|            11C349|            61F179|            62J449|   1|       6|\n",
            "|       1|     null|             1|  F| 89|             W|                   7|             2005|             U|              7|          I679|             11N19|            21I679|             61F03|   3|       8|\n",
            "|       1|     null|             1|  F| 68|             D|                   7|             2005|             U|              7|          J439|            11J439|                 0|                 0|   1|       6|\n",
            "|       1|     null|             1|  M| 61|             S|                   6|             2005|             U|              7|          J449|            11I279|            21J449|            61F102|   3|       8|\n",
            "|       1|     null|             1|  F| 73|             D|                   6|             2005|             U|              7|          J439|            11J439|                 0|                 0|   1|       6|\n",
            "|       3|     null|             1|  F| 85|             W|                   6|             2005|             U|              7|           C80|             11C80|                 0|                 0|   1|       6|\n",
            "|       1|     null|             1|  F| 93|             W|                   7|             2005|             U|              7|           R99|             11R99|                 0|                 0|   3|       8|\n",
            "|       1|     null|             1|  M| 77|             M|                   4|             2005|             U|              7|          C189|            11C189|            21C189|             61F03|   2|       7|\n",
            "|       1|     null|             1|  M| 78|             D|                   2|             2005|             U|              7|          J449|            11J969|            21J449|                 0|   1|       6|\n",
            "|       1|     null|             1|  M| 48|             M|                   3|             2005|             U|              7|          C439|            11C439|                 0|                 0|   1|       6|\n",
            "|       1|     null|             1|  M| 78|             W|                   2|             2005|             U|              7|          J849|            11J969|            21J849|            61J189|   1|       6|\n",
            "|       1|     null|             1|  F| 59|             M|                   4|             2005|             U|              7|          C349|            11C349|            61J459|             62N19|   1|       6|\n",
            "|       1|     null|             1|  M| 77|             M|                   6|             2005|             U|              7|           X59|            11S720|             31F03|             61X59|   3|       8|\n",
            "|       1|     null|             1|  M| 39|             M|                   3|             2005|             N|              5|           Y20|             11T71|             12Y20|            21S199|   1|       1|\n",
            "|       1|     null|             1|  M| 64|             D|                   1|             2005|             U|              7|          I250|            11I250|                 0|                 0|   1|       6|\n",
            "|       1|     null|             1|  F| 90|             W|                   2|             2005|             U|              7|          J449|            11J449|                 0|                 0|   1|       6|\n",
            "+--------+---------+--------------+---+---+--------------+--------------------+-----------------+--------------+---------------+--------------+------------------+------------------+------------------+----+--------+\n",
            "only showing top 20 rows\n",
            "\n"
          ],
          "name": "stdout"
        }
      ]
    },
    {
      "cell_type": "code",
      "metadata": {
        "id": "YFm4HrFDAqJo"
      },
      "source": [
        ""
      ],
      "execution_count": 139,
      "outputs": []
    },
    {
      "cell_type": "code",
      "metadata": {
        "colab": {
          "base_uri": "https://localhost:8080/",
          "height": 367
        },
        "id": "duxL_YsOAqWC",
        "outputId": "ae4ddfb1-299c-4f5f-be0b-b210abf82518"
      },
      "source": [
        "# from pyspark.sql.window import Window\n",
        "# from pyspark.sql.functions import rowNumber\n",
        "# w = Window().orderBy()\n",
        "# death_2015_final3 = death_2015_final.withColumn(\"id\", rowNumber().over(w))\n"
      ],
      "execution_count": 34,
      "outputs": [
        {
          "output_type": "error",
          "ename": "ModuleNotFoundError",
          "evalue": "ignored",
          "traceback": [
            "\u001b[0;31m---------------------------------------------------------------------------\u001b[0m",
            "\u001b[0;31mModuleNotFoundError\u001b[0m                       Traceback (most recent call last)",
            "\u001b[0;32m<ipython-input-34-e00b2ab2292a>\u001b[0m in \u001b[0;36m<module>\u001b[0;34m()\u001b[0m\n\u001b[1;32m      3\u001b[0m \u001b[0;31m# w = Window().orderBy()\u001b[0m\u001b[0;34m\u001b[0m\u001b[0;34m\u001b[0m\u001b[0;34m\u001b[0m\u001b[0m\n\u001b[1;32m      4\u001b[0m \u001b[0;31m# death_2015_final3 = death_2015_final.withColumn(\"id\", rowNumber().over(w))\u001b[0m\u001b[0;34m\u001b[0m\u001b[0;34m\u001b[0m\u001b[0;34m\u001b[0m\u001b[0m\n\u001b[0;32m----> 5\u001b[0;31m \u001b[0;32mimport\u001b[0m \u001b[0mpyspark\u001b[0m\u001b[0;34m.\u001b[0m\u001b[0mimplicits\u001b[0m\u001b[0;34m.\u001b[0m\u001b[0m_\u001b[0m\u001b[0;34m\u001b[0m\u001b[0;34m\u001b[0m\u001b[0m\n\u001b[0m\u001b[1;32m      6\u001b[0m \u001b[0mwindowSpec\u001b[0m  \u001b[0;34m=\u001b[0m \u001b[0mWindow\u001b[0m\u001b[0;34m.\u001b[0m\u001b[0mpartitionBy\u001b[0m\u001b[0;34m(\u001b[0m\u001b[0;34m\"current_data_year\"\u001b[0m\u001b[0;34m)\u001b[0m\u001b[0;34m.\u001b[0m\u001b[0morderBy\u001b[0m\u001b[0;34m(\u001b[0m\u001b[0;34m\"month_of_death\"\u001b[0m\u001b[0;34m)\u001b[0m\u001b[0;34m\u001b[0m\u001b[0;34m\u001b[0m\u001b[0m\n\u001b[1;32m      7\u001b[0m \u001b[0mdeath_2015_final3\u001b[0m \u001b[0;34m=\u001b[0m \u001b[0mdeath_2015_final\u001b[0m\u001b[0;34m.\u001b[0m\u001b[0mwithColumn\u001b[0m\u001b[0;34m(\u001b[0m\u001b[0;34m\"id\"\u001b[0m\u001b[0;34m,\u001b[0m\u001b[0mrow_number\u001b[0m\u001b[0;34m.\u001b[0m\u001b[0mover\u001b[0m\u001b[0;34m(\u001b[0m\u001b[0mwindowSpec\u001b[0m\u001b[0;34m)\u001b[0m\u001b[0;34m)\u001b[0m\u001b[0;34m\u001b[0m\u001b[0;34m\u001b[0m\u001b[0m\n",
            "\u001b[0;31mModuleNotFoundError\u001b[0m: No module named 'pyspark.implicits'",
            "",
            "\u001b[0;31m---------------------------------------------------------------------------\u001b[0;32m\nNOTE: If your import is failing due to a missing package, you can\nmanually install dependencies using either !pip or !apt.\n\nTo view examples of installing some common dependencies, click the\n\"Open Examples\" button below.\n\u001b[0;31m---------------------------------------------------------------------------\u001b[0m\n"
          ]
        }
      ]
    },
    {
      "cell_type": "code",
      "metadata": {
        "colab": {
          "base_uri": "https://localhost:8080/",
          "height": 316
        },
        "id": "aG977sj9SiJH",
        "outputId": "4ee2f887-3fee-4037-8c61-e3cfe025d4e1"
      },
      "source": [
        "from pyspark.sql.window import Window\n",
        "from pyspark.sql.functions import rowNumber"
      ],
      "execution_count": 46,
      "outputs": [
        {
          "output_type": "error",
          "ename": "ImportError",
          "evalue": "ignored",
          "traceback": [
            "\u001b[0;31m---------------------------------------------------------------------------\u001b[0m",
            "\u001b[0;31mImportError\u001b[0m                               Traceback (most recent call last)",
            "\u001b[0;32m<ipython-input-46-6d709d65bd12>\u001b[0m in \u001b[0;36m<module>\u001b[0;34m()\u001b[0m\n\u001b[1;32m      1\u001b[0m \u001b[0;32mfrom\u001b[0m \u001b[0mpyspark\u001b[0m\u001b[0;34m.\u001b[0m\u001b[0msql\u001b[0m\u001b[0;34m.\u001b[0m\u001b[0mwindow\u001b[0m \u001b[0;32mimport\u001b[0m \u001b[0mWindow\u001b[0m\u001b[0;34m\u001b[0m\u001b[0;34m\u001b[0m\u001b[0m\n\u001b[0;32m----> 2\u001b[0;31m \u001b[0;32mfrom\u001b[0m \u001b[0mpyspark\u001b[0m\u001b[0;34m.\u001b[0m\u001b[0msql\u001b[0m\u001b[0;34m.\u001b[0m\u001b[0mfunctions\u001b[0m \u001b[0;32mimport\u001b[0m \u001b[0mrowNumber\u001b[0m\u001b[0;34m\u001b[0m\u001b[0;34m\u001b[0m\u001b[0m\n\u001b[0m",
            "\u001b[0;31mImportError\u001b[0m: cannot import name 'rowNumber' from 'pyspark.sql.functions' (/content/spark-3.1.1-bin-hadoop2.7/python/pyspark/sql/functions.py)",
            "",
            "\u001b[0;31m---------------------------------------------------------------------------\u001b[0;32m\nNOTE: If your import is failing due to a missing package, you can\nmanually install dependencies using either !pip or !apt.\n\nTo view examples of installing some common dependencies, click the\n\"Open Examples\" button below.\n\u001b[0;31m---------------------------------------------------------------------------\u001b[0m\n"
          ]
        }
      ]
    },
    {
      "cell_type": "code",
      "metadata": {
        "id": "LgmSuCAySiT-"
      },
      "source": [
        ""
      ],
      "execution_count": 45,
      "outputs": []
    },
    {
      "cell_type": "code",
      "metadata": {
        "id": "fRNa22k7SicL"
      },
      "source": [
        ""
      ],
      "execution_count": null,
      "outputs": []
    },
    {
      "cell_type": "code",
      "metadata": {
        "id": "lfEYYkuZAqg9"
      },
      "source": [
        "from pyspark.sql.functions import monotonically_increasing_id\n",
        "\n",
        "death_2015_final2 = death_2015_final.withColumn(\"id\", monotonically_increasing_id() +1)"
      ],
      "execution_count": 48,
      "outputs": []
    },
    {
      "cell_type": "code",
      "metadata": {
        "colab": {
          "base_uri": "https://localhost:8080/"
        },
        "id": "FynzMdv-Aqr3",
        "outputId": "64776afe-f243-47c9-a22d-8c5892acf013"
      },
      "source": [
        "death_2015_final2.show()"
      ],
      "execution_count": 49,
      "outputs": [
        {
          "output_type": "stream",
          "text": [
            "+--------+---------+--------------+---+---+--------------+--------------------+-----------------+--------------+---------------+--------------+------------------+------------------+------------------+----+--------+---+\n",
            "|resident|education|month_of_death|sex|age|marital_status|day_of_week_of_death|current_data_year|injury_at_work|manner_of_death|icd_death_code|entity_condition_1|entity_condition_2|entity_condition_3|race|hispanic| id|\n",
            "+--------+---------+--------------+---+---+--------------+--------------------+-----------------+--------------+---------------+--------------+------------------+------------------+------------------+----+--------+---+\n",
            "|       1|        3|             1|  M| 84|             M|                   1|             2015|             U|              7|          I500|            11I500|            61L031|                 0|   1|       6|  1|\n",
            "|       1|        6|             1|  M| 70|             M|                   2|             2015|             U|              7|          C349|            11I469|            21R042|            31C349|   1|       6|  2|\n",
            "|       1|        3|             1|  F| 91|             W|                   6|             2015|             U|              7|          G309|            11G309|                 0|                 0|   1|       6|  3|\n",
            "|       1|        3|             1|  F| 40|             S|                   5|             2015|             N|              3|           X91|             11T71|             12X91|             21T71|   3|       8|  4|\n",
            "|       1|        5|             1|  F| 89|             W|                   5|             2015|             U|              7|          I250|            11I250|            21S720|            61X590|   1|       6|  5|\n",
            "|       1|        6|             1|  M| 78|             W|                   6|             2015|             U|              7|          I516|            11I499|            21I516|            61E780|   3|       8|  6|\n",
            "|       1|        4|             1|  M| 92|             W|                   1|             2015|             U|              7|          E274|            11E274|                 0|                 0|   1|       6|  7|\n",
            "|       1|        3|             1|  M| 82|             M|                   1|             2015|             U|              7|          I500|            11I500|                 0|                 0|   1|       6|  8|\n",
            "|       1|        3|             1|  F| 89|             W|                   1|             2015|             U|              7|          I350|            11I500|            21I350|                 0|   1|       6|  9|\n",
            "|       1|        9|             1|  F| 93|             W|                   7|             2015|             U|              7|           W19|            11T142|             21W19|            31R688|   1|       6| 10|\n",
            "|       1|        6|             1|  F| 84|             M|                   1|             2015|             U|              7|           I48|            11J189|             21I48|             61I64|   1|       6| 11|\n",
            "|       1|        3|             1|  F| 84|             M|                   1|             2015|             U|              7|          G309|            11G309|            61I500|                 0|   1|       6| 12|\n",
            "|       1|        3|             1|  F| 67|             M|                   2|             2015|             U|              7|          I219|            11I219|            21I251|             61N19|   1|       6| 13|\n",
            "|       1|        6|             1|  M| 94|             W|                   7|             2015|             U|              7|          R688|            11R688|             12R54|                 0|   1|       6| 14|\n",
            "|       1|        2|             1|  M| 56|             M|                   7|             2015|             U|              7|          C798|            11C798|            61K769|            62F179|   1|       6| 15|\n",
            "|       1|        3|             1|  M| 32|             S|                   6|             2015|             N|              1|          X599|            11S099|            12X599|                 0|   3|       8| 16|\n",
            "|       1|        2|             1|  M| 18|             S|                   1|             2015|             N|              2|           X70|             11T71|             12X70|             21T71|   3|       8| 17|\n",
            "|       1|        3|             1|  M| 48|             M|                   7|             2015|             N|              2|           X72|            11S069|            21S019|             22X72|   1|       6| 18|\n",
            "|       1|        4|             1|  F| 79|             W|                   5|             2015|             U|              7|           I64|             11I64|             21R13|                 0|   3|       8| 19|\n",
            "|       1|        6|             1|  M| 85|             W|                   6|             2015|             U|              7|           I64|            11J189|             61G20|             62I64|   1|       6| 20|\n",
            "+--------+---------+--------------+---+---+--------------+--------------------+-----------------+--------------+---------------+--------------+------------------+------------------+------------------+----+--------+---+\n",
            "only showing top 20 rows\n",
            "\n"
          ],
          "name": "stdout"
        }
      ]
    },
    {
      "cell_type": "code",
      "metadata": {
        "colab": {
          "base_uri": "https://localhost:8080/"
        },
        "id": "IXE-1h3PAq2M",
        "outputId": "00fbd8cf-f349-44d8-f02e-7b430b8e054e"
      },
      "source": [
        "death_2015_final2.printSchema()"
      ],
      "execution_count": 147,
      "outputs": [
        {
          "output_type": "stream",
          "text": [
            "root\n",
            " |-- resident: integer (nullable = true)\n",
            " |-- education: integer (nullable = true)\n",
            " |-- month_of_death: integer (nullable = true)\n",
            " |-- sex: string (nullable = true)\n",
            " |-- age: integer (nullable = true)\n",
            " |-- marital_status: string (nullable = true)\n",
            " |-- day_of_week_of_death: integer (nullable = true)\n",
            " |-- current_data_year: integer (nullable = true)\n",
            " |-- injury_at_work: string (nullable = true)\n",
            " |-- manner_of_death: integer (nullable = true)\n",
            " |-- icd_death_code: string (nullable = true)\n",
            " |-- entity_condition_1: string (nullable = false)\n",
            " |-- entity_condition_2: string (nullable = false)\n",
            " |-- entity_condition_3: string (nullable = false)\n",
            " |-- race: integer (nullable = true)\n",
            " |-- hispanic: integer (nullable = true)\n",
            " |-- id: long (nullable = false)\n",
            "\n"
          ],
          "name": "stdout"
        }
      ]
    },
    {
      "cell_type": "code",
      "metadata": {
        "colab": {
          "base_uri": "https://localhost:8080/"
        },
        "id": "pq-AYZWpArAq",
        "outputId": "be037a1f-013c-4ffc-f8d0-51e9229124e9"
      },
      "source": [
        ""
      ],
      "execution_count": 152,
      "outputs": [
        {
          "output_type": "stream",
          "text": [
            "--2021-04-10 19:03:50--  https://jdbc.postgresql.org/download/postgresql-42.2.9.jar\n",
            "Resolving jdbc.postgresql.org (jdbc.postgresql.org)... 72.32.157.228, 2001:4800:3e1:1::228\n",
            "Connecting to jdbc.postgresql.org (jdbc.postgresql.org)|72.32.157.228|:443... connected.\n",
            "HTTP request sent, awaiting response... 200 OK\n",
            "Length: 914037 (893K) [application/java-archive]\n",
            "Saving to: ‘postgresql-42.2.9.jar.1’\n",
            "\n",
            "postgresql-42.2.9.j 100%[===================>] 892.61K  --.-KB/s    in 0.1s    \n",
            "\n",
            "2021-04-10 19:03:50 (5.96 MB/s) - ‘postgresql-42.2.9.jar.1’ saved [914037/914037]\n",
            "\n"
          ],
          "name": "stdout"
        }
      ]
    },
    {
      "cell_type": "code",
      "metadata": {
        "id": "g6HheUngArJW"
      },
      "source": [
        ""
      ],
      "execution_count": 153,
      "outputs": []
    },
    {
      "cell_type": "code",
      "metadata": {
        "id": "AqTvnN1HJ100"
      },
      "source": [
        "mode = \"append\"\n",
        "jdbc_url=\"jdbc:postgresql://database-1.ck7rneirj52d.us-east-2.rds.amazonaws.com:5432/Death_Database\"\n",
        "config = {\"user\":\"root\", \n",
        "          \"password\": \"1*fFy4*g1UGy\", \n",
        "          \"driver\":\"org.postgresql.Driver\"}"
      ],
      "execution_count": 52,
      "outputs": []
    },
    {
      "cell_type": "code",
      "metadata": {
        "id": "BAmqAil5Kydy"
      },
      "source": [
        "death_2015_final2.write.jdbc(url=jdbc_url, table='cdc_death_table', mode=mode, properties=config)"
      ],
      "execution_count": 53,
      "outputs": []
    },
    {
      "cell_type": "code",
      "metadata": {
        "id": "6Kl3OdurLD8D"
      },
      "source": [
        ""
      ],
      "execution_count": null,
      "outputs": []
    }
  ]
}