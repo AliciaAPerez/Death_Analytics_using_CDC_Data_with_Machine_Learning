{
  "nbformat": 4,
  "nbformat_minor": 0,
  "metadata": {
    "colab": {
      "name": "Death_Stats_2.ipynb",
      "provenance": [],
      "collapsed_sections": [],
      "authorship_tag": "ABX9TyNuDxXd/S6jqFYMjNQ+SPEY",
      "include_colab_link": true
    },
    "kernelspec": {
      "name": "python3",
      "display_name": "Python 3"
    },
    "language_info": {
      "name": "python"
    }
  },
  "cells": [
    {
      "cell_type": "markdown",
      "metadata": {
        "id": "view-in-github",
        "colab_type": "text"
      },
      "source": [
        "<a href=\"https://colab.research.google.com/github/AliciaAPerez/Death_Analytics_using_CDC_Data_with_Machine_Learning/blob/alicia/Death_Stats_2.ipynb\" target=\"_parent\"><img src=\"https://colab.research.google.com/assets/colab-badge.svg\" alt=\"Open In Colab\"/></a>"
      ]
    },
    {
      "cell_type": "code",
      "metadata": {
        "colab": {
          "base_uri": "https://localhost:8080/"
        },
        "id": "-HwiO_JkDnKx",
        "outputId": "85fa62de-4107-4a9b-f501-7017c2e8b1a7"
      },
      "source": [
        "import os\n",
        "# Find the latest version of spark 3.0  from http://www-us.apache.org/dist/spark/ and enter as the spark version\n",
        "# For example:\n",
        "# spark_version = 'spark-3.0.1'\n",
        "spark_version = 'spark-3.1.1'\n",
        "os.environ['SPARK_VERSION']=spark_version\n",
        "\n",
        "# Install Spark and Java\n",
        "!apt-get update\n",
        "!apt-get install openjdk-11-jdk-headless -qq > /dev/null\n",
        "!wget -q http://www-us.apache.org/dist/spark/$SPARK_VERSION/$SPARK_VERSION-bin-hadoop2.7.tgz\n",
        "!tar xf $SPARK_VERSION-bin-hadoop2.7.tgz\n",
        "!pip install -q findspark\n",
        "\n",
        "# Set Environment Variables\n",
        "os.environ[\"JAVA_HOME\"] = \"/usr/lib/jvm/java-11-openjdk-amd64\"\n",
        "os.environ[\"SPARK_HOME\"] = f\"/content/{spark_version}-bin-hadoop2.7\"\n",
        "\n",
        "# Start a SparkSession\n",
        "import findspark\n",
        "findspark.init()"
      ],
      "execution_count": 1,
      "outputs": [
        {
          "output_type": "stream",
          "text": [
            "Get:1 https://cloud.r-project.org/bin/linux/ubuntu bionic-cran40/ InRelease [3,626 B]\n",
            "Ign:2 https://developer.download.nvidia.com/compute/cuda/repos/ubuntu1804/x86_64  InRelease\n",
            "Get:3 http://security.ubuntu.com/ubuntu bionic-security InRelease [88.7 kB]\n",
            "Ign:4 https://developer.download.nvidia.com/compute/machine-learning/repos/ubuntu1804/x86_64  InRelease\n",
            "Get:5 https://developer.download.nvidia.com/compute/cuda/repos/ubuntu1804/x86_64  Release [697 B]\n",
            "Hit:6 https://developer.download.nvidia.com/compute/machine-learning/repos/ubuntu1804/x86_64  Release\n",
            "Get:7 http://ppa.launchpad.net/c2d4u.team/c2d4u4.0+/ubuntu bionic InRelease [15.9 kB]\n",
            "Get:8 https://developer.download.nvidia.com/compute/cuda/repos/ubuntu1804/x86_64  Release.gpg [836 B]\n",
            "Hit:9 http://archive.ubuntu.com/ubuntu bionic InRelease\n",
            "Get:10 http://archive.ubuntu.com/ubuntu bionic-updates InRelease [88.7 kB]\n",
            "Hit:11 http://ppa.launchpad.net/cran/libgit2/ubuntu bionic InRelease\n",
            "Get:13 http://archive.ubuntu.com/ubuntu bionic-backports InRelease [74.6 kB]\n",
            "Get:14 http://ppa.launchpad.net/deadsnakes/ppa/ubuntu bionic InRelease [15.9 kB]\n",
            "Ign:15 https://developer.download.nvidia.com/compute/cuda/repos/ubuntu1804/x86_64  Packages\n",
            "Get:15 https://developer.download.nvidia.com/compute/cuda/repos/ubuntu1804/x86_64  Packages [696 kB]\n",
            "Hit:16 http://ppa.launchpad.net/graphics-drivers/ppa/ubuntu bionic InRelease\n",
            "Get:17 http://security.ubuntu.com/ubuntu bionic-security/main amd64 Packages [2,112 kB]\n",
            "Get:18 http://security.ubuntu.com/ubuntu bionic-security/multiverse amd64 Packages [24.5 kB]\n",
            "Get:19 http://security.ubuntu.com/ubuntu bionic-security/restricted amd64 Packages [395 kB]\n",
            "Get:20 http://security.ubuntu.com/ubuntu bionic-security/universe amd64 Packages [1,408 kB]\n",
            "Get:21 http://ppa.launchpad.net/c2d4u.team/c2d4u4.0+/ubuntu bionic/main Sources [1,751 kB]\n",
            "Get:22 http://archive.ubuntu.com/ubuntu bionic-updates/multiverse amd64 Packages [31.4 kB]\n",
            "Get:23 http://archive.ubuntu.com/ubuntu bionic-updates/universe amd64 Packages [2,179 kB]\n",
            "Get:24 http://archive.ubuntu.com/ubuntu bionic-updates/restricted amd64 Packages [425 kB]\n",
            "Get:25 http://archive.ubuntu.com/ubuntu bionic-updates/main amd64 Packages [2,543 kB]\n",
            "Get:26 http://ppa.launchpad.net/c2d4u.team/c2d4u4.0+/ubuntu bionic/main amd64 Packages [896 kB]\n",
            "Get:27 http://ppa.launchpad.net/deadsnakes/ppa/ubuntu bionic/main amd64 Packages [39.5 kB]\n",
            "Fetched 12.8 MB in 4s (3,194 kB/s)\n",
            "Reading package lists... Done\n"
          ],
          "name": "stdout"
        }
      ]
    },
    {
      "cell_type": "code",
      "metadata": {
        "colab": {
          "base_uri": "https://localhost:8080/"
        },
        "id": "C6UsSlOODusC",
        "outputId": "bd148783-2afc-4b32-ae48-36035fc26e33"
      },
      "source": [
        "!wget https://jdbc.postgresql.org/download/postgresql-42.2.9.jar"
      ],
      "execution_count": 2,
      "outputs": [
        {
          "output_type": "stream",
          "text": [
            "--2021-04-16 00:23:10--  https://jdbc.postgresql.org/download/postgresql-42.2.9.jar\n",
            "Resolving jdbc.postgresql.org (jdbc.postgresql.org)... 72.32.157.228, 2001:4800:3e1:1::228\n",
            "Connecting to jdbc.postgresql.org (jdbc.postgresql.org)|72.32.157.228|:443... connected.\n",
            "HTTP request sent, awaiting response... 200 OK\n",
            "Length: 914037 (893K) [application/java-archive]\n",
            "Saving to: ‘postgresql-42.2.9.jar’\n",
            "\n",
            "\rpostgresql-42.2.9.j   0%[                    ]       0  --.-KB/s               \rpostgresql-42.2.9.j 100%[===================>] 892.61K  --.-KB/s    in 0.09s   \n",
            "\n",
            "2021-04-16 00:23:10 (10.1 MB/s) - ‘postgresql-42.2.9.jar’ saved [914037/914037]\n",
            "\n"
          ],
          "name": "stdout"
        }
      ]
    },
    {
      "cell_type": "code",
      "metadata": {
        "id": "FWMsxsoiDvKh"
      },
      "source": [
        "from pyspark.sql import SparkSession\n",
        "spark = SparkSession.builder.appName(\"CloudETL\").config(\"spark.driver.extraClassPath\",\"/content/postgresql-42.2.9.jar\").getOrCreate()"
      ],
      "execution_count": 3,
      "outputs": []
    },
    {
      "cell_type": "code",
      "metadata": {
        "colab": {
          "base_uri": "https://localhost:8080/"
        },
        "id": "fMZsA1egDxoq",
        "outputId": "0842beac-588f-4c9a-8077-ca6773e2bfed"
      },
      "source": [
        "from pyspark import SparkFiles\n",
        "from pyspark.sql.functions import col\n",
        "from pyspark.sql.types import IntegerType\n",
        "\n",
        "url =\"https://aperezbucket.s3.us-east-2.amazonaws.com/life_expectancy.csv\"\n",
        "spark.sparkContext.addFile(url)\n",
        "life_expectancy = spark.read.csv(SparkFiles.get(\"life_expectancy.csv\"), sep=\",\", header=True)\n",
        "\n",
        "# Show DataFrame\n",
        "life_expectancy.show()"
      ],
      "execution_count": 11,
      "outputs": [
        {
          "output_type": "stream",
          "text": [
            "+----+---------+----------+-----------------------+-----------------+\n",
            "|year|     race|       sex|average_life_expectancy|age_adjusted_rate|\n",
            "+----+---------+----------+-----------------------+-----------------+\n",
            "|1999|All Races|Both Sexes|                   76.7|            875.6|\n",
            "|1999|All Races|    Female|                   79.4|              734|\n",
            "|1999|All Races|      Male|                   73.9|             1067|\n",
            "|1999|    Black|Both Sexes|                   71.4|           1135.7|\n",
            "|1999|    Black|    Female|                   74.7|            933.6|\n",
            "|1999|    Black|      Male|                   67.8|           1432.6|\n",
            "|1999|    White|Both Sexes|                   77.3|            854.6|\n",
            "|1999|    White|    Female|                   79.9|            716.6|\n",
            "|1999|    White|      Male|                   74.6|           1040.1|\n",
            "|2000|All Races|Both Sexes|                   76.8|              869|\n",
            "|2000|All Races|    Female|                   79.7|            731.4|\n",
            "|2000|All Races|      Male|                   74.3|           1053.8|\n",
            "|2000|    Black|Both Sexes|                   71.8|           1121.4|\n",
            "|2000|    Black|    Female|                   75.1|            927.6|\n",
            "|2000|    Black|      Male|                   68.2|           1403.5|\n",
            "|2000|    White|Both Sexes|                   77.3|            849.8|\n",
            "|2000|    White|    Female|                   79.9|            715.3|\n",
            "|2000|    White|      Male|                   74.7|           1029.4|\n",
            "|2001|All Races|Both Sexes|                     77|            858.8|\n",
            "|2001|All Races|    Female|                   79.5|            725.6|\n",
            "+----+---------+----------+-----------------------+-----------------+\n",
            "only showing top 20 rows\n",
            "\n"
          ],
          "name": "stdout"
        }
      ]
    },
    {
      "cell_type": "code",
      "metadata": {
        "colab": {
          "base_uri": "https://localhost:8080/"
        },
        "id": "B-SYteneHi90",
        "outputId": "a2770956-8989-4693-f389-2a414af3af43"
      },
      "source": [
        "url =\"https://aperezbucket.s3.us-east-2.amazonaws.com/leading_causes_death.csv\"\n",
        "spark.sparkContext.addFile(url)\n",
        "leading_causes_death = spark.read.csv(SparkFiles.get(\"leading_causes_death.csv\"), sep=\",\", header=True)\n",
        "\n",
        "# Show DataFrame\n",
        "leading_causes_death.show()"
      ],
      "execution_count": 9,
      "outputs": [
        {
          "output_type": "stream",
          "text": [
            "+----+--------------------+--------------------+--------------------+------+-----------------------+\n",
            "|year|               cause|          cause_name|               state|deaths|age_adjusted-death_rate|\n",
            "+----+--------------------+--------------------+--------------------+------+-----------------------+\n",
            "|1999|Accidents (uninte...|Unintentional inj...|             Alabama| 2,313|                   52.2|\n",
            "|1999|Accidents (uninte...|Unintentional inj...|              Alaska|   294|                   55.9|\n",
            "|1999|Accidents (uninte...|Unintentional inj...|             Arizona| 2,214|                   44.8|\n",
            "|1999|Accidents (uninte...|Unintentional inj...|            Arkansas| 1,287|                   47.6|\n",
            "|1999|Accidents (uninte...|Unintentional inj...|          California| 9,198|                   28.7|\n",
            "|1999|Accidents (uninte...|Unintentional inj...|            Colorado| 1,519|                     39|\n",
            "|1999|Accidents (uninte...|Unintentional inj...|         Connecticut| 1,034|                   29.3|\n",
            "|1999|Accidents (uninte...|Unintentional inj...|            Delaware|   267|                   35.3|\n",
            "|1999|Accidents (uninte...|Unintentional inj...|District of Columbia|   161|                   28.4|\n",
            "|1999|Accidents (uninte...|Unintentional inj...|             Florida| 5,961|                   35.7|\n",
            "|1999|Accidents (uninte...|Unintentional inj...|             Georgia| 3,078|                   41.5|\n",
            "|1999|Accidents (uninte...|Unintentional inj...|              Hawaii|   293|                   24.3|\n",
            "|1999|Accidents (uninte...|Unintentional inj...|               Idaho|   597|                   48.3|\n",
            "|1999|Accidents (uninte...|Unintentional inj...|            Illinois| 4,125|                   33.7|\n",
            "|1999|Accidents (uninte...|Unintentional inj...|             Indiana| 2,309|                   38.4|\n",
            "|1999|Accidents (uninte...|Unintentional inj...|                Iowa| 1,123|                   35.2|\n",
            "|1999|Accidents (uninte...|Unintentional inj...|              Kansas| 1,126|                   40.7|\n",
            "|1999|Accidents (uninte...|Unintentional inj...|            Kentucky| 1,730|                   43.3|\n",
            "|1999|Accidents (uninte...|Unintentional inj...|           Louisiana| 1,940|                   44.7|\n",
            "|1999|Accidents (uninte...|Unintentional inj...|               Maine|   458|                   34.9|\n",
            "+----+--------------------+--------------------+--------------------+------+-----------------------+\n",
            "only showing top 20 rows\n",
            "\n"
          ],
          "name": "stdout"
        }
      ]
    },
    {
      "cell_type": "code",
      "metadata": {
        "colab": {
          "base_uri": "https://localhost:8080/"
        },
        "id": "bENb0rAeP6qb",
        "outputId": "a8d2887e-4511-4af7-d472-cc167a481238"
      },
      "source": [
        "leading_causes_death2 = leading_causes_death.withColumnRenamed(\"age_adjusted-death_rate\",\"age_adjusted_death_rate\")\n",
        "leading_causes_death2.show()"
      ],
      "execution_count": 27,
      "outputs": [
        {
          "output_type": "stream",
          "text": [
            "+----+--------------------+--------------------+--------------------+------+-----------------------+\n",
            "|year|               cause|          cause_name|               state|deaths|age_adjusted_death_rate|\n",
            "+----+--------------------+--------------------+--------------------+------+-----------------------+\n",
            "|1999|Accidents (uninte...|Unintentional inj...|             Alabama| 2,313|                   52.2|\n",
            "|1999|Accidents (uninte...|Unintentional inj...|              Alaska|   294|                   55.9|\n",
            "|1999|Accidents (uninte...|Unintentional inj...|             Arizona| 2,214|                   44.8|\n",
            "|1999|Accidents (uninte...|Unintentional inj...|            Arkansas| 1,287|                   47.6|\n",
            "|1999|Accidents (uninte...|Unintentional inj...|          California| 9,198|                   28.7|\n",
            "|1999|Accidents (uninte...|Unintentional inj...|            Colorado| 1,519|                     39|\n",
            "|1999|Accidents (uninte...|Unintentional inj...|         Connecticut| 1,034|                   29.3|\n",
            "|1999|Accidents (uninte...|Unintentional inj...|            Delaware|   267|                   35.3|\n",
            "|1999|Accidents (uninte...|Unintentional inj...|District of Columbia|   161|                   28.4|\n",
            "|1999|Accidents (uninte...|Unintentional inj...|             Florida| 5,961|                   35.7|\n",
            "|1999|Accidents (uninte...|Unintentional inj...|             Georgia| 3,078|                   41.5|\n",
            "|1999|Accidents (uninte...|Unintentional inj...|              Hawaii|   293|                   24.3|\n",
            "|1999|Accidents (uninte...|Unintentional inj...|               Idaho|   597|                   48.3|\n",
            "|1999|Accidents (uninte...|Unintentional inj...|            Illinois| 4,125|                   33.7|\n",
            "|1999|Accidents (uninte...|Unintentional inj...|             Indiana| 2,309|                   38.4|\n",
            "|1999|Accidents (uninte...|Unintentional inj...|                Iowa| 1,123|                   35.2|\n",
            "|1999|Accidents (uninte...|Unintentional inj...|              Kansas| 1,126|                   40.7|\n",
            "|1999|Accidents (uninte...|Unintentional inj...|            Kentucky| 1,730|                   43.3|\n",
            "|1999|Accidents (uninte...|Unintentional inj...|           Louisiana| 1,940|                   44.7|\n",
            "|1999|Accidents (uninte...|Unintentional inj...|               Maine|   458|                   34.9|\n",
            "+----+--------------------+--------------------+--------------------+------+-----------------------+\n",
            "only showing top 20 rows\n",
            "\n"
          ],
          "name": "stdout"
        }
      ]
    },
    {
      "cell_type": "code",
      "metadata": {
        "colab": {
          "base_uri": "https://localhost:8080/"
        },
        "id": "0s8ZLRjqIofw",
        "outputId": "e1ae65a2-9248-47bb-cfcb-503f4f812441"
      },
      "source": [
        "url =\"https://aperezbucket.s3.us-east-2.amazonaws.com/UNdata_Export_20210414_035511888.csv\"\n",
        "spark.sparkContext.addFile(url)\n",
        "UN_Data = spark.read.csv(SparkFiles.get(\"UNdata_Export_20210414_035511888.csv\"), sep=\",\", header=True)\n",
        "\n",
        "# Show DataFrame\n",
        "UN_Data.show()"
      ],
      "execution_count": 10,
      "outputs": [
        {
          "output_type": "stream",
          "text": [
            "+--------------------+----+-----+----+-----+--------------------+-----------+------+---------------+\n",
            "|     Country or Area|Year| Area| Sex|  Age|Cause of death (WHO)|Source Year| Value|Value Footnotes|\n",
            "+--------------------+----+-----+----+-----+--------------------+-----------+------+---------------+\n",
            "|United States of ...|2017|Total|Male|Total|Certain infectiou...|       2020| 35481|           null|\n",
            "|United States of ...|2017|Total|Male|Total|Intestinal infect...|       2020|  3592|           null|\n",
            "|United States of ...|2017|Total|Male|Total| Tuberculosis, ICD10|       2020|   321|           null|\n",
            "|United States of ...|2017|Total|Male|Total|      Tetanus, ICD10|       2020|     1|           null|\n",
            "|United States of ...|2017|Total|Male|Total|   Diphtheria, ICD10|       2020|     0|           null|\n",
            "|United States of ...|2017|Total|Male|Total|Whooping cough, I...|       2020|     6|           null|\n",
            "|United States of ...|2017|Total|Male|Total|Meningococcal inf...|       2020|    16|           null|\n",
            "|United States of ...|2017|Total|Male|Total|  Septicaemia, ICD10|       2020| 19603|           null|\n",
            "|United States of ...|2017|Total|Male|Total|Acute poliomyelit...|       2020|     0|           null|\n",
            "|United States of ...|2017|Total|Male|Total|      Measles, ICD10|       2020|     0|           null|\n",
            "|United States of ...|2017|Total|Male|Total|Viral hepatitis, ...|       2020|  3685|           null|\n",
            "|United States of ...|2017|Total|Male|Total|Human immunodefic...|       2020|  4207|           null|\n",
            "|United States of ...|2017|Total|Male|Total|      Malaria, ICD10|       2020|     6|           null|\n",
            "|United States of ...|2017|Total|Male|Total|    Neoplasms, ICD10|       2020|323675|           null|\n",
            "|United States of ...|2017|Total|Male|Total|Malignant neoplas...|       2020|315162|           null|\n",
            "|United States of ...|2017|Total|Male|Total|Malignant neoplas...|       2020|  7235|           null|\n",
            "|United States of ...|2017|Total|Male|Total|Malignant neoplas...|       2020| 12314|           null|\n",
            "|United States of ...|2017|Total|Male|Total|Malignant neoplas...|       2020|  6680|           null|\n",
            "|United States of ...|2017|Total|Male|Total|Malignant neoplas...|       2020| 28093|           null|\n",
            "|United States of ...|2017|Total|Male|Total|Malignant neoplas...|       2020| 18246|           null|\n",
            "+--------------------+----+-----+----+-----+--------------------+-----------+------+---------------+\n",
            "only showing top 20 rows\n",
            "\n"
          ],
          "name": "stdout"
        }
      ]
    },
    {
      "cell_type": "code",
      "metadata": {
        "id": "1D6VZCjHOlPY"
      },
      "source": [
        "UN_Data2 = UN_Data.withColumnRenamed(\"Country or Area\",\"Country\").withColumnRenamed(\"Cause of death (WHO)\", \"Cause_of_Death_WHO\")"
      ],
      "execution_count": 16,
      "outputs": []
    },
    {
      "cell_type": "code",
      "metadata": {
        "colab": {
          "base_uri": "https://localhost:8080/"
        },
        "id": "CcK_thw6O-VH",
        "outputId": "816b3c5f-fc75-49ce-f96e-bfac610bd7e5"
      },
      "source": [
        "UN_Data3 = UN_Data2.drop(\"Source Year\",\"Value Footnotes\")\n",
        "UN_Data3.show()"
      ],
      "execution_count": 17,
      "outputs": [
        {
          "output_type": "stream",
          "text": [
            "+--------------------+----+-----+----+-----+--------------------+------+\n",
            "|             Country|Year| Area| Sex|  Age|  Cause_of_Death_WHO| Value|\n",
            "+--------------------+----+-----+----+-----+--------------------+------+\n",
            "|United States of ...|2017|Total|Male|Total|Certain infectiou...| 35481|\n",
            "|United States of ...|2017|Total|Male|Total|Intestinal infect...|  3592|\n",
            "|United States of ...|2017|Total|Male|Total| Tuberculosis, ICD10|   321|\n",
            "|United States of ...|2017|Total|Male|Total|      Tetanus, ICD10|     1|\n",
            "|United States of ...|2017|Total|Male|Total|   Diphtheria, ICD10|     0|\n",
            "|United States of ...|2017|Total|Male|Total|Whooping cough, I...|     6|\n",
            "|United States of ...|2017|Total|Male|Total|Meningococcal inf...|    16|\n",
            "|United States of ...|2017|Total|Male|Total|  Septicaemia, ICD10| 19603|\n",
            "|United States of ...|2017|Total|Male|Total|Acute poliomyelit...|     0|\n",
            "|United States of ...|2017|Total|Male|Total|      Measles, ICD10|     0|\n",
            "|United States of ...|2017|Total|Male|Total|Viral hepatitis, ...|  3685|\n",
            "|United States of ...|2017|Total|Male|Total|Human immunodefic...|  4207|\n",
            "|United States of ...|2017|Total|Male|Total|      Malaria, ICD10|     6|\n",
            "|United States of ...|2017|Total|Male|Total|    Neoplasms, ICD10|323675|\n",
            "|United States of ...|2017|Total|Male|Total|Malignant neoplas...|315162|\n",
            "|United States of ...|2017|Total|Male|Total|Malignant neoplas...|  7235|\n",
            "|United States of ...|2017|Total|Male|Total|Malignant neoplas...| 12314|\n",
            "|United States of ...|2017|Total|Male|Total|Malignant neoplas...|  6680|\n",
            "|United States of ...|2017|Total|Male|Total|Malignant neoplas...| 28093|\n",
            "|United States of ...|2017|Total|Male|Total|Malignant neoplas...| 18246|\n",
            "+--------------------+----+-----+----+-----+--------------------+------+\n",
            "only showing top 20 rows\n",
            "\n"
          ],
          "name": "stdout"
        }
      ]
    },
    {
      "cell_type": "code",
      "metadata": {
        "id": "vFw5Z_hUIorc"
      },
      "source": [
        "from pyspark.sql.functions import monotonically_increasing_id\n",
        "life_expectancy_final = life_expectancy.withColumn(\"id\", monotonically_increasing_id() +1)\n",
        "leading_causes_death_final = leading_causes_death2.withColumn(\"id\", monotonically_increasing_id() +1)\n",
        "UN_Data_final = UN_Data3.withColumn(\"id\", monotonically_increasing_id() +1)"
      ],
      "execution_count": 28,
      "outputs": []
    },
    {
      "cell_type": "code",
      "metadata": {
        "colab": {
          "base_uri": "https://localhost:8080/"
        },
        "id": "9MWueWujKHu6",
        "outputId": "c4bc7a7e-f137-4a10-9c5e-b805053602cb"
      },
      "source": [
        "life_expectancy_final.printSchema()"
      ],
      "execution_count": 30,
      "outputs": [
        {
          "output_type": "stream",
          "text": [
            "root\n",
            " |-- year: string (nullable = true)\n",
            " |-- race: string (nullable = true)\n",
            " |-- sex: string (nullable = true)\n",
            " |-- average_life_expectancy: string (nullable = true)\n",
            " |-- age_adjusted_rate: string (nullable = true)\n",
            " |-- id: long (nullable = false)\n",
            "\n"
          ],
          "name": "stdout"
        }
      ]
    },
    {
      "cell_type": "code",
      "metadata": {
        "colab": {
          "base_uri": "https://localhost:8080/"
        },
        "id": "0RoQz5gEMqvC",
        "outputId": "c11d400c-f42f-49aa-dd66-aa26909dd65a"
      },
      "source": [
        "leading_causes_death_final.printSchema()"
      ],
      "execution_count": 29,
      "outputs": [
        {
          "output_type": "stream",
          "text": [
            "root\n",
            " |-- year: string (nullable = true)\n",
            " |-- cause: string (nullable = true)\n",
            " |-- cause_name: string (nullable = true)\n",
            " |-- state: string (nullable = true)\n",
            " |-- deaths: string (nullable = true)\n",
            " |-- age_adjusted_death_rate: string (nullable = true)\n",
            " |-- id: long (nullable = false)\n",
            "\n"
          ],
          "name": "stdout"
        }
      ]
    },
    {
      "cell_type": "code",
      "metadata": {
        "colab": {
          "base_uri": "https://localhost:8080/"
        },
        "id": "zZgh0sQLMq4v",
        "outputId": "b7c2ba1e-a484-4997-e73d-7073e01fe114"
      },
      "source": [
        "UN_Data_final.printSchema()"
      ],
      "execution_count": 31,
      "outputs": [
        {
          "output_type": "stream",
          "text": [
            "root\n",
            " |-- Country: string (nullable = true)\n",
            " |-- Year: string (nullable = true)\n",
            " |-- Area: string (nullable = true)\n",
            " |-- Sex: string (nullable = true)\n",
            " |-- Age: string (nullable = true)\n",
            " |-- Cause_of_Death_WHO: string (nullable = true)\n",
            " |-- Value: string (nullable = true)\n",
            " |-- id: long (nullable = false)\n",
            "\n"
          ],
          "name": "stdout"
        }
      ]
    },
    {
      "cell_type": "code",
      "metadata": {
        "id": "Qmkkt143MrDe"
      },
      "source": [
        ""
      ],
      "execution_count": null,
      "outputs": []
    },
    {
      "cell_type": "code",
      "metadata": {
        "id": "Fm9b2gg3KH7C"
      },
      "source": [
        "mode = \"append\"\n",
        "jdbc_url=\"jdbc:postgresql://database-1.ck7rneirj52d.us-east-2.rds.amazonaws.com:5432/Death_Database\"\n",
        "config = {\"user\":\"root\", \n",
        "          \"password\": \"postgres\", \n",
        "          \"driver\":\"org.postgresql.Driver\"}"
      ],
      "execution_count": 22,
      "outputs": []
    },
    {
      "cell_type": "code",
      "metadata": {
        "id": "y_f8t33QM6qs"
      },
      "source": [
        "life_expectancy_final.write.jdbc(url=jdbc_url, table='life_expectancy', mode=mode, properties=config)"
      ],
      "execution_count": 24,
      "outputs": []
    },
    {
      "cell_type": "code",
      "metadata": {
        "id": "6tZFTP4wM6Ev"
      },
      "source": [
        "leading_causes_death_final.write.jdbc(url=jdbc_url, table='leading_causes_death', mode=mode, properties=config)"
      ],
      "execution_count": 32,
      "outputs": []
    },
    {
      "cell_type": "code",
      "metadata": {
        "id": "HVBLhP9AM1rW"
      },
      "source": [
        "UN_Data_final.write.jdbc(url=jdbc_url, table='UN_Data', mode=mode, properties=config)"
      ],
      "execution_count": 26,
      "outputs": []
    },
    {
      "cell_type": "code",
      "metadata": {
        "id": "8cH71S9lPyfD"
      },
      "source": [
        ""
      ],
      "execution_count": null,
      "outputs": []
    }
  ]
}