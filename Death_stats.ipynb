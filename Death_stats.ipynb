{
  "nbformat": 4,
  "nbformat_minor": 0,
  "metadata": {
    "colab": {
      "name": "Death_stats.ipynb",
      "provenance": [],
      "collapsed_sections": [],
      "authorship_tag": "ABX9TyPMIZsF8CbplwwbRdTaQHmm",
      "include_colab_link": true
    },
    "kernelspec": {
      "name": "python3",
      "display_name": "Python 3"
    },
    "language_info": {
      "name": "python"
    }
  },
  "cells": [
    {
      "cell_type": "markdown",
      "metadata": {
        "id": "view-in-github",
        "colab_type": "text"
      },
      "source": [
        "<a href=\"https://colab.research.google.com/github/AliciaAPerez/Death_Analytics_using_CDC_Data_with_Machine_Learning/blob/Claude/Death_stats.ipynb\" target=\"_parent\"><img src=\"https://colab.research.google.com/assets/colab-badge.svg\" alt=\"Open In Colab\"/></a>"
      ]
    },
    {
      "cell_type": "code",
      "metadata": {
        "colab": {
          "base_uri": "https://localhost:8080/"
        },
        "id": "vJVav_FtWwQq",
        "outputId": "0074cfbf-c80e-4109-fe76-91797fd96490"
      },
      "source": [
        "import os\n",
        "# Find the latest version of spark 3.0  from http://www-us.apache.org/dist/spark/ and enter as the spark version\n",
        "# For example:\n",
        "# spark_version = 'spark-3.0.1'\n",
        "spark_version = 'spark-3.1.1'\n",
        "os.environ['SPARK_VERSION']=spark_version\n",
        "\n",
        "# Install Spark and Java\n",
        "!apt-get update\n",
        "!apt-get install openjdk-11-jdk-headless -qq > /dev/null\n",
        "!wget -q http://www-us.apache.org/dist/spark/$SPARK_VERSION/$SPARK_VERSION-bin-hadoop2.7.tgz\n",
        "!tar xf $SPARK_VERSION-bin-hadoop2.7.tgz\n",
        "!pip install -q findspark\n",
        "\n",
        "# Set Environment Variables\n",
        "os.environ[\"JAVA_HOME\"] = \"/usr/lib/jvm/java-11-openjdk-amd64\"\n",
        "os.environ[\"SPARK_HOME\"] = f\"/content/{spark_version}-bin-hadoop2.7\"\n",
        "\n",
        "# Start a SparkSession\n",
        "import findspark\n",
        "findspark.init()"
      ],
      "execution_count": 1,
      "outputs": [
        {
          "output_type": "stream",
          "text": [
            "\r0% [Working]\r            \rIgn:1 https://developer.download.nvidia.com/compute/cuda/repos/ubuntu1804/x86_64  InRelease\n",
            "Get:2 https://cloud.r-project.org/bin/linux/ubuntu bionic-cran40/ InRelease [3,626 B]\n",
            "Hit:3 http://archive.ubuntu.com/ubuntu bionic InRelease\n",
            "Get:4 http://ppa.launchpad.net/c2d4u.team/c2d4u4.0+/ubuntu bionic InRelease [15.9 kB]\n",
            "Get:5 http://security.ubuntu.com/ubuntu bionic-security InRelease [88.7 kB]\n",
            "Ign:6 https://developer.download.nvidia.com/compute/machine-learning/repos/ubuntu1804/x86_64  InRelease\n",
            "Hit:7 https://developer.download.nvidia.com/compute/cuda/repos/ubuntu1804/x86_64  Release\n",
            "Hit:8 https://developer.download.nvidia.com/compute/machine-learning/repos/ubuntu1804/x86_64  Release\n",
            "Get:9 http://archive.ubuntu.com/ubuntu bionic-updates InRelease [88.7 kB]\n",
            "Hit:10 http://ppa.launchpad.net/cran/libgit2/ubuntu bionic InRelease\n",
            "Get:11 http://archive.ubuntu.com/ubuntu bionic-backports InRelease [74.6 kB]\n",
            "Get:12 http://ppa.launchpad.net/deadsnakes/ppa/ubuntu bionic InRelease [15.9 kB]\n",
            "Hit:13 http://ppa.launchpad.net/graphics-drivers/ppa/ubuntu bionic InRelease\n",
            "Get:16 http://ppa.launchpad.net/c2d4u.team/c2d4u4.0+/ubuntu bionic/main Sources [1,750 kB]\n",
            "Get:17 http://archive.ubuntu.com/ubuntu bionic-updates/main amd64 Packages [2,476 kB]\n",
            "Get:18 http://ppa.launchpad.net/c2d4u.team/c2d4u4.0+/ubuntu bionic/main amd64 Packages [895 kB]\n",
            "Get:19 http://archive.ubuntu.com/ubuntu bionic-updates/universe amd64 Packages [2,173 kB]\n",
            "Get:20 http://ppa.launchpad.net/deadsnakes/ppa/ubuntu bionic/main amd64 Packages [39.5 kB]\n",
            "Fetched 7,621 kB in 3s (2,351 kB/s)\n",
            "Reading package lists... Done\n"
          ],
          "name": "stdout"
        }
      ]
    },
    {
      "cell_type": "code",
      "metadata": {
        "id": "HWYHnEIUW6Cz"
      },
      "source": [
        "from pyspark.sql import SparkSession\n",
        "spark = SparkSession.builder.appName(\"Hashing\").getOrCreate()"
      ],
      "execution_count": 2,
      "outputs": []
    },
    {
      "cell_type": "code",
      "metadata": {
        "colab": {
          "base_uri": "https://localhost:8080/"
        },
        "id": "NJs6T_IhW8ZO",
        "outputId": "b8af93b8-b6f2-40ab-ac5f-dbfaa86f11f6"
      },
      "source": [
        "from pyspark import SparkFiles\n",
        "url =\"https://aperezbucket.s3.us-east-2.amazonaws.com/2015_data.csv\"\n",
        "spark.sparkContext.addFile(url)\n",
        "death_2015 = spark.read.csv(SparkFiles.get(\"2015_data.csv\"), sep=\",\", header=True)\n",
        "\n",
        "# Show DataFrame\n",
        "death_2015.show()"
      ],
      "execution_count": 10,
      "outputs": [
        {
          "output_type": "stream",
          "text": [
            "+---------------+-----------------------+-----------------------+------------------------+--------------+---+---------------+----------+---------------------+-------------+-------------+-------------+--------------------+-----------------------------------+--------------+--------------------+-----------------+--------------+---------------+---------------------+-------+-------------+------------------------------------------------------+----------------------+----------------+----------------+-----------------------+---------------+--------------------------------+------------------+------------------+------------------+------------------+------------------+------------------+------------------+------------------+------------------+-------------------+-------------------+-------------------+-------------------+-------------------+-------------------+-------------------+-------------------+-------------------+-------------------+-------------------+--------------------------------+------------------+------------------+------------------+------------------+------------------+------------------+------------------+------------------+------------------+-------------------+-------------------+-------------------+-------------------+-------------------+-------------------+-------------------+-------------------+-------------------+-------------------+-------------------+----+-----------------+--------------------+-------------+-------------+---------------+--------------------------+\n",
            "|resident_status|education_1989_revision|education_2003_revision|education_reporting_flag|month_of_death|sex|detail_age_type|detail_age|age_substitution_flag|age_recode_52|age_recode_27|age_recode_12|infant_age_recode_22|place_of_death_and_decedents_status|marital_status|day_of_week_of_death|current_data_year|injury_at_work|manner_of_death|method_of_disposition|autopsy|activity_code|place_of_injury_for_causes_w00_y34_except_y06_and_y07_|icd_code_10th_revision|358_cause_recode|113_cause_recode|130_infant_cause_recode|39_cause_recode|number_of_entity_axis_conditions|entity_condition_1|entity_condition_2|entity_condition_3|entity_condition_4|entity_condition_5|entity_condition_6|entity_condition_7|entity_condition_8|entity_condition_9|entity_condition_10|entity_condition_11|entity_condition_12|entity_condition_13|entity_condition_14|entity_condition_15|entity_condition_16|entity_condition_17|entity_condition_18|entity_condition_19|entity_condition_20|number_of_record_axis_conditions|record_condition_1|record_condition_2|record_condition_3|record_condition_4|record_condition_5|record_condition_6|record_condition_7|record_condition_8|record_condition_9|record_condition_10|record_condition_11|record_condition_12|record_condition_13|record_condition_14|record_condition_15|record_condition_16|record_condition_17|record_condition_18|record_condition_19|record_condition_20|race|bridged_race_flag|race_imputation_flag|race_recode_3|race_recode_5|hispanic_origin|hispanic_originrace_recode|\n",
            "+---------------+-----------------------+-----------------------+------------------------+--------------+---+---------------+----------+---------------------+-------------+-------------+-------------+--------------------+-----------------------------------+--------------+--------------------+-----------------+--------------+---------------+---------------------+-------+-------------+------------------------------------------------------+----------------------+----------------+----------------+-----------------------+---------------+--------------------------------+------------------+------------------+------------------+------------------+------------------+------------------+------------------+------------------+------------------+-------------------+-------------------+-------------------+-------------------+-------------------+-------------------+-------------------+-------------------+-------------------+-------------------+-------------------+--------------------------------+------------------+------------------+------------------+------------------+------------------+------------------+------------------+------------------+------------------+-------------------+-------------------+-------------------+-------------------+-------------------+-------------------+-------------------+-------------------+-------------------+-------------------+-------------------+----+-----------------+--------------------+-------------+-------------+---------------+--------------------------+\n",
            "|              1|                   null|                      3|                       1|            01|  M|              1|       084|                 null|           42|           22|           10|                null|                                  1|             M|                   1|             2015|             U|              7|                    B|      N|         null|                                                  null|                  I500|             230|             067|                   null|             22|                              02|            11I500|            61L031|              null|              null|              null|              null|              null|              null|              null|               null|               null|               null|               null|               null|               null|               null|               null|               null|               null|               null|                              02|              I500|              L031|              null|              null|              null|              null|              null|              null|              null|               null|               null|               null|               null|               null|               null|               null|               null|               null|               null|               null|  01|             null|                null|            1|            1|            100|                         6|\n",
            "|              1|                   null|                      6|                       1|            01|  M|              1|       070|                 null|           40|           20|           09|                null|                                  1|             M|                   2|             2015|             U|              7|                    C|      N|         null|                                                  null|                  C349|             093|             027|                   null|             08|                              08|            11I469|            21R042|            31C349|            41J189|             42J90|            61J449|            62I251|            63F179|              null|               null|               null|               null|               null|               null|               null|               null|               null|               null|               null|               null|                              07|              C349|              F179|              I251|              I469|              J440|               J90|              R042|              null|              null|               null|               null|               null|               null|               null|               null|               null|               null|               null|               null|               null|  01|             null|                null|            1|            1|            100|                         6|\n",
            "|              1|                   null|                      3|                       1|            01|  F|              1|       091|                 null|           44|           24|           11|                null|                                  4|             W|                   6|             2015|             U|              7|                    C|      N|         null|                                                  null|                  G309|             189|             052|                   null|             17|                              01|            11G309|              null|              null|              null|              null|              null|              null|              null|              null|               null|               null|               null|               null|               null|               null|               null|               null|               null|               null|               null|                              01|              G309|              null|              null|              null|              null|              null|              null|              null|              null|               null|               null|               null|               null|               null|               null|               null|               null|               null|               null|               null|  01|             null|                null|            1|            1|            100|                         6|\n",
            "|              1|                   null|                      3|                       1|            01|  F|              1|       040|                 null|           34|           14|           06|                null|                                  4|             S|                   5|             2015|             N|              3|                    B|      Y|            9|                                                     9|                   X91|             434|             129|                   null|             41|                              06|             11T71|             12X91|             21T71|            61T149|            62S223|            63S299|              null|              null|              null|               null|               null|               null|               null|               null|               null|               null|               null|               null|               null|               null|                              05|               X91|              S223|              S299|              T149|               T71|              null|              null|              null|              null|               null|               null|               null|               null|               null|               null|               null|               null|               null|               null|               null|  03|             null|                null|            2|            3|            100|                         8|\n",
            "|              1|                   null|                      5|                       1|            01|  F|              1|       089|                 null|           43|           23|           11|                null|                                  6|             W|                   5|             2015|             U|              7|                    C|      N|         null|                                                     9|                  I250|             214|             062|                   null|             21|                              03|            11I250|            21S720|            61X590|              null|              null|              null|              null|              null|              null|               null|               null|               null|               null|               null|               null|               null|               null|               null|               null|               null|                              03|              I250|              S720|              X590|              null|              null|              null|              null|              null|              null|               null|               null|               null|               null|               null|               null|               null|               null|               null|               null|               null|  01|             null|                null|            1|            1|            100|                         6|\n",
            "|              1|                   null|                      6|                       1|            01|  M|              1|       078|                 null|           41|           21|           10|                null|                                  4|             W|                   6|             2015|             U|              7|                    C|      N|         null|                                                  null|                  I516|             233|             068|                   null|             22|                              04|            11I499|            21I516|            61E780|            62F179|              null|              null|              null|              null|              null|               null|               null|               null|               null|               null|               null|               null|               null|               null|               null|               null|                              04|              I516|              E780|              F179|              I499|              null|              null|              null|              null|              null|               null|               null|               null|               null|               null|               null|               null|               null|               null|               null|               null|  03|             null|                null|            2|            3|            100|                         8|\n",
            "|              1|                   null|                      4|                       1|            01|  M|              1|       092|                 null|           44|           24|           11|                null|                                  4|             W|                   1|             2015|             U|              7|                    R|      N|         null|                                                  null|                  E274|             161|             111|                   null|             37|                              01|            11E274|              null|              null|              null|              null|              null|              null|              null|              null|               null|               null|               null|               null|               null|               null|               null|               null|               null|               null|               null|                              01|              E274|              null|              null|              null|              null|              null|              null|              null|              null|               null|               null|               null|               null|               null|               null|               null|               null|               null|               null|               null|  01|             null|                null|            1|            1|            100|                         6|\n",
            "|              1|                   null|                      3|                       1|            01|  M|              1|       082|                 null|           42|           22|           10|                null|                                  4|             M|                   1|             2015|             U|              7|                    C|      N|         null|                                                  null|                  I500|             230|             067|                   null|             22|                              01|            11I500|              null|              null|              null|              null|              null|              null|              null|              null|               null|               null|               null|               null|               null|               null|               null|               null|               null|               null|               null|                              01|              I500|              null|              null|              null|              null|              null|              null|              null|              null|               null|               null|               null|               null|               null|               null|               null|               null|               null|               null|               null|  01|             null|                null|            1|            1|            100|                         6|\n",
            "|              1|                   null|                      3|                       1|            01|  F|              1|       089|                 null|           43|           23|           11|                null|                                  4|             W|                   1|             2015|             U|              7|                    B|      N|         null|                                                  null|                  I350|             225|             068|                   null|             22|                              02|            11I500|            21I350|              null|              null|              null|              null|              null|              null|              null|               null|               null|               null|               null|               null|               null|               null|               null|               null|               null|               null|                              02|              I350|              I500|              null|              null|              null|              null|              null|              null|              null|               null|               null|               null|               null|               null|               null|               null|               null|               null|               null|               null|  01|             null|                null|            1|            1|            100|                         6|\n",
            "|              1|                   null|                      9|                       1|            01|  F|              1|       093|                 null|           44|           24|           11|                null|                                  6|             W|                   7|             2015|             U|              7|                    C|      N|            9|                                                     9|                   W19|             406|             118|                   null|             39|                              06|            11T142|             21W19|            31R688|            41I694|             61F03|            62E039|              null|              null|              null|               null|               null|               null|               null|               null|               null|               null|               null|               null|               null|               null|                              06|               W19|              E039|               F03|              I694|              R688|              T142|              null|              null|              null|               null|               null|               null|               null|               null|               null|               null|               null|               null|               null|               null|  01|             null|                null|            1|            1|            100|                         6|\n",
            "|              1|                   null|                      6|                       1|            01|  F|              1|       084|                 null|           42|           22|           10|                null|                                  6|             M|                   1|             2015|             U|              7|                    B|      N|         null|                                                  null|                   I48|             228|             068|                   null|             22|                              04|            11J189|             21I48|             61I64|             62G20|              null|              null|              null|              null|              null|               null|               null|               null|               null|               null|               null|               null|               null|               null|               null|               null|                              04|               I48|               G20|               I64|              J189|              null|              null|              null|              null|              null|               null|               null|               null|               null|               null|               null|               null|               null|               null|               null|               null|  01|             null|                null|            1|            1|            100|                         6|\n",
            "|              1|                   null|                      3|                       1|            01|  F|              1|       084|                 null|           42|           22|           10|                null|                                  6|             M|                   1|             2015|             U|              7|                    C|      N|         null|                                                  null|                  G309|             189|             052|                   null|             17|                              02|            11G309|            61I500|              null|              null|              null|              null|              null|              null|              null|               null|               null|               null|               null|               null|               null|               null|               null|               null|               null|               null|                              02|              G309|              I500|              null|              null|              null|              null|              null|              null|              null|               null|               null|               null|               null|               null|               null|               null|               null|               null|               null|               null|  01|             null|                null|            1|            1|            100|                         6|\n",
            "|              1|                   null|                      3|                       1|            01|  F|              1|       067|                 null|           39|           19|           09|                null|                                  1|             M|                   2|             2015|             U|              7|                    C|      N|         null|                                                  null|                  I219|             211|             059|                   null|             21|                              03|            11I219|            21I251|             61N19|              null|              null|              null|              null|              null|              null|               null|               null|               null|               null|               null|               null|               null|               null|               null|               null|               null|                              03|              I219|              I251|               N19|              null|              null|              null|              null|              null|              null|               null|               null|               null|               null|               null|               null|               null|               null|               null|               null|               null|  01|             null|                null|            1|            1|            100|                         6|\n",
            "|              1|                   null|                      6|                       1|            01|  M|              1|       094|                 null|           44|           24|           11|                null|                                  6|             W|                   7|             2015|             U|              7|                    C|      N|         null|                                                  null|                  R688|             380|             110|                   null|             36|                              02|            11R688|             12R54|              null|              null|              null|              null|              null|              null|              null|               null|               null|               null|               null|               null|               null|               null|               null|               null|               null|               null|                              02|              R688|               R54|              null|              null|              null|              null|              null|              null|              null|               null|               null|               null|               null|               null|               null|               null|               null|               null|               null|               null|  01|             null|                null|            1|            1|            100|                         6|\n",
            "|              1|                   null|                      2|                       1|            01|  M|              1|       056|                 null|           37|           17|           08|                null|                                  6|             M|                   7|             2015|             U|              7|                    C|      N|         null|                                                  null|                  C798|             125|             043|                   null|             15|                              03|            11C798|            61K769|            62F179|              null|              null|              null|              null|              null|              null|               null|               null|               null|               null|               null|               null|               null|               null|               null|               null|               null|                              03|              C798|              F179|              K769|              null|              null|              null|              null|              null|              null|               null|               null|               null|               null|               null|               null|               null|               null|               null|               null|               null|  01|             null|                null|            1|            1|            100|                         6|\n",
            "|              1|                   null|                      3|                       1|            01|  M|              1|       032|                 null|           32|           12|           05|                null|                                  1|             S|                   6|             2015|             N|              1|                    B|      N|            9|                                                     9|                  X599|             423|             123|                   null|             39|                              02|            11S099|            12X599|              null|              null|              null|              null|              null|              null|              null|               null|               null|               null|               null|               null|               null|               null|               null|               null|               null|               null|                              02|              X599|              S099|              null|              null|              null|              null|              null|              null|              null|               null|               null|               null|               null|               null|               null|               null|               null|               null|               null|               null|  03|             null|                null|            2|            3|            100|                         8|\n",
            "|              1|                   null|                      2|                       1|            01|  M|              1|       018|                 null|           29|           09|           04|                null|                                  7|             S|                   1|             2015|             N|              2|                    B|      N|            9|                                                     9|                   X70|             428|             126|                   null|             40|                              04|             11T71|             12X70|             21T71|             61T71|              null|              null|              null|              null|              null|               null|               null|               null|               null|               null|               null|               null|               null|               null|               null|               null|                              02|               X70|               T71|              null|              null|              null|              null|              null|              null|              null|               null|               null|               null|               null|               null|               null|               null|               null|               null|               null|               null|  03|             null|                null|            2|            3|            100|                         8|\n",
            "|              1|                   null|                      3|                       1|            01|  M|              1|       048|                 null|           35|           15|           07|                null|                                  4|             M|                   7|             2015|             N|              2|                    C|      N|            9|                                                     0|                   X72|             429|             125|                   null|             40|                              04|            11S069|            21S019|             22X72|            61S015|              null|              null|              null|              null|              null|               null|               null|               null|               null|               null|               null|               null|               null|               null|               null|               null|                              04|               X72|              S015|              S019|              S069|              null|              null|              null|              null|              null|               null|               null|               null|               null|               null|               null|               null|               null|               null|               null|               null|  01|             null|                null|            1|            1|            100|                         6|\n",
            "|              1|                   null|                      4|                       1|            01|  F|              1|       079|                 null|           41|           21|           10|                null|                                  6|             W|                   5|             2015|             U|              7|                    C|      N|         null|                                                  null|                   I64|             238|             070|                   null|             24|                              02|             11I64|             21R13|              null|              null|              null|              null|              null|              null|              null|               null|               null|               null|               null|               null|               null|               null|               null|               null|               null|               null|                              02|               I64|               R13|              null|              null|              null|              null|              null|              null|              null|               null|               null|               null|               null|               null|               null|               null|               null|               null|               null|               null|  03|                1|                null|            2|            3|            100|                         8|\n",
            "|              1|                   null|                      6|                       1|            01|  M|              1|       085|                 null|           43|           23|           11|                null|                                  6|             W|                   6|             2015|             U|              7|                    C|      N|         null|                                                  null|                   I64|             238|             070|                   null|             24|                              03|            11J189|             61G20|             62I64|              null|              null|              null|              null|              null|              null|               null|               null|               null|               null|               null|               null|               null|               null|               null|               null|               null|                              03|               I64|               G20|              J189|              null|              null|              null|              null|              null|              null|               null|               null|               null|               null|               null|               null|               null|               null|               null|               null|               null|  01|             null|                null|            1|            1|            100|                         6|\n",
            "+---------------+-----------------------+-----------------------+------------------------+--------------+---+---------------+----------+---------------------+-------------+-------------+-------------+--------------------+-----------------------------------+--------------+--------------------+-----------------+--------------+---------------+---------------------+-------+-------------+------------------------------------------------------+----------------------+----------------+----------------+-----------------------+---------------+--------------------------------+------------------+------------------+------------------+------------------+------------------+------------------+------------------+------------------+------------------+-------------------+-------------------+-------------------+-------------------+-------------------+-------------------+-------------------+-------------------+-------------------+-------------------+-------------------+--------------------------------+------------------+------------------+------------------+------------------+------------------+------------------+------------------+------------------+------------------+-------------------+-------------------+-------------------+-------------------+-------------------+-------------------+-------------------+-------------------+-------------------+-------------------+-------------------+----+-----------------+--------------------+-------------+-------------+---------------+--------------------------+\n",
            "only showing top 20 rows\n",
            "\n"
          ],
          "name": "stdout"
        }
      ]
    },
    {
      "cell_type": "code",
      "metadata": {
        "id": "Myo-TfkDldHU"
      },
      "source": [
        "#removing unneded columns\n",
        "\n",
        "death_2015_clean = death_2015.drop(\"education_1989_revision\",\"education_reporting_flag\",\"age_substitution_flag\",\"age_recode_52\",\"age_recode_27\",\"age_recode_12\", \"infant_age_recode_22\",\n",
        "\"place_of_death_and_decedents_status\",\"method_of_disposition\",\"autopsy\", \"activity_code\", \"place_of_injury_for_causes_w00_y34_except_y06_and_y07_\", \"358_cause_recode\", \"113_cause_recode\",\n",
        "\"130_infant_cause_recode\", \"39_cause_recode\", \"bridged_race_flag\", \"race_imputation_flag\", \"race_recode_3\", \"race_recode_5\", \"hispanic_origin\")"
      ],
      "execution_count": 13,
      "outputs": []
    },
    {
      "cell_type": "code",
      "metadata": {
        "colab": {
          "base_uri": "https://localhost:8080/"
        },
        "id": "-gYmG2FFIP0u",
        "outputId": "da2e9398-ac83-4165-8a4c-2c4386882cf0"
      },
      "source": [
        "death_2015_clean.show()"
      ],
      "execution_count": 14,
      "outputs": [
        {
          "output_type": "stream",
          "text": [
            "+---------------+-----------------------+--------------+---+---------------+----------+--------------+--------------------+-----------------+--------------+---------------+----------------------+--------------------------------+------------------+------------------+------------------+------------------+------------------+------------------+------------------+------------------+------------------+-------------------+-------------------+-------------------+-------------------+-------------------+-------------------+-------------------+-------------------+-------------------+-------------------+-------------------+--------------------------------+------------------+------------------+------------------+------------------+------------------+------------------+------------------+------------------+------------------+-------------------+-------------------+-------------------+-------------------+-------------------+-------------------+-------------------+-------------------+-------------------+-------------------+-------------------+----+--------------------------+\n",
            "|resident_status|education_2003_revision|month_of_death|sex|detail_age_type|detail_age|marital_status|day_of_week_of_death|current_data_year|injury_at_work|manner_of_death|icd_code_10th_revision|number_of_entity_axis_conditions|entity_condition_1|entity_condition_2|entity_condition_3|entity_condition_4|entity_condition_5|entity_condition_6|entity_condition_7|entity_condition_8|entity_condition_9|entity_condition_10|entity_condition_11|entity_condition_12|entity_condition_13|entity_condition_14|entity_condition_15|entity_condition_16|entity_condition_17|entity_condition_18|entity_condition_19|entity_condition_20|number_of_record_axis_conditions|record_condition_1|record_condition_2|record_condition_3|record_condition_4|record_condition_5|record_condition_6|record_condition_7|record_condition_8|record_condition_9|record_condition_10|record_condition_11|record_condition_12|record_condition_13|record_condition_14|record_condition_15|record_condition_16|record_condition_17|record_condition_18|record_condition_19|record_condition_20|race|hispanic_originrace_recode|\n",
            "+---------------+-----------------------+--------------+---+---------------+----------+--------------+--------------------+-----------------+--------------+---------------+----------------------+--------------------------------+------------------+------------------+------------------+------------------+------------------+------------------+------------------+------------------+------------------+-------------------+-------------------+-------------------+-------------------+-------------------+-------------------+-------------------+-------------------+-------------------+-------------------+-------------------+--------------------------------+------------------+------------------+------------------+------------------+------------------+------------------+------------------+------------------+------------------+-------------------+-------------------+-------------------+-------------------+-------------------+-------------------+-------------------+-------------------+-------------------+-------------------+-------------------+----+--------------------------+\n",
            "|              1|                      3|            01|  M|              1|       084|             M|                   1|             2015|             U|              7|                  I500|                              02|            11I500|            61L031|              null|              null|              null|              null|              null|              null|              null|               null|               null|               null|               null|               null|               null|               null|               null|               null|               null|               null|                              02|              I500|              L031|              null|              null|              null|              null|              null|              null|              null|               null|               null|               null|               null|               null|               null|               null|               null|               null|               null|               null|  01|                         6|\n",
            "|              1|                      6|            01|  M|              1|       070|             M|                   2|             2015|             U|              7|                  C349|                              08|            11I469|            21R042|            31C349|            41J189|             42J90|            61J449|            62I251|            63F179|              null|               null|               null|               null|               null|               null|               null|               null|               null|               null|               null|               null|                              07|              C349|              F179|              I251|              I469|              J440|               J90|              R042|              null|              null|               null|               null|               null|               null|               null|               null|               null|               null|               null|               null|               null|  01|                         6|\n",
            "|              1|                      3|            01|  F|              1|       091|             W|                   6|             2015|             U|              7|                  G309|                              01|            11G309|              null|              null|              null|              null|              null|              null|              null|              null|               null|               null|               null|               null|               null|               null|               null|               null|               null|               null|               null|                              01|              G309|              null|              null|              null|              null|              null|              null|              null|              null|               null|               null|               null|               null|               null|               null|               null|               null|               null|               null|               null|  01|                         6|\n",
            "|              1|                      3|            01|  F|              1|       040|             S|                   5|             2015|             N|              3|                   X91|                              06|             11T71|             12X91|             21T71|            61T149|            62S223|            63S299|              null|              null|              null|               null|               null|               null|               null|               null|               null|               null|               null|               null|               null|               null|                              05|               X91|              S223|              S299|              T149|               T71|              null|              null|              null|              null|               null|               null|               null|               null|               null|               null|               null|               null|               null|               null|               null|  03|                         8|\n",
            "|              1|                      5|            01|  F|              1|       089|             W|                   5|             2015|             U|              7|                  I250|                              03|            11I250|            21S720|            61X590|              null|              null|              null|              null|              null|              null|               null|               null|               null|               null|               null|               null|               null|               null|               null|               null|               null|                              03|              I250|              S720|              X590|              null|              null|              null|              null|              null|              null|               null|               null|               null|               null|               null|               null|               null|               null|               null|               null|               null|  01|                         6|\n",
            "|              1|                      6|            01|  M|              1|       078|             W|                   6|             2015|             U|              7|                  I516|                              04|            11I499|            21I516|            61E780|            62F179|              null|              null|              null|              null|              null|               null|               null|               null|               null|               null|               null|               null|               null|               null|               null|               null|                              04|              I516|              E780|              F179|              I499|              null|              null|              null|              null|              null|               null|               null|               null|               null|               null|               null|               null|               null|               null|               null|               null|  03|                         8|\n",
            "|              1|                      4|            01|  M|              1|       092|             W|                   1|             2015|             U|              7|                  E274|                              01|            11E274|              null|              null|              null|              null|              null|              null|              null|              null|               null|               null|               null|               null|               null|               null|               null|               null|               null|               null|               null|                              01|              E274|              null|              null|              null|              null|              null|              null|              null|              null|               null|               null|               null|               null|               null|               null|               null|               null|               null|               null|               null|  01|                         6|\n",
            "|              1|                      3|            01|  M|              1|       082|             M|                   1|             2015|             U|              7|                  I500|                              01|            11I500|              null|              null|              null|              null|              null|              null|              null|              null|               null|               null|               null|               null|               null|               null|               null|               null|               null|               null|               null|                              01|              I500|              null|              null|              null|              null|              null|              null|              null|              null|               null|               null|               null|               null|               null|               null|               null|               null|               null|               null|               null|  01|                         6|\n",
            "|              1|                      3|            01|  F|              1|       089|             W|                   1|             2015|             U|              7|                  I350|                              02|            11I500|            21I350|              null|              null|              null|              null|              null|              null|              null|               null|               null|               null|               null|               null|               null|               null|               null|               null|               null|               null|                              02|              I350|              I500|              null|              null|              null|              null|              null|              null|              null|               null|               null|               null|               null|               null|               null|               null|               null|               null|               null|               null|  01|                         6|\n",
            "|              1|                      9|            01|  F|              1|       093|             W|                   7|             2015|             U|              7|                   W19|                              06|            11T142|             21W19|            31R688|            41I694|             61F03|            62E039|              null|              null|              null|               null|               null|               null|               null|               null|               null|               null|               null|               null|               null|               null|                              06|               W19|              E039|               F03|              I694|              R688|              T142|              null|              null|              null|               null|               null|               null|               null|               null|               null|               null|               null|               null|               null|               null|  01|                         6|\n",
            "|              1|                      6|            01|  F|              1|       084|             M|                   1|             2015|             U|              7|                   I48|                              04|            11J189|             21I48|             61I64|             62G20|              null|              null|              null|              null|              null|               null|               null|               null|               null|               null|               null|               null|               null|               null|               null|               null|                              04|               I48|               G20|               I64|              J189|              null|              null|              null|              null|              null|               null|               null|               null|               null|               null|               null|               null|               null|               null|               null|               null|  01|                         6|\n",
            "|              1|                      3|            01|  F|              1|       084|             M|                   1|             2015|             U|              7|                  G309|                              02|            11G309|            61I500|              null|              null|              null|              null|              null|              null|              null|               null|               null|               null|               null|               null|               null|               null|               null|               null|               null|               null|                              02|              G309|              I500|              null|              null|              null|              null|              null|              null|              null|               null|               null|               null|               null|               null|               null|               null|               null|               null|               null|               null|  01|                         6|\n",
            "|              1|                      3|            01|  F|              1|       067|             M|                   2|             2015|             U|              7|                  I219|                              03|            11I219|            21I251|             61N19|              null|              null|              null|              null|              null|              null|               null|               null|               null|               null|               null|               null|               null|               null|               null|               null|               null|                              03|              I219|              I251|               N19|              null|              null|              null|              null|              null|              null|               null|               null|               null|               null|               null|               null|               null|               null|               null|               null|               null|  01|                         6|\n",
            "|              1|                      6|            01|  M|              1|       094|             W|                   7|             2015|             U|              7|                  R688|                              02|            11R688|             12R54|              null|              null|              null|              null|              null|              null|              null|               null|               null|               null|               null|               null|               null|               null|               null|               null|               null|               null|                              02|              R688|               R54|              null|              null|              null|              null|              null|              null|              null|               null|               null|               null|               null|               null|               null|               null|               null|               null|               null|               null|  01|                         6|\n",
            "|              1|                      2|            01|  M|              1|       056|             M|                   7|             2015|             U|              7|                  C798|                              03|            11C798|            61K769|            62F179|              null|              null|              null|              null|              null|              null|               null|               null|               null|               null|               null|               null|               null|               null|               null|               null|               null|                              03|              C798|              F179|              K769|              null|              null|              null|              null|              null|              null|               null|               null|               null|               null|               null|               null|               null|               null|               null|               null|               null|  01|                         6|\n",
            "|              1|                      3|            01|  M|              1|       032|             S|                   6|             2015|             N|              1|                  X599|                              02|            11S099|            12X599|              null|              null|              null|              null|              null|              null|              null|               null|               null|               null|               null|               null|               null|               null|               null|               null|               null|               null|                              02|              X599|              S099|              null|              null|              null|              null|              null|              null|              null|               null|               null|               null|               null|               null|               null|               null|               null|               null|               null|               null|  03|                         8|\n",
            "|              1|                      2|            01|  M|              1|       018|             S|                   1|             2015|             N|              2|                   X70|                              04|             11T71|             12X70|             21T71|             61T71|              null|              null|              null|              null|              null|               null|               null|               null|               null|               null|               null|               null|               null|               null|               null|               null|                              02|               X70|               T71|              null|              null|              null|              null|              null|              null|              null|               null|               null|               null|               null|               null|               null|               null|               null|               null|               null|               null|  03|                         8|\n",
            "|              1|                      3|            01|  M|              1|       048|             M|                   7|             2015|             N|              2|                   X72|                              04|            11S069|            21S019|             22X72|            61S015|              null|              null|              null|              null|              null|               null|               null|               null|               null|               null|               null|               null|               null|               null|               null|               null|                              04|               X72|              S015|              S019|              S069|              null|              null|              null|              null|              null|               null|               null|               null|               null|               null|               null|               null|               null|               null|               null|               null|  01|                         6|\n",
            "|              1|                      4|            01|  F|              1|       079|             W|                   5|             2015|             U|              7|                   I64|                              02|             11I64|             21R13|              null|              null|              null|              null|              null|              null|              null|               null|               null|               null|               null|               null|               null|               null|               null|               null|               null|               null|                              02|               I64|               R13|              null|              null|              null|              null|              null|              null|              null|               null|               null|               null|               null|               null|               null|               null|               null|               null|               null|               null|  03|                         8|\n",
            "|              1|                      6|            01|  M|              1|       085|             W|                   6|             2015|             U|              7|                   I64|                              03|            11J189|             61G20|             62I64|              null|              null|              null|              null|              null|              null|               null|               null|               null|               null|               null|               null|               null|               null|               null|               null|               null|                              03|               I64|               G20|              J189|              null|              null|              null|              null|              null|              null|               null|               null|               null|               null|               null|               null|               null|               null|               null|               null|               null|  01|                         6|\n",
            "+---------------+-----------------------+--------------+---+---------------+----------+--------------+--------------------+-----------------+--------------+---------------+----------------------+--------------------------------+------------------+------------------+------------------+------------------+------------------+------------------+------------------+------------------+------------------+-------------------+-------------------+-------------------+-------------------+-------------------+-------------------+-------------------+-------------------+-------------------+-------------------+-------------------+--------------------------------+------------------+------------------+------------------+------------------+------------------+------------------+------------------+------------------+------------------+-------------------+-------------------+-------------------+-------------------+-------------------+-------------------+-------------------+-------------------+-------------------+-------------------+-------------------+----+--------------------------+\n",
            "only showing top 20 rows\n",
            "\n"
          ],
          "name": "stdout"
        }
      ]
    },
    {
      "cell_type": "code",
      "metadata": {
        "colab": {
          "base_uri": "https://localhost:8080/"
        },
        "id": "Abvj8uS9IVu0",
        "outputId": "82593e81-6c99-41db-fa4b-57a429810656"
      },
      "source": [
        "#removing any individual under the age of one due to how their recorded in the data per the documentation\n",
        "#for any subject where \"detail_age_type\" = 1, the detail_age is the age in years, but \"detail_age_type\" = 2 through 9, age is months(2), days(4), hours(5), minutes(6), or not stated (9)\n",
        "\n",
        "death_2015_clean_adults = death_2015_clean.filter((death_2015_clean.detail_age_type == 1))\n",
        "death_2015_clean_adults.show()"
      ],
      "execution_count": 20,
      "outputs": [
        {
          "output_type": "stream",
          "text": [
            "+---------------+-----------------------+--------------+---+---------------+----------+--------------+--------------------+-----------------+--------------+---------------+----------------------+--------------------------------+------------------+------------------+------------------+------------------+------------------+------------------+------------------+------------------+------------------+-------------------+-------------------+-------------------+-------------------+-------------------+-------------------+-------------------+-------------------+-------------------+-------------------+-------------------+--------------------------------+------------------+------------------+------------------+------------------+------------------+------------------+------------------+------------------+------------------+-------------------+-------------------+-------------------+-------------------+-------------------+-------------------+-------------------+-------------------+-------------------+-------------------+-------------------+----+--------------------------+\n",
            "|resident_status|education_2003_revision|month_of_death|sex|detail_age_type|detail_age|marital_status|day_of_week_of_death|current_data_year|injury_at_work|manner_of_death|icd_code_10th_revision|number_of_entity_axis_conditions|entity_condition_1|entity_condition_2|entity_condition_3|entity_condition_4|entity_condition_5|entity_condition_6|entity_condition_7|entity_condition_8|entity_condition_9|entity_condition_10|entity_condition_11|entity_condition_12|entity_condition_13|entity_condition_14|entity_condition_15|entity_condition_16|entity_condition_17|entity_condition_18|entity_condition_19|entity_condition_20|number_of_record_axis_conditions|record_condition_1|record_condition_2|record_condition_3|record_condition_4|record_condition_5|record_condition_6|record_condition_7|record_condition_8|record_condition_9|record_condition_10|record_condition_11|record_condition_12|record_condition_13|record_condition_14|record_condition_15|record_condition_16|record_condition_17|record_condition_18|record_condition_19|record_condition_20|race|hispanic_originrace_recode|\n",
            "+---------------+-----------------------+--------------+---+---------------+----------+--------------+--------------------+-----------------+--------------+---------------+----------------------+--------------------------------+------------------+------------------+------------------+------------------+------------------+------------------+------------------+------------------+------------------+-------------------+-------------------+-------------------+-------------------+-------------------+-------------------+-------------------+-------------------+-------------------+-------------------+-------------------+--------------------------------+------------------+------------------+------------------+------------------+------------------+------------------+------------------+------------------+------------------+-------------------+-------------------+-------------------+-------------------+-------------------+-------------------+-------------------+-------------------+-------------------+-------------------+-------------------+----+--------------------------+\n",
            "|              1|                      3|            01|  M|              1|       084|             M|                   1|             2015|             U|              7|                  I500|                              02|            11I500|            61L031|              null|              null|              null|              null|              null|              null|              null|               null|               null|               null|               null|               null|               null|               null|               null|               null|               null|               null|                              02|              I500|              L031|              null|              null|              null|              null|              null|              null|              null|               null|               null|               null|               null|               null|               null|               null|               null|               null|               null|               null|  01|                         6|\n",
            "|              1|                      6|            01|  M|              1|       070|             M|                   2|             2015|             U|              7|                  C349|                              08|            11I469|            21R042|            31C349|            41J189|             42J90|            61J449|            62I251|            63F179|              null|               null|               null|               null|               null|               null|               null|               null|               null|               null|               null|               null|                              07|              C349|              F179|              I251|              I469|              J440|               J90|              R042|              null|              null|               null|               null|               null|               null|               null|               null|               null|               null|               null|               null|               null|  01|                         6|\n",
            "|              1|                      3|            01|  F|              1|       091|             W|                   6|             2015|             U|              7|                  G309|                              01|            11G309|              null|              null|              null|              null|              null|              null|              null|              null|               null|               null|               null|               null|               null|               null|               null|               null|               null|               null|               null|                              01|              G309|              null|              null|              null|              null|              null|              null|              null|              null|               null|               null|               null|               null|               null|               null|               null|               null|               null|               null|               null|  01|                         6|\n",
            "|              1|                      3|            01|  F|              1|       040|             S|                   5|             2015|             N|              3|                   X91|                              06|             11T71|             12X91|             21T71|            61T149|            62S223|            63S299|              null|              null|              null|               null|               null|               null|               null|               null|               null|               null|               null|               null|               null|               null|                              05|               X91|              S223|              S299|              T149|               T71|              null|              null|              null|              null|               null|               null|               null|               null|               null|               null|               null|               null|               null|               null|               null|  03|                         8|\n",
            "|              1|                      5|            01|  F|              1|       089|             W|                   5|             2015|             U|              7|                  I250|                              03|            11I250|            21S720|            61X590|              null|              null|              null|              null|              null|              null|               null|               null|               null|               null|               null|               null|               null|               null|               null|               null|               null|                              03|              I250|              S720|              X590|              null|              null|              null|              null|              null|              null|               null|               null|               null|               null|               null|               null|               null|               null|               null|               null|               null|  01|                         6|\n",
            "|              1|                      6|            01|  M|              1|       078|             W|                   6|             2015|             U|              7|                  I516|                              04|            11I499|            21I516|            61E780|            62F179|              null|              null|              null|              null|              null|               null|               null|               null|               null|               null|               null|               null|               null|               null|               null|               null|                              04|              I516|              E780|              F179|              I499|              null|              null|              null|              null|              null|               null|               null|               null|               null|               null|               null|               null|               null|               null|               null|               null|  03|                         8|\n",
            "|              1|                      4|            01|  M|              1|       092|             W|                   1|             2015|             U|              7|                  E274|                              01|            11E274|              null|              null|              null|              null|              null|              null|              null|              null|               null|               null|               null|               null|               null|               null|               null|               null|               null|               null|               null|                              01|              E274|              null|              null|              null|              null|              null|              null|              null|              null|               null|               null|               null|               null|               null|               null|               null|               null|               null|               null|               null|  01|                         6|\n",
            "|              1|                      3|            01|  M|              1|       082|             M|                   1|             2015|             U|              7|                  I500|                              01|            11I500|              null|              null|              null|              null|              null|              null|              null|              null|               null|               null|               null|               null|               null|               null|               null|               null|               null|               null|               null|                              01|              I500|              null|              null|              null|              null|              null|              null|              null|              null|               null|               null|               null|               null|               null|               null|               null|               null|               null|               null|               null|  01|                         6|\n",
            "|              1|                      3|            01|  F|              1|       089|             W|                   1|             2015|             U|              7|                  I350|                              02|            11I500|            21I350|              null|              null|              null|              null|              null|              null|              null|               null|               null|               null|               null|               null|               null|               null|               null|               null|               null|               null|                              02|              I350|              I500|              null|              null|              null|              null|              null|              null|              null|               null|               null|               null|               null|               null|               null|               null|               null|               null|               null|               null|  01|                         6|\n",
            "|              1|                      9|            01|  F|              1|       093|             W|                   7|             2015|             U|              7|                   W19|                              06|            11T142|             21W19|            31R688|            41I694|             61F03|            62E039|              null|              null|              null|               null|               null|               null|               null|               null|               null|               null|               null|               null|               null|               null|                              06|               W19|              E039|               F03|              I694|              R688|              T142|              null|              null|              null|               null|               null|               null|               null|               null|               null|               null|               null|               null|               null|               null|  01|                         6|\n",
            "|              1|                      6|            01|  F|              1|       084|             M|                   1|             2015|             U|              7|                   I48|                              04|            11J189|             21I48|             61I64|             62G20|              null|              null|              null|              null|              null|               null|               null|               null|               null|               null|               null|               null|               null|               null|               null|               null|                              04|               I48|               G20|               I64|              J189|              null|              null|              null|              null|              null|               null|               null|               null|               null|               null|               null|               null|               null|               null|               null|               null|  01|                         6|\n",
            "|              1|                      3|            01|  F|              1|       084|             M|                   1|             2015|             U|              7|                  G309|                              02|            11G309|            61I500|              null|              null|              null|              null|              null|              null|              null|               null|               null|               null|               null|               null|               null|               null|               null|               null|               null|               null|                              02|              G309|              I500|              null|              null|              null|              null|              null|              null|              null|               null|               null|               null|               null|               null|               null|               null|               null|               null|               null|               null|  01|                         6|\n",
            "|              1|                      3|            01|  F|              1|       067|             M|                   2|             2015|             U|              7|                  I219|                              03|            11I219|            21I251|             61N19|              null|              null|              null|              null|              null|              null|               null|               null|               null|               null|               null|               null|               null|               null|               null|               null|               null|                              03|              I219|              I251|               N19|              null|              null|              null|              null|              null|              null|               null|               null|               null|               null|               null|               null|               null|               null|               null|               null|               null|  01|                         6|\n",
            "|              1|                      6|            01|  M|              1|       094|             W|                   7|             2015|             U|              7|                  R688|                              02|            11R688|             12R54|              null|              null|              null|              null|              null|              null|              null|               null|               null|               null|               null|               null|               null|               null|               null|               null|               null|               null|                              02|              R688|               R54|              null|              null|              null|              null|              null|              null|              null|               null|               null|               null|               null|               null|               null|               null|               null|               null|               null|               null|  01|                         6|\n",
            "|              1|                      2|            01|  M|              1|       056|             M|                   7|             2015|             U|              7|                  C798|                              03|            11C798|            61K769|            62F179|              null|              null|              null|              null|              null|              null|               null|               null|               null|               null|               null|               null|               null|               null|               null|               null|               null|                              03|              C798|              F179|              K769|              null|              null|              null|              null|              null|              null|               null|               null|               null|               null|               null|               null|               null|               null|               null|               null|               null|  01|                         6|\n",
            "|              1|                      3|            01|  M|              1|       032|             S|                   6|             2015|             N|              1|                  X599|                              02|            11S099|            12X599|              null|              null|              null|              null|              null|              null|              null|               null|               null|               null|               null|               null|               null|               null|               null|               null|               null|               null|                              02|              X599|              S099|              null|              null|              null|              null|              null|              null|              null|               null|               null|               null|               null|               null|               null|               null|               null|               null|               null|               null|  03|                         8|\n",
            "|              1|                      2|            01|  M|              1|       018|             S|                   1|             2015|             N|              2|                   X70|                              04|             11T71|             12X70|             21T71|             61T71|              null|              null|              null|              null|              null|               null|               null|               null|               null|               null|               null|               null|               null|               null|               null|               null|                              02|               X70|               T71|              null|              null|              null|              null|              null|              null|              null|               null|               null|               null|               null|               null|               null|               null|               null|               null|               null|               null|  03|                         8|\n",
            "|              1|                      3|            01|  M|              1|       048|             M|                   7|             2015|             N|              2|                   X72|                              04|            11S069|            21S019|             22X72|            61S015|              null|              null|              null|              null|              null|               null|               null|               null|               null|               null|               null|               null|               null|               null|               null|               null|                              04|               X72|              S015|              S019|              S069|              null|              null|              null|              null|              null|               null|               null|               null|               null|               null|               null|               null|               null|               null|               null|               null|  01|                         6|\n",
            "|              1|                      4|            01|  F|              1|       079|             W|                   5|             2015|             U|              7|                   I64|                              02|             11I64|             21R13|              null|              null|              null|              null|              null|              null|              null|               null|               null|               null|               null|               null|               null|               null|               null|               null|               null|               null|                              02|               I64|               R13|              null|              null|              null|              null|              null|              null|              null|               null|               null|               null|               null|               null|               null|               null|               null|               null|               null|               null|  03|                         8|\n",
            "|              1|                      6|            01|  M|              1|       085|             W|                   6|             2015|             U|              7|                   I64|                              03|            11J189|             61G20|             62I64|              null|              null|              null|              null|              null|              null|               null|               null|               null|               null|               null|               null|               null|               null|               null|               null|               null|                              03|               I64|               G20|              J189|              null|              null|              null|              null|              null|              null|               null|               null|               null|               null|               null|               null|               null|               null|               null|               null|               null|  01|                         6|\n",
            "+---------------+-----------------------+--------------+---+---------------+----------+--------------+--------------------+-----------------+--------------+---------------+----------------------+--------------------------------+------------------+------------------+------------------+------------------+------------------+------------------+------------------+------------------+------------------+-------------------+-------------------+-------------------+-------------------+-------------------+-------------------+-------------------+-------------------+-------------------+-------------------+-------------------+--------------------------------+------------------+------------------+------------------+------------------+------------------+------------------+------------------+------------------+------------------+-------------------+-------------------+-------------------+-------------------+-------------------+-------------------+-------------------+-------------------+-------------------+-------------------+-------------------+----+--------------------------+\n",
            "only showing top 20 rows\n",
            "\n"
          ],
          "name": "stdout"
        }
      ]
    },
    {
      "cell_type": "code",
      "metadata": {
        "colab": {
          "base_uri": "https://localhost:8080/"
        },
        "id": "K-GgqdceGAko",
        "outputId": "79ea9ba7-33fe-46dd-9912-9008f654184e"
      },
      "source": [
        "#removing anyone under the age of 1, and then removing the \"detail_age_type\" category as it will no longer be needed\n",
        "death_2015_adults = death_2015_clean_adults.drop(\"detail_age_type\")\n",
        "death_2015_adults.show()"
      ],
      "execution_count": 24,
      "outputs": [
        {
          "output_type": "stream",
          "text": [
            "+---------------+-----------------------+--------------+---+----------+--------------+--------------------+-----------------+--------------+---------------+----------------------+--------------------------------+------------------+------------------+------------------+------------------+------------------+------------------+------------------+------------------+------------------+-------------------+-------------------+-------------------+-------------------+-------------------+-------------------+-------------------+-------------------+-------------------+-------------------+-------------------+--------------------------------+------------------+------------------+------------------+------------------+------------------+------------------+------------------+------------------+------------------+-------------------+-------------------+-------------------+-------------------+-------------------+-------------------+-------------------+-------------------+-------------------+-------------------+-------------------+----+--------------------------+\n",
            "|resident_status|education_2003_revision|month_of_death|sex|detail_age|marital_status|day_of_week_of_death|current_data_year|injury_at_work|manner_of_death|icd_code_10th_revision|number_of_entity_axis_conditions|entity_condition_1|entity_condition_2|entity_condition_3|entity_condition_4|entity_condition_5|entity_condition_6|entity_condition_7|entity_condition_8|entity_condition_9|entity_condition_10|entity_condition_11|entity_condition_12|entity_condition_13|entity_condition_14|entity_condition_15|entity_condition_16|entity_condition_17|entity_condition_18|entity_condition_19|entity_condition_20|number_of_record_axis_conditions|record_condition_1|record_condition_2|record_condition_3|record_condition_4|record_condition_5|record_condition_6|record_condition_7|record_condition_8|record_condition_9|record_condition_10|record_condition_11|record_condition_12|record_condition_13|record_condition_14|record_condition_15|record_condition_16|record_condition_17|record_condition_18|record_condition_19|record_condition_20|race|hispanic_originrace_recode|\n",
            "+---------------+-----------------------+--------------+---+----------+--------------+--------------------+-----------------+--------------+---------------+----------------------+--------------------------------+------------------+------------------+------------------+------------------+------------------+------------------+------------------+------------------+------------------+-------------------+-------------------+-------------------+-------------------+-------------------+-------------------+-------------------+-------------------+-------------------+-------------------+-------------------+--------------------------------+------------------+------------------+------------------+------------------+------------------+------------------+------------------+------------------+------------------+-------------------+-------------------+-------------------+-------------------+-------------------+-------------------+-------------------+-------------------+-------------------+-------------------+-------------------+----+--------------------------+\n",
            "|              1|                      3|            01|  M|       084|             M|                   1|             2015|             U|              7|                  I500|                              02|            11I500|            61L031|              null|              null|              null|              null|              null|              null|              null|               null|               null|               null|               null|               null|               null|               null|               null|               null|               null|               null|                              02|              I500|              L031|              null|              null|              null|              null|              null|              null|              null|               null|               null|               null|               null|               null|               null|               null|               null|               null|               null|               null|  01|                         6|\n",
            "|              1|                      6|            01|  M|       070|             M|                   2|             2015|             U|              7|                  C349|                              08|            11I469|            21R042|            31C349|            41J189|             42J90|            61J449|            62I251|            63F179|              null|               null|               null|               null|               null|               null|               null|               null|               null|               null|               null|               null|                              07|              C349|              F179|              I251|              I469|              J440|               J90|              R042|              null|              null|               null|               null|               null|               null|               null|               null|               null|               null|               null|               null|               null|  01|                         6|\n",
            "|              1|                      3|            01|  F|       091|             W|                   6|             2015|             U|              7|                  G309|                              01|            11G309|              null|              null|              null|              null|              null|              null|              null|              null|               null|               null|               null|               null|               null|               null|               null|               null|               null|               null|               null|                              01|              G309|              null|              null|              null|              null|              null|              null|              null|              null|               null|               null|               null|               null|               null|               null|               null|               null|               null|               null|               null|  01|                         6|\n",
            "|              1|                      3|            01|  F|       040|             S|                   5|             2015|             N|              3|                   X91|                              06|             11T71|             12X91|             21T71|            61T149|            62S223|            63S299|              null|              null|              null|               null|               null|               null|               null|               null|               null|               null|               null|               null|               null|               null|                              05|               X91|              S223|              S299|              T149|               T71|              null|              null|              null|              null|               null|               null|               null|               null|               null|               null|               null|               null|               null|               null|               null|  03|                         8|\n",
            "|              1|                      5|            01|  F|       089|             W|                   5|             2015|             U|              7|                  I250|                              03|            11I250|            21S720|            61X590|              null|              null|              null|              null|              null|              null|               null|               null|               null|               null|               null|               null|               null|               null|               null|               null|               null|                              03|              I250|              S720|              X590|              null|              null|              null|              null|              null|              null|               null|               null|               null|               null|               null|               null|               null|               null|               null|               null|               null|  01|                         6|\n",
            "|              1|                      6|            01|  M|       078|             W|                   6|             2015|             U|              7|                  I516|                              04|            11I499|            21I516|            61E780|            62F179|              null|              null|              null|              null|              null|               null|               null|               null|               null|               null|               null|               null|               null|               null|               null|               null|                              04|              I516|              E780|              F179|              I499|              null|              null|              null|              null|              null|               null|               null|               null|               null|               null|               null|               null|               null|               null|               null|               null|  03|                         8|\n",
            "|              1|                      4|            01|  M|       092|             W|                   1|             2015|             U|              7|                  E274|                              01|            11E274|              null|              null|              null|              null|              null|              null|              null|              null|               null|               null|               null|               null|               null|               null|               null|               null|               null|               null|               null|                              01|              E274|              null|              null|              null|              null|              null|              null|              null|              null|               null|               null|               null|               null|               null|               null|               null|               null|               null|               null|               null|  01|                         6|\n",
            "|              1|                      3|            01|  M|       082|             M|                   1|             2015|             U|              7|                  I500|                              01|            11I500|              null|              null|              null|              null|              null|              null|              null|              null|               null|               null|               null|               null|               null|               null|               null|               null|               null|               null|               null|                              01|              I500|              null|              null|              null|              null|              null|              null|              null|              null|               null|               null|               null|               null|               null|               null|               null|               null|               null|               null|               null|  01|                         6|\n",
            "|              1|                      3|            01|  F|       089|             W|                   1|             2015|             U|              7|                  I350|                              02|            11I500|            21I350|              null|              null|              null|              null|              null|              null|              null|               null|               null|               null|               null|               null|               null|               null|               null|               null|               null|               null|                              02|              I350|              I500|              null|              null|              null|              null|              null|              null|              null|               null|               null|               null|               null|               null|               null|               null|               null|               null|               null|               null|  01|                         6|\n",
            "|              1|                      9|            01|  F|       093|             W|                   7|             2015|             U|              7|                   W19|                              06|            11T142|             21W19|            31R688|            41I694|             61F03|            62E039|              null|              null|              null|               null|               null|               null|               null|               null|               null|               null|               null|               null|               null|               null|                              06|               W19|              E039|               F03|              I694|              R688|              T142|              null|              null|              null|               null|               null|               null|               null|               null|               null|               null|               null|               null|               null|               null|  01|                         6|\n",
            "|              1|                      6|            01|  F|       084|             M|                   1|             2015|             U|              7|                   I48|                              04|            11J189|             21I48|             61I64|             62G20|              null|              null|              null|              null|              null|               null|               null|               null|               null|               null|               null|               null|               null|               null|               null|               null|                              04|               I48|               G20|               I64|              J189|              null|              null|              null|              null|              null|               null|               null|               null|               null|               null|               null|               null|               null|               null|               null|               null|  01|                         6|\n",
            "|              1|                      3|            01|  F|       084|             M|                   1|             2015|             U|              7|                  G309|                              02|            11G309|            61I500|              null|              null|              null|              null|              null|              null|              null|               null|               null|               null|               null|               null|               null|               null|               null|               null|               null|               null|                              02|              G309|              I500|              null|              null|              null|              null|              null|              null|              null|               null|               null|               null|               null|               null|               null|               null|               null|               null|               null|               null|  01|                         6|\n",
            "|              1|                      3|            01|  F|       067|             M|                   2|             2015|             U|              7|                  I219|                              03|            11I219|            21I251|             61N19|              null|              null|              null|              null|              null|              null|               null|               null|               null|               null|               null|               null|               null|               null|               null|               null|               null|                              03|              I219|              I251|               N19|              null|              null|              null|              null|              null|              null|               null|               null|               null|               null|               null|               null|               null|               null|               null|               null|               null|  01|                         6|\n",
            "|              1|                      6|            01|  M|       094|             W|                   7|             2015|             U|              7|                  R688|                              02|            11R688|             12R54|              null|              null|              null|              null|              null|              null|              null|               null|               null|               null|               null|               null|               null|               null|               null|               null|               null|               null|                              02|              R688|               R54|              null|              null|              null|              null|              null|              null|              null|               null|               null|               null|               null|               null|               null|               null|               null|               null|               null|               null|  01|                         6|\n",
            "|              1|                      2|            01|  M|       056|             M|                   7|             2015|             U|              7|                  C798|                              03|            11C798|            61K769|            62F179|              null|              null|              null|              null|              null|              null|               null|               null|               null|               null|               null|               null|               null|               null|               null|               null|               null|                              03|              C798|              F179|              K769|              null|              null|              null|              null|              null|              null|               null|               null|               null|               null|               null|               null|               null|               null|               null|               null|               null|  01|                         6|\n",
            "|              1|                      3|            01|  M|       032|             S|                   6|             2015|             N|              1|                  X599|                              02|            11S099|            12X599|              null|              null|              null|              null|              null|              null|              null|               null|               null|               null|               null|               null|               null|               null|               null|               null|               null|               null|                              02|              X599|              S099|              null|              null|              null|              null|              null|              null|              null|               null|               null|               null|               null|               null|               null|               null|               null|               null|               null|               null|  03|                         8|\n",
            "|              1|                      2|            01|  M|       018|             S|                   1|             2015|             N|              2|                   X70|                              04|             11T71|             12X70|             21T71|             61T71|              null|              null|              null|              null|              null|               null|               null|               null|               null|               null|               null|               null|               null|               null|               null|               null|                              02|               X70|               T71|              null|              null|              null|              null|              null|              null|              null|               null|               null|               null|               null|               null|               null|               null|               null|               null|               null|               null|  03|                         8|\n",
            "|              1|                      3|            01|  M|       048|             M|                   7|             2015|             N|              2|                   X72|                              04|            11S069|            21S019|             22X72|            61S015|              null|              null|              null|              null|              null|               null|               null|               null|               null|               null|               null|               null|               null|               null|               null|               null|                              04|               X72|              S015|              S019|              S069|              null|              null|              null|              null|              null|               null|               null|               null|               null|               null|               null|               null|               null|               null|               null|               null|  01|                         6|\n",
            "|              1|                      4|            01|  F|       079|             W|                   5|             2015|             U|              7|                   I64|                              02|             11I64|             21R13|              null|              null|              null|              null|              null|              null|              null|               null|               null|               null|               null|               null|               null|               null|               null|               null|               null|               null|                              02|               I64|               R13|              null|              null|              null|              null|              null|              null|              null|               null|               null|               null|               null|               null|               null|               null|               null|               null|               null|               null|  03|                         8|\n",
            "|              1|                      6|            01|  M|       085|             W|                   6|             2015|             U|              7|                   I64|                              03|            11J189|             61G20|             62I64|              null|              null|              null|              null|              null|              null|               null|               null|               null|               null|               null|               null|               null|               null|               null|               null|               null|                              03|               I64|               G20|              J189|              null|              null|              null|              null|              null|              null|               null|               null|               null|               null|               null|               null|               null|               null|               null|               null|               null|  01|                         6|\n",
            "+---------------+-----------------------+--------------+---+----------+--------------+--------------------+-----------------+--------------+---------------+----------------------+--------------------------------+------------------+------------------+------------------+------------------+------------------+------------------+------------------+------------------+------------------+-------------------+-------------------+-------------------+-------------------+-------------------+-------------------+-------------------+-------------------+-------------------+-------------------+-------------------+--------------------------------+------------------+------------------+------------------+------------------+------------------+------------------+------------------+------------------+------------------+-------------------+-------------------+-------------------+-------------------+-------------------+-------------------+-------------------+-------------------+-------------------+-------------------+-------------------+----+--------------------------+\n",
            "only showing top 20 rows\n",
            "\n"
          ],
          "name": "stdout"
        }
      ]
    },
    {
      "cell_type": "code",
      "metadata": {
        "colab": {
          "base_uri": "https://localhost:8080/"
        },
        "id": "PntbIpt1H38z",
        "outputId": "a10cb789-6e17-43e5-c01a-36e57eeb6d67"
      },
      "source": [
        "death_2015_adults.printSchema()"
      ],
      "execution_count": 28,
      "outputs": [
        {
          "output_type": "stream",
          "text": [
            "root\n",
            " |-- resident_status: string (nullable = true)\n",
            " |-- education_2003_revision: string (nullable = true)\n",
            " |-- month_of_death: string (nullable = true)\n",
            " |-- sex: string (nullable = true)\n",
            " |-- detail_age: string (nullable = true)\n",
            " |-- marital_status: string (nullable = true)\n",
            " |-- day_of_week_of_death: string (nullable = true)\n",
            " |-- current_data_year: string (nullable = true)\n",
            " |-- injury_at_work: string (nullable = true)\n",
            " |-- manner_of_death: string (nullable = true)\n",
            " |-- icd_code_10th_revision: string (nullable = true)\n",
            " |-- number_of_entity_axis_conditions: string (nullable = true)\n",
            " |-- entity_condition_1: string (nullable = true)\n",
            " |-- entity_condition_2: string (nullable = true)\n",
            " |-- entity_condition_3: string (nullable = true)\n",
            " |-- entity_condition_4: string (nullable = true)\n",
            " |-- entity_condition_5: string (nullable = true)\n",
            " |-- entity_condition_6: string (nullable = true)\n",
            " |-- entity_condition_7: string (nullable = true)\n",
            " |-- entity_condition_8: string (nullable = true)\n",
            " |-- entity_condition_9: string (nullable = true)\n",
            " |-- entity_condition_10: string (nullable = true)\n",
            " |-- entity_condition_11: string (nullable = true)\n",
            " |-- entity_condition_12: string (nullable = true)\n",
            " |-- entity_condition_13: string (nullable = true)\n",
            " |-- entity_condition_14: string (nullable = true)\n",
            " |-- entity_condition_15: string (nullable = true)\n",
            " |-- entity_condition_16: string (nullable = true)\n",
            " |-- entity_condition_17: string (nullable = true)\n",
            " |-- entity_condition_18: string (nullable = true)\n",
            " |-- entity_condition_19: string (nullable = true)\n",
            " |-- entity_condition_20: string (nullable = true)\n",
            " |-- number_of_record_axis_conditions: string (nullable = true)\n",
            " |-- record_condition_1: string (nullable = true)\n",
            " |-- record_condition_2: string (nullable = true)\n",
            " |-- record_condition_3: string (nullable = true)\n",
            " |-- record_condition_4: string (nullable = true)\n",
            " |-- record_condition_5: string (nullable = true)\n",
            " |-- record_condition_6: string (nullable = true)\n",
            " |-- record_condition_7: string (nullable = true)\n",
            " |-- record_condition_8: string (nullable = true)\n",
            " |-- record_condition_9: string (nullable = true)\n",
            " |-- record_condition_10: string (nullable = true)\n",
            " |-- record_condition_11: string (nullable = true)\n",
            " |-- record_condition_12: string (nullable = true)\n",
            " |-- record_condition_13: string (nullable = true)\n",
            " |-- record_condition_14: string (nullable = true)\n",
            " |-- record_condition_15: string (nullable = true)\n",
            " |-- record_condition_16: string (nullable = true)\n",
            " |-- record_condition_17: string (nullable = true)\n",
            " |-- record_condition_18: string (nullable = true)\n",
            " |-- record_condition_19: string (nullable = true)\n",
            " |-- record_condition_20: string (nullable = true)\n",
            " |-- race: string (nullable = true)\n",
            " |-- hispanic_originrace_recode: string (nullable = true)\n",
            "\n"
          ],
          "name": "stdout"
        }
      ]
    },
    {
      "cell_type": "code",
      "metadata": {
        "colab": {
          "base_uri": "https://localhost:8080/"
        },
        "id": "BIkB43sOJuZW",
        "outputId": "78d1b9ec-6648-4821-fd46-0c2e9bfe7b0a"
      },
      "source": [
        "death_2015_adults.count()"
      ],
      "execution_count": 34,
      "outputs": [
        {
          "output_type": "execute_result",
          "data": {
            "text/plain": [
              "2694400"
            ]
          },
          "metadata": {
            "tags": []
          },
          "execution_count": 34
        }
      ]
    },
    {
      "cell_type": "code",
      "metadata": {
        "id": "IQH-AQIcJu-z"
      },
      "source": [
        ""
      ],
      "execution_count": 47,
      "outputs": []
    },
    {
      "cell_type": "code",
      "metadata": {
        "id": "nN5kDFf-JvPC"
      },
      "source": [
        ""
      ],
      "execution_count": null,
      "outputs": []
    },
    {
      "cell_type": "code",
      "metadata": {
        "colab": {
          "base_uri": "https://localhost:8080/"
        },
        "id": "3lyN6mtwIdJO",
        "outputId": "de18b19b-daf1-47c7-c18d-8932e26b53cf"
      },
      "source": [
        "from pyspark.sql.functions import col\n",
        "from pyspark.sql.types import IntegerType\n",
        "death_2015_update = death_2015_adults.withColumn(\"number_of_entity_axis_conditions\",col(\"number_of_entity_axis_conditions\").cast(\"integer\")).withColumn(\"number_of_record_axis_conditions\",col(\"number_of_record_axis_conditions\").cast(\"integer\"))\n",
        "death_2015_update.printSchema()"
      ],
      "execution_count": 56,
      "outputs": [
        {
          "output_type": "stream",
          "text": [
            "root\n",
            " |-- resident_status: string (nullable = true)\n",
            " |-- education_2003_revision: string (nullable = true)\n",
            " |-- month_of_death: string (nullable = true)\n",
            " |-- sex: string (nullable = true)\n",
            " |-- detail_age: string (nullable = true)\n",
            " |-- marital_status: string (nullable = true)\n",
            " |-- day_of_week_of_death: string (nullable = true)\n",
            " |-- current_data_year: string (nullable = true)\n",
            " |-- injury_at_work: string (nullable = true)\n",
            " |-- manner_of_death: string (nullable = true)\n",
            " |-- icd_code_10th_revision: string (nullable = true)\n",
            " |-- number_of_entity_axis_conditions: integer (nullable = true)\n",
            " |-- entity_condition_1: string (nullable = true)\n",
            " |-- entity_condition_2: string (nullable = true)\n",
            " |-- entity_condition_3: string (nullable = true)\n",
            " |-- entity_condition_4: string (nullable = true)\n",
            " |-- entity_condition_5: string (nullable = true)\n",
            " |-- entity_condition_6: string (nullable = true)\n",
            " |-- entity_condition_7: string (nullable = true)\n",
            " |-- entity_condition_8: string (nullable = true)\n",
            " |-- entity_condition_9: string (nullable = true)\n",
            " |-- entity_condition_10: string (nullable = true)\n",
            " |-- entity_condition_11: string (nullable = true)\n",
            " |-- entity_condition_12: string (nullable = true)\n",
            " |-- entity_condition_13: string (nullable = true)\n",
            " |-- entity_condition_14: string (nullable = true)\n",
            " |-- entity_condition_15: string (nullable = true)\n",
            " |-- entity_condition_16: string (nullable = true)\n",
            " |-- entity_condition_17: string (nullable = true)\n",
            " |-- entity_condition_18: string (nullable = true)\n",
            " |-- entity_condition_19: string (nullable = true)\n",
            " |-- entity_condition_20: string (nullable = true)\n",
            " |-- number_of_record_axis_conditions: integer (nullable = true)\n",
            " |-- record_condition_1: string (nullable = true)\n",
            " |-- record_condition_2: string (nullable = true)\n",
            " |-- record_condition_3: string (nullable = true)\n",
            " |-- record_condition_4: string (nullable = true)\n",
            " |-- record_condition_5: string (nullable = true)\n",
            " |-- record_condition_6: string (nullable = true)\n",
            " |-- record_condition_7: string (nullable = true)\n",
            " |-- record_condition_8: string (nullable = true)\n",
            " |-- record_condition_9: string (nullable = true)\n",
            " |-- record_condition_10: string (nullable = true)\n",
            " |-- record_condition_11: string (nullable = true)\n",
            " |-- record_condition_12: string (nullable = true)\n",
            " |-- record_condition_13: string (nullable = true)\n",
            " |-- record_condition_14: string (nullable = true)\n",
            " |-- record_condition_15: string (nullable = true)\n",
            " |-- record_condition_16: string (nullable = true)\n",
            " |-- record_condition_17: string (nullable = true)\n",
            " |-- record_condition_18: string (nullable = true)\n",
            " |-- record_condition_19: string (nullable = true)\n",
            " |-- record_condition_20: string (nullable = true)\n",
            " |-- race: string (nullable = true)\n",
            " |-- hispanic_originrace_recode: string (nullable = true)\n",
            "\n"
          ],
          "name": "stdout"
        }
      ]
    },
    {
      "cell_type": "code",
      "metadata": {
        "colab": {
          "base_uri": "https://localhost:8080/"
        },
        "id": "g0GP26uKGrsK",
        "outputId": "76537295-3105-4b78-fe70-e9ab494746f7"
      },
      "source": [
        "#need to know on average how many underlying conditions there are 20 options are available\n",
        "death_2015_update.select(\"number_of_entity_axis_conditions\", \"number_of_record_axis_conditions\").describe().show()"
      ],
      "execution_count": 59,
      "outputs": [
        {
          "output_type": "stream",
          "text": [
            "+-------+--------------------------------+--------------------------------+\n",
            "|summary|number_of_entity_axis_conditions|number_of_record_axis_conditions|\n",
            "+-------+--------------------------------+--------------------------------+\n",
            "|  count|                         2694400|                         2694400|\n",
            "|   mean|               3.103408551068884|               2.953636059976247|\n",
            "| stddev|              1.9167837941567076|              1.7928775740469587|\n",
            "|    min|                               1|                               1|\n",
            "|    max|                              15|                              15|\n",
            "+-------+--------------------------------+--------------------------------+\n",
            "\n"
          ],
          "name": "stdout"
        }
      ]
    },
    {
      "cell_type": "code",
      "metadata": {
        "id": "0BmmFoVkGtu5"
      },
      "source": [
        "#per documentation of the data, record_axis will be removed as it is for the death certificate, and the entity is pre-known conditions\n",
        "#for the entity conditions, droppping all but the average of 3, and removing the number of entity as it is no longer needed \n",
        "death_2015_cleaned = death_2015_update.drop(\"number_of_entity_axis_conditions\",\"entity_condition_4\",\"entity_condition_5\",\"entity_condition_6\",\"entity_condition_7\",\"entity_condition_8\",\n",
        "                                            \"entity_condition_9\",\"entity_condition_10\",\"entity_condition_11\",\"entity_condition_12\",\"entity_condition_13\",\"entity_condition_14\",\n",
        "                                            \"entity_condition_15\",\"entity_condition_16\",\"entity_condition_17\",\"entity_condition_18\",\"entity_condition_19\",\"entity_condition_20\",\n",
        "                                            \"number_of_record_axis_conditions\", \"record_condition_1\", \"record_condition_2\",\"record_condition_3\",\"record_condition_4\",\"record_condition_5\",\n",
        "                                            \"record_condition_6\",\"record_condition_7\",\"record_condition_8\",\"record_condition_9\",\"record_condition_10\",\"record_condition_11\",\"record_condition_12\",\n",
        "                                            \"record_condition_13\",\"record_condition_14\",\"record_condition_15\",\"record_condition_16\",\"record_condition_17\",\"record_condition_18\",\"record_condition_19\",\n",
        "                                            \"record_condition_20\",)"
      ],
      "execution_count": 60,
      "outputs": []
    },
    {
      "cell_type": "code",
      "metadata": {
        "colab": {
          "base_uri": "https://localhost:8080/"
        },
        "id": "NkLPS_xyGuDS",
        "outputId": "2adfe289-a24f-44c6-ee88-3b77a99f80eb"
      },
      "source": [
        "death_2015_cleaned.show()"
      ],
      "execution_count": 61,
      "outputs": [
        {
          "output_type": "stream",
          "text": [
            "+---------------+-----------------------+--------------+---+----------+--------------+--------------------+-----------------+--------------+---------------+----------------------+------------------+------------------+------------------+----+--------------------------+\n",
            "|resident_status|education_2003_revision|month_of_death|sex|detail_age|marital_status|day_of_week_of_death|current_data_year|injury_at_work|manner_of_death|icd_code_10th_revision|entity_condition_1|entity_condition_2|entity_condition_3|race|hispanic_originrace_recode|\n",
            "+---------------+-----------------------+--------------+---+----------+--------------+--------------------+-----------------+--------------+---------------+----------------------+------------------+------------------+------------------+----+--------------------------+\n",
            "|              1|                      3|            01|  M|       084|             M|                   1|             2015|             U|              7|                  I500|            11I500|            61L031|              null|  01|                         6|\n",
            "|              1|                      6|            01|  M|       070|             M|                   2|             2015|             U|              7|                  C349|            11I469|            21R042|            31C349|  01|                         6|\n",
            "|              1|                      3|            01|  F|       091|             W|                   6|             2015|             U|              7|                  G309|            11G309|              null|              null|  01|                         6|\n",
            "|              1|                      3|            01|  F|       040|             S|                   5|             2015|             N|              3|                   X91|             11T71|             12X91|             21T71|  03|                         8|\n",
            "|              1|                      5|            01|  F|       089|             W|                   5|             2015|             U|              7|                  I250|            11I250|            21S720|            61X590|  01|                         6|\n",
            "|              1|                      6|            01|  M|       078|             W|                   6|             2015|             U|              7|                  I516|            11I499|            21I516|            61E780|  03|                         8|\n",
            "|              1|                      4|            01|  M|       092|             W|                   1|             2015|             U|              7|                  E274|            11E274|              null|              null|  01|                         6|\n",
            "|              1|                      3|            01|  M|       082|             M|                   1|             2015|             U|              7|                  I500|            11I500|              null|              null|  01|                         6|\n",
            "|              1|                      3|            01|  F|       089|             W|                   1|             2015|             U|              7|                  I350|            11I500|            21I350|              null|  01|                         6|\n",
            "|              1|                      9|            01|  F|       093|             W|                   7|             2015|             U|              7|                   W19|            11T142|             21W19|            31R688|  01|                         6|\n",
            "|              1|                      6|            01|  F|       084|             M|                   1|             2015|             U|              7|                   I48|            11J189|             21I48|             61I64|  01|                         6|\n",
            "|              1|                      3|            01|  F|       084|             M|                   1|             2015|             U|              7|                  G309|            11G309|            61I500|              null|  01|                         6|\n",
            "|              1|                      3|            01|  F|       067|             M|                   2|             2015|             U|              7|                  I219|            11I219|            21I251|             61N19|  01|                         6|\n",
            "|              1|                      6|            01|  M|       094|             W|                   7|             2015|             U|              7|                  R688|            11R688|             12R54|              null|  01|                         6|\n",
            "|              1|                      2|            01|  M|       056|             M|                   7|             2015|             U|              7|                  C798|            11C798|            61K769|            62F179|  01|                         6|\n",
            "|              1|                      3|            01|  M|       032|             S|                   6|             2015|             N|              1|                  X599|            11S099|            12X599|              null|  03|                         8|\n",
            "|              1|                      2|            01|  M|       018|             S|                   1|             2015|             N|              2|                   X70|             11T71|             12X70|             21T71|  03|                         8|\n",
            "|              1|                      3|            01|  M|       048|             M|                   7|             2015|             N|              2|                   X72|            11S069|            21S019|             22X72|  01|                         6|\n",
            "|              1|                      4|            01|  F|       079|             W|                   5|             2015|             U|              7|                   I64|             11I64|             21R13|              null|  03|                         8|\n",
            "|              1|                      6|            01|  M|       085|             W|                   6|             2015|             U|              7|                   I64|            11J189|             61G20|             62I64|  01|                         6|\n",
            "+---------------+-----------------------+--------------+---+----------+--------------+--------------------+-----------------+--------------+---------------+----------------------+------------------+------------------+------------------+----+--------------------------+\n",
            "only showing top 20 rows\n",
            "\n"
          ],
          "name": "stdout"
        }
      ]
    },
    {
      "cell_type": "code",
      "metadata": {
        "colab": {
          "base_uri": "https://localhost:8080/"
        },
        "id": "XT-wl8k2mGgN",
        "outputId": "9811dc8a-ca60-43ae-ce2d-a2bef64f42a7"
      },
      "source": [
        "death_2015_cleaned.schema.names"
      ],
      "execution_count": 63,
      "outputs": [
        {
          "output_type": "execute_result",
          "data": {
            "text/plain": [
              "['resident_status',\n",
              " 'education_2003_revision',\n",
              " 'month_of_death',\n",
              " 'sex',\n",
              " 'detail_age',\n",
              " 'marital_status',\n",
              " 'day_of_week_of_death',\n",
              " 'current_data_year',\n",
              " 'injury_at_work',\n",
              " 'manner_of_death',\n",
              " 'icd_code_10th_revision',\n",
              " 'entity_condition_1',\n",
              " 'entity_condition_2',\n",
              " 'entity_condition_3',\n",
              " 'race',\n",
              " 'hispanic_originrace_recode']"
            ]
          },
          "metadata": {
            "tags": []
          },
          "execution_count": 63
        }
      ]
    },
    {
      "cell_type": "code",
      "metadata": {
        "colab": {
          "base_uri": "https://localhost:8080/"
        },
        "id": "hclIxaILl77G",
        "outputId": "f1a8a3bc-6074-47a1-e7a2-518d0d358354"
      },
      "source": [
        "death_2015_columns = death_2015_cleaned.withColumnRenamed(\"resident_status\",\"resident\").withColumnRenamed(\"education_2003_revision\",\"education\").withColumnRenamed(\"detail_age\", \"age\").withColumnRenamed(\"current_date_year\", \"year\").withColumnRenamed(\"icd_code_10th_revision\", \"icd_death_code\").withColumnRenamed(\"hispanic_originrace_recode\", \"hispanic\")\n",
        "death_2015_columns.show()"
      ],
      "execution_count": 66,
      "outputs": [
        {
          "output_type": "stream",
          "text": [
            "+--------+---------+--------------+---+---+--------------+--------------------+-----------------+--------------+---------------+--------------+------------------+------------------+------------------+----+--------+\n",
            "|resident|education|month_of_death|sex|age|marital_status|day_of_week_of_death|current_data_year|injury_at_work|manner_of_death|icd_death_code|entity_condition_1|entity_condition_2|entity_condition_3|race|hispanic|\n",
            "+--------+---------+--------------+---+---+--------------+--------------------+-----------------+--------------+---------------+--------------+------------------+------------------+------------------+----+--------+\n",
            "|       1|        3|            01|  M|084|             M|                   1|             2015|             U|              7|          I500|            11I500|            61L031|              null|  01|       6|\n",
            "|       1|        6|            01|  M|070|             M|                   2|             2015|             U|              7|          C349|            11I469|            21R042|            31C349|  01|       6|\n",
            "|       1|        3|            01|  F|091|             W|                   6|             2015|             U|              7|          G309|            11G309|              null|              null|  01|       6|\n",
            "|       1|        3|            01|  F|040|             S|                   5|             2015|             N|              3|           X91|             11T71|             12X91|             21T71|  03|       8|\n",
            "|       1|        5|            01|  F|089|             W|                   5|             2015|             U|              7|          I250|            11I250|            21S720|            61X590|  01|       6|\n",
            "|       1|        6|            01|  M|078|             W|                   6|             2015|             U|              7|          I516|            11I499|            21I516|            61E780|  03|       8|\n",
            "|       1|        4|            01|  M|092|             W|                   1|             2015|             U|              7|          E274|            11E274|              null|              null|  01|       6|\n",
            "|       1|        3|            01|  M|082|             M|                   1|             2015|             U|              7|          I500|            11I500|              null|              null|  01|       6|\n",
            "|       1|        3|            01|  F|089|             W|                   1|             2015|             U|              7|          I350|            11I500|            21I350|              null|  01|       6|\n",
            "|       1|        9|            01|  F|093|             W|                   7|             2015|             U|              7|           W19|            11T142|             21W19|            31R688|  01|       6|\n",
            "|       1|        6|            01|  F|084|             M|                   1|             2015|             U|              7|           I48|            11J189|             21I48|             61I64|  01|       6|\n",
            "|       1|        3|            01|  F|084|             M|                   1|             2015|             U|              7|          G309|            11G309|            61I500|              null|  01|       6|\n",
            "|       1|        3|            01|  F|067|             M|                   2|             2015|             U|              7|          I219|            11I219|            21I251|             61N19|  01|       6|\n",
            "|       1|        6|            01|  M|094|             W|                   7|             2015|             U|              7|          R688|            11R688|             12R54|              null|  01|       6|\n",
            "|       1|        2|            01|  M|056|             M|                   7|             2015|             U|              7|          C798|            11C798|            61K769|            62F179|  01|       6|\n",
            "|       1|        3|            01|  M|032|             S|                   6|             2015|             N|              1|          X599|            11S099|            12X599|              null|  03|       8|\n",
            "|       1|        2|            01|  M|018|             S|                   1|             2015|             N|              2|           X70|             11T71|             12X70|             21T71|  03|       8|\n",
            "|       1|        3|            01|  M|048|             M|                   7|             2015|             N|              2|           X72|            11S069|            21S019|             22X72|  01|       6|\n",
            "|       1|        4|            01|  F|079|             W|                   5|             2015|             U|              7|           I64|             11I64|             21R13|              null|  03|       8|\n",
            "|       1|        6|            01|  M|085|             W|                   6|             2015|             U|              7|           I64|            11J189|             61G20|             62I64|  01|       6|\n",
            "+--------+---------+--------------+---+---+--------------+--------------------+-----------------+--------------+---------------+--------------+------------------+------------------+------------------+----+--------+\n",
            "only showing top 20 rows\n",
            "\n"
          ],
          "name": "stdout"
        }
      ]
    },
    {
      "cell_type": "code",
      "metadata": {
        "colab": {
          "base_uri": "https://localhost:8080/"
        },
        "id": "n50Zc1fDlR89",
        "outputId": "1a82a459-b418-41f7-ef81-fc0e8ea91312"
      },
      "source": [
        "death_2015_columns.printSchema()"
      ],
      "execution_count": 67,
      "outputs": [
        {
          "output_type": "stream",
          "text": [
            "root\n",
            " |-- resident: string (nullable = true)\n",
            " |-- education: string (nullable = true)\n",
            " |-- month_of_death: string (nullable = true)\n",
            " |-- sex: string (nullable = true)\n",
            " |-- age: string (nullable = true)\n",
            " |-- marital_status: string (nullable = true)\n",
            " |-- day_of_week_of_death: string (nullable = true)\n",
            " |-- current_data_year: string (nullable = true)\n",
            " |-- injury_at_work: string (nullable = true)\n",
            " |-- manner_of_death: string (nullable = true)\n",
            " |-- icd_death_code: string (nullable = true)\n",
            " |-- entity_condition_1: string (nullable = true)\n",
            " |-- entity_condition_2: string (nullable = true)\n",
            " |-- entity_condition_3: string (nullable = true)\n",
            " |-- race: string (nullable = true)\n",
            " |-- hispanic: string (nullable = true)\n",
            "\n"
          ],
          "name": "stdout"
        }
      ]
    },
    {
      "cell_type": "code",
      "metadata": {
        "colab": {
          "base_uri": "https://localhost:8080/"
        },
        "id": "kBe40b9WlhXG",
        "outputId": "2d9fa288-aa4b-4041-d71b-a8caa4e5c120"
      },
      "source": [
        "death_2015_int = death_2015_columns.withColumn(\"resident\",col(\"resident\").cast(\"integer\")).withColumn(\"education\",col(\"education\").cast(\"integer\")).withColumn(\"month_of_death\",col(\"month_of_death\").cast(\"integer\")).withColumn(\"age\",col(\"age\").cast(\"integer\")).withColumn(\"day_of_week_of_death\",col(\"day_of_week_of_death\").cast(\"integer\")).withColumn(\"current_data_year\",col(\"current_data_year\").cast(\"integer\")).withColumn(\"manner_of_death\",col(\"manner_of_death\").cast(\"integer\")).withColumn(\"race\",col(\"race\").cast(\"integer\")).withColumn(\"hispanic\",col(\"hispanic\").cast(\"integer\"))\n",
        "death_2015_int.show()"
      ],
      "execution_count": 72,
      "outputs": [
        {
          "output_type": "stream",
          "text": [
            "+--------+---------+--------------+---+---+--------------+--------------------+-----------------+--------------+---------------+--------------+------------------+------------------+------------------+----+--------+\n",
            "|resident|education|month_of_death|sex|age|marital_status|day_of_week_of_death|current_data_year|injury_at_work|manner_of_death|icd_death_code|entity_condition_1|entity_condition_2|entity_condition_3|race|hispanic|\n",
            "+--------+---------+--------------+---+---+--------------+--------------------+-----------------+--------------+---------------+--------------+------------------+------------------+------------------+----+--------+\n",
            "|       1|        3|             1|  M| 84|             M|                   1|             2015|             U|              7|          I500|            11I500|            61L031|              null|   1|       6|\n",
            "|       1|        6|             1|  M| 70|             M|                   2|             2015|             U|              7|          C349|            11I469|            21R042|            31C349|   1|       6|\n",
            "|       1|        3|             1|  F| 91|             W|                   6|             2015|             U|              7|          G309|            11G309|              null|              null|   1|       6|\n",
            "|       1|        3|             1|  F| 40|             S|                   5|             2015|             N|              3|           X91|             11T71|             12X91|             21T71|   3|       8|\n",
            "|       1|        5|             1|  F| 89|             W|                   5|             2015|             U|              7|          I250|            11I250|            21S720|            61X590|   1|       6|\n",
            "|       1|        6|             1|  M| 78|             W|                   6|             2015|             U|              7|          I516|            11I499|            21I516|            61E780|   3|       8|\n",
            "|       1|        4|             1|  M| 92|             W|                   1|             2015|             U|              7|          E274|            11E274|              null|              null|   1|       6|\n",
            "|       1|        3|             1|  M| 82|             M|                   1|             2015|             U|              7|          I500|            11I500|              null|              null|   1|       6|\n",
            "|       1|        3|             1|  F| 89|             W|                   1|             2015|             U|              7|          I350|            11I500|            21I350|              null|   1|       6|\n",
            "|       1|        9|             1|  F| 93|             W|                   7|             2015|             U|              7|           W19|            11T142|             21W19|            31R688|   1|       6|\n",
            "|       1|        6|             1|  F| 84|             M|                   1|             2015|             U|              7|           I48|            11J189|             21I48|             61I64|   1|       6|\n",
            "|       1|        3|             1|  F| 84|             M|                   1|             2015|             U|              7|          G309|            11G309|            61I500|              null|   1|       6|\n",
            "|       1|        3|             1|  F| 67|             M|                   2|             2015|             U|              7|          I219|            11I219|            21I251|             61N19|   1|       6|\n",
            "|       1|        6|             1|  M| 94|             W|                   7|             2015|             U|              7|          R688|            11R688|             12R54|              null|   1|       6|\n",
            "|       1|        2|             1|  M| 56|             M|                   7|             2015|             U|              7|          C798|            11C798|            61K769|            62F179|   1|       6|\n",
            "|       1|        3|             1|  M| 32|             S|                   6|             2015|             N|              1|          X599|            11S099|            12X599|              null|   3|       8|\n",
            "|       1|        2|             1|  M| 18|             S|                   1|             2015|             N|              2|           X70|             11T71|             12X70|             21T71|   3|       8|\n",
            "|       1|        3|             1|  M| 48|             M|                   7|             2015|             N|              2|           X72|            11S069|            21S019|             22X72|   1|       6|\n",
            "|       1|        4|             1|  F| 79|             W|                   5|             2015|             U|              7|           I64|             11I64|             21R13|              null|   3|       8|\n",
            "|       1|        6|             1|  M| 85|             W|                   6|             2015|             U|              7|           I64|            11J189|             61G20|             62I64|   1|       6|\n",
            "+--------+---------+--------------+---+---+--------------+--------------------+-----------------+--------------+---------------+--------------+------------------+------------------+------------------+----+--------+\n",
            "only showing top 20 rows\n",
            "\n"
          ],
          "name": "stdout"
        }
      ]
    },
    {
      "cell_type": "code",
      "metadata": {
        "colab": {
          "base_uri": "https://localhost:8080/"
        },
        "id": "gekLPy_eoIwj",
        "outputId": "faf46aed-1310-4376-c417-f69e8efde7ea"
      },
      "source": [
        "death_2015_final = death_2015_int.fillna(value=\"0\",subset=[\"entity_condition_1\"]).fillna(value=\"0\",subset=[\"entity_condition_2\"]).fillna(value=\"0\",subset=[\"entity_condition_3\"])\n",
        "death_2015_final.show()"
      ],
      "execution_count": 92,
      "outputs": [
        {
          "output_type": "stream",
          "text": [
            "+--------+---------+--------------+---+---+--------------+--------------------+-----------------+--------------+---------------+--------------+------------------+------------------+------------------+----+--------+\n",
            "|resident|education|month_of_death|sex|age|marital_status|day_of_week_of_death|current_data_year|injury_at_work|manner_of_death|icd_death_code|entity_condition_1|entity_condition_2|entity_condition_3|race|hispanic|\n",
            "+--------+---------+--------------+---+---+--------------+--------------------+-----------------+--------------+---------------+--------------+------------------+------------------+------------------+----+--------+\n",
            "|       1|        3|             1|  M| 84|             M|                   1|             2015|             U|              7|          I500|            11I500|            61L031|                 0|   1|       6|\n",
            "|       1|        6|             1|  M| 70|             M|                   2|             2015|             U|              7|          C349|            11I469|            21R042|            31C349|   1|       6|\n",
            "|       1|        3|             1|  F| 91|             W|                   6|             2015|             U|              7|          G309|            11G309|                 0|                 0|   1|       6|\n",
            "|       1|        3|             1|  F| 40|             S|                   5|             2015|             N|              3|           X91|             11T71|             12X91|             21T71|   3|       8|\n",
            "|       1|        5|             1|  F| 89|             W|                   5|             2015|             U|              7|          I250|            11I250|            21S720|            61X590|   1|       6|\n",
            "|       1|        6|             1|  M| 78|             W|                   6|             2015|             U|              7|          I516|            11I499|            21I516|            61E780|   3|       8|\n",
            "|       1|        4|             1|  M| 92|             W|                   1|             2015|             U|              7|          E274|            11E274|                 0|                 0|   1|       6|\n",
            "|       1|        3|             1|  M| 82|             M|                   1|             2015|             U|              7|          I500|            11I500|                 0|                 0|   1|       6|\n",
            "|       1|        3|             1|  F| 89|             W|                   1|             2015|             U|              7|          I350|            11I500|            21I350|                 0|   1|       6|\n",
            "|       1|        9|             1|  F| 93|             W|                   7|             2015|             U|              7|           W19|            11T142|             21W19|            31R688|   1|       6|\n",
            "|       1|        6|             1|  F| 84|             M|                   1|             2015|             U|              7|           I48|            11J189|             21I48|             61I64|   1|       6|\n",
            "|       1|        3|             1|  F| 84|             M|                   1|             2015|             U|              7|          G309|            11G309|            61I500|                 0|   1|       6|\n",
            "|       1|        3|             1|  F| 67|             M|                   2|             2015|             U|              7|          I219|            11I219|            21I251|             61N19|   1|       6|\n",
            "|       1|        6|             1|  M| 94|             W|                   7|             2015|             U|              7|          R688|            11R688|             12R54|                 0|   1|       6|\n",
            "|       1|        2|             1|  M| 56|             M|                   7|             2015|             U|              7|          C798|            11C798|            61K769|            62F179|   1|       6|\n",
            "|       1|        3|             1|  M| 32|             S|                   6|             2015|             N|              1|          X599|            11S099|            12X599|                 0|   3|       8|\n",
            "|       1|        2|             1|  M| 18|             S|                   1|             2015|             N|              2|           X70|             11T71|             12X70|             21T71|   3|       8|\n",
            "|       1|        3|             1|  M| 48|             M|                   7|             2015|             N|              2|           X72|            11S069|            21S019|             22X72|   1|       6|\n",
            "|       1|        4|             1|  F| 79|             W|                   5|             2015|             U|              7|           I64|             11I64|             21R13|                 0|   3|       8|\n",
            "|       1|        6|             1|  M| 85|             W|                   6|             2015|             U|              7|           I64|            11J189|             61G20|             62I64|   1|       6|\n",
            "+--------+---------+--------------+---+---+--------------+--------------------+-----------------+--------------+---------------+--------------+------------------+------------------+------------------+----+--------+\n",
            "only showing top 20 rows\n",
            "\n"
          ],
          "name": "stdout"
        }
      ]
    },
    {
      "cell_type": "code",
      "metadata": {
        "colab": {
          "base_uri": "https://localhost:8080/"
        },
        "id": "Z7fVyl22p3MK",
        "outputId": "c618370e-c416-4e70-a2b7-dccb98c0aaea"
      },
      "source": [
        ""
      ],
      "execution_count": 90,
      "outputs": [
        {
          "output_type": "stream",
          "text": [
            "+--------+---------+--------------+---+---+--------------+--------------------+-----------------+--------------+---------------+--------------+------------------+------------------+------------------+----+--------+\n",
            "|resident|education|month_of_death|sex|age|marital_status|day_of_week_of_death|current_data_year|injury_at_work|manner_of_death|icd_death_code|entity_condition_1|entity_condition_2|entity_condition_3|race|hispanic|\n",
            "+--------+---------+--------------+---+---+--------------+--------------------+-----------------+--------------+---------------+--------------+------------------+------------------+------------------+----+--------+\n",
            "|       1|        3|            01|  M|084|             M|                   1|             2015|             U|              7|          I500|            11I500|            61L031|              null|  01|       6|\n",
            "|       1|        6|            01|  M|070|             M|                   2|             2015|             U|              7|          C349|            11I469|            21R042|            31C349|  01|       6|\n",
            "|       1|        3|            01|  F|091|             W|                   6|             2015|             U|              7|          G309|            11G309|              null|              null|  01|       6|\n",
            "|       1|        3|            01|  F|040|             S|                   5|             2015|             N|              3|           X91|             11T71|             12X91|             21T71|  03|       8|\n",
            "|       1|        5|            01|  F|089|             W|                   5|             2015|             U|              7|          I250|            11I250|            21S720|            61X590|  01|       6|\n",
            "|       1|        6|            01|  M|078|             W|                   6|             2015|             U|              7|          I516|            11I499|            21I516|            61E780|  03|       8|\n",
            "|       1|        4|            01|  M|092|             W|                   1|             2015|             U|              7|          E274|            11E274|              null|              null|  01|       6|\n",
            "|       1|        3|            01|  M|082|             M|                   1|             2015|             U|              7|          I500|            11I500|              null|              null|  01|       6|\n",
            "|       1|        3|            01|  F|089|             W|                   1|             2015|             U|              7|          I350|            11I500|            21I350|              null|  01|       6|\n",
            "|       1|        9|            01|  F|093|             W|                   7|             2015|             U|              7|           W19|            11T142|             21W19|            31R688|  01|       6|\n",
            "|       1|        6|            01|  F|084|             M|                   1|             2015|             U|              7|           I48|            11J189|             21I48|             61I64|  01|       6|\n",
            "|       1|        3|            01|  F|084|             M|                   1|             2015|             U|              7|          G309|            11G309|            61I500|              null|  01|       6|\n",
            "|       1|        3|            01|  F|067|             M|                   2|             2015|             U|              7|          I219|            11I219|            21I251|             61N19|  01|       6|\n",
            "|       1|        6|            01|  M|094|             W|                   7|             2015|             U|              7|          R688|            11R688|             12R54|              null|  01|       6|\n",
            "|       1|        2|            01|  M|056|             M|                   7|             2015|             U|              7|          C798|            11C798|            61K769|            62F179|  01|       6|\n",
            "|       1|        3|            01|  M|032|             S|                   6|             2015|             N|              1|          X599|            11S099|            12X599|              null|  03|       8|\n",
            "|       1|        2|            01|  M|018|             S|                   1|             2015|             N|              2|           X70|             11T71|             12X70|             21T71|  03|       8|\n",
            "|       1|        3|            01|  M|048|             M|                   7|             2015|             N|              2|           X72|            11S069|            21S019|             22X72|  01|       6|\n",
            "|       1|        4|            01|  F|079|             W|                   5|             2015|             U|              7|           I64|             11I64|             21R13|              null|  03|       8|\n",
            "|       1|        6|            01|  M|085|             W|                   6|             2015|             U|              7|           I64|            11J189|             61G20|             62I64|  01|       6|\n",
            "+--------+---------+--------------+---+---+--------------+--------------------+-----------------+--------------+---------------+--------------+------------------+------------------+------------------+----+--------+\n",
            "only showing top 20 rows\n",
            "\n"
          ],
          "name": "stdout"
        }
      ]
    },
    {
      "cell_type": "code",
      "metadata": {
        "id": "jI-z2hPl1vww"
      },
      "source": [
        ""
      ],
      "execution_count": null,
      "outputs": []
    }
  ]
}