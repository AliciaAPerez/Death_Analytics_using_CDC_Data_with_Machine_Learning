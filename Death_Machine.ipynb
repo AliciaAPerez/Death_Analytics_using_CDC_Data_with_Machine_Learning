{
  "nbformat": 4,
  "nbformat_minor": 0,
  "metadata": {
    "colab": {
      "name": "Death_Machine.ipynb",
      "provenance": [],
      "collapsed_sections": [],
      "authorship_tag": "ABX9TyNhVS0QZ/48e8gBV9QQdd1c",
      "include_colab_link": true
    },
    "kernelspec": {
      "display_name": "Python 3",
      "name": "python3"
    },
    "language_info": {
      "name": "python"
    }
  },
  "cells": [
    {
      "cell_type": "markdown",
      "metadata": {
        "id": "view-in-github",
        "colab_type": "text"
      },
      "source": [
        "<a href=\"https://colab.research.google.com/github/AliciaAPerez/Death_Analytics_using_CDC_Data_with_Machine_Learning/blob/alicia/Death_Machine.ipynb\" target=\"_parent\"><img src=\"https://colab.research.google.com/assets/colab-badge.svg\" alt=\"Open In Colab\"/></a>"
      ]
    },
    {
      "cell_type": "code",
      "metadata": {
        "colab": {
          "base_uri": "https://localhost:8080/",
          "height": 748
        },
        "id": "Y1fw4xRIm4MG",
        "outputId": "67ac8132-d416-4cde-fd9b-5000283c107a"
      },
      "source": [
        "import os\n",
        "# Find the latest version of spark 3.0  from http://www-us.apache.org/dist/spark/ and enter as the spark version\n",
        "# For example:\n",
        "# spark_version = 'spark-3.0.1'\n",
        "spark_version = 'spark-3.1.1'\n",
        "os.environ['SPARK_VERSION']=spark_version\n",
        "\n",
        "# Install Spark and Java\n",
        "!apt-get update\n",
        "!apt-get install openjdk-11-jdk-headless -qq > /dev/null\n",
        "!wget -q http://www-us.apache.org/dist/spark/$SPARK_VERSION/$SPARK_VERSION-bin-hadoop2.7.tgz\n",
        "!tar xf $SPARK_VERSION-bin-hadoop2.7.tgz\n",
        "!pip install -q findspark\n",
        "\n",
        "# Set Environment Variables\n",
        "os.environ[\"JAVA_HOME\"] = \"/usr/lib/jvm/java-11-openjdk-amd64\"\n",
        "os.environ[\"SPARK_HOME\"] = f\"/content/{spark_version}-bin-hadoop2.7\"\n",
        "\n",
        "# Start a SparkSession\n",
        "import findspark\n",
        "findspark.init()"
      ],
      "execution_count": 3,
      "outputs": [
        {
          "output_type": "stream",
          "text": [
            "\r0% [Working]\r            \rIgn:1 https://developer.download.nvidia.com/compute/cuda/repos/ubuntu1804/x86_64  InRelease\n",
            "\r0% [Connecting to archive.ubuntu.com] [Connecting to security.ubuntu.com] [Conn\r                                                                               \rHit:2 https://cloud.r-project.org/bin/linux/ubuntu bionic-cran40/ InRelease\n",
            "\r0% [Connecting to archive.ubuntu.com] [Connecting to security.ubuntu.com] [Conn\r                                                                               \rIgn:3 https://developer.download.nvidia.com/compute/machine-learning/repos/ubuntu1804/x86_64  InRelease\n",
            "\r0% [Connecting to archive.ubuntu.com] [Connecting to security.ubuntu.com] [Conn\r0% [2 InRelease gpgv 3,626 B] [Connecting to archive.ubuntu.com] [Connecting to\r                                                                               \rHit:4 https://developer.download.nvidia.com/compute/cuda/repos/ubuntu1804/x86_64  Release\n",
            "\r0% [2 InRelease gpgv 3,626 B] [Connecting to archive.ubuntu.com] [Connecting to\r                                                                               \rHit:5 https://developer.download.nvidia.com/compute/machine-learning/repos/ubuntu1804/x86_64  Release\n",
            "\r0% [2 InRelease gpgv 3,626 B] [Connecting to archive.ubuntu.com] [Connecting to\r                                                                               \rHit:6 http://ppa.launchpad.net/c2d4u.team/c2d4u4.0+/ubuntu bionic InRelease\n",
            "Hit:7 http://security.ubuntu.com/ubuntu bionic-security InRelease\n",
            "Hit:8 http://archive.ubuntu.com/ubuntu bionic InRelease\n",
            "Hit:10 http://ppa.launchpad.net/cran/libgit2/ubuntu bionic InRelease\n",
            "Hit:11 http://archive.ubuntu.com/ubuntu bionic-updates InRelease\n",
            "Hit:12 http://archive.ubuntu.com/ubuntu bionic-backports InRelease\n",
            "Hit:14 http://ppa.launchpad.net/deadsnakes/ppa/ubuntu bionic InRelease\n",
            "Hit:15 http://ppa.launchpad.net/graphics-drivers/ppa/ubuntu bionic InRelease\n",
            "Reading package lists... Done\n",
            "\n",
            "gzip: stdin: unexpected end of file\n",
            "tar: Unexpected EOF in archive\n",
            "tar: Unexpected EOF in archive\n",
            "tar: Error is not recoverable: exiting now\n"
          ],
          "name": "stdout"
        },
        {
          "output_type": "error",
          "ename": "Exception",
          "evalue": "ignored",
          "traceback": [
            "\u001b[0;31m---------------------------------------------------------------------------\u001b[0m",
            "\u001b[0;31mIndexError\u001b[0m                                Traceback (most recent call last)",
            "\u001b[0;32m/usr/local/lib/python3.7/dist-packages/findspark.py\u001b[0m in \u001b[0;36minit\u001b[0;34m(spark_home, python_path, edit_rc, edit_profile)\u001b[0m\n\u001b[1;32m    142\u001b[0m     \u001b[0;32mtry\u001b[0m\u001b[0;34m:\u001b[0m\u001b[0;34m\u001b[0m\u001b[0;34m\u001b[0m\u001b[0m\n\u001b[0;32m--> 143\u001b[0;31m         \u001b[0mpy4j\u001b[0m \u001b[0;34m=\u001b[0m \u001b[0mglob\u001b[0m\u001b[0;34m(\u001b[0m\u001b[0mos\u001b[0m\u001b[0;34m.\u001b[0m\u001b[0mpath\u001b[0m\u001b[0;34m.\u001b[0m\u001b[0mjoin\u001b[0m\u001b[0;34m(\u001b[0m\u001b[0mspark_python\u001b[0m\u001b[0;34m,\u001b[0m \u001b[0;34m\"lib\"\u001b[0m\u001b[0;34m,\u001b[0m \u001b[0;34m\"py4j-*.zip\"\u001b[0m\u001b[0;34m)\u001b[0m\u001b[0;34m)\u001b[0m\u001b[0;34m[\u001b[0m\u001b[0;36m0\u001b[0m\u001b[0;34m]\u001b[0m\u001b[0;34m\u001b[0m\u001b[0;34m\u001b[0m\u001b[0m\n\u001b[0m\u001b[1;32m    144\u001b[0m     \u001b[0;32mexcept\u001b[0m \u001b[0mIndexError\u001b[0m\u001b[0;34m:\u001b[0m\u001b[0;34m\u001b[0m\u001b[0;34m\u001b[0m\u001b[0m\n",
            "\u001b[0;31mIndexError\u001b[0m: list index out of range",
            "\nDuring handling of the above exception, another exception occurred:\n",
            "\u001b[0;31mException\u001b[0m                                 Traceback (most recent call last)",
            "\u001b[0;32m<ipython-input-3-1764797869b7>\u001b[0m in \u001b[0;36m<module>\u001b[0;34m()\u001b[0m\n\u001b[1;32m     19\u001b[0m \u001b[0;31m# Start a SparkSession\u001b[0m\u001b[0;34m\u001b[0m\u001b[0;34m\u001b[0m\u001b[0;34m\u001b[0m\u001b[0m\n\u001b[1;32m     20\u001b[0m \u001b[0;32mimport\u001b[0m \u001b[0mfindspark\u001b[0m\u001b[0;34m\u001b[0m\u001b[0;34m\u001b[0m\u001b[0m\n\u001b[0;32m---> 21\u001b[0;31m \u001b[0mfindspark\u001b[0m\u001b[0;34m.\u001b[0m\u001b[0minit\u001b[0m\u001b[0;34m(\u001b[0m\u001b[0;34m)\u001b[0m\u001b[0;34m\u001b[0m\u001b[0;34m\u001b[0m\u001b[0m\n\u001b[0m",
            "\u001b[0;32m/usr/local/lib/python3.7/dist-packages/findspark.py\u001b[0m in \u001b[0;36minit\u001b[0;34m(spark_home, python_path, edit_rc, edit_profile)\u001b[0m\n\u001b[1;32m    144\u001b[0m     \u001b[0;32mexcept\u001b[0m \u001b[0mIndexError\u001b[0m\u001b[0;34m:\u001b[0m\u001b[0;34m\u001b[0m\u001b[0;34m\u001b[0m\u001b[0m\n\u001b[1;32m    145\u001b[0m         raise Exception(\n\u001b[0;32m--> 146\u001b[0;31m             \u001b[0;34m\"Unable to find py4j, your SPARK_HOME may not be configured correctly\"\u001b[0m\u001b[0;34m\u001b[0m\u001b[0;34m\u001b[0m\u001b[0m\n\u001b[0m\u001b[1;32m    147\u001b[0m         )\n\u001b[1;32m    148\u001b[0m     \u001b[0msys\u001b[0m\u001b[0;34m.\u001b[0m\u001b[0mpath\u001b[0m\u001b[0;34m[\u001b[0m\u001b[0;34m:\u001b[0m\u001b[0;36m0\u001b[0m\u001b[0;34m]\u001b[0m \u001b[0;34m=\u001b[0m \u001b[0;34m[\u001b[0m\u001b[0mspark_python\u001b[0m\u001b[0;34m,\u001b[0m \u001b[0mpy4j\u001b[0m\u001b[0;34m]\u001b[0m\u001b[0;34m\u001b[0m\u001b[0;34m\u001b[0m\u001b[0m\n",
            "\u001b[0;31mException\u001b[0m: Unable to find py4j, your SPARK_HOME may not be configured correctly"
          ]
        }
      ]
    },
    {
      "cell_type": "code",
      "metadata": {
        "id": "JJR6Q_oVnBwW"
      },
      "source": [
        "!wget https://jdbc.postgresql.org/download/postgresql-42.2.9.jar"
      ],
      "execution_count": null,
      "outputs": []
    },
    {
      "cell_type": "code",
      "metadata": {
        "id": "tle-32A2nCmn",
        "colab": {
          "base_uri": "https://localhost:8080/",
          "height": 316
        },
        "outputId": "cbfcdc68-d8c4-4cd9-aeec-27ca3c518f8f"
      },
      "source": [
        "from pyspark.sql import SparkSession\n",
        "spark = SparkSession.builder.appName(\"CloudETL\").config(\"spark.driver.extraClassPath\",\"/content/postgresql-42.2.9.jar\").getOrCreate()"
      ],
      "execution_count": null,
      "outputs": [
        {
          "output_type": "error",
          "ename": "ModuleNotFoundError",
          "evalue": "ignored",
          "traceback": [
            "\u001b[0;31m---------------------------------------------------------------------------\u001b[0m",
            "\u001b[0;31mModuleNotFoundError\u001b[0m                       Traceback (most recent call last)",
            "\u001b[0;32m<ipython-input-4-0f1acf3a9f33>\u001b[0m in \u001b[0;36m<module>\u001b[0;34m()\u001b[0m\n\u001b[0;32m----> 1\u001b[0;31m \u001b[0;32mfrom\u001b[0m \u001b[0mpyspark\u001b[0m\u001b[0;34m.\u001b[0m\u001b[0msql\u001b[0m \u001b[0;32mimport\u001b[0m \u001b[0mSparkSession\u001b[0m\u001b[0;34m\u001b[0m\u001b[0;34m\u001b[0m\u001b[0m\n\u001b[0m\u001b[1;32m      2\u001b[0m \u001b[0mspark\u001b[0m \u001b[0;34m=\u001b[0m \u001b[0mSparkSession\u001b[0m\u001b[0;34m.\u001b[0m\u001b[0mbuilder\u001b[0m\u001b[0;34m.\u001b[0m\u001b[0mappName\u001b[0m\u001b[0;34m(\u001b[0m\u001b[0;34m\"CloudETL\"\u001b[0m\u001b[0;34m)\u001b[0m\u001b[0;34m.\u001b[0m\u001b[0mconfig\u001b[0m\u001b[0;34m(\u001b[0m\u001b[0;34m\"spark.driver.extraClassPath\"\u001b[0m\u001b[0;34m,\u001b[0m\u001b[0;34m\"/content/postgresql-42.2.9.jar\"\u001b[0m\u001b[0;34m)\u001b[0m\u001b[0;34m.\u001b[0m\u001b[0mgetOrCreate\u001b[0m\u001b[0;34m(\u001b[0m\u001b[0;34m)\u001b[0m\u001b[0;34m\u001b[0m\u001b[0;34m\u001b[0m\u001b[0m\n",
            "\u001b[0;31mModuleNotFoundError\u001b[0m: No module named 'pyspark'",
            "",
            "\u001b[0;31m---------------------------------------------------------------------------\u001b[0;32m\nNOTE: If your import is failing due to a missing package, you can\nmanually install dependencies using either !pip or !apt.\n\nTo view examples of installing some common dependencies, click the\n\"Open Examples\" button below.\n\u001b[0;31m---------------------------------------------------------------------------\u001b[0m\n"
          ]
        }
      ]
    },
    {
      "cell_type": "code",
      "metadata": {
        "id": "HQtMwoVHEjG-"
      },
      "source": [
        "from pyspark import SparkFiles\n",
        "from pyspark.sql.functions import col\n",
        "from pyspark.sql.types import IntegerType"
      ],
      "execution_count": null,
      "outputs": []
    },
    {
      "cell_type": "code",
      "metadata": {
        "id": "sXPfgnqMQERd"
      },
      "source": [
        "!curl -s https://course19.fast.ai/setup/colab | bash"
      ],
      "execution_count": null,
      "outputs": []
    },
    {
      "cell_type": "code",
      "metadata": {
        "id": "Emm_gLcyQHTt"
      },
      "source": [
        "from google.colab import drive\n",
        "drive.mount('/content/drive')"
      ],
      "execution_count": null,
      "outputs": []
    },
    {
      "cell_type": "code",
      "metadata": {
        "id": "bAmW2zKiQHaU"
      },
      "source": [
        "#function for other data sets to be cleaned up - only can be used for 2014 and 2015 and newer, older pages use a different education marker\n",
        "def data_clean_up(data):\n",
        "  data = data.drop(\"education_1989_revision\",\"education_reporting_flag\",\"age_substitution_flag\",\"age_recode_52\",\"age_recode_27\",\"age_recode_12\", \"infant_age_recode_22\",\n",
        "\"place_of_death_and_decedents_status\",\"method_of_disposition\",\"autopsy\", \"activity_code\", \"place_of_injury_for_causes_w00_y34_except_y06_and_y07_\", \"358_cause_recode\", \"113_cause_recode\",\n",
        "\"130_infant_cause_recode\", \"39_cause_recode\", \"bridged_race_flag\", \"race_imputation_flag\", \"race_recode_3\", \"race_recode_5\", \"hispanic_origin\");\n",
        "  data = data.filter((data.detail_age_type == 1))\n",
        "  data = data.drop(\"detail_age_type\")\n",
        "  data = data.drop(\"number_of_entity_axis_conditions\",\"entity_condition_4\",\"entity_condition_5\",\"entity_condition_6\",\"entity_condition_7\",\"entity_condition_8\",\n",
        "                                            \"entity_condition_9\",\"entity_condition_10\",\"entity_condition_11\",\"entity_condition_12\",\"entity_condition_13\",\"entity_condition_14\",\n",
        "                                            \"entity_condition_15\",\"entity_condition_16\",\"entity_condition_17\",\"entity_condition_18\",\"entity_condition_19\",\"entity_condition_20\",\n",
        "                                            \"number_of_record_axis_conditions\", \"record_condition_1\", \"record_condition_2\",\"record_condition_3\",\"record_condition_4\",\"record_condition_5\",\n",
        "                                            \"record_condition_6\",\"record_condition_7\",\"record_condition_8\",\"record_condition_9\",\"record_condition_10\",\"record_condition_11\",\"record_condition_12\",\n",
        "                                            \"record_condition_13\",\"record_condition_14\",\"record_condition_15\",\"record_condition_16\",\"record_condition_17\",\"record_condition_18\",\"record_condition_19\",\n",
        "                                            \"record_condition_20\",)\n",
        "  data = data.withColumnRenamed(\"resident_status\",\"resident\").withColumnRenamed(\"education_2003_revision\",\"education\").withColumnRenamed(\"detail_age\", \"age\").withColumnRenamed(\"current_date_year\", \"year\").withColumnRenamed(\"icd_code_10th_revision\", \"icd_death_code\").withColumnRenamed(\"hispanic_originrace_recode\", \"hispanic\")\n",
        "  data = data.withColumn(\"resident\",col(\"resident\").cast(\"integer\")).withColumn(\"education\",col(\"education\").cast(\"integer\")).withColumn(\"month_of_death\",col(\"month_of_death\").cast(\"integer\")).withColumn(\"age\",col(\"age\").cast(\"integer\")).withColumn(\"day_of_week_of_death\",col(\"day_of_week_of_death\").cast(\"integer\")).withColumn(\"current_data_year\",col(\"current_data_year\").cast(\"integer\")).withColumn(\"manner_of_death\",col(\"manner_of_death\").cast(\"integer\")).withColumn(\"race\",col(\"race\").cast(\"integer\")).withColumn(\"hispanic\",col(\"hispanic\").cast(\"integer\"))\n",
        "  data = data.fillna(value=\"0\",subset=[\"entity_condition_1\"]).fillna(value=\"0\",subset=[\"entity_condition_2\"]).fillna(value=\"0\",subset=[\"entity_condition_3\"])\n",
        "  data = data.na.replace([\"Y\", \"N\", \"U\"], [\"1\",\"2\",\"3\"], \"injury_at_work\")\n",
        "  data = data.na.replace([\"M\", \"F\"], [\"1\",\"2\"], \"sex\")\n",
        "  data = data.na.replace([\"S\", \"M\", \"W\", \"D\", \"U\"], [\"1\",\"2\", \"3\", \"4\", \"5\"], \"marital_status\")\n",
        "  data = data.select(\"icd_death_code\",\"resident\",\"education\",\"month_of_death\",\"sex\", \"age\",\"marital_status\",\"day_of_week_of_death\",\"current_data_year\",\"injury_at_work\",\"manner_of_death\",\"race\",\"hispanic\",\"entity_condition_1\",\"entity_condition_2\",\"entity_condition_3\")\n",
        "  data = data.na.drop()\n",
        "  return data"
      ],
      "execution_count": null,
      "outputs": []
    },
    {
      "cell_type": "code",
      "metadata": {
        "id": "vb-VWjbDQHfx"
      },
      "source": [
        "#function for other data sets to be cleaned up - only can be used for 2014 and 2015 and newer, older pages use a different education marker\n",
        "def data_clean_up2(data):\n",
        "  data = data.drop(\"education_2003_revision\",\"education_reporting_flag\",\"age_substitution_flag\",\"age_recode_52\",\"age_recode_27\",\"age_recode_12\", \"infant_age_recode_22\",\n",
        "\"place_of_death_and_decedents_status\",\"method_of_disposition\",\"autopsy\", \"activity_code\", \"place_of_injury_for_causes_w00_y34_except_y06_and_y07_\", \"358_cause_recode\", \"113_cause_recode\",\n",
        "\"130_infant_cause_recode\", \"39_cause_recode\", \"bridged_race_flag\", \"race_imputation_flag\", \"race_recode_3\", \"race_recode_5\", \"hispanic_origin\");\n",
        "  data = data.filter((data.detail_age_type == 1))\n",
        "  data = data.drop(\"detail_age_type\")\n",
        "  data = data.drop(\"number_of_entity_axis_conditions\",\"entity_condition_4\",\"entity_condition_5\",\"entity_condition_6\",\"entity_condition_7\",\"entity_condition_8\",\n",
        "                                            \"entity_condition_9\",\"entity_condition_10\",\"entity_condition_11\",\"entity_condition_12\",\"entity_condition_13\",\"entity_condition_14\",\n",
        "                                            \"entity_condition_15\",\"entity_condition_16\",\"entity_condition_17\",\"entity_condition_18\",\"entity_condition_19\",\"entity_condition_20\",\n",
        "                                            \"number_of_record_axis_conditions\", \"record_condition_1\", \"record_condition_2\",\"record_condition_3\",\"record_condition_4\",\"record_condition_5\",\n",
        "                                            \"record_condition_6\",\"record_condition_7\",\"record_condition_8\",\"record_condition_9\",\"record_condition_10\",\"record_condition_11\",\"record_condition_12\",\n",
        "                                            \"record_condition_13\",\"record_condition_14\",\"record_condition_15\",\"record_condition_16\",\"record_condition_17\",\"record_condition_18\",\"record_condition_19\",\n",
        "                                            \"record_condition_20\",)\n",
        "  data = data.withColumnRenamed(\"resident_status\",\"resident\").withColumnRenamed(\"education_1989_revision\",\"education\").withColumnRenamed(\"detail_age\", \"age\").withColumnRenamed(\"current_date_year\", \"year\").withColumnRenamed(\"icd_code_10th_revision\", \"icd_death_code\").withColumnRenamed(\"hispanic_originrace_recode\", \"hispanic\")\n",
        "  data = data.withColumn(\"resident\",col(\"resident\").cast(\"integer\")).withColumn(\"education\",col(\"education\").cast(\"integer\")).withColumn(\"month_of_death\",col(\"month_of_death\").cast(\"integer\")).withColumn(\"age\",col(\"age\").cast(\"integer\")).withColumn(\"day_of_week_of_death\",col(\"day_of_week_of_death\").cast(\"integer\")).withColumn(\"current_data_year\",col(\"current_data_year\").cast(\"integer\")).withColumn(\"manner_of_death\",col(\"manner_of_death\").cast(\"integer\")).withColumn(\"race\",col(\"race\").cast(\"integer\")).withColumn(\"hispanic\",col(\"hispanic\").cast(\"integer\"))\n",
        "  data = data.fillna(value=\"0\",subset=[\"entity_condition_1\"]).fillna(value=\"0\",subset=[\"entity_condition_2\"]).fillna(value=\"0\",subset=[\"entity_condition_3\"])\n",
        "  data = data.na.replace([0,1,2,3,4,5,6,7,8,9,10,11,12,13,14,15,16,17,99], [1,1,1,1,1,1,1,1,1,2,2,2,3,4,4,4,6,7,9], \"education\")\n",
        "  data = data.na.replace([\"Y\", \"N\", \"U\"], [\"1\",\"2\",\"3\"], \"injury_at_work\")\n",
        "  data = data.na.replace([\"M\", \"F\"], [\"1\",\"2\"], \"sex\")\n",
        "  data = data.na.replace([\"S\", \"M\", \"W\", \"D\", \"U\"], [\"1\",\"2\", \"3\", \"4\", \"5\"], \"marital_status\")\n",
        "  data = data.select(\"icd_death_code\",\"resident\",\"education\",\"month_of_death\",\"sex\", \"age\",\"marital_status\",\"day_of_week_of_death\",\"current_data_year\",\"injury_at_work\",\"manner_of_death\",\"race\",\"hispanic\",\"entity_condition_1\",\"entity_condition_2\",\"entity_condition_3\")\n",
        "  data = data.na.drop()\n",
        "  return data"
      ],
      "execution_count": null,
      "outputs": []
    },
    {
      "cell_type": "code",
      "metadata": {
        "id": "wzLabNP2QHls"
      },
      "source": [
        ""
      ],
      "execution_count": null,
      "outputs": []
    },
    {
      "cell_type": "markdown",
      "metadata": {
        "id": "zECNPlpYQ1eH"
      },
      "source": [
        "Per previous calculations, the top 60 causes of death were used which each one affected at least 10,000 people in 2015.   \n",
        "The codes are going to be simplified and renamed to smaller categories as there are mutiple that are similar (i.e. several heart conditions or cancer) and thus be slightly more broad.   \n",
        "From that list, there are 16 unique codes we will use (one was unknown which we will disregard).\n",
        "Less might be used if there are issues.  \n",
        "I251: Heart Failure (coded as 1)  \n",
        "C349: Cancer (coded as 2)  \n",
        "J449: COPD (coded as 3)  \n",
        "G309: Alzheimer's (coded as 4)  \n",
        "F03: Dementia (coded as 5)  \n",
        "J189: Pneumonia (coded as 6)  \n",
        "A419: Sepsis (coded as 7)  \n",
        "E149: Diabetes (coded as 8)  \n",
        "G20: Parkinson's (coded as 9)  \n",
        "X44: Drug exposure  (coded as 10)  \n",
        "N185: Kidney Disease (coded as 11)  \n",
        "K746: Cirrhosis of the Liver (coded as 12)  \n",
        "W19: Falling (coded as 13)  \n",
        "X74: Self-Harm (coded as 14)  \n",
        "V892: Auto Accident (coded as 15)   \n",
        "X95: Assault by Other (coded as 16)"
      ]
    },
    {
      "cell_type": "code",
      "metadata": {
        "id": "DR6TTtBTQHrt"
      },
      "source": [
        "top_list = [\"I251\",\"C349\",\"J449\",\"G309\",\"F03\",\"J189\",\"A419\",\"E149\",\"G20\",\"X44\",\"N185\",\"K746\",\"W19\",\"X74\",\"V892\",\"X95\"]"
      ],
      "execution_count": null,
      "outputs": []
    },
    {
      "cell_type": "code",
      "metadata": {
        "id": "i7c7_zg0QH3v"
      },
      "source": [
        "# use this after the initial data clean up functino for the data\n",
        "# code is taking the top 60 conditions and grouping them into like categories (i.e. replacing certain codes with the similar code) and then filtering only those 16 codes as listed above\n",
        "# another notebook was use to figure this out\n",
        "# after renaming the categories, they are filtered to only show these\n",
        "def code_clean(data):\n",
        "  data = data.na.replace([\"C159\",\"C169\",\"C189\",\"C220\",\"C259\",\"C509\",\"C56\",\"C61\",\"C64\",\"C679\",\"C719\",\"C80\",\"C859\",\"C900\"],\\\n",
        "                         [\"C349\",\"C349\",\"C349\",\"C349\",\"C349\",\"C349\",\"C349\",\"C349\",\"C349\",\"C349\",\"C349\",\"C349\",\"C349\",\"C349\"],\"icd_death_code\")\n",
        "  data = data.na.replace([\"E119\",\"E142\"],\\\n",
        "                         [\"E149\",\"E149\"],\"icd_death_code\")\n",
        "  data = data.na.replace([\"F019\"],\\\n",
        "                         [\"F03\"],\"icd_death_code\")\n",
        "  data = data.na.replace([\"I10\",\"I110\",\"I119\",\"I120\",\"I219\",\"I250\",\"I255\",\"I129\",\"I350\",\"I1429\",\"I469\",\"I48\",\"I500\",\"I509\",\"I619\",\"I164\",\"I694\"],\\\n",
        "                         [\"I251\",\"I251\",\"I251\",\"I251\",\"I251\",\"I251\",\"I251\",\"I251\",\"I251\",\"I251\",\"I251\",\"I251\",\"I251\",\"I251\",\"I251\",\"I251\",\"I251\"],\"icd_death_code\")\n",
        "  data = data.na.replace([\"J440\"],\\\n",
        "                         [\"J449\"],\"icd_death_code\")\n",
        "  data = data.na.replace([\"J690\",\"J841\"],\\\n",
        "                         [\"J189\",\"J189\"],\"icd_death_code\")\n",
        "  data = data.na.replace([\"K703\"],\\\n",
        "                         [\"K746\"],\"icd_death_code\")\n",
        "  data = data.na.replace([\"N19\",\"N390\"],\\\n",
        "                         [\"N185\",\"N185\"],\"icd_death_code\")\n",
        "  data = data.na.replace([\"W18\"],\\\n",
        "                         [\"W19\"],\"icd_death_code\")\n",
        "  data = data.na.replace([\"X42\"],\\\n",
        "                         [\"X44\"],\"icd_death_code\")\n",
        "  data = data.na.replace([\"X70\"],\\\n",
        "                         [\"X74\"],\"icd_death_code\")\n",
        "  data = data.filter(data.icd_death_code.isin(top_list))\n",
        "  return data"
      ],
      "execution_count": null,
      "outputs": []
    },
    {
      "cell_type": "code",
      "metadata": {
        "id": "fB_5THpqudHj"
      },
      "source": [
        "# for a smaller data set, only grabbing the top 16 causes without renaming the rest of the top 60 causes to fit in these categories\n",
        "# condering the top 16 has a lot of overlap in types\n",
        "def code_clean_trim(data):\n",
        "  data = data.filter(data.icd_death_code.isin(top_list))\n",
        "  return data"
      ],
      "execution_count": null,
      "outputs": []
    },
    {
      "cell_type": "code",
      "metadata": {
        "id": "sgB1PPG_vJzG"
      },
      "source": [
        "# UPLOAD TO DATABASE BEFORE RUNNING THIS FUNCTION\n",
        "# Just personal preference that the database is slightly more clear with the code names as there are several to get renamed\n",
        "def code_convert(data):\n",
        "  data = data.na.replace(['I251', 'C349', 'J449', 'G309', 'F03', 'J189', 'A419', 'E149', 'G20', 'X44', 'N185', 'K746', 'W19', 'X74','V892', 'X95'],\\\n",
        "  [\"1\",\"2\",\"3\",\"4\",\"5\",\"6\",\"7\",\"8\",\"9\",\"10\",\"11\",\"12\",\"13\",\"14\",\"15\",\"16\"], \"icd_death_code\")\n",
        "  return data"
      ],
      "execution_count": null,
      "outputs": []
    },
    {
      "cell_type": "code",
      "metadata": {
        "id": "CcbRA5E912OQ",
        "colab": {
          "base_uri": "https://localhost:8080/",
          "height": 231
        },
        "outputId": "a65010ba-59f1-478c-f681-45ee5b7535cf"
      },
      "source": [
        "url =\"https://aperezbucket.s3.us-east-2.amazonaws.com/2015_data.csv\"\n",
        "spark.sparkContext.addFile(url)\n",
        "death_2015 = spark.read.csv(SparkFiles.get(\"2015_data.csv\"), sep=\",\", header=True)\n",
        "\n",
        "#run the function for clean_up and show that dataframe\n",
        "death_2015_final = data_clean_up(death_2015)\n",
        "# death_2015_final.show(5)"
      ],
      "execution_count": null,
      "outputs": [
        {
          "output_type": "error",
          "ename": "NameError",
          "evalue": "ignored",
          "traceback": [
            "\u001b[0;31m---------------------------------------------------------------------------\u001b[0m",
            "\u001b[0;31mNameError\u001b[0m                                 Traceback (most recent call last)",
            "\u001b[0;32m<ipython-input-4-afca73e2ab69>\u001b[0m in \u001b[0;36m<module>\u001b[0;34m()\u001b[0m\n\u001b[1;32m      1\u001b[0m \u001b[0murl\u001b[0m \u001b[0;34m=\u001b[0m\u001b[0;34m\"https://aperezbucket.s3.us-east-2.amazonaws.com/2015_data.csv\"\u001b[0m\u001b[0;34m\u001b[0m\u001b[0;34m\u001b[0m\u001b[0m\n\u001b[0;32m----> 2\u001b[0;31m \u001b[0mspark\u001b[0m\u001b[0;34m.\u001b[0m\u001b[0msparkContext\u001b[0m\u001b[0;34m.\u001b[0m\u001b[0maddFile\u001b[0m\u001b[0;34m(\u001b[0m\u001b[0murl\u001b[0m\u001b[0;34m)\u001b[0m\u001b[0;34m\u001b[0m\u001b[0;34m\u001b[0m\u001b[0m\n\u001b[0m\u001b[1;32m      3\u001b[0m \u001b[0mdeath_2015\u001b[0m \u001b[0;34m=\u001b[0m \u001b[0mspark\u001b[0m\u001b[0;34m.\u001b[0m\u001b[0mread\u001b[0m\u001b[0;34m.\u001b[0m\u001b[0mcsv\u001b[0m\u001b[0;34m(\u001b[0m\u001b[0mSparkFiles\u001b[0m\u001b[0;34m.\u001b[0m\u001b[0mget\u001b[0m\u001b[0;34m(\u001b[0m\u001b[0;34m\"2015_data.csv\"\u001b[0m\u001b[0;34m)\u001b[0m\u001b[0;34m,\u001b[0m \u001b[0msep\u001b[0m\u001b[0;34m=\u001b[0m\u001b[0;34m\",\"\u001b[0m\u001b[0;34m,\u001b[0m \u001b[0mheader\u001b[0m\u001b[0;34m=\u001b[0m\u001b[0;32mTrue\u001b[0m\u001b[0;34m)\u001b[0m\u001b[0;34m\u001b[0m\u001b[0;34m\u001b[0m\u001b[0m\n\u001b[1;32m      4\u001b[0m \u001b[0;34m\u001b[0m\u001b[0m\n\u001b[1;32m      5\u001b[0m \u001b[0;31m#run the function for clean_up and show that dataframe\u001b[0m\u001b[0;34m\u001b[0m\u001b[0;34m\u001b[0m\u001b[0;34m\u001b[0m\u001b[0m\n",
            "\u001b[0;31mNameError\u001b[0m: name 'spark' is not defined"
          ]
        }
      ]
    },
    {
      "cell_type": "code",
      "metadata": {
        "colab": {
          "base_uri": "https://localhost:8080/"
        },
        "id": "VMtDvE6S12YW",
        "outputId": "b82f59f2-b319-471c-ff20-ad370e46c0e6"
      },
      "source": [
        "death_2015_final.count()"
      ],
      "execution_count": null,
      "outputs": [
        {
          "output_type": "execute_result",
          "data": {
            "text/plain": [
              "2239254"
            ]
          },
          "metadata": {
            "tags": []
          },
          "execution_count": 21
        }
      ]
    },
    {
      "cell_type": "code",
      "metadata": {
        "id": "r4X-aoITrC06"
      },
      "source": [
        ""
      ],
      "execution_count": null,
      "outputs": []
    },
    {
      "cell_type": "code",
      "metadata": {
        "id": "JTifxR99rDD7"
      },
      "source": [
        "  death_2015_clean1 = death_2015_final.na.replace([\"C509\",\"C259\",\"C189\",\"C61\",\"C80\"],\\\n",
        "                         [\"C349\",\"C349\",\"C349\",\"C349\",\"C349\",],\"icd_death_code\")"
      ],
      "execution_count": null,
      "outputs": []
    },
    {
      "cell_type": "code",
      "metadata": {
        "id": "TJyM10DioS7C"
      },
      "source": [
        "  death_2015_clean2 = death_2015_final.na.replace([\"I219\",\"I500\",\"I64\",\"I250\",\"I119\",\"I48\"],\\\n",
        "                         [\"I251\",\"I251\",\"I251\",\"I251\",\"I251\",\"I251\"],\"icd_death_code\")"
      ],
      "execution_count": null,
      "outputs": []
    },
    {
      "cell_type": "code",
      "metadata": {
        "id": "Po9DAHRToTEL"
      },
      "source": [
        ""
      ],
      "execution_count": null,
      "outputs": []
    },
    {
      "cell_type": "code",
      "metadata": {
        "id": "_AQvfQg72y5L"
      },
      "source": [
        "# ONLY USE TO HAVE SMALLER DATA SET\n",
        "# USE NEXT CELL FOR MORE DATA\n",
        "death_2015_clean_trim = code_clean_trim(death_2015_clean2)\n",
        "# death_2015_clean_trim.count()"
      ],
      "execution_count": null,
      "outputs": []
    },
    {
      "cell_type": "code",
      "metadata": {
        "id": "Vv342vy112fe"
      },
      "source": [
        "# clean data and filter\n",
        "\n",
        "\n",
        "death_2015_clean = code_clean(death_2015_final)\n",
        "# death_2015_clean.show(5)   "
      ],
      "execution_count": null,
      "outputs": []
    },
    {
      "cell_type": "code",
      "metadata": {
        "id": "BENmCJ59FKUz"
      },
      "source": [
        ""
      ],
      "execution_count": null,
      "outputs": []
    },
    {
      "cell_type": "code",
      "metadata": {
        "colab": {
          "base_uri": "https://localhost:8080/"
        },
        "id": "_0ItxnJ_rYSm",
        "outputId": "1e2f173e-19e0-4821-dba3-a1868caf4a1c"
      },
      "source": [
        "death_2015_clean.count()"
      ],
      "execution_count": null,
      "outputs": [
        {
          "output_type": "execute_result",
          "data": {
            "text/plain": [
              "748017"
            ]
          },
          "metadata": {
            "tags": []
          },
          "execution_count": 13
        }
      ]
    },
    {
      "cell_type": "code",
      "metadata": {
        "id": "I7pDu_iC5IEx"
      },
      "source": [
        "url =\"https://aperezbucket.s3.us-east-2.amazonaws.com/2014_data.csv\"\n",
        "spark.sparkContext.addFile(url)\n",
        "death_2014 = spark.read.csv(SparkFiles.get(\"2014_data.csv\"), sep=\",\", header=True)\n",
        "\n",
        "#run the function for clean_up and show that dataframe\n",
        "death_2014_final = data_clean_up(death_2014)"
      ],
      "execution_count": null,
      "outputs": []
    },
    {
      "cell_type": "code",
      "metadata": {
        "id": "vbeB5OF25eQ2"
      },
      "source": [
        "url =\"https://aperezbucket.s3.us-east-2.amazonaws.com/2013_data.csv\"\n",
        "spark.sparkContext.addFile(url)\n",
        "death_2013 = spark.read.csv(SparkFiles.get(\"2013_data.csv\"), sep=\",\", header=True)\n",
        "\n",
        "#run the function for clean_up and show that dataframe\n",
        "death_2013_final = data_clean_up2(death_2013)"
      ],
      "execution_count": null,
      "outputs": []
    },
    {
      "cell_type": "code",
      "metadata": {
        "id": "2khxzVHr5lLl"
      },
      "source": [
        "url =\"https://aperezbucket.s3.us-east-2.amazonaws.com/2012_data.csv\"\n",
        "spark.sparkContext.addFile(url)\n",
        "death_2012 = spark.read.csv(SparkFiles.get(\"2012_data.csv\"), sep=\",\", header=True)\n",
        "\n",
        "#run the function for clean_up and show that dataframe\n",
        "death_2012_final = data_clean_up2(death_2012)"
      ],
      "execution_count": null,
      "outputs": []
    },
    {
      "cell_type": "code",
      "metadata": {
        "id": "KgplkruX5leZ"
      },
      "source": [
        "url =\"https://aperezbucket.s3.us-east-2.amazonaws.com/2011_data.csv\"\n",
        "spark.sparkContext.addFile(url)\n",
        "death_2011 = spark.read.csv(SparkFiles.get(\"2011_data.csv\"), sep=\",\", header=True)\n",
        "\n",
        "#run the function for clean_up and show that dataframe\n",
        "death_2011_final = data_clean_up2(death_2011)"
      ],
      "execution_count": null,
      "outputs": []
    },
    {
      "cell_type": "code",
      "metadata": {
        "id": "PxzBnmGG5lm4"
      },
      "source": [
        "url =\"https://aperezbucket.s3.us-east-2.amazonaws.com/2010_data.csv\"\n",
        "spark.sparkContext.addFile(url)\n",
        "death_2010 = spark.read.csv(SparkFiles.get(\"2010_data.csv\"), sep=\",\", header=True)\n",
        "\n",
        "#run the function for clean_up and show that dataframe\n",
        "death_2010_final = data_clean_up2(death_2010)"
      ],
      "execution_count": null,
      "outputs": []
    },
    {
      "cell_type": "code",
      "metadata": {
        "id": "YYUWG25n5lwn"
      },
      "source": [
        "url =\"https://aperezbucket.s3.us-east-2.amazonaws.com/2009_data.csv\"\n",
        "spark.sparkContext.addFile(url)\n",
        "death_2009 = spark.read.csv(SparkFiles.get(\"2009_data.csv\"), sep=\",\", header=True)\n",
        "\n",
        "#run the function for clean_up and show that dataframe\n",
        "death_2009_final = data_clean_up2(death_2009)"
      ],
      "execution_count": null,
      "outputs": []
    },
    {
      "cell_type": "code",
      "metadata": {
        "id": "gJb14pSb5l4_"
      },
      "source": [
        "url =\"https://aperezbucket.s3.us-east-2.amazonaws.com/2008_data.csv\"\n",
        "spark.sparkContext.addFile(url)\n",
        "death_2008 = spark.read.csv(SparkFiles.get(\"2008_data.csv\"), sep=\",\", header=True)\n",
        "\n",
        "#run the function for clean_up and show that dataframe\n",
        "death_2008_final = data_clean_up2(death_2008)"
      ],
      "execution_count": null,
      "outputs": []
    },
    {
      "cell_type": "code",
      "metadata": {
        "id": "YWeV8XX25mA7"
      },
      "source": [
        "url =\"https://aperezbucket.s3.us-east-2.amazonaws.com/2007_data.csv\"\n",
        "spark.sparkContext.addFile(url)\n",
        "death_2007 = spark.read.csv(SparkFiles.get(\"2007_data.csv\"), sep=\",\", header=True)\n",
        "\n",
        "#run the function for clean_up and show that dataframe\n",
        "death_2007_final = data_clean_up2(death_2007)"
      ],
      "execution_count": null,
      "outputs": []
    },
    {
      "cell_type": "code",
      "metadata": {
        "id": "O3_qufdu536F"
      },
      "source": [
        "url =\"https://aperezbucket.s3.us-east-2.amazonaws.com/2006_data.csv\"\n",
        "spark.sparkContext.addFile(url)\n",
        "death_2006 = spark.read.csv(SparkFiles.get(\"2006_data.csv\"), sep=\",\", header=True)\n",
        "\n",
        "#run the function for clean_up and show that dataframe\n",
        "death_2006_final = data_clean_up2(death_2006)"
      ],
      "execution_count": null,
      "outputs": []
    },
    {
      "cell_type": "code",
      "metadata": {
        "id": "cTCqq3Ei5mJc"
      },
      "source": [
        "url =\"https://aperezbucket.s3.us-east-2.amazonaws.com/2005_data.csv\"\n",
        "spark.sparkContext.addFile(url)\n",
        "death_2005 = spark.read.csv(SparkFiles.get(\"2005_data.csv\"), sep=\",\", header=True)\n",
        "\n",
        "#run the function for clean_up and show that dataframe\n",
        "death_2005_final = data_clean_up2(death_2005)"
      ],
      "execution_count": null,
      "outputs": []
    },
    {
      "cell_type": "code",
      "metadata": {
        "id": "RyQwCi2o6IHT"
      },
      "source": [
        "# COMBINE ALL DATAFRAMES\n",
        "#SKIP if USING TOO MUCH MEMORY OR IF NEED SMALLER DATASET\n",
        "\n",
        "# death1 = death_2015_clean.unionByName(death_2014_clean)\n",
        "# death2 = death1.unionByName(death_2013_clean)\n",
        "# death3 = death2.unionByName(death_2012_clean)\n",
        "# death4 = death3.unionByName(death_2011_clean)\n",
        "# death5 = death4.unionByName(death_2010_clean)\n",
        "# death6 = death5.unionByName(death_2009_clean)\n",
        "# death7 = death6.unionByName(death_2008_clean)\n",
        "# death8 = death7.unionByName(death_2007_clean)\n",
        "# death9 = death8.unionByName(death_2006_clean)\n",
        "# death10 = death9.unionByName(death_2005_clean)\n",
        "# death10.count()"
      ],
      "execution_count": null,
      "outputs": []
    },
    {
      "cell_type": "code",
      "metadata": {
        "id": "t6-mKRwSVmW4"
      },
      "source": [
        ""
      ],
      "execution_count": null,
      "outputs": []
    },
    {
      "cell_type": "code",
      "metadata": {
        "id": "ZKP6V3ZTVmgA"
      },
      "source": [
        ""
      ],
      "execution_count": null,
      "outputs": []
    },
    {
      "cell_type": "code",
      "metadata": {
        "id": "ScmsDwhoVmmM"
      },
      "source": [
        ""
      ],
      "execution_count": null,
      "outputs": []
    },
    {
      "cell_type": "code",
      "metadata": {
        "id": "qt_0sLKbVmq1"
      },
      "source": [
        ""
      ],
      "execution_count": null,
      "outputs": []
    },
    {
      "cell_type": "code",
      "metadata": {
        "id": "apUhY5jVVmv0"
      },
      "source": [
        ""
      ],
      "execution_count": null,
      "outputs": []
    },
    {
      "cell_type": "code",
      "metadata": {
        "id": "kCdFgKU0Vm1S"
      },
      "source": [
        ""
      ],
      "execution_count": null,
      "outputs": []
    },
    {
      "cell_type": "code",
      "metadata": {
        "id": "SVx4TJPVVm54"
      },
      "source": [
        ""
      ],
      "execution_count": null,
      "outputs": []
    },
    {
      "cell_type": "code",
      "metadata": {
        "id": "ENKTdHic12mK"
      },
      "source": [
        "# TO GET ALL NUMBERS TO RUN PROPER MUST ANNOTATE EACH ONTO FIRST AND ADD AN ID COLUMN THEN LOAD IN SQL \n",
        "# IF USING MULTIPLE DATAFRAMES, COMBINE BEFORE DOING THIS\n",
        "from pyspark.sql.functions import monotonically_increasing_id\n",
        "\n",
        "# this is for when all the dataframes are combined\n",
        "# death_numbered = death10.withColumn(\"id\", monotonically_increasing_id() +1)\n",
        "\n",
        "death_numbered = death_2015_clean_trim.withColumn(\"id\", monotonically_increasing_id() +1)\n",
        "\n",
        "# death_numbered = death_2015_clean.withColumn(\"id\", monotonically_increasing_id() +1)"
      ],
      "execution_count": null,
      "outputs": []
    },
    {
      "cell_type": "code",
      "metadata": {
        "id": "OkzjTwmrro22"
      },
      "source": [
        ""
      ],
      "execution_count": null,
      "outputs": []
    },
    {
      "cell_type": "code",
      "metadata": {
        "id": "4FZk_CyTroPd"
      },
      "source": [
        ""
      ],
      "execution_count": null,
      "outputs": []
    },
    {
      "cell_type": "code",
      "metadata": {
        "id": "uHvZYgMc4Iz1",
        "colab": {
          "base_uri": "https://localhost:8080/"
        },
        "outputId": "697b570c-be9e-4288-f7d1-a26488ecda99"
      },
      "source": [
        "death_numbered.count()"
      ],
      "execution_count": null,
      "outputs": [
        {
          "output_type": "execute_result",
          "data": {
            "text/plain": [
              "748017"
            ]
          },
          "metadata": {
            "tags": []
          },
          "execution_count": 15
        }
      ]
    },
    {
      "cell_type": "code",
      "metadata": {
        "id": "dX7mdmiy12qc",
        "colab": {
          "base_uri": "https://localhost:8080/"
        },
        "outputId": "3a1950d8-990a-46d3-a05b-270c3445090a"
      },
      "source": [
        "death_numbered.printSchema()"
      ],
      "execution_count": null,
      "outputs": [
        {
          "output_type": "stream",
          "text": [
            "root\n",
            " |-- icd_death_code: string (nullable = true)\n",
            " |-- resident: integer (nullable = true)\n",
            " |-- education: integer (nullable = true)\n",
            " |-- month_of_death: integer (nullable = true)\n",
            " |-- sex: string (nullable = true)\n",
            " |-- age: integer (nullable = true)\n",
            " |-- marital_status: string (nullable = true)\n",
            " |-- day_of_week_of_death: integer (nullable = true)\n",
            " |-- current_data_year: integer (nullable = true)\n",
            " |-- injury_at_work: string (nullable = true)\n",
            " |-- manner_of_death: integer (nullable = true)\n",
            " |-- race: integer (nullable = true)\n",
            " |-- hispanic: integer (nullable = true)\n",
            " |-- entity_condition_1: string (nullable = false)\n",
            " |-- entity_condition_2: string (nullable = false)\n",
            " |-- entity_condition_3: string (nullable = false)\n",
            " |-- id: long (nullable = false)\n",
            "\n"
          ],
          "name": "stdout"
        }
      ]
    },
    {
      "cell_type": "code",
      "metadata": {
        "id": "pWNjWh-K12v5"
      },
      "source": [
        "# CONNECT TO DATABASE AND LOAD IN DATA\n",
        "mode = \"append\"\n",
        "jdbc_url=\"jdbc:postgresql://database-1.ck7rneirj52d.us-east-2.rds.amazonaws.com:5432/Death_Database\"\n",
        "config = {\"user\":\"root\", \n",
        "          \"password\": \"postgres\", \n",
        "          \"driver\":\"org.postgresql.Driver\"}"
      ],
      "execution_count": null,
      "outputs": []
    },
    {
      "cell_type": "code",
      "metadata": {
        "id": "Cp0URjJE121L"
      },
      "source": [
        "death_numbered.write.jdbc(url=jdbc_url, table='cdc_death_table', mode=mode, properties=config)"
      ],
      "execution_count": null,
      "outputs": []
    },
    {
      "cell_type": "code",
      "metadata": {
        "id": "P2psxpSm4N1p"
      },
      "source": [
        "# now we can replace all the data with numbers \n",
        "death_final = code_convert(death_numbered)\n",
        "# death_final.show(5)"
      ],
      "execution_count": null,
      "outputs": []
    },
    {
      "cell_type": "code",
      "metadata": {
        "id": "LE-yL7zH4N-I",
        "colab": {
          "base_uri": "https://localhost:8080/"
        },
        "outputId": "a52e3a8f-7115-4067-fbe5-2f6c9e151a7d"
      },
      "source": [
        "death_final.count()"
      ],
      "execution_count": null,
      "outputs": [
        {
          "output_type": "execute_result",
          "data": {
            "text/plain": [
              "1087358"
            ]
          },
          "metadata": {
            "tags": []
          },
          "execution_count": 22
        }
      ]
    },
    {
      "cell_type": "code",
      "metadata": {
        "id": "yAnG11-Z4OEk"
      },
      "source": [
        "# renaming to match maching learning coding\n",
        "# don't need if using Pandas\n",
        "# death_machine = death_final"
      ],
      "execution_count": null,
      "outputs": []
    },
    {
      "cell_type": "code",
      "metadata": {
        "id": "Ws-RvDdu-r0p"
      },
      "source": [
        "# convert to pandas\n",
        "death_machine = death_final.select(\"*\").toPandas()\n",
        "# death_machine"
      ],
      "execution_count": null,
      "outputs": []
    },
    {
      "cell_type": "code",
      "metadata": {
        "colab": {
          "base_uri": "https://localhost:8080/"
        },
        "id": "54m-b7x5qGrD",
        "outputId": "af5d0005-a5e3-4875-9718-9f3b4612d5ba"
      },
      "source": [
        "death_machine.value_counts(\"icd_death_code\")"
      ],
      "execution_count": null,
      "outputs": [
        {
          "output_type": "execute_result",
          "data": {
            "text/plain": [
              "icd_death_code\n",
              "I251    428754\n",
              "C349    126123\n",
              "J449     94129\n",
              "F03      92868\n",
              "G309     84389\n",
              "J189     36206\n",
              "A419     32554\n",
              "E149     25512\n",
              "G20      22682\n",
              "X44      19194\n",
              "N185     15933\n",
              "K746     15325\n",
              "W19      14784\n",
              "X74      12859\n",
              "V892     11247\n",
              "X95      11184\n",
              "dtype: int64"
            ]
          },
          "metadata": {
            "tags": []
          },
          "execution_count": 32
        }
      ]
    },
    {
      "cell_type": "code",
      "metadata": {
        "id": "nwyXPaPcxG0K"
      },
      "source": [
        "ten_list = [\"I251\",\"C349\",\"J449\",\"G309\",\"F03\",\"J189\",\"A419\",\"E149\",\"G20\",\"X44\"]"
      ],
      "execution_count": null,
      "outputs": []
    },
    {
      "cell_type": "code",
      "metadata": {
        "id": "RIz6dbE5xHA7"
      },
      "source": [
        "top_ten = death_numbered.filter(death_numbered.icd_death_code.isin(ten_list))"
      ],
      "execution_count": null,
      "outputs": []
    },
    {
      "cell_type": "code",
      "metadata": {
        "id": "XNLx6F0DxHFL"
      },
      "source": [
        "death_machine2 = top_ten.select(\"*\").toPandas()"
      ],
      "execution_count": null,
      "outputs": []
    },
    {
      "cell_type": "code",
      "metadata": {
        "colab": {
          "base_uri": "https://localhost:8080/"
        },
        "id": "XIwTWXlqxHKp",
        "outputId": "518621b9-14ae-44ab-d6ae-367b7f938bb5"
      },
      "source": [
        "death_machine2.value_counts(\"icd_death_code\")"
      ],
      "execution_count": null,
      "outputs": [
        {
          "output_type": "execute_result",
          "data": {
            "text/plain": [
              "icd_death_code\n",
              "I251    428754\n",
              "C349    126123\n",
              "J449     94129\n",
              "F03      92868\n",
              "G309     84389\n",
              "J189     36206\n",
              "A419     32554\n",
              "E149     25512\n",
              "G20      22682\n",
              "X44      19194\n",
              "dtype: int64"
            ]
          },
          "metadata": {
            "tags": []
          },
          "execution_count": 114
        }
      ]
    },
    {
      "cell_type": "code",
      "metadata": {
        "id": "mIIcBMOj4OKt"
      },
      "source": [
        "###MACHINE LEARNING SET UP VARIABLES\n",
        "import sklearn\n",
        "import sklearn.datasets\n",
        "import numpy as np\n",
        "from sklearn.datasets import make_classification\n",
        "from sklearn.model_selection import train_test_split\n",
        "from sklearn.preprocessing import LabelEncoder, MinMaxScaler\n",
        "import os\n",
        "import tensorflow as tf\n",
        "from tensorflow.keras.models import Sequential\n",
        "from tensorflow.keras.layers import Dense"
      ],
      "execution_count": null,
      "outputs": []
    },
    {
      "cell_type": "code",
      "metadata": {
        "id": "LT2YMMc7-818"
      },
      "source": [
        "wanted_data = death_machine[[\"education\",\"sex\", \"age\", \"marital_status\",\"race\", \"hispanic\"]]\n",
        "# wanted_data"
      ],
      "execution_count": null,
      "outputs": []
    },
    {
      "cell_type": "code",
      "metadata": {
        "colab": {
          "base_uri": "https://localhost:8080/",
          "height": 224
        },
        "id": "ctXO7xjLrFNC",
        "outputId": "05f105bd-0b85-42c6-8f6f-139a1c9befeb"
      },
      "source": [
        "death_machine.head(5)"
      ],
      "execution_count": null,
      "outputs": [
        {
          "output_type": "execute_result",
          "data": {
            "text/html": [
              "<div>\n",
              "<style scoped>\n",
              "    .dataframe tbody tr th:only-of-type {\n",
              "        vertical-align: middle;\n",
              "    }\n",
              "\n",
              "    .dataframe tbody tr th {\n",
              "        vertical-align: top;\n",
              "    }\n",
              "\n",
              "    .dataframe thead th {\n",
              "        text-align: right;\n",
              "    }\n",
              "</style>\n",
              "<table border=\"1\" class=\"dataframe\">\n",
              "  <thead>\n",
              "    <tr style=\"text-align: right;\">\n",
              "      <th></th>\n",
              "      <th>icd_death_code</th>\n",
              "      <th>resident</th>\n",
              "      <th>education</th>\n",
              "      <th>month_of_death</th>\n",
              "      <th>sex</th>\n",
              "      <th>age</th>\n",
              "      <th>marital_status</th>\n",
              "      <th>day_of_week_of_death</th>\n",
              "      <th>current_data_year</th>\n",
              "      <th>injury_at_work</th>\n",
              "      <th>manner_of_death</th>\n",
              "      <th>race</th>\n",
              "      <th>hispanic</th>\n",
              "      <th>entity_condition_1</th>\n",
              "      <th>entity_condition_2</th>\n",
              "      <th>entity_condition_3</th>\n",
              "      <th>id</th>\n",
              "    </tr>\n",
              "  </thead>\n",
              "  <tbody>\n",
              "    <tr>\n",
              "      <th>0</th>\n",
              "      <td>1</td>\n",
              "      <td>1</td>\n",
              "      <td>3</td>\n",
              "      <td>1</td>\n",
              "      <td>1</td>\n",
              "      <td>84</td>\n",
              "      <td>2</td>\n",
              "      <td>1</td>\n",
              "      <td>2015</td>\n",
              "      <td>3</td>\n",
              "      <td>7</td>\n",
              "      <td>1</td>\n",
              "      <td>6</td>\n",
              "      <td>11I500</td>\n",
              "      <td>61L031</td>\n",
              "      <td>0</td>\n",
              "      <td>1</td>\n",
              "    </tr>\n",
              "    <tr>\n",
              "      <th>1</th>\n",
              "      <td>2</td>\n",
              "      <td>1</td>\n",
              "      <td>6</td>\n",
              "      <td>1</td>\n",
              "      <td>1</td>\n",
              "      <td>70</td>\n",
              "      <td>2</td>\n",
              "      <td>2</td>\n",
              "      <td>2015</td>\n",
              "      <td>3</td>\n",
              "      <td>7</td>\n",
              "      <td>1</td>\n",
              "      <td>6</td>\n",
              "      <td>11I469</td>\n",
              "      <td>21R042</td>\n",
              "      <td>31C349</td>\n",
              "      <td>2</td>\n",
              "    </tr>\n",
              "    <tr>\n",
              "      <th>2</th>\n",
              "      <td>4</td>\n",
              "      <td>1</td>\n",
              "      <td>3</td>\n",
              "      <td>1</td>\n",
              "      <td>2</td>\n",
              "      <td>91</td>\n",
              "      <td>3</td>\n",
              "      <td>6</td>\n",
              "      <td>2015</td>\n",
              "      <td>3</td>\n",
              "      <td>7</td>\n",
              "      <td>1</td>\n",
              "      <td>6</td>\n",
              "      <td>11G309</td>\n",
              "      <td>0</td>\n",
              "      <td>0</td>\n",
              "      <td>3</td>\n",
              "    </tr>\n",
              "    <tr>\n",
              "      <th>3</th>\n",
              "      <td>1</td>\n",
              "      <td>1</td>\n",
              "      <td>5</td>\n",
              "      <td>1</td>\n",
              "      <td>2</td>\n",
              "      <td>89</td>\n",
              "      <td>3</td>\n",
              "      <td>5</td>\n",
              "      <td>2015</td>\n",
              "      <td>3</td>\n",
              "      <td>7</td>\n",
              "      <td>1</td>\n",
              "      <td>6</td>\n",
              "      <td>11I250</td>\n",
              "      <td>21S720</td>\n",
              "      <td>61X590</td>\n",
              "      <td>4</td>\n",
              "    </tr>\n",
              "    <tr>\n",
              "      <th>4</th>\n",
              "      <td>1</td>\n",
              "      <td>1</td>\n",
              "      <td>3</td>\n",
              "      <td>1</td>\n",
              "      <td>1</td>\n",
              "      <td>82</td>\n",
              "      <td>2</td>\n",
              "      <td>1</td>\n",
              "      <td>2015</td>\n",
              "      <td>3</td>\n",
              "      <td>7</td>\n",
              "      <td>1</td>\n",
              "      <td>6</td>\n",
              "      <td>11I500</td>\n",
              "      <td>0</td>\n",
              "      <td>0</td>\n",
              "      <td>5</td>\n",
              "    </tr>\n",
              "  </tbody>\n",
              "</table>\n",
              "</div>"
            ],
            "text/plain": [
              "  icd_death_code  resident  education  ...  entity_condition_2 entity_condition_3  id\n",
              "0              1         1          3  ...              61L031                  0   1\n",
              "1              2         1          6  ...              21R042             31C349   2\n",
              "2              4         1          3  ...                   0                  0   3\n",
              "3              1         1          5  ...              21S720             61X590   4\n",
              "4              1         1          3  ...                   0                  0   5\n",
              "\n",
              "[5 rows x 17 columns]"
            ]
          },
          "metadata": {
            "tags": []
          },
          "execution_count": 76
        }
      ]
    },
    {
      "cell_type": "code",
      "metadata": {
        "id": "GjMxe6lg8r9B"
      },
      "source": [
        "# For use with Pyspark not Pandas\n",
        "# data_array =  np.array(death_machine.select(\"resident\", \"education\", \"sex\", \"age\", \"marital_status\", \"injury_at_work\", \"manner_of_death\", \"race\", \"hispanic\").collect())\n",
        "# data_array =  np.array(death_machine.select(\"education\", \"sex\", \"age\", \"marital_status\", \"injury_at_work\", \"manner_of_death\", \"race\", \"hispanic\").collect())\n",
        "# data_array =  np.array(death_machine.select(\"education\",\"sex\", \"age\", \"marital_status\",\"manner_of_death\", \"race\", \"hispanic\").collect())\n",
        "# data_array =  np.array(death_machine.select(\"sex\", \"age\", \"marital_status\",\"race\", \"hispanic\").collect())\n",
        "\n",
        "\n",
        "data_array =  np.array(death_machine.select(\"education\",\"sex\", \"age\", \"marital_status\",\"race\", \"hispanic\").collect())\n",
        "y = death_machine.select(\"icd_death_code\")"
      ],
      "execution_count": null,
      "outputs": []
    },
    {
      "cell_type": "code",
      "metadata": {
        "id": "CEnV5tSH8sDA"
      },
      "source": [
        "X = data_array[:, :-1]\n",
        "y = data_array[:,-1]"
      ],
      "execution_count": null,
      "outputs": []
    },
    {
      "cell_type": "code",
      "metadata": {
        "id": "U4AKPB8n8sJi"
      },
      "source": [
        "X = X.astype(str)\n",
        "# reshape target to be a 2d array\n",
        "y = y.reshape((len(y), 1))"
      ],
      "execution_count": null,
      "outputs": []
    },
    {
      "cell_type": "code",
      "metadata": {
        "id": "dMyyoDxg8sOn"
      },
      "source": [
        "print(X.shape, y.shape)"
      ],
      "execution_count": null,
      "outputs": []
    },
    {
      "cell_type": "code",
      "metadata": {
        "id": "WwJ8VIaJ_1Hl",
        "colab": {
          "base_uri": "https://localhost:8080/"
        },
        "outputId": "2258fd0d-22d4-49c9-b6f2-d1eaacb52d67"
      },
      "source": [
        "X = wanted_data\n",
        "y = death_machine[\"icd_death_code\"]\n",
        "print(X.shape, y.shape)"
      ],
      "execution_count": null,
      "outputs": [
        {
          "output_type": "stream",
          "text": [
            "(1043743, 6) (1043743,)\n"
          ],
          "name": "stdout"
        }
      ]
    },
    {
      "cell_type": "code",
      "metadata": {
        "id": "RkMgSjfj8sXG"
      },
      "source": [
        "X_train, X_test, y_train, y_test = train_test_split(X, y, random_state=1)"
      ],
      "execution_count": null,
      "outputs": []
    },
    {
      "cell_type": "code",
      "metadata": {
        "id": "qmTeiZ6J8sdM",
        "colab": {
          "base_uri": "https://localhost:8080/"
        },
        "outputId": "72e33183-a8fe-4118-ac65-738b1d5bb8d4"
      },
      "source": [
        "print(X_train.shape, y_train.shape)\n",
        "print(X_test.shape, y_test.shape)"
      ],
      "execution_count": null,
      "outputs": [
        {
          "output_type": "stream",
          "text": [
            "(782807, 6) (782807,)\n",
            "(260936, 6) (260936,)\n"
          ],
          "name": "stdout"
        }
      ]
    },
    {
      "cell_type": "code",
      "metadata": {
        "id": "_e2DdWLj8sjg"
      },
      "source": [
        "X_train = X_train.astype(int)\n",
        "X_test = X_test.astype(int)\n",
        "y_train = y_train.astype(int)\n",
        "y_test = y_test.astype(int)"
      ],
      "execution_count": null,
      "outputs": []
    },
    {
      "cell_type": "code",
      "metadata": {
        "id": "hx7KWYPH9OWs"
      },
      "source": [
        "X_scaler = MinMaxScaler().fit(X_train)\n",
        "X_train_scaled = X_scaler.transform(X_train)\n",
        "X_test_scaled = X_scaler.transform(X_test)"
      ],
      "execution_count": null,
      "outputs": []
    },
    {
      "cell_type": "code",
      "metadata": {
        "colab": {
          "base_uri": "https://localhost:8080/"
        },
        "id": "1LLR2oDdsu6T",
        "outputId": "2b07f8d0-6433-40ec-e70e-746e28268f92"
      },
      "source": [
        "print(X_train_scaled.shape)\n",
        "print(X_test_scaled.shape)\n",
        "print(y_train.shape)\n",
        "print(y_test.shape)"
      ],
      "execution_count": null,
      "outputs": [
        {
          "output_type": "stream",
          "text": [
            "(782807, 6)\n",
            "(260936, 6)\n",
            "(782807,)\n",
            "(260936,)\n"
          ],
          "name": "stdout"
        }
      ]
    },
    {
      "cell_type": "code",
      "metadata": {
        "id": "a8J-OaSPwrL1"
      },
      "source": [
        "# from tensorflow.keras.utils import to_categorical\n",
        "# label_encoder = LabelEncoder()\n",
        "# label_encoder.fit(y_train)\n",
        "# encoded_y_train = label_encoder.transform(y_train)\n",
        "# encoded_y_test = label_encoder.transform(y_test)"
      ],
      "execution_count": null,
      "outputs": []
    },
    {
      "cell_type": "code",
      "metadata": {
        "id": "OpOErQCawrV0"
      },
      "source": [
        "# y_train_categorical = to_categorical(encoded_y_train)\n",
        "# y_test_categorical = to_categorical(encoded_y_test)"
      ],
      "execution_count": null,
      "outputs": []
    },
    {
      "cell_type": "code",
      "metadata": {
        "id": "Ct85GNO5wrcy"
      },
      "source": [
        "# y_train_categorical.shape"
      ],
      "execution_count": null,
      "outputs": []
    },
    {
      "cell_type": "code",
      "metadata": {
        "id": "olVyHFodwriK"
      },
      "source": [
        ""
      ],
      "execution_count": null,
      "outputs": []
    },
    {
      "cell_type": "code",
      "metadata": {
        "id": "kcg4NudLwrnZ"
      },
      "source": [
        ""
      ],
      "execution_count": null,
      "outputs": []
    },
    {
      "cell_type": "code",
      "metadata": {
        "id": "BVWZnbPt9Ob_"
      },
      "source": [
        "model9 = Sequential()"
      ],
      "execution_count": null,
      "outputs": []
    },
    {
      "cell_type": "code",
      "metadata": {
        "id": "Dys0P1gv9Omy"
      },
      "source": [
        "model9.add(Dense(units=100, activation='relu', input_dim=6))\n",
        "model9.add(Dense(units=100, activation='relu'))\n",
        "model9.add(Dense(units=1, activation='softmax'))"
      ],
      "execution_count": null,
      "outputs": []
    },
    {
      "cell_type": "code",
      "metadata": {
        "id": "NrFH_iYu9Or1"
      },
      "source": [
        "model9.compile(loss=\"categorical_crossentropy\", optimizer=\"adam\", metrics=['accuracy'])"
      ],
      "execution_count": null,
      "outputs": []
    },
    {
      "cell_type": "code",
      "metadata": {
        "id": "bxn_3oNb9lOw",
        "colab": {
          "base_uri": "https://localhost:8080/"
        },
        "outputId": "5e736c4d-bf49-4216-8a40-d0fa1503f144"
      },
      "source": [
        "model9.fit(\n",
        "    X_train_scaled,\n",
        "    y_train,\n",
        "    epochs=30,\n",
        "    shuffle=True,\n",
        "    verbose=2\n",
        ")"
      ],
      "execution_count": null,
      "outputs": [
        {
          "output_type": "stream",
          "text": [
            "Epoch 1/30\n",
            "24463/24463 - 33s - loss: 0.0000e+00 - accuracy: 0.4111\n",
            "Epoch 2/30\n",
            "24463/24463 - 31s - loss: 0.0000e+00 - accuracy: 0.4111\n",
            "Epoch 3/30\n",
            "24463/24463 - 32s - loss: 0.0000e+00 - accuracy: 0.4111\n",
            "Epoch 4/30\n",
            "24463/24463 - 32s - loss: 0.0000e+00 - accuracy: 0.4111\n",
            "Epoch 5/30\n",
            "24463/24463 - 31s - loss: 0.0000e+00 - accuracy: 0.4111\n",
            "Epoch 6/30\n",
            "24463/24463 - 31s - loss: 0.0000e+00 - accuracy: 0.4111\n",
            "Epoch 7/30\n",
            "24463/24463 - 31s - loss: 0.0000e+00 - accuracy: 0.4111\n",
            "Epoch 8/30\n",
            "24463/24463 - 31s - loss: 0.0000e+00 - accuracy: 0.4111\n",
            "Epoch 9/30\n",
            "24463/24463 - 31s - loss: 0.0000e+00 - accuracy: 0.4111\n",
            "Epoch 10/30\n",
            "24463/24463 - 31s - loss: 0.0000e+00 - accuracy: 0.4111\n",
            "Epoch 11/30\n",
            "24463/24463 - 31s - loss: 0.0000e+00 - accuracy: 0.4111\n",
            "Epoch 12/30\n",
            "24463/24463 - 32s - loss: 0.0000e+00 - accuracy: 0.4111\n",
            "Epoch 13/30\n",
            "24463/24463 - 31s - loss: 0.0000e+00 - accuracy: 0.4111\n",
            "Epoch 14/30\n",
            "24463/24463 - 31s - loss: 0.0000e+00 - accuracy: 0.4111\n",
            "Epoch 15/30\n",
            "24463/24463 - 31s - loss: 0.0000e+00 - accuracy: 0.4111\n",
            "Epoch 16/30\n",
            "24463/24463 - 31s - loss: 0.0000e+00 - accuracy: 0.4111\n",
            "Epoch 17/30\n",
            "24463/24463 - 31s - loss: 0.0000e+00 - accuracy: 0.4111\n",
            "Epoch 18/30\n",
            "24463/24463 - 31s - loss: 0.0000e+00 - accuracy: 0.4111\n",
            "Epoch 19/30\n",
            "24463/24463 - 31s - loss: 0.0000e+00 - accuracy: 0.4111\n",
            "Epoch 20/30\n",
            "24463/24463 - 31s - loss: 0.0000e+00 - accuracy: 0.4111\n",
            "Epoch 21/30\n",
            "24463/24463 - 31s - loss: 0.0000e+00 - accuracy: 0.4111\n",
            "Epoch 22/30\n",
            "24463/24463 - 32s - loss: 0.0000e+00 - accuracy: 0.4111\n",
            "Epoch 23/30\n",
            "24463/24463 - 31s - loss: 0.0000e+00 - accuracy: 0.4111\n",
            "Epoch 24/30\n",
            "24463/24463 - 31s - loss: 0.0000e+00 - accuracy: 0.4111\n",
            "Epoch 25/30\n",
            "24463/24463 - 31s - loss: 0.0000e+00 - accuracy: 0.4111\n",
            "Epoch 26/30\n",
            "24463/24463 - 31s - loss: 0.0000e+00 - accuracy: 0.4111\n",
            "Epoch 27/30\n",
            "24463/24463 - 31s - loss: 0.0000e+00 - accuracy: 0.4111\n",
            "Epoch 28/30\n",
            "24463/24463 - 31s - loss: 0.0000e+00 - accuracy: 0.4111\n",
            "Epoch 29/30\n",
            "24463/24463 - 31s - loss: 0.0000e+00 - accuracy: 0.4111\n",
            "Epoch 30/30\n",
            "24463/24463 - 31s - loss: 0.0000e+00 - accuracy: 0.4111\n"
          ],
          "name": "stdout"
        },
        {
          "output_type": "execute_result",
          "data": {
            "text/plain": [
              "<tensorflow.python.keras.callbacks.History at 0x7ff97c688e90>"
            ]
          },
          "metadata": {
            "tags": []
          },
          "execution_count": 89
        }
      ]
    },
    {
      "cell_type": "code",
      "metadata": {
        "id": "GBZY6Z099lUk"
      },
      "source": [
        "model9.save(\"Death_machine_keras9.h5\")"
      ],
      "execution_count": null,
      "outputs": []
    },
    {
      "cell_type": "code",
      "metadata": {
        "id": "_OxSvsFY9lbD",
        "colab": {
          "base_uri": "https://localhost:8080/"
        },
        "outputId": "72610f04-9f42-4ce1-9cc1-fa432f6347e9"
      },
      "source": [
        "len(model9.weights)\n",
        "# print(model.best_score_)\n",
        "model9.summary()"
      ],
      "execution_count": null,
      "outputs": [
        {
          "output_type": "stream",
          "text": [
            "Model: \"sequential_3\"\n",
            "_________________________________________________________________\n",
            "Layer (type)                 Output Shape              Param #   \n",
            "=================================================================\n",
            "dense_12 (Dense)             (None, 100)               700       \n",
            "_________________________________________________________________\n",
            "dense_13 (Dense)             (None, 100)               10100     \n",
            "_________________________________________________________________\n",
            "dense_14 (Dense)             (None, 1)                 101       \n",
            "=================================================================\n",
            "Total params: 10,901\n",
            "Trainable params: 10,901\n",
            "Non-trainable params: 0\n",
            "_________________________________________________________________\n"
          ],
          "name": "stdout"
        }
      ]
    },
    {
      "cell_type": "code",
      "metadata": {
        "id": "49PeIT0I9lg1"
      },
      "source": [
        "from tensorflow.keras.models import load_model\n",
        "model_9 = load_model(\"Death_machine_keras9.h5\")"
      ],
      "execution_count": null,
      "outputs": []
    },
    {
      "cell_type": "code",
      "metadata": {
        "id": "TvALfx-E9OxX",
        "colab": {
          "base_uri": "https://localhost:8080/"
        },
        "outputId": "af2f0342-1755-4469-e1df-eaea8f0ca235"
      },
      "source": [
        "model_loss, model_accuracy = model_9.evaluate(X_test_scaled, y_test, verbose=2)\n",
        "print(f\"Loss: {model_loss}, Accuracy: {model_accuracy}\")"
      ],
      "execution_count": null,
      "outputs": [
        {
          "output_type": "stream",
          "text": [
            "8155/8155 - 6s - loss: 0.0000e+00 - accuracy: 0.4099\n",
            "Loss: 0.0, Accuracy: 0.40987443923950195\n"
          ],
          "name": "stdout"
        }
      ]
    },
    {
      "cell_type": "code",
      "metadata": {
        "id": "d9kjxeB3Hw6S"
      },
      "source": [
        "encoded_predictions = np.argmax(model9.predict(X_test_scaled[:10]), axis=-1)"
      ],
      "execution_count": null,
      "outputs": []
    },
    {
      "cell_type": "code",
      "metadata": {
        "id": "CefzChzuysRD",
        "colab": {
          "base_uri": "https://localhost:8080/"
        },
        "outputId": "ebb64cfd-09a6-4b04-cbad-a1069b281676"
      },
      "source": [
        "print(f\"Predicted classes: {encoded_predictions}\")\n",
        "print(f\"Actual Labels: {list(y_test[:10])}\")"
      ],
      "execution_count": null,
      "outputs": [
        {
          "output_type": "stream",
          "text": [
            "Predicted classes: [0 0 0 0 0 0 0 0 0 0]\n",
            "Actual Labels: [14, 5, 5, 1, 1, 1, 5, 2, 4, 2]\n"
          ],
          "name": "stdout"
        }
      ]
    },
    {
      "cell_type": "code",
      "metadata": {
        "id": "-HcuADZKZbkP"
      },
      "source": [
        ""
      ],
      "execution_count": null,
      "outputs": []
    },
    {
      "cell_type": "code",
      "metadata": {
        "colab": {
          "base_uri": "https://localhost:8080/",
          "height": 224
        },
        "id": "Wx6tfLU4Zbpt",
        "outputId": "a0f4447e-a5bb-4225-d70d-099550a3bb21"
      },
      "source": [
        "death_machine2.head(5)"
      ],
      "execution_count": null,
      "outputs": [
        {
          "output_type": "execute_result",
          "data": {
            "text/html": [
              "<div>\n",
              "<style scoped>\n",
              "    .dataframe tbody tr th:only-of-type {\n",
              "        vertical-align: middle;\n",
              "    }\n",
              "\n",
              "    .dataframe tbody tr th {\n",
              "        vertical-align: top;\n",
              "    }\n",
              "\n",
              "    .dataframe thead th {\n",
              "        text-align: right;\n",
              "    }\n",
              "</style>\n",
              "<table border=\"1\" class=\"dataframe\">\n",
              "  <thead>\n",
              "    <tr style=\"text-align: right;\">\n",
              "      <th></th>\n",
              "      <th>icd_death_code</th>\n",
              "      <th>resident</th>\n",
              "      <th>education</th>\n",
              "      <th>month_of_death</th>\n",
              "      <th>sex</th>\n",
              "      <th>age</th>\n",
              "      <th>marital_status</th>\n",
              "      <th>day_of_week_of_death</th>\n",
              "      <th>current_data_year</th>\n",
              "      <th>injury_at_work</th>\n",
              "      <th>manner_of_death</th>\n",
              "      <th>race</th>\n",
              "      <th>hispanic</th>\n",
              "      <th>entity_condition_1</th>\n",
              "      <th>entity_condition_2</th>\n",
              "      <th>entity_condition_3</th>\n",
              "      <th>id</th>\n",
              "    </tr>\n",
              "  </thead>\n",
              "  <tbody>\n",
              "    <tr>\n",
              "      <th>0</th>\n",
              "      <td>I251</td>\n",
              "      <td>1</td>\n",
              "      <td>3</td>\n",
              "      <td>1</td>\n",
              "      <td>1</td>\n",
              "      <td>84</td>\n",
              "      <td>2</td>\n",
              "      <td>1</td>\n",
              "      <td>2015</td>\n",
              "      <td>3</td>\n",
              "      <td>7</td>\n",
              "      <td>1</td>\n",
              "      <td>6</td>\n",
              "      <td>11I500</td>\n",
              "      <td>61L031</td>\n",
              "      <td>0</td>\n",
              "      <td>1</td>\n",
              "    </tr>\n",
              "    <tr>\n",
              "      <th>1</th>\n",
              "      <td>C349</td>\n",
              "      <td>1</td>\n",
              "      <td>6</td>\n",
              "      <td>1</td>\n",
              "      <td>1</td>\n",
              "      <td>70</td>\n",
              "      <td>2</td>\n",
              "      <td>2</td>\n",
              "      <td>2015</td>\n",
              "      <td>3</td>\n",
              "      <td>7</td>\n",
              "      <td>1</td>\n",
              "      <td>6</td>\n",
              "      <td>11I469</td>\n",
              "      <td>21R042</td>\n",
              "      <td>31C349</td>\n",
              "      <td>2</td>\n",
              "    </tr>\n",
              "    <tr>\n",
              "      <th>2</th>\n",
              "      <td>G309</td>\n",
              "      <td>1</td>\n",
              "      <td>3</td>\n",
              "      <td>1</td>\n",
              "      <td>2</td>\n",
              "      <td>91</td>\n",
              "      <td>3</td>\n",
              "      <td>6</td>\n",
              "      <td>2015</td>\n",
              "      <td>3</td>\n",
              "      <td>7</td>\n",
              "      <td>1</td>\n",
              "      <td>6</td>\n",
              "      <td>11G309</td>\n",
              "      <td>0</td>\n",
              "      <td>0</td>\n",
              "      <td>3</td>\n",
              "    </tr>\n",
              "    <tr>\n",
              "      <th>3</th>\n",
              "      <td>I251</td>\n",
              "      <td>1</td>\n",
              "      <td>5</td>\n",
              "      <td>1</td>\n",
              "      <td>2</td>\n",
              "      <td>89</td>\n",
              "      <td>3</td>\n",
              "      <td>5</td>\n",
              "      <td>2015</td>\n",
              "      <td>3</td>\n",
              "      <td>7</td>\n",
              "      <td>1</td>\n",
              "      <td>6</td>\n",
              "      <td>11I250</td>\n",
              "      <td>21S720</td>\n",
              "      <td>61X590</td>\n",
              "      <td>4</td>\n",
              "    </tr>\n",
              "    <tr>\n",
              "      <th>4</th>\n",
              "      <td>I251</td>\n",
              "      <td>1</td>\n",
              "      <td>3</td>\n",
              "      <td>1</td>\n",
              "      <td>1</td>\n",
              "      <td>82</td>\n",
              "      <td>2</td>\n",
              "      <td>1</td>\n",
              "      <td>2015</td>\n",
              "      <td>3</td>\n",
              "      <td>7</td>\n",
              "      <td>1</td>\n",
              "      <td>6</td>\n",
              "      <td>11I500</td>\n",
              "      <td>0</td>\n",
              "      <td>0</td>\n",
              "      <td>5</td>\n",
              "    </tr>\n",
              "  </tbody>\n",
              "</table>\n",
              "</div>"
            ],
            "text/plain": [
              "  icd_death_code  resident  education  ...  entity_condition_2 entity_condition_3  id\n",
              "0           I251         1          3  ...              61L031                  0   1\n",
              "1           C349         1          6  ...              21R042             31C349   2\n",
              "2           G309         1          3  ...                   0                  0   3\n",
              "3           I251         1          5  ...              21S720             61X590   4\n",
              "4           I251         1          3  ...                   0                  0   5\n",
              "\n",
              "[5 rows x 17 columns]"
            ]
          },
          "metadata": {
            "tags": []
          },
          "execution_count": 116
        }
      ]
    },
    {
      "cell_type": "code",
      "metadata": {
        "id": "RabelWSHaIAb"
      },
      "source": [
        "wanted_data = death_machine2[[\"education\",\"sex\", \"age\", \"marital_status\",\"race\", \"hispanic\"]]"
      ],
      "execution_count": null,
      "outputs": []
    },
    {
      "cell_type": "code",
      "metadata": {
        "id": "dT35C4Jqd2Xa"
      },
      "source": [
        "from tensorflow.keras.models import Sequential\n",
        "from tensorflow.keras.layers import Dense"
      ],
      "execution_count": null,
      "outputs": []
    },
    {
      "cell_type": "code",
      "metadata": {
        "colab": {
          "base_uri": "https://localhost:8080/"
        },
        "id": "vKn477ald2dz",
        "outputId": "e868020f-1b0c-4053-e300-943dd642f314"
      },
      "source": [
        "X = wanted_data\n",
        "y = death_machine2[\"icd_death_code\"]\n",
        "print(X.shape, y.shape)"
      ],
      "execution_count": null,
      "outputs": [
        {
          "output_type": "stream",
          "text": [
            "(962411, 6) (962411,)\n"
          ],
          "name": "stdout"
        }
      ]
    },
    {
      "cell_type": "code",
      "metadata": {
        "id": "QfPXgegSd2ig"
      },
      "source": [
        "X_train, X_test, y_train, y_test = train_test_split(X, y, random_state=1)"
      ],
      "execution_count": null,
      "outputs": []
    },
    {
      "cell_type": "code",
      "metadata": {
        "colab": {
          "base_uri": "https://localhost:8080/"
        },
        "id": "JfXFbRV6yqXq",
        "outputId": "b11ab1db-401a-4cbf-fbd9-e27cb3744e99"
      },
      "source": [
        "print(X_train.shape, y_train.shape)\n",
        "print(X_test.shape, y_test.shape)"
      ],
      "execution_count": null,
      "outputs": [
        {
          "output_type": "stream",
          "text": [
            "(721808, 6) (721808,)\n",
            "(240603, 6) (240603,)\n"
          ],
          "name": "stdout"
        }
      ]
    },
    {
      "cell_type": "code",
      "metadata": {
        "id": "dey4iC20yszu"
      },
      "source": [
        "X_train = X_train.astype(int)\n",
        "X_test = X_test.astype(int)"
      ],
      "execution_count": null,
      "outputs": []
    },
    {
      "cell_type": "code",
      "metadata": {
        "id": "4Mne56ldywKR"
      },
      "source": [
        "X_scaler = MinMaxScaler().fit(X_train)\n",
        "X_train_scaled = X_scaler.transform(X_train)\n",
        "X_test_scaled = X_scaler.transform(X_test)"
      ],
      "execution_count": null,
      "outputs": []
    },
    {
      "cell_type": "code",
      "metadata": {
        "colab": {
          "base_uri": "https://localhost:8080/"
        },
        "id": "qTUHiGJLyxwP",
        "outputId": "636386df-466a-470c-f5b0-47a045693a00"
      },
      "source": [
        "print(X_train_scaled.shape)\n",
        "print(X_test_scaled.shape)\n",
        "print(y_train.shape)\n",
        "print(y_test.shape)"
      ],
      "execution_count": null,
      "outputs": [
        {
          "output_type": "stream",
          "text": [
            "(721808, 6)\n",
            "(240603, 6)\n",
            "(721808,)\n",
            "(240603,)\n"
          ],
          "name": "stdout"
        }
      ]
    },
    {
      "cell_type": "code",
      "metadata": {
        "id": "RRNPoysNyzdV"
      },
      "source": [
        "from tensorflow.keras.utils import to_categorical\n",
        "label_encoder = LabelEncoder()\n",
        "label_encoder.fit(y_train)\n",
        "encoded_y_train = label_encoder.transform(y_train)\n",
        "encoded_y_test = label_encoder.transform(y_test)"
      ],
      "execution_count": null,
      "outputs": []
    },
    {
      "cell_type": "code",
      "metadata": {
        "id": "j0gdhwd-y1fC"
      },
      "source": [
        "y_train_categorical = to_categorical(encoded_y_train)\n",
        "y_test_categorical = to_categorical(encoded_y_test)"
      ],
      "execution_count": null,
      "outputs": []
    },
    {
      "cell_type": "code",
      "metadata": {
        "colab": {
          "base_uri": "https://localhost:8080/"
        },
        "id": "hcs6qjegy3SV",
        "outputId": "9356c685-775c-49d3-8abe-4b338b0fe371"
      },
      "source": [
        "y_train_categorical.shape"
      ],
      "execution_count": null,
      "outputs": [
        {
          "output_type": "execute_result",
          "data": {
            "text/plain": [
              "(721808, 10)"
            ]
          },
          "metadata": {
            "tags": []
          },
          "execution_count": 127
        }
      ]
    },
    {
      "cell_type": "code",
      "metadata": {
        "id": "WPAmBjbMy5Qn"
      },
      "source": [
        "model10 = Sequential()"
      ],
      "execution_count": null,
      "outputs": []
    },
    {
      "cell_type": "code",
      "metadata": {
        "id": "2zA5SrF6y9Wg"
      },
      "source": [
        "model10.add(Dense(units=100, activation='relu', input_dim=6))\n",
        "model10.add(Dense(units=100, activation='relu'))\n",
        "model10.add(Dense(units=10, activation='softmax'))"
      ],
      "execution_count": null,
      "outputs": []
    },
    {
      "cell_type": "code",
      "metadata": {
        "id": "fif8-nBAy9uX"
      },
      "source": [
        "# Compile and fit the model\n",
        "model10.compile(optimizer='adam',\n",
        "              loss='categorical_crossentropy',\n",
        "              metrics=['accuracy'])"
      ],
      "execution_count": null,
      "outputs": []
    },
    {
      "cell_type": "code",
      "metadata": {
        "colab": {
          "base_uri": "https://localhost:8080/"
        },
        "id": "cnNzITvAy9zN",
        "outputId": "daf3e3ca-6aea-4132-8cf5-41a7b3fb13ed"
      },
      "source": [
        "model10.summary()"
      ],
      "execution_count": null,
      "outputs": [
        {
          "output_type": "stream",
          "text": [
            "Model: \"sequential_5\"\n",
            "_________________________________________________________________\n",
            "Layer (type)                 Output Shape              Param #   \n",
            "=================================================================\n",
            "dense_15 (Dense)             (None, 100)               700       \n",
            "_________________________________________________________________\n",
            "dense_16 (Dense)             (None, 100)               10100     \n",
            "_________________________________________________________________\n",
            "dense_17 (Dense)             (None, 10)                1010      \n",
            "=================================================================\n",
            "Total params: 11,810\n",
            "Trainable params: 11,810\n",
            "Non-trainable params: 0\n",
            "_________________________________________________________________\n"
          ],
          "name": "stdout"
        }
      ]
    },
    {
      "cell_type": "code",
      "metadata": {
        "colab": {
          "base_uri": "https://localhost:8080/"
        },
        "id": "ichp8oUyy93Z",
        "outputId": "8db041e2-0d23-4982-d32f-90814a0a9c21"
      },
      "source": [
        "model10.fit(\n",
        "    X_train_scaled,\n",
        "    y_train_categorical,\n",
        "    epochs=30,\n",
        "    shuffle=True,\n",
        "    verbose=2\n",
        ")"
      ],
      "execution_count": null,
      "outputs": [
        {
          "output_type": "stream",
          "text": [
            "Epoch 1/30\n",
            "22557/22557 - 29s - loss: 1.6425 - accuracy: 0.4501\n",
            "Epoch 2/30\n",
            "22557/22557 - 29s - loss: 1.6264 - accuracy: 0.4511\n",
            "Epoch 3/30\n",
            "22557/22557 - 29s - loss: 1.6238 - accuracy: 0.4511\n",
            "Epoch 4/30\n",
            "22557/22557 - 29s - loss: 1.6225 - accuracy: 0.4513\n",
            "Epoch 5/30\n",
            "22557/22557 - 30s - loss: 1.6219 - accuracy: 0.4512\n",
            "Epoch 6/30\n",
            "22557/22557 - 30s - loss: 1.6211 - accuracy: 0.4514\n",
            "Epoch 7/30\n",
            "22557/22557 - 29s - loss: 1.6208 - accuracy: 0.4514\n",
            "Epoch 8/30\n",
            "22557/22557 - 31s - loss: 1.6205 - accuracy: 0.4516\n",
            "Epoch 9/30\n",
            "22557/22557 - 37s - loss: 1.6201 - accuracy: 0.4516\n",
            "Epoch 10/30\n",
            "22557/22557 - 29s - loss: 1.6198 - accuracy: 0.4515\n",
            "Epoch 11/30\n",
            "22557/22557 - 28s - loss: 1.6196 - accuracy: 0.4516\n",
            "Epoch 12/30\n",
            "22557/22557 - 29s - loss: 1.6193 - accuracy: 0.4517\n",
            "Epoch 13/30\n",
            "22557/22557 - 28s - loss: 1.6191 - accuracy: 0.4516\n",
            "Epoch 14/30\n",
            "22557/22557 - 29s - loss: 1.6189 - accuracy: 0.4517\n",
            "Epoch 15/30\n",
            "22557/22557 - 29s - loss: 1.6189 - accuracy: 0.4517\n",
            "Epoch 16/30\n",
            "22557/22557 - 30s - loss: 1.6190 - accuracy: 0.4516\n",
            "Epoch 17/30\n",
            "22557/22557 - 29s - loss: 1.6186 - accuracy: 0.4517\n",
            "Epoch 18/30\n",
            "22557/22557 - 29s - loss: 1.6185 - accuracy: 0.4518\n",
            "Epoch 19/30\n",
            "22557/22557 - 30s - loss: 1.6185 - accuracy: 0.4517\n",
            "Epoch 20/30\n",
            "22557/22557 - 29s - loss: 1.6184 - accuracy: 0.4517\n",
            "Epoch 21/30\n",
            "22557/22557 - 29s - loss: 1.6184 - accuracy: 0.4517\n",
            "Epoch 22/30\n",
            "22557/22557 - 29s - loss: 1.6183 - accuracy: 0.4517\n",
            "Epoch 23/30\n",
            "22557/22557 - 28s - loss: 1.6183 - accuracy: 0.4517\n",
            "Epoch 24/30\n",
            "22557/22557 - 29s - loss: 1.6183 - accuracy: 0.4517\n",
            "Epoch 25/30\n",
            "22557/22557 - 29s - loss: 1.6181 - accuracy: 0.4517\n",
            "Epoch 26/30\n",
            "22557/22557 - 30s - loss: 1.6181 - accuracy: 0.4518\n",
            "Epoch 27/30\n",
            "22557/22557 - 29s - loss: 1.6180 - accuracy: 0.4517\n",
            "Epoch 28/30\n",
            "22557/22557 - 29s - loss: 1.6181 - accuracy: 0.4517\n",
            "Epoch 29/30\n",
            "22557/22557 - 29s - loss: 1.6180 - accuracy: 0.4517\n",
            "Epoch 30/30\n",
            "22557/22557 - 31s - loss: 1.6181 - accuracy: 0.4518\n"
          ],
          "name": "stdout"
        },
        {
          "output_type": "execute_result",
          "data": {
            "text/plain": [
              "<tensorflow.python.keras.callbacks.History at 0x7ff98e625fd0>"
            ]
          },
          "metadata": {
            "tags": []
          },
          "execution_count": 134
        }
      ]
    },
    {
      "cell_type": "code",
      "metadata": {
        "colab": {
          "base_uri": "https://localhost:8080/"
        },
        "id": "uXuGrLnIy98n",
        "outputId": "f94641cc-6812-4746-81cd-94381bb3b83a"
      },
      "source": [
        "model_loss, model_accuracy = model10.evaluate(\n",
        "    X_test_scaled, y_test_categorical, verbose=2)\n",
        "print(\n",
        "    f\"Normal Neural Network - Loss: {model_loss}, Accuracy: {model_accuracy}\")"
      ],
      "execution_count": null,
      "outputs": [
        {
          "output_type": "stream",
          "text": [
            "7519/7519 - 6s - loss: 1.6271 - accuracy: 0.4509\n",
            "Normal Neural Network - Loss: 1.6270573139190674, Accuracy: 0.45093369483947754\n"
          ],
          "name": "stdout"
        }
      ]
    },
    {
      "cell_type": "code",
      "metadata": {
        "id": "zzS7nlqDzLeg"
      },
      "source": [
        "encoded_predictions = np.argmax(model10.predict(X_test_scaled[:5]), axis=-1)\n",
        "prediction_labels = label_encoder.inverse_transform(encoded_predictions)"
      ],
      "execution_count": null,
      "outputs": []
    },
    {
      "cell_type": "code",
      "metadata": {
        "colab": {
          "base_uri": "https://localhost:8080/"
        },
        "id": "WlDhv5tWzLkj",
        "outputId": "85784ab6-c336-42fb-ef4b-1502a1f1253a"
      },
      "source": [
        "print(f\"Predicted classes: {prediction_labels}\")\n",
        "print(f\"Actual Labels: {list(y_test[:5])}\")"
      ],
      "execution_count": null,
      "outputs": [
        {
          "output_type": "stream",
          "text": [
            "Predicted classes: ['C349' 'I251' 'I251' 'I251' 'I251']\n",
            "Actual Labels: ['G20', 'G309', 'I251', 'I251', 'I251']\n"
          ],
          "name": "stdout"
        }
      ]
    },
    {
      "cell_type": "code",
      "metadata": {
        "id": "fxP3JrUvzLqE"
      },
      "source": [
        "model10.save(\"Death_machine_keras10.h5\")"
      ],
      "execution_count": null,
      "outputs": []
    },
    {
      "cell_type": "code",
      "metadata": {
        "colab": {
          "base_uri": "https://localhost:8080/",
          "height": 323
        },
        "id": "No97YC55zVTU",
        "outputId": "c76aef53-c53f-4d15-c99b-6edec7689e3c"
      },
      "source": [
        "from tensorflow.keras.models import load_model\n",
        "model_10 = load_model(\"Death_machine_keras10.h5\")"
      ],
      "execution_count": null,
      "outputs": [
        {
          "output_type": "error",
          "ename": "OSError",
          "evalue": "ignored",
          "traceback": [
            "\u001b[0;31m---------------------------------------------------------------------------\u001b[0m",
            "\u001b[0;31mOSError\u001b[0m                                   Traceback (most recent call last)",
            "\u001b[0;32m<ipython-input-2-735bc0f15142>\u001b[0m in \u001b[0;36m<module>\u001b[0;34m()\u001b[0m\n\u001b[1;32m      1\u001b[0m \u001b[0;32mfrom\u001b[0m \u001b[0mtensorflow\u001b[0m\u001b[0;34m.\u001b[0m\u001b[0mkeras\u001b[0m\u001b[0;34m.\u001b[0m\u001b[0mmodels\u001b[0m \u001b[0;32mimport\u001b[0m \u001b[0mload_model\u001b[0m\u001b[0;34m\u001b[0m\u001b[0;34m\u001b[0m\u001b[0m\n\u001b[0;32m----> 2\u001b[0;31m \u001b[0mmodel_10\u001b[0m \u001b[0;34m=\u001b[0m \u001b[0mload_model\u001b[0m\u001b[0;34m(\u001b[0m\u001b[0;34m\"Death_machine_keras10.h5\"\u001b[0m\u001b[0;34m)\u001b[0m\u001b[0;34m\u001b[0m\u001b[0;34m\u001b[0m\u001b[0m\n\u001b[0m",
            "\u001b[0;32m/usr/local/lib/python3.7/dist-packages/tensorflow/python/keras/saving/save.py\u001b[0m in \u001b[0;36mload_model\u001b[0;34m(filepath, custom_objects, compile, options)\u001b[0m\n\u001b[1;32m    209\u001b[0m       \u001b[0mfilepath\u001b[0m \u001b[0;34m=\u001b[0m \u001b[0mpath_to_string\u001b[0m\u001b[0;34m(\u001b[0m\u001b[0mfilepath\u001b[0m\u001b[0;34m)\u001b[0m\u001b[0;34m\u001b[0m\u001b[0;34m\u001b[0m\u001b[0m\n\u001b[1;32m    210\u001b[0m       \u001b[0;32mif\u001b[0m \u001b[0misinstance\u001b[0m\u001b[0;34m(\u001b[0m\u001b[0mfilepath\u001b[0m\u001b[0;34m,\u001b[0m \u001b[0msix\u001b[0m\u001b[0;34m.\u001b[0m\u001b[0mstring_types\u001b[0m\u001b[0;34m)\u001b[0m\u001b[0;34m:\u001b[0m\u001b[0;34m\u001b[0m\u001b[0;34m\u001b[0m\u001b[0m\n\u001b[0;32m--> 211\u001b[0;31m         \u001b[0mloader_impl\u001b[0m\u001b[0;34m.\u001b[0m\u001b[0mparse_saved_model\u001b[0m\u001b[0;34m(\u001b[0m\u001b[0mfilepath\u001b[0m\u001b[0;34m)\u001b[0m\u001b[0;34m\u001b[0m\u001b[0;34m\u001b[0m\u001b[0m\n\u001b[0m\u001b[1;32m    212\u001b[0m         \u001b[0;32mreturn\u001b[0m \u001b[0msaved_model_load\u001b[0m\u001b[0;34m.\u001b[0m\u001b[0mload\u001b[0m\u001b[0;34m(\u001b[0m\u001b[0mfilepath\u001b[0m\u001b[0;34m,\u001b[0m \u001b[0mcompile\u001b[0m\u001b[0;34m,\u001b[0m \u001b[0moptions\u001b[0m\u001b[0;34m)\u001b[0m\u001b[0;34m\u001b[0m\u001b[0;34m\u001b[0m\u001b[0m\n\u001b[1;32m    213\u001b[0m \u001b[0;34m\u001b[0m\u001b[0m\n",
            "\u001b[0;32m/usr/local/lib/python3.7/dist-packages/tensorflow/python/saved_model/loader_impl.py\u001b[0m in \u001b[0;36mparse_saved_model\u001b[0;34m(export_dir)\u001b[0m\n\u001b[1;32m    112\u001b[0m                   (export_dir,\n\u001b[1;32m    113\u001b[0m                    \u001b[0mconstants\u001b[0m\u001b[0;34m.\u001b[0m\u001b[0mSAVED_MODEL_FILENAME_PBTXT\u001b[0m\u001b[0;34m,\u001b[0m\u001b[0;34m\u001b[0m\u001b[0;34m\u001b[0m\u001b[0m\n\u001b[0;32m--> 114\u001b[0;31m                    constants.SAVED_MODEL_FILENAME_PB))\n\u001b[0m\u001b[1;32m    115\u001b[0m \u001b[0;34m\u001b[0m\u001b[0m\n\u001b[1;32m    116\u001b[0m \u001b[0;34m\u001b[0m\u001b[0m\n",
            "\u001b[0;31mOSError\u001b[0m: SavedModel file does not exist at: Death_machine_keras10.h5/{saved_model.pbtxt|saved_model.pb}"
          ]
        }
      ]
    },
    {
      "cell_type": "code",
      "metadata": {
        "colab": {
          "base_uri": "https://localhost:8080/"
        },
        "id": "iNiwXnbFzVbu",
        "outputId": "fa2445a7-5e84-4bcb-b12f-26a6fe1b7963"
      },
      "source": [
        "model_loss, model_accuracy = model_10.evaluate(X_test_scaled, y_test_categorical, verbose=2)\n",
        "print(f\"Loss: {model_loss}, Accuracy: {model_accuracy}\")"
      ],
      "execution_count": null,
      "outputs": [
        {
          "output_type": "stream",
          "text": [
            "7519/7519 - 6s - loss: 1.6271 - accuracy: 0.4509\n",
            "Loss: 1.6270573139190674, Accuracy: 0.45093369483947754\n"
          ],
          "name": "stdout"
        }
      ]
    },
    {
      "cell_type": "code",
      "metadata": {
        "id": "ME3DUhSQzVi7"
      },
      "source": [
        ""
      ],
      "execution_count": null,
      "outputs": []
    },
    {
      "cell_type": "code",
      "metadata": {
        "id": "upRsSBCZ7kJQ"
      },
      "source": [
        ""
      ],
      "execution_count": null,
      "outputs": []
    },
    {
      "cell_type": "code",
      "metadata": {
        "id": "DQeE730t7kQl"
      },
      "source": [
        ""
      ],
      "execution_count": null,
      "outputs": []
    },
    {
      "cell_type": "code",
      "metadata": {
        "colab": {
          "base_uri": "https://localhost:8080/",
          "height": 163
        },
        "id": "Z4BvnVKn7kWq",
        "outputId": "4e1882d4-9cee-4651-c935-bc58c28740da"
      },
      "source": [
        "model11 = Sequential()"
      ],
      "execution_count": null,
      "outputs": [
        {
          "output_type": "error",
          "ename": "NameError",
          "evalue": "ignored",
          "traceback": [
            "\u001b[0;31m---------------------------------------------------------------------------\u001b[0m",
            "\u001b[0;31mNameError\u001b[0m                                 Traceback (most recent call last)",
            "\u001b[0;32m<ipython-input-3-a9b5bece8338>\u001b[0m in \u001b[0;36m<module>\u001b[0;34m()\u001b[0m\n\u001b[0;32m----> 1\u001b[0;31m \u001b[0mmodel11\u001b[0m \u001b[0;34m=\u001b[0m \u001b[0mSequential\u001b[0m\u001b[0;34m(\u001b[0m\u001b[0;34m)\u001b[0m\u001b[0;34m\u001b[0m\u001b[0;34m\u001b[0m\u001b[0m\n\u001b[0m",
            "\u001b[0;31mNameError\u001b[0m: name 'Sequential' is not defined"
          ]
        }
      ]
    },
    {
      "cell_type": "code",
      "metadata": {
        "colab": {
          "base_uri": "https://localhost:8080/",
          "height": 231
        },
        "id": "9N1cXpij7kb-",
        "outputId": "37754610-d1d2-4d5d-b445-1eee1bcd45f5"
      },
      "source": [
        "model11.add(Dense(units=100, activation='relu', input_dim=6))\n",
        "model11.add(Dense(units=100, activation='relu'))\n",
        "model11.add(Dense(units=100, activation='relu'))\n",
        "model11.add(Dense(units=100, activation='relu'))\n",
        "model11.add(Dense(units=100, activation='relu'))\n",
        "model11.add(Dense(units=10, activation='softmax'))"
      ],
      "execution_count": null,
      "outputs": [
        {
          "output_type": "error",
          "ename": "NameError",
          "evalue": "ignored",
          "traceback": [
            "\u001b[0;31m---------------------------------------------------------------------------\u001b[0m",
            "\u001b[0;31mNameError\u001b[0m                                 Traceback (most recent call last)",
            "\u001b[0;32m<ipython-input-4-b628366f9451>\u001b[0m in \u001b[0;36m<module>\u001b[0;34m()\u001b[0m\n\u001b[0;32m----> 1\u001b[0;31m \u001b[0mmodel11\u001b[0m\u001b[0;34m.\u001b[0m\u001b[0madd\u001b[0m\u001b[0;34m(\u001b[0m\u001b[0mDense\u001b[0m\u001b[0;34m(\u001b[0m\u001b[0munits\u001b[0m\u001b[0;34m=\u001b[0m\u001b[0;36m100\u001b[0m\u001b[0;34m,\u001b[0m \u001b[0mactivation\u001b[0m\u001b[0;34m=\u001b[0m\u001b[0;34m'relu'\u001b[0m\u001b[0;34m,\u001b[0m \u001b[0minput_dim\u001b[0m\u001b[0;34m=\u001b[0m\u001b[0;36m6\u001b[0m\u001b[0;34m)\u001b[0m\u001b[0;34m)\u001b[0m\u001b[0;34m\u001b[0m\u001b[0;34m\u001b[0m\u001b[0m\n\u001b[0m\u001b[1;32m      2\u001b[0m \u001b[0mmodel11\u001b[0m\u001b[0;34m.\u001b[0m\u001b[0madd\u001b[0m\u001b[0;34m(\u001b[0m\u001b[0mDense\u001b[0m\u001b[0;34m(\u001b[0m\u001b[0munits\u001b[0m\u001b[0;34m=\u001b[0m\u001b[0;36m100\u001b[0m\u001b[0;34m,\u001b[0m \u001b[0mactivation\u001b[0m\u001b[0;34m=\u001b[0m\u001b[0;34m'relu'\u001b[0m\u001b[0;34m)\u001b[0m\u001b[0;34m)\u001b[0m\u001b[0;34m\u001b[0m\u001b[0;34m\u001b[0m\u001b[0m\n\u001b[1;32m      3\u001b[0m \u001b[0mmodel11\u001b[0m\u001b[0;34m.\u001b[0m\u001b[0madd\u001b[0m\u001b[0;34m(\u001b[0m\u001b[0mDense\u001b[0m\u001b[0;34m(\u001b[0m\u001b[0munits\u001b[0m\u001b[0;34m=\u001b[0m\u001b[0;36m100\u001b[0m\u001b[0;34m,\u001b[0m \u001b[0mactivation\u001b[0m\u001b[0;34m=\u001b[0m\u001b[0;34m'relu'\u001b[0m\u001b[0;34m)\u001b[0m\u001b[0;34m)\u001b[0m\u001b[0;34m\u001b[0m\u001b[0;34m\u001b[0m\u001b[0m\n\u001b[1;32m      4\u001b[0m \u001b[0mmodel11\u001b[0m\u001b[0;34m.\u001b[0m\u001b[0madd\u001b[0m\u001b[0;34m(\u001b[0m\u001b[0mDense\u001b[0m\u001b[0;34m(\u001b[0m\u001b[0munits\u001b[0m\u001b[0;34m=\u001b[0m\u001b[0;36m100\u001b[0m\u001b[0;34m,\u001b[0m \u001b[0mactivation\u001b[0m\u001b[0;34m=\u001b[0m\u001b[0;34m'relu'\u001b[0m\u001b[0;34m)\u001b[0m\u001b[0;34m)\u001b[0m\u001b[0;34m\u001b[0m\u001b[0;34m\u001b[0m\u001b[0m\n\u001b[1;32m      5\u001b[0m \u001b[0mmodel11\u001b[0m\u001b[0;34m.\u001b[0m\u001b[0madd\u001b[0m\u001b[0;34m(\u001b[0m\u001b[0mDense\u001b[0m\u001b[0;34m(\u001b[0m\u001b[0munits\u001b[0m\u001b[0;34m=\u001b[0m\u001b[0;36m100\u001b[0m\u001b[0;34m,\u001b[0m \u001b[0mactivation\u001b[0m\u001b[0;34m=\u001b[0m\u001b[0;34m'relu'\u001b[0m\u001b[0;34m)\u001b[0m\u001b[0;34m)\u001b[0m\u001b[0;34m\u001b[0m\u001b[0;34m\u001b[0m\u001b[0m\n",
            "\u001b[0;31mNameError\u001b[0m: name 'model11' is not defined"
          ]
        }
      ]
    },
    {
      "cell_type": "code",
      "metadata": {
        "id": "oZoHU77e748g"
      },
      "source": [
        "# Compile and fit the model\n",
        "model11.compile(optimizer='adam',\n",
        "              loss='categorical_crossentropy',\n",
        "              metrics=['accuracy'])"
      ],
      "execution_count": null,
      "outputs": []
    },
    {
      "cell_type": "code",
      "metadata": {
        "colab": {
          "base_uri": "https://localhost:8080/"
        },
        "id": "k-QcLZS575G6",
        "outputId": "48eaba6c-a450-4b57-9ea8-a1f9e84056d4"
      },
      "source": [
        "model11.summary()"
      ],
      "execution_count": null,
      "outputs": [
        {
          "output_type": "stream",
          "text": [
            "Model: \"sequential_7\"\n",
            "_________________________________________________________________\n",
            "Layer (type)                 Output Shape              Param #   \n",
            "=================================================================\n",
            "dense_21 (Dense)             (None, 100)               700       \n",
            "_________________________________________________________________\n",
            "dense_22 (Dense)             (None, 100)               10100     \n",
            "_________________________________________________________________\n",
            "dense_23 (Dense)             (None, 100)               10100     \n",
            "_________________________________________________________________\n",
            "dense_24 (Dense)             (None, 100)               10100     \n",
            "_________________________________________________________________\n",
            "dense_25 (Dense)             (None, 100)               10100     \n",
            "_________________________________________________________________\n",
            "dense_26 (Dense)             (None, 10)                1010      \n",
            "=================================================================\n",
            "Total params: 42,110\n",
            "Trainable params: 42,110\n",
            "Non-trainable params: 0\n",
            "_________________________________________________________________\n"
          ],
          "name": "stdout"
        }
      ]
    },
    {
      "cell_type": "code",
      "metadata": {
        "colab": {
          "base_uri": "https://localhost:8080/"
        },
        "id": "-W0jpPIE75O1",
        "outputId": "b4ddb4e4-3669-40cf-b581-d4f354c2a955"
      },
      "source": [
        "model11.fit(\n",
        "    X_train_scaled,\n",
        "    y_train_categorical,\n",
        "    epochs=30,\n",
        "    shuffle=True,\n",
        "    verbose=2\n",
        ")"
      ],
      "execution_count": null,
      "outputs": [
        {
          "output_type": "stream",
          "text": [
            "Epoch 1/30\n",
            "22557/22557 - 46s - loss: 1.6507 - accuracy: 0.4494\n",
            "Epoch 2/30\n",
            "22557/22557 - 44s - loss: 1.6309 - accuracy: 0.4508\n",
            "Epoch 3/30\n",
            "22557/22557 - 44s - loss: 1.6270 - accuracy: 0.4511\n",
            "Epoch 4/30\n",
            "22557/22557 - 45s - loss: 1.6250 - accuracy: 0.4512\n",
            "Epoch 5/30\n",
            "22557/22557 - 45s - loss: 1.6241 - accuracy: 0.4514\n",
            "Epoch 6/30\n",
            "22557/22557 - 46s - loss: 1.6233 - accuracy: 0.4513\n",
            "Epoch 7/30\n",
            "22557/22557 - 45s - loss: 1.6228 - accuracy: 0.4514\n",
            "Epoch 8/30\n",
            "22557/22557 - 44s - loss: 1.6222 - accuracy: 0.4514\n",
            "Epoch 9/30\n",
            "22557/22557 - 45s - loss: 1.6219 - accuracy: 0.4514\n",
            "Epoch 10/30\n",
            "22557/22557 - 44s - loss: 1.6215 - accuracy: 0.4514\n",
            "Epoch 11/30\n",
            "22557/22557 - 45s - loss: 1.6212 - accuracy: 0.4517\n",
            "Epoch 12/30\n",
            "22557/22557 - 45s - loss: 1.6209 - accuracy: 0.4515\n",
            "Epoch 13/30\n",
            "22557/22557 - 45s - loss: 1.6210 - accuracy: 0.4515\n",
            "Epoch 14/30\n",
            "22557/22557 - 44s - loss: 1.6206 - accuracy: 0.4516\n",
            "Epoch 15/30\n",
            "22557/22557 - 44s - loss: 1.6207 - accuracy: 0.4517\n",
            "Epoch 16/30\n",
            "22557/22557 - 44s - loss: 1.6203 - accuracy: 0.4515\n",
            "Epoch 17/30\n",
            "22557/22557 - 44s - loss: 1.6203 - accuracy: 0.4515\n",
            "Epoch 18/30\n",
            "22557/22557 - 45s - loss: 1.6200 - accuracy: 0.4517\n",
            "Epoch 19/30\n",
            "22557/22557 - 44s - loss: 1.6200 - accuracy: 0.4516\n",
            "Epoch 20/30\n",
            "22557/22557 - 44s - loss: 1.6198 - accuracy: 0.4517\n",
            "Epoch 21/30\n",
            "22557/22557 - 44s - loss: 1.6197 - accuracy: 0.4517\n",
            "Epoch 22/30\n",
            "22557/22557 - 44s - loss: 1.6196 - accuracy: 0.4516\n",
            "Epoch 23/30\n",
            "22557/22557 - 43s - loss: 1.6196 - accuracy: 0.4515\n",
            "Epoch 24/30\n",
            "22557/22557 - 43s - loss: 1.6197 - accuracy: 0.4516\n",
            "Epoch 25/30\n",
            "22557/22557 - 44s - loss: 1.6198 - accuracy: 0.4518\n",
            "Epoch 26/30\n",
            "22557/22557 - 44s - loss: 1.6198 - accuracy: 0.4516\n",
            "Epoch 27/30\n",
            "22557/22557 - 44s - loss: 1.6195 - accuracy: 0.4516\n",
            "Epoch 28/30\n",
            "22557/22557 - 45s - loss: 1.6192 - accuracy: 0.4518\n",
            "Epoch 29/30\n",
            "22557/22557 - 45s - loss: 1.6192 - accuracy: 0.4517\n",
            "Epoch 30/30\n",
            "22557/22557 - 44s - loss: 1.6196 - accuracy: 0.4516\n"
          ],
          "name": "stdout"
        },
        {
          "output_type": "execute_result",
          "data": {
            "text/plain": [
              "<tensorflow.python.keras.callbacks.History at 0x7ff991a6b110>"
            ]
          },
          "metadata": {
            "tags": []
          },
          "execution_count": 151
        }
      ]
    },
    {
      "cell_type": "code",
      "metadata": {
        "colab": {
          "base_uri": "https://localhost:8080/",
          "height": 180
        },
        "id": "OgT3DtX4USdX",
        "outputId": "2146fd98-b2fe-4de1-f99c-ac629200f914"
      },
      "source": [
        "test = [1,2,3,4,5,6]\n",
        "model11.predict(test)"
      ],
      "execution_count": null,
      "outputs": [
        {
          "output_type": "error",
          "ename": "NameError",
          "evalue": "ignored",
          "traceback": [
            "\u001b[0;31m---------------------------------------------------------------------------\u001b[0m",
            "\u001b[0;31mNameError\u001b[0m                                 Traceback (most recent call last)",
            "\u001b[0;32m<ipython-input-1-874f68647b34>\u001b[0m in \u001b[0;36m<module>\u001b[0;34m()\u001b[0m\n\u001b[1;32m      1\u001b[0m \u001b[0mtest\u001b[0m \u001b[0;34m=\u001b[0m \u001b[0;34m[\u001b[0m\u001b[0;36m1\u001b[0m\u001b[0;34m,\u001b[0m\u001b[0;36m2\u001b[0m\u001b[0;34m,\u001b[0m\u001b[0;36m3\u001b[0m\u001b[0;34m,\u001b[0m\u001b[0;36m4\u001b[0m\u001b[0;34m,\u001b[0m\u001b[0;36m5\u001b[0m\u001b[0;34m,\u001b[0m\u001b[0;36m6\u001b[0m\u001b[0;34m]\u001b[0m\u001b[0;34m\u001b[0m\u001b[0;34m\u001b[0m\u001b[0m\n\u001b[0;32m----> 2\u001b[0;31m \u001b[0mmodel11\u001b[0m\u001b[0;34m.\u001b[0m\u001b[0mpredict\u001b[0m\u001b[0;34m(\u001b[0m\u001b[0mtest\u001b[0m\u001b[0;34m)\u001b[0m\u001b[0;34m\u001b[0m\u001b[0;34m\u001b[0m\u001b[0m\n\u001b[0m",
            "\u001b[0;31mNameError\u001b[0m: name 'model11' is not defined"
          ]
        }
      ]
    },
    {
      "cell_type": "code",
      "metadata": {
        "colab": {
          "base_uri": "https://localhost:8080/"
        },
        "id": "hVm2cuTP75VC",
        "outputId": "c96c49c0-8bb6-495b-c118-65ecbc54c41e"
      },
      "source": [
        "# import pickle\n",
        "# pickle.dump(model11, open('model_death.pkl', 'wb'))\n",
        "# model11_load = pickle.load(open('model_death_pkl.pkl', 'rb'))\n",
        "# print(model11_load)\n",
        "\n",
        "# serialize model to JSON\n",
        "model_json = model11.to_json()\n",
        "with open(\"model_death11.json\", \"w\") as json_file:\n",
        "    json_file.write(model_json)\n",
        "# serialize weights to HDF5\n",
        "model11.save_weights(\"model_death11.h5\")\n",
        "print(\"Saved model to disk\")\n"
      ],
      "execution_count": null,
      "outputs": [
        {
          "output_type": "stream",
          "text": [
            "Saved model to disk\n"
          ],
          "name": "stdout"
        }
      ]
    },
    {
      "cell_type": "code",
      "metadata": {
        "colab": {
          "base_uri": "https://localhost:8080/",
          "height": 231
        },
        "id": "9h9wdLhPPdfe",
        "outputId": "f53462e4-cffe-400c-9ed5-3876b95442df"
      },
      "source": [
        "\n",
        "# load json and create model\n",
        "json_file = open('model_death11.json', 'r')\n",
        "loaded_model_json = json_file.read()\n",
        "json_file.close()\n",
        "loaded_model = model_from_json(loaded_model_json)\n",
        "# load weights into new model\n",
        "loaded_model.load_weights(\"model_death11.h5\")\n",
        "print(\"Loaded model from disk\")\n",
        " \n",
        "# evaluate loaded model on test data\n",
        "loaded_model.compile(loss='binary_crossentropy', optimizer='rmsprop', metrics=['accuracy'])\n",
        "score = loaded_model.evaluate(X, Y, verbose=0)\n",
        "print(\"%s: %.2f%%\" % (loaded_model.metrics_names[1], score[1]*100))"
      ],
      "execution_count": null,
      "outputs": [
        {
          "output_type": "error",
          "ename": "NameError",
          "evalue": "ignored",
          "traceback": [
            "\u001b[0;31m---------------------------------------------------------------------------\u001b[0m",
            "\u001b[0;31mNameError\u001b[0m                                 Traceback (most recent call last)",
            "\u001b[0;32m<ipython-input-155-120678b8d15f>\u001b[0m in \u001b[0;36m<module>\u001b[0;34m()\u001b[0m\n\u001b[1;32m      4\u001b[0m \u001b[0mloaded_model_json\u001b[0m \u001b[0;34m=\u001b[0m \u001b[0mjson_file\u001b[0m\u001b[0;34m.\u001b[0m\u001b[0mread\u001b[0m\u001b[0;34m(\u001b[0m\u001b[0;34m)\u001b[0m\u001b[0;34m\u001b[0m\u001b[0;34m\u001b[0m\u001b[0m\n\u001b[1;32m      5\u001b[0m \u001b[0mjson_file\u001b[0m\u001b[0;34m.\u001b[0m\u001b[0mclose\u001b[0m\u001b[0;34m(\u001b[0m\u001b[0;34m)\u001b[0m\u001b[0;34m\u001b[0m\u001b[0;34m\u001b[0m\u001b[0m\n\u001b[0;32m----> 6\u001b[0;31m \u001b[0mloaded_model\u001b[0m \u001b[0;34m=\u001b[0m \u001b[0mmodel_from_json\u001b[0m\u001b[0;34m(\u001b[0m\u001b[0mloaded_model_json\u001b[0m\u001b[0;34m)\u001b[0m\u001b[0;34m\u001b[0m\u001b[0;34m\u001b[0m\u001b[0m\n\u001b[0m\u001b[1;32m      7\u001b[0m \u001b[0;31m# load weights into new model\u001b[0m\u001b[0;34m\u001b[0m\u001b[0;34m\u001b[0m\u001b[0;34m\u001b[0m\u001b[0m\n\u001b[1;32m      8\u001b[0m \u001b[0mloaded_model\u001b[0m\u001b[0;34m.\u001b[0m\u001b[0mload_weights\u001b[0m\u001b[0;34m(\u001b[0m\u001b[0;34m\"model_death11.h5\"\u001b[0m\u001b[0;34m)\u001b[0m\u001b[0;34m\u001b[0m\u001b[0;34m\u001b[0m\u001b[0m\n",
            "\u001b[0;31mNameError\u001b[0m: name 'model_from_json' is not defined"
          ]
        }
      ]
    },
    {
      "cell_type": "code",
      "metadata": {
        "id": "s2nMOFW_O4BR"
      },
      "source": [
        ""
      ],
      "execution_count": null,
      "outputs": []
    }
  ]
}