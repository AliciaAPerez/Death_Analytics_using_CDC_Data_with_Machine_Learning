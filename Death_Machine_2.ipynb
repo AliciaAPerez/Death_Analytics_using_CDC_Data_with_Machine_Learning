{
  "nbformat": 4,
  "nbformat_minor": 0,
  "metadata": {
    "colab": {
      "name": "Death_Machine_2.ipynb",
      "provenance": [],
      "collapsed_sections": [],
      "authorship_tag": "ABX9TyN77TfpcdOZN31DbTg2XQeE",
      "include_colab_link": true
    },
    "kernelspec": {
      "name": "python3",
      "display_name": "Python 3"
    },
    "language_info": {
      "name": "python"
    }
  },
  "cells": [
    {
      "cell_type": "markdown",
      "metadata": {
        "id": "view-in-github",
        "colab_type": "text"
      },
      "source": [
        "<a href=\"https://colab.research.google.com/github/AliciaAPerez/Death_Analytics_using_CDC_Data_with_Machine_Learning/blob/alicia/Death_Machine_2.ipynb\" target=\"_parent\"><img src=\"https://colab.research.google.com/assets/colab-badge.svg\" alt=\"Open In Colab\"/></a>"
      ]
    },
    {
      "cell_type": "code",
      "metadata": {
        "colab": {
          "base_uri": "https://localhost:8080/"
        },
        "id": "Hx_0eQHihroP",
        "outputId": "992ff594-7151-46bb-c7ff-0ab9a1d7746e"
      },
      "source": [
        "import os\n",
        "# Find the latest version of spark 3.0  from http://www-us.apache.org/dist/spark/ and enter as the spark version\n",
        "# For example:\n",
        "# spark_version = 'spark-3.0.1'\n",
        "spark_version = 'spark-3.1.1'\n",
        "os.environ['SPARK_VERSION']=spark_version\n",
        "\n",
        "# Install Spark and Java\n",
        "!apt-get update\n",
        "!apt-get install openjdk-11-jdk-headless -qq > /dev/null\n",
        "!wget -q http://www-us.apache.org/dist/spark/$SPARK_VERSION/$SPARK_VERSION-bin-hadoop2.7.tgz\n",
        "!tar xf $SPARK_VERSION-bin-hadoop2.7.tgz\n",
        "!pip install -q findspark\n",
        "\n",
        "# Set Environment Variables\n",
        "os.environ[\"JAVA_HOME\"] = \"/usr/lib/jvm/java-11-openjdk-amd64\"\n",
        "os.environ[\"SPARK_HOME\"] = f\"/content/{spark_version}-bin-hadoop2.7\"\n",
        "\n",
        "# Start a SparkSession\n",
        "import findspark\n",
        "findspark.init()"
      ],
      "execution_count": null,
      "outputs": [
        {
          "output_type": "stream",
          "text": [
            "\r0% [Working]\r            \rGet:1 http://security.ubuntu.com/ubuntu bionic-security InRelease [88.7 kB]\n",
            "\r0% [Connecting to archive.ubuntu.com (91.189.88.142)] [1 InRelease 14.2 kB/88.7\r0% [Connecting to archive.ubuntu.com (91.189.88.142)] [Connected to cloud.r-pro\r0% [1 InRelease gpgv 88.7 kB] [Waiting for headers] [Waiting for headers] [Conn\r                                                                               \rIgn:2 https://developer.download.nvidia.com/compute/cuda/repos/ubuntu1804/x86_64  InRelease\n",
            "\r0% [1 InRelease gpgv 88.7 kB] [Waiting for headers] [Waiting for headers] [Conn\r                                                                               \rHit:3 https://cloud.r-project.org/bin/linux/ubuntu bionic-cran40/ InRelease\n",
            "\r0% [1 InRelease gpgv 88.7 kB] [Waiting for headers] [Connecting to ppa.launchpa\r                                                                               \rHit:4 http://archive.ubuntu.com/ubuntu bionic InRelease\n",
            "\r0% [1 InRelease gpgv 88.7 kB] [Waiting for headers] [Waiting for headers] [Wait\r                                                                               \rIgn:5 https://developer.download.nvidia.com/compute/machine-learning/repos/ubuntu1804/x86_64  InRelease\n",
            "\r                                                                               \r0% [1 InRelease gpgv 88.7 kB] [Waiting for headers] [Waiting for headers]\r                                                                         \rHit:6 https://developer.download.nvidia.com/compute/cuda/repos/ubuntu1804/x86_64  Release\n",
            "\r0% [1 InRelease gpgv 88.7 kB] [Waiting for headers] [Waiting for headers]\r                                                                         \rHit:7 https://developer.download.nvidia.com/compute/machine-learning/repos/ubuntu1804/x86_64  Release\n",
            "\r0% [1 InRelease gpgv 88.7 kB] [Waiting for headers] [Waiting for headers]\r                                                                         \rHit:8 http://ppa.launchpad.net/c2d4u.team/c2d4u4.0+/ubuntu bionic InRelease\n",
            "Get:9 http://archive.ubuntu.com/ubuntu bionic-updates InRelease [88.7 kB]\n",
            "Hit:10 http://ppa.launchpad.net/cran/libgit2/ubuntu bionic InRelease\n",
            "Hit:11 http://ppa.launchpad.net/deadsnakes/ppa/ubuntu bionic InRelease\n",
            "Get:12 http://archive.ubuntu.com/ubuntu bionic-backports InRelease [74.6 kB]\n",
            "Hit:13 http://ppa.launchpad.net/graphics-drivers/ppa/ubuntu bionic InRelease\n",
            "Get:16 http://archive.ubuntu.com/ubuntu bionic-updates/universe amd64 Packages [2,182 kB]\n",
            "Fetched 2,434 kB in 3s (884 kB/s)\n",
            "Reading package lists... Done\n"
          ],
          "name": "stdout"
        }
      ]
    },
    {
      "cell_type": "code",
      "metadata": {
        "colab": {
          "base_uri": "https://localhost:8080/"
        },
        "id": "oDLbSg7RhvwG",
        "outputId": "71c01f4e-2dd8-4f59-d6cb-1b49e5728793"
      },
      "source": [
        "!wget https://jdbc.postgresql.org/download/postgresql-42.2.9.jar"
      ],
      "execution_count": null,
      "outputs": [
        {
          "output_type": "stream",
          "text": [
            "--2021-04-20 20:23:11--  https://jdbc.postgresql.org/download/postgresql-42.2.9.jar\n",
            "Resolving jdbc.postgresql.org (jdbc.postgresql.org)... 72.32.157.228, 2001:4800:3e1:1::228\n",
            "Connecting to jdbc.postgresql.org (jdbc.postgresql.org)|72.32.157.228|:443... connected.\n",
            "HTTP request sent, awaiting response... 200 OK\n",
            "Length: 914037 (893K) [application/java-archive]\n",
            "Saving to: ‘postgresql-42.2.9.jar.4’\n",
            "\n",
            "postgresql-42.2.9.j 100%[===================>] 892.61K  --.-KB/s    in 0.1s    \n",
            "\n",
            "2021-04-20 20:23:12 (6.02 MB/s) - ‘postgresql-42.2.9.jar.4’ saved [914037/914037]\n",
            "\n"
          ],
          "name": "stdout"
        }
      ]
    },
    {
      "cell_type": "code",
      "metadata": {
        "id": "aX21WUKahv08"
      },
      "source": [
        "from pyspark.sql import SparkSession\n",
        "spark = SparkSession.builder.appName(\"CloudETL\").config(\"spark.driver.extraClassPath\",\"/content/postgresql-42.2.9.jar\").getOrCreate()"
      ],
      "execution_count": null,
      "outputs": []
    },
    {
      "cell_type": "code",
      "metadata": {
        "id": "JtsNkbUGhv5O"
      },
      "source": [
        "from pyspark import SparkFiles\n",
        "from pyspark.sql.functions import col\n",
        "from pyspark.sql.types import IntegerType"
      ],
      "execution_count": null,
      "outputs": []
    },
    {
      "cell_type": "code",
      "metadata": {
        "colab": {
          "base_uri": "https://localhost:8080/"
        },
        "id": "3oT6ltWahv9c",
        "outputId": "65397d15-4274-41de-aa5d-453e78de6f9f"
      },
      "source": [
        "from google.colab import drive\n",
        "drive.mount('/content/drive')"
      ],
      "execution_count": null,
      "outputs": [
        {
          "output_type": "stream",
          "text": [
            "Drive already mounted at /content/drive; to attempt to forcibly remount, call drive.mount(\"/content/drive\", force_remount=True).\n"
          ],
          "name": "stdout"
        }
      ]
    },
    {
      "cell_type": "code",
      "metadata": {
        "id": "bJ52jdVPhwA_"
      },
      "source": [
        "#function for other data sets to be cleaned up - only can be used for 2014 and 2015 and newer, older pages use a different education marker\n",
        "def data_clean_up(data):\n",
        "  data = data.drop(\"education_1989_revision\",\"education_reporting_flag\",\"age_substitution_flag\",\"age_recode_52\",\"age_recode_27\",\"age_recode_12\", \"infant_age_recode_22\",\n",
        "\"place_of_death_and_decedents_status\",\"method_of_disposition\",\"autopsy\", \"activity_code\", \"place_of_injury_for_causes_w00_y34_except_y06_and_y07_\", \"358_cause_recode\", \"113_cause_recode\",\n",
        "\"130_infant_cause_recode\", \"39_cause_recode\", \"bridged_race_flag\", \"race_imputation_flag\", \"race_recode_3\", \"race_recode_5\", \"hispanic_origin\");\n",
        "  data = data.filter((data.detail_age_type == 1))\n",
        "  data = data.drop(\"detail_age_type\")\n",
        "  data = data.drop(\"number_of_entity_axis_conditions\",\"entity_condition_4\",\"entity_condition_5\",\"entity_condition_6\",\"entity_condition_7\",\"entity_condition_8\",\n",
        "                                            \"entity_condition_9\",\"entity_condition_10\",\"entity_condition_11\",\"entity_condition_12\",\"entity_condition_13\",\"entity_condition_14\",\n",
        "                                            \"entity_condition_15\",\"entity_condition_16\",\"entity_condition_17\",\"entity_condition_18\",\"entity_condition_19\",\"entity_condition_20\",\n",
        "                                            \"number_of_record_axis_conditions\", \"record_condition_1\", \"record_condition_2\",\"record_condition_3\",\"record_condition_4\",\"record_condition_5\",\n",
        "                                            \"record_condition_6\",\"record_condition_7\",\"record_condition_8\",\"record_condition_9\",\"record_condition_10\",\"record_condition_11\",\"record_condition_12\",\n",
        "                                            \"record_condition_13\",\"record_condition_14\",\"record_condition_15\",\"record_condition_16\",\"record_condition_17\",\"record_condition_18\",\"record_condition_19\",\n",
        "                                            \"record_condition_20\",)\n",
        "  data = data.withColumnRenamed(\"resident_status\",\"resident\").withColumnRenamed(\"education_2003_revision\",\"education\").withColumnRenamed(\"detail_age\", \"age\").withColumnRenamed(\"current_date_year\", \"year\").withColumnRenamed(\"icd_code_10th_revision\", \"icd_death_code\").withColumnRenamed(\"hispanic_originrace_recode\", \"hispanic\")\n",
        "  data = data.withColumn(\"resident\",col(\"resident\").cast(\"integer\")).withColumn(\"education\",col(\"education\").cast(\"integer\")).withColumn(\"month_of_death\",col(\"month_of_death\").cast(\"integer\")).withColumn(\"age\",col(\"age\").cast(\"integer\")).withColumn(\"day_of_week_of_death\",col(\"day_of_week_of_death\").cast(\"integer\")).withColumn(\"current_data_year\",col(\"current_data_year\").cast(\"integer\")).withColumn(\"manner_of_death\",col(\"manner_of_death\").cast(\"integer\")).withColumn(\"race\",col(\"race\").cast(\"integer\")).withColumn(\"hispanic\",col(\"hispanic\").cast(\"integer\"))\n",
        "  data = data.fillna(value=\"0\",subset=[\"entity_condition_1\"]).fillna(value=\"0\",subset=[\"entity_condition_2\"]).fillna(value=\"0\",subset=[\"entity_condition_3\"])\n",
        "  data = data.na.replace([\"Y\", \"N\", \"U\"], [\"1\",\"2\",\"3\"], \"injury_at_work\")\n",
        "  data = data.na.replace([\"M\", \"F\"], [\"1\",\"2\"], \"sex\")\n",
        "  data = data.na.replace([\"S\", \"M\", \"W\", \"D\", \"U\"], [\"1\",\"2\", \"3\", \"4\", \"5\"], \"marital_status\")\n",
        "  data = data.select(\"icd_death_code\",\"resident\",\"education\",\"month_of_death\",\"sex\", \"age\",\"marital_status\",\"day_of_week_of_death\",\"current_data_year\",\"injury_at_work\",\"manner_of_death\",\"race\",\"hispanic\",\"entity_condition_1\",\"entity_condition_2\",\"entity_condition_3\")\n",
        "  data = data.na.drop()\n",
        "  return data"
      ],
      "execution_count": null,
      "outputs": []
    },
    {
      "cell_type": "code",
      "metadata": {
        "id": "O0yZiN9bhwEP"
      },
      "source": [
        "top_list = [\"I251\",\"C349\",\"J449\",\"G309\",\"F03\",\"J189\",\"A419\",\"E149\",\"G20\",\"X44\",\"N185\",\"K746\",\"W19\",\"X74\",\"V892\",\"X95\"]"
      ],
      "execution_count": null,
      "outputs": []
    },
    {
      "cell_type": "code",
      "metadata": {
        "id": "6ma60v-ihwHs"
      },
      "source": [
        "# for a smaller data set, only grabbing the top 16 causes without renaming the rest of the top 60 causes to fit in these categories\n",
        "# condering the top 16 has a lot of overlap in types\n",
        "def code_clean_trim(data):\n",
        "  data = data.filter(data.icd_death_code.isin(top_list))\n",
        "  return data"
      ],
      "execution_count": null,
      "outputs": []
    },
    {
      "cell_type": "code",
      "metadata": {
        "id": "Ti8Xaf7thwKp"
      },
      "source": [
        "# UPLOAD TO DATABASE BEFORE RUNNING THIS FUNCTION\n",
        "# Just personal preference that the database is slightly more clear with the code names as there are several to get renamed\n",
        "def code_convert(data):\n",
        "  data = data.na.replace(['I251', 'C349', 'J449', 'G309', 'F03', 'J189', 'A419', 'E149', 'G20', 'X44', 'N185', 'K746', 'W19', 'X74','V892', 'X95'],\\\n",
        "  [\"1\",\"2\",\"3\",\"4\",\"5\",\"6\",\"7\",\"8\",\"9\",\"10\",\"11\",\"12\",\"13\",\"14\",\"15\",\"16\"], \"icd_death_code\")\n",
        "  return data"
      ],
      "execution_count": null,
      "outputs": []
    },
    {
      "cell_type": "code",
      "metadata": {
        "id": "ZHsG6uN4hwOB"
      },
      "source": [
        "url =\"https://aperezbucket.s3.us-east-2.amazonaws.com/2015_data.csv\"\n",
        "spark.sparkContext.addFile(url)\n",
        "death_2015 = spark.read.csv(SparkFiles.get(\"2015_data.csv\"), sep=\",\", header=True)\n",
        "\n",
        "#run the function for clean_up and show that dataframe\n",
        "death_2015_final = data_clean_up(death_2015)\n",
        "# death_2015_final.show(5)"
      ],
      "execution_count": null,
      "outputs": []
    },
    {
      "cell_type": "code",
      "metadata": {
        "id": "zv3cFqsEhwVA"
      },
      "source": [
        "  death_2015_clean1 = death_2015_final.na.replace([\"C509\",\"C259\",\"C189\",\"C61\",\"C80\"],\\\n",
        "                         [\"C349\",\"C349\",\"C349\",\"C349\",\"C349\",],\"icd_death_code\")"
      ],
      "execution_count": null,
      "outputs": []
    },
    {
      "cell_type": "code",
      "metadata": {
        "id": "Kec5DN49hwYR"
      },
      "source": [
        "  death_2015_clean2 = death_2015_final.na.replace([\"I219\",\"I500\",\"I64\",\"I250\",\"I119\",\"I48\"],\\\n",
        "                         [\"I251\",\"I251\",\"I251\",\"I251\",\"I251\",\"I251\"],\"icd_death_code\")"
      ],
      "execution_count": null,
      "outputs": []
    },
    {
      "cell_type": "code",
      "metadata": {
        "id": "mVC7d9sWiP_-"
      },
      "source": [
        "# ONLY USE TO HAVE SMALLER DATA SET\n",
        "# USE NEXT CELL FOR MORE DATA\n",
        "death_2015_clean_trim = code_clean_trim(death_2015_clean2)\n",
        "# death_2015_clean_trim.count()"
      ],
      "execution_count": null,
      "outputs": []
    },
    {
      "cell_type": "code",
      "metadata": {
        "id": "wjU8UFSgiQFB"
      },
      "source": [
        "# TO GET ALL NUMBERS TO RUN PROPER MUST ANNOTATE EACH ONTO FIRST AND ADD AN ID COLUMN THEN LOAD IN SQL \n",
        "# IF USING MULTIPLE DATAFRAMES, COMBINE BEFORE DOING THIS\n",
        "from pyspark.sql.functions import monotonically_increasing_id\n",
        "\n",
        "# this is for when all the dataframes are combined\n",
        "# death_numbered = death10.withColumn(\"id\", monotonically_increasing_id() +1)\n",
        "\n",
        "death_numbered = death_2015_clean_trim.withColumn(\"id\", monotonically_increasing_id() +1)\n",
        "\n",
        "# death_numbered = death_2015_clean.withColumn(\"id\", monotonically_increasing_id() +1)"
      ],
      "execution_count": null,
      "outputs": []
    },
    {
      "cell_type": "code",
      "metadata": {
        "id": "sGDduZndiQK-"
      },
      "source": [
        "# # CONNECT TO DATABASE AND LOAD IN DATA\n",
        "# mode = \"append\"\n",
        "# jdbc_url=\"jdbc:postgresql://database-1.ck7rneirj52d.us-east-2.rds.amazonaws.com:5432/Death_Database\"\n",
        "# config = {\"user\":\"root\", \n",
        "#           \"password\": \"postgres\", \n",
        "#           \"driver\":\"org.postgresql.Driver\"}"
      ],
      "execution_count": null,
      "outputs": []
    },
    {
      "cell_type": "code",
      "metadata": {
        "id": "QZxGjEBGiQRU"
      },
      "source": [
        "# death_numbered.write.jdbc(url=jdbc_url, table='cdc_death_table', mode=mode, properties=config)"
      ],
      "execution_count": null,
      "outputs": []
    },
    {
      "cell_type": "code",
      "metadata": {
        "id": "b2O1qB5CiQXE"
      },
      "source": [
        "# now we can replace all the data with numbers \n",
        "# death_final = code_convert(death_numbered)\n",
        "# death_final.show(5)"
      ],
      "execution_count": null,
      "outputs": []
    },
    {
      "cell_type": "code",
      "metadata": {
        "id": "O2CibsMZiQc-"
      },
      "source": [
        "# convert to pandas\n",
        "# death_machine = death_final.select(\"*\").toPandas()\n",
        "# death_machine"
      ],
      "execution_count": null,
      "outputs": []
    },
    {
      "cell_type": "code",
      "metadata": {
        "id": "ngZXrTnOiQit"
      },
      "source": [
        "# death_machine.value_counts(\"icd_death_code\")"
      ],
      "execution_count": null,
      "outputs": []
    },
    {
      "cell_type": "code",
      "metadata": {
        "id": "-IrIrWm0iqVV"
      },
      "source": [
        "ten_list = [\"I251\",\"C349\",\"J449\",\"G309\",\"F03\",\"J189\",\"A419\",\"E149\",\"G20\",\"X44\"]"
      ],
      "execution_count": null,
      "outputs": []
    },
    {
      "cell_type": "code",
      "metadata": {
        "id": "LVuCaehFiqaT"
      },
      "source": [
        "top_ten = death_numbered.filter(death_numbered.icd_death_code.isin(ten_list))"
      ],
      "execution_count": null,
      "outputs": []
    },
    {
      "cell_type": "code",
      "metadata": {
        "id": "qbG0ZfD10pyi"
      },
      "source": [
        "# now we can replace all the data with numbers \n",
        "death_final = code_convert(top_ten)\n",
        "# death_final.show(5)"
      ],
      "execution_count": null,
      "outputs": []
    },
    {
      "cell_type": "code",
      "metadata": {
        "id": "4hWME18v0p-C"
      },
      "source": [
        "# convert to pandas\n",
        "death_machine = death_final.select(\"*\").toPandas()\n",
        "# death_machine"
      ],
      "execution_count": null,
      "outputs": []
    },
    {
      "cell_type": "code",
      "metadata": {
        "id": "JGRmWPko0qGV"
      },
      "source": [
        ""
      ],
      "execution_count": null,
      "outputs": []
    },
    {
      "cell_type": "code",
      "metadata": {
        "id": "HFW492I0iqem"
      },
      "source": [
        "death_machine2 = top_ten.select(\"*\").toPandas()"
      ],
      "execution_count": null,
      "outputs": []
    },
    {
      "cell_type": "code",
      "metadata": {
        "colab": {
          "base_uri": "https://localhost:8080/"
        },
        "id": "mXnXBNKWiqj3",
        "outputId": "359ee7d5-870c-41e1-bb26-13bcf5e95421"
      },
      "source": [
        "death_machine2.value_counts(\"icd_death_code\")"
      ],
      "execution_count": null,
      "outputs": [
        {
          "output_type": "execute_result",
          "data": {
            "text/plain": [
              "icd_death_code\n",
              "I251    428754\n",
              "C349    126123\n",
              "J449     94129\n",
              "F03      92868\n",
              "G309     84389\n",
              "J189     36206\n",
              "A419     32554\n",
              "E149     25512\n",
              "G20      22682\n",
              "X44      19194\n",
              "dtype: int64"
            ]
          },
          "metadata": {
            "tags": []
          },
          "execution_count": 27
        }
      ]
    },
    {
      "cell_type": "code",
      "metadata": {
        "id": "AX6wD_ndiqok"
      },
      "source": [
        "###MACHINE LEARNING SET UP VARIABLES\n",
        "import sklearn\n",
        "import sklearn.datasets\n",
        "import numpy as np\n",
        "from sklearn.datasets import make_classification\n",
        "from sklearn.model_selection import train_test_split\n",
        "from sklearn.preprocessing import LabelEncoder, MinMaxScaler\n",
        "import os\n",
        "import tensorflow as tf\n",
        "from tensorflow.keras.models import Sequential\n",
        "from tensorflow.keras.layers import Dense"
      ],
      "execution_count": null,
      "outputs": []
    },
    {
      "cell_type": "code",
      "metadata": {
        "id": "d1K_fgRj01M3"
      },
      "source": [
        "wanted_data = death_machine[[\"education\",\"sex\", \"age\", \"marital_status\",\"race\", \"hispanic\"]]\n",
        "# wanted_data"
      ],
      "execution_count": null,
      "outputs": []
    },
    {
      "cell_type": "code",
      "metadata": {
        "colab": {
          "base_uri": "https://localhost:8080/"
        },
        "id": "-p1eT0NY03UX",
        "outputId": "c664f9f7-1e21-45de-ac32-94a1187f9b4a"
      },
      "source": [
        "X = wanted_data\n",
        "y = death_machine[\"icd_death_code\"]\n",
        "print(X.shape, y.shape)"
      ],
      "execution_count": null,
      "outputs": [
        {
          "output_type": "stream",
          "text": [
            "(962411, 6) (962411,)\n"
          ],
          "name": "stdout"
        }
      ]
    },
    {
      "cell_type": "code",
      "metadata": {
        "id": "UwZ0z3Ptiqt-"
      },
      "source": [
        "wanted_data2 = death_machine2[[\"education\",\"sex\", \"age\", \"marital_status\",\"race\", \"hispanic\"]]\n",
        "# wanted_data"
      ],
      "execution_count": null,
      "outputs": []
    },
    {
      "cell_type": "code",
      "metadata": {
        "colab": {
          "base_uri": "https://localhost:8080/"
        },
        "id": "A8iATS7Uiqy8",
        "outputId": "88c4aabf-96da-4f60-acdb-5defdf6667ef"
      },
      "source": [
        "X2 = wanted_data2\n",
        "y2 = death_machine2[\"icd_death_code\"]\n",
        "print(X2.shape, y2.shape)"
      ],
      "execution_count": null,
      "outputs": [
        {
          "output_type": "stream",
          "text": [
            "(962411, 6) (962411,)\n"
          ],
          "name": "stdout"
        }
      ]
    },
    {
      "cell_type": "code",
      "metadata": {
        "id": "bxtxWuIK1pQf"
      },
      "source": [
        "X_train, X_test, y_train, y_test = train_test_split(X, y, random_state=42)"
      ],
      "execution_count": null,
      "outputs": []
    },
    {
      "cell_type": "code",
      "metadata": {
        "id": "zJMrCp01iq4O"
      },
      "source": [
        "X2_train, X2_test, y2_train, y2_test = train_test_split(X2, y2, random_state=42)"
      ],
      "execution_count": null,
      "outputs": []
    },
    {
      "cell_type": "code",
      "metadata": {
        "id": "5l3BETWAiq91"
      },
      "source": [
        "X_train = X_train.astype(int)\n",
        "X_test = X_test.astype(int)\n",
        "y_train = y_train.astype(int)\n",
        "y_test = y_test.astype(int)"
      ],
      "execution_count": null,
      "outputs": []
    },
    {
      "cell_type": "code",
      "metadata": {
        "id": "WDXJeSUI18_G"
      },
      "source": [
        "X2_train = X2_train.astype(int)\n",
        "X2_test = X2_test.astype(int)\n",
        "# y2_train = y2_train.astype(int)\n",
        "# y2_test = y2_test.astype(int)"
      ],
      "execution_count": null,
      "outputs": []
    },
    {
      "cell_type": "code",
      "metadata": {
        "id": "p9nnOCgQjVjO"
      },
      "source": [
        "X_scaler = MinMaxScaler().fit(X_train)\n",
        "X_train_scaled = X_scaler.transform(X_train)\n",
        "X_test_scaled = X_scaler.transform(X_test)"
      ],
      "execution_count": null,
      "outputs": []
    },
    {
      "cell_type": "code",
      "metadata": {
        "id": "D7MYvlHs2EPS"
      },
      "source": [
        "X2_scaler = MinMaxScaler().fit(X_train)\n",
        "X2_train_scaled = X2_scaler.transform(X_train)\n",
        "X2_test_scaled = X2_scaler.transform(X_test)"
      ],
      "execution_count": null,
      "outputs": []
    },
    {
      "cell_type": "code",
      "metadata": {
        "colab": {
          "base_uri": "https://localhost:8080/"
        },
        "id": "F45UMiAwjVnh",
        "outputId": "4489d741-19a2-4650-8af9-ac1721a3af3b"
      },
      "source": [
        "print(X_train_scaled.shape)\n",
        "print(X_test_scaled.shape)\n",
        "print(y_train.shape)\n",
        "print(y_test.shape)"
      ],
      "execution_count": null,
      "outputs": [
        {
          "output_type": "stream",
          "text": [
            "(721808, 6)\n",
            "(240603, 6)\n",
            "(721808,)\n",
            "(240603,)\n"
          ],
          "name": "stdout"
        }
      ]
    },
    {
      "cell_type": "code",
      "metadata": {
        "colab": {
          "base_uri": "https://localhost:8080/"
        },
        "id": "LuyXiTBX2HB5",
        "outputId": "90986938-4dcd-4cc5-f527-8773c0fd76bd"
      },
      "source": [
        "print(X2_train_scaled.shape)\n",
        "print(X2_test_scaled.shape)\n",
        "print(y2_train.shape)\n",
        "print(y2_test.shape)"
      ],
      "execution_count": null,
      "outputs": [
        {
          "output_type": "stream",
          "text": [
            "(721808, 6)\n",
            "(240603, 6)\n",
            "(721808,)\n",
            "(240603,)\n"
          ],
          "name": "stdout"
        }
      ]
    },
    {
      "cell_type": "code",
      "metadata": {
        "id": "dHMMOwlvjVrd"
      },
      "source": [
        "from tensorflow.keras.utils import to_categorical\n",
        "label_encoder = LabelEncoder()\n",
        "label_encoder.fit(y2_train)\n",
        "encoded_y_train = label_encoder.transform(y2_train)\n",
        "encoded_y_test = label_encoder.transform(y2_test)"
      ],
      "execution_count": null,
      "outputs": []
    },
    {
      "cell_type": "code",
      "metadata": {
        "id": "_w3VfK6gjVv0"
      },
      "source": [
        "y2_train_categorical = to_categorical(encoded_y_train)\n",
        "y2_test_categorical = to_categorical(encoded_y_test)"
      ],
      "execution_count": null,
      "outputs": []
    },
    {
      "cell_type": "code",
      "metadata": {
        "colab": {
          "base_uri": "https://localhost:8080/"
        },
        "id": "Jw2Vav2ojVzV",
        "outputId": "de919940-d2d5-446e-fec1-6d07e9e6a7ba"
      },
      "source": [
        "y2_train_categorical.shape"
      ],
      "execution_count": null,
      "outputs": [
        {
          "output_type": "execute_result",
          "data": {
            "text/plain": [
              "(721808, 10)"
            ]
          },
          "metadata": {
            "tags": []
          },
          "execution_count": 75
        }
      ]
    },
    {
      "cell_type": "code",
      "metadata": {
        "colab": {
          "base_uri": "https://localhost:8080/"
        },
        "id": "dIhvWYyfjV29",
        "outputId": "1fe031de-e9c5-4dff-baed-5ee6f252ca79"
      },
      "source": [
        "y_train.shape"
      ],
      "execution_count": null,
      "outputs": [
        {
          "output_type": "execute_result",
          "data": {
            "text/plain": [
              "(721808,)"
            ]
          },
          "metadata": {
            "tags": []
          },
          "execution_count": 77
        }
      ]
    },
    {
      "cell_type": "code",
      "metadata": {
        "id": "IyoXz3bLjnPi"
      },
      "source": [
        ""
      ],
      "execution_count": null,
      "outputs": []
    },
    {
      "cell_type": "code",
      "metadata": {
        "colab": {
          "base_uri": "https://localhost:8080/"
        },
        "id": "mkHM0ItEjnW4",
        "outputId": "f480a0ca-a336-4932-8466-62200f4c8a33"
      },
      "source": [
        "from sklearn import tree\n",
        "clf = tree.DecisionTreeClassifier()\n",
        "clf = clf.fit(X_train_scaled, y_train)\n",
        "clf.score(X_test_scaled, y_test)"
      ],
      "execution_count": null,
      "outputs": [
        {
          "output_type": "execute_result",
          "data": {
            "text/plain": [
              "0.4410252573741807"
            ]
          },
          "metadata": {
            "tags": []
          },
          "execution_count": 31
        }
      ]
    },
    {
      "cell_type": "code",
      "metadata": {
        "colab": {
          "base_uri": "https://localhost:8080/"
        },
        "id": "DPQk-PZijnbj",
        "outputId": "a4bccecf-898b-4cf7-c81b-6830f3686fab"
      },
      "source": [
        "import pickle\n",
        "pickle.dump(clf, open('clf_death_model.pkl', 'wb'))\n",
        "model1 = pickle.load(open('clf_death_model.pkl', 'rb'))\n",
        "print(model1)"
      ],
      "execution_count": null,
      "outputs": [
        {
          "output_type": "stream",
          "text": [
            "DecisionTreeClassifier(ccp_alpha=0.0, class_weight=None, criterion='gini',\n",
            "                       max_depth=None, max_features=None, max_leaf_nodes=None,\n",
            "                       min_impurity_decrease=0.0, min_impurity_split=None,\n",
            "                       min_samples_leaf=1, min_samples_split=2,\n",
            "                       min_weight_fraction_leaf=0.0, presort='deprecated',\n",
            "                       random_state=None, splitter='best')\n"
          ],
          "name": "stdout"
        }
      ]
    },
    {
      "cell_type": "code",
      "metadata": {
        "id": "OYafXH9D7nxc"
      },
      "source": [
        ""
      ],
      "execution_count": null,
      "outputs": []
    },
    {
      "cell_type": "code",
      "metadata": {
        "colab": {
          "base_uri": "https://localhost:8080/"
        },
        "id": "OF4_stP3pqcF",
        "outputId": "39d8b238-ca9d-4d39-d78c-29e251586311"
      },
      "source": [
        "a = X_test_scaled[0]\n",
        "a"
      ],
      "execution_count": null,
      "outputs": [
        {
          "output_type": "execute_result",
          "data": {
            "text/plain": [
              "array([0.125     , 1.        , 0.08817635, 0.5       , 0.        ,\n",
              "       0.        ])"
            ]
          },
          "metadata": {
            "tags": []
          },
          "execution_count": 84
        }
      ]
    },
    {
      "cell_type": "code",
      "metadata": {
        "colab": {
          "base_uri": "https://localhost:8080/",
          "height": 357
        },
        "id": "YJs4G6FP3-Se",
        "outputId": "b3a57d20-277a-40bc-886b-60f249ffead9"
      },
      "source": [
        "answer = model1.predict(X_test_scaled[0])"
      ],
      "execution_count": null,
      "outputs": [
        {
          "output_type": "error",
          "ename": "ValueError",
          "evalue": "ignored",
          "traceback": [
            "\u001b[0;31m---------------------------------------------------------------------------\u001b[0m",
            "\u001b[0;31mValueError\u001b[0m                                Traceback (most recent call last)",
            "\u001b[0;32m<ipython-input-85-5097c331e72c>\u001b[0m in \u001b[0;36m<module>\u001b[0;34m()\u001b[0m\n\u001b[0;32m----> 1\u001b[0;31m \u001b[0manswer\u001b[0m \u001b[0;34m=\u001b[0m \u001b[0mmodel1\u001b[0m\u001b[0;34m.\u001b[0m\u001b[0mpredict\u001b[0m\u001b[0;34m(\u001b[0m\u001b[0mX_test_scaled\u001b[0m\u001b[0;34m[\u001b[0m\u001b[0;36m0\u001b[0m\u001b[0;34m]\u001b[0m\u001b[0;34m)\u001b[0m\u001b[0;34m\u001b[0m\u001b[0;34m\u001b[0m\u001b[0m\n\u001b[0m",
            "\u001b[0;32m/usr/local/lib/python3.7/dist-packages/sklearn/tree/_classes.py\u001b[0m in \u001b[0;36mpredict\u001b[0;34m(self, X, check_input)\u001b[0m\n\u001b[1;32m    417\u001b[0m         \"\"\"\n\u001b[1;32m    418\u001b[0m         \u001b[0mcheck_is_fitted\u001b[0m\u001b[0;34m(\u001b[0m\u001b[0mself\u001b[0m\u001b[0;34m)\u001b[0m\u001b[0;34m\u001b[0m\u001b[0;34m\u001b[0m\u001b[0m\n\u001b[0;32m--> 419\u001b[0;31m         \u001b[0mX\u001b[0m \u001b[0;34m=\u001b[0m \u001b[0mself\u001b[0m\u001b[0;34m.\u001b[0m\u001b[0m_validate_X_predict\u001b[0m\u001b[0;34m(\u001b[0m\u001b[0mX\u001b[0m\u001b[0;34m,\u001b[0m \u001b[0mcheck_input\u001b[0m\u001b[0;34m)\u001b[0m\u001b[0;34m\u001b[0m\u001b[0;34m\u001b[0m\u001b[0m\n\u001b[0m\u001b[1;32m    420\u001b[0m         \u001b[0mproba\u001b[0m \u001b[0;34m=\u001b[0m \u001b[0mself\u001b[0m\u001b[0;34m.\u001b[0m\u001b[0mtree_\u001b[0m\u001b[0;34m.\u001b[0m\u001b[0mpredict\u001b[0m\u001b[0;34m(\u001b[0m\u001b[0mX\u001b[0m\u001b[0;34m)\u001b[0m\u001b[0;34m\u001b[0m\u001b[0;34m\u001b[0m\u001b[0m\n\u001b[1;32m    421\u001b[0m         \u001b[0mn_samples\u001b[0m \u001b[0;34m=\u001b[0m \u001b[0mX\u001b[0m\u001b[0;34m.\u001b[0m\u001b[0mshape\u001b[0m\u001b[0;34m[\u001b[0m\u001b[0;36m0\u001b[0m\u001b[0;34m]\u001b[0m\u001b[0;34m\u001b[0m\u001b[0;34m\u001b[0m\u001b[0m\n",
            "\u001b[0;32m/usr/local/lib/python3.7/dist-packages/sklearn/tree/_classes.py\u001b[0m in \u001b[0;36m_validate_X_predict\u001b[0;34m(self, X, check_input)\u001b[0m\n\u001b[1;32m    378\u001b[0m         \u001b[0;34m\"\"\"Validate X whenever one tries to predict, apply, predict_proba\"\"\"\u001b[0m\u001b[0;34m\u001b[0m\u001b[0;34m\u001b[0m\u001b[0m\n\u001b[1;32m    379\u001b[0m         \u001b[0;32mif\u001b[0m \u001b[0mcheck_input\u001b[0m\u001b[0;34m:\u001b[0m\u001b[0;34m\u001b[0m\u001b[0;34m\u001b[0m\u001b[0m\n\u001b[0;32m--> 380\u001b[0;31m             \u001b[0mX\u001b[0m \u001b[0;34m=\u001b[0m \u001b[0mcheck_array\u001b[0m\u001b[0;34m(\u001b[0m\u001b[0mX\u001b[0m\u001b[0;34m,\u001b[0m \u001b[0mdtype\u001b[0m\u001b[0;34m=\u001b[0m\u001b[0mDTYPE\u001b[0m\u001b[0;34m,\u001b[0m \u001b[0maccept_sparse\u001b[0m\u001b[0;34m=\u001b[0m\u001b[0;34m\"csr\"\u001b[0m\u001b[0;34m)\u001b[0m\u001b[0;34m\u001b[0m\u001b[0;34m\u001b[0m\u001b[0m\n\u001b[0m\u001b[1;32m    381\u001b[0m             if issparse(X) and (X.indices.dtype != np.intc or\n\u001b[1;32m    382\u001b[0m                                 X.indptr.dtype != np.intc):\n",
            "\u001b[0;32m/usr/local/lib/python3.7/dist-packages/sklearn/utils/validation.py\u001b[0m in \u001b[0;36mcheck_array\u001b[0;34m(array, accept_sparse, accept_large_sparse, dtype, order, copy, force_all_finite, ensure_2d, allow_nd, ensure_min_samples, ensure_min_features, warn_on_dtype, estimator)\u001b[0m\n\u001b[1;32m    554\u001b[0m                     \u001b[0;34m\"Reshape your data either using array.reshape(-1, 1) if \"\u001b[0m\u001b[0;34m\u001b[0m\u001b[0;34m\u001b[0m\u001b[0m\n\u001b[1;32m    555\u001b[0m                     \u001b[0;34m\"your data has a single feature or array.reshape(1, -1) \"\u001b[0m\u001b[0;34m\u001b[0m\u001b[0;34m\u001b[0m\u001b[0m\n\u001b[0;32m--> 556\u001b[0;31m                     \"if it contains a single sample.\".format(array))\n\u001b[0m\u001b[1;32m    557\u001b[0m \u001b[0;34m\u001b[0m\u001b[0m\n\u001b[1;32m    558\u001b[0m         \u001b[0;31m# in the future np.flexible dtypes will be handled like object dtypes\u001b[0m\u001b[0;34m\u001b[0m\u001b[0;34m\u001b[0m\u001b[0;34m\u001b[0m\u001b[0m\n",
            "\u001b[0;31mValueError\u001b[0m: Expected 2D array, got 1D array instead:\narray=[0.125      1.         0.08817635 0.5        0.         0.        ].\nReshape your data either using array.reshape(-1, 1) if your data has a single feature or array.reshape(1, -1) if it contains a single sample."
          ]
        }
      ]
    },
    {
      "cell_type": "code",
      "metadata": {
        "id": "232NzTivjngi"
      },
      "source": [
        "b = a[1, :, None]"
      ],
      "execution_count": null,
      "outputs": []
    },
    {
      "cell_type": "code",
      "metadata": {
        "colab": {
          "base_uri": "https://localhost:8080/",
          "height": 129
        },
        "id": "8bLPD6iH6FAD",
        "outputId": "0b838fe8-b361-4da5-ef82-8f61eb346649"
      },
      "source": [
        "b= [1 0 0 0 0 0 0 0 0 0]"
      ],
      "execution_count": null,
      "outputs": [
        {
          "output_type": "error",
          "ename": "SyntaxError",
          "evalue": "ignored",
          "traceback": [
            "\u001b[0;36m  File \u001b[0;32m\"<ipython-input-89-8305eaae8ea4>\"\u001b[0;36m, line \u001b[0;32m1\u001b[0m\n\u001b[0;31m    b=[1 0 0 0 0 0 0 0 0 0]\u001b[0m\n\u001b[0m         ^\u001b[0m\n\u001b[0;31mSyntaxError\u001b[0m\u001b[0;31m:\u001b[0m invalid syntax\n"
          ]
        }
      ]
    },
    {
      "cell_type": "code",
      "metadata": {
        "id": "MdcxM9ZE6FRv"
      },
      "source": [
        "              [[1. 0. 0. 0. 0. 0. 0. 0. 0. 0.]]"
      ],
      "execution_count": null,
      "outputs": []
    },
    {
      "cell_type": "code",
      "metadata": {
        "colab": {
          "base_uri": "https://localhost:8080/"
        },
        "id": "N-wKf7_zjnlk",
        "outputId": "eda978e6-5749-47db-e27b-e8985e1a7f05"
      },
      "source": [
        "from sklearn.ensemble import RandomForestClassifier\n",
        "rf = RandomForestClassifier(n_estimators=200)\n",
        "rf = rf.fit(X_train_scaled, y_train_categorical)\n",
        "rf.score(X_test_scaled, y_test_categorical)"
      ],
      "execution_count": null,
      "outputs": [
        {
          "output_type": "execute_result",
          "data": {
            "text/plain": [
              "0.1232985457371687"
            ]
          },
          "metadata": {
            "tags": []
          },
          "execution_count": 38
        }
      ]
    },
    {
      "cell_type": "code",
      "metadata": {
        "colab": {
          "base_uri": "https://localhost:8080/"
        },
        "id": "xqE6FMSijqXo",
        "outputId": "8c44ccf2-7aba-4b11-8cf6-c3fe9fb8319d"
      },
      "source": [
        "import pickle\n",
        "pickle.dump(rf, open('rf_death_model.pkl', 'wb'))\n",
        "model2 = pickle.load(open('rf_death_model.pkl', 'rb'))\n",
        "print(model2)"
      ],
      "execution_count": null,
      "outputs": [
        {
          "output_type": "stream",
          "text": [
            "RandomForestClassifier(bootstrap=True, ccp_alpha=0.0, class_weight=None,\n",
            "                       criterion='gini', max_depth=None, max_features='auto',\n",
            "                       max_leaf_nodes=None, max_samples=None,\n",
            "                       min_impurity_decrease=0.0, min_impurity_split=None,\n",
            "                       min_samples_leaf=1, min_samples_split=2,\n",
            "                       min_weight_fraction_leaf=0.0, n_estimators=200,\n",
            "                       n_jobs=None, oob_score=False, random_state=None,\n",
            "                       verbose=0, warm_start=False)\n"
          ],
          "name": "stdout"
        }
      ]
    },
    {
      "cell_type": "code",
      "metadata": {
        "id": "2EM-f6cpjqgJ"
      },
      "source": [
        ""
      ],
      "execution_count": null,
      "outputs": []
    },
    {
      "cell_type": "code",
      "metadata": {
        "id": "kOCg9q-Ljqnt"
      },
      "source": [
        "from sklearn.neighbors import KNeighborsClassifier\n",
        "train_scores = []\n",
        "test_scores = []\n",
        "for k in range(1, 6, 2):\n",
        "    knn = KNeighborsClassifier(n_neighbors=k)\n",
        "    knn.fit(X_train_scaled, y_train_categorical)\n",
        "    train_score = knn.score(X_train_scaled, y_train_categorical)\n",
        "    test_score = knn.score(X_test_scaled, y_test_categorical)\n",
        "    train_scores.append(train_score)\n",
        "    test_scores.append(test_score)\n",
        "    print(f\"k: {k}, Train/Test Score: {train_score:.3f}/{test_score:.3f}\")"
      ],
      "execution_count": null,
      "outputs": []
    },
    {
      "cell_type": "code",
      "metadata": {
        "id": "6SIZnynEksiZ"
      },
      "source": [
        "import pickle\n",
        "pickle.dump(knn, open('knn_death_model.pkl', 'wb'))\n",
        "model3 = pickle.load(open('knn_death_model.pkl', 'rb'))\n",
        "print(model3)"
      ],
      "execution_count": null,
      "outputs": []
    },
    {
      "cell_type": "code",
      "metadata": {
        "id": "L4DEFp5xkstw"
      },
      "source": [
        ""
      ],
      "execution_count": null,
      "outputs": []
    }
  ]
}