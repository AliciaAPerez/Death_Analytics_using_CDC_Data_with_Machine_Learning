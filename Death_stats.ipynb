{
  "nbformat": 4,
  "nbformat_minor": 0,
  "metadata": {
    "colab": {
      "name": "Death_stats.ipynb",
      "provenance": [],
      "collapsed_sections": [],
      "authorship_tag": "ABX9TyM11g1o0Vs+Y1jLIUBNfvvw",
      "include_colab_link": true
    },
    "kernelspec": {
      "name": "python3",
      "display_name": "Python 3"
    },
    "language_info": {
      "name": "python"
    }
  },
  "cells": [
    {
      "cell_type": "markdown",
      "metadata": {
        "id": "view-in-github",
        "colab_type": "text"
      },
      "source": [
        "<a href=\"https://colab.research.google.com/github/AliciaAPerez/Death_Analytics_using_CDC_Data_with_Machine_Learning/blob/alicia/Death_stats.ipynb\" target=\"_parent\"><img src=\"https://colab.research.google.com/assets/colab-badge.svg\" alt=\"Open In Colab\"/></a>"
      ]
    },
    {
      "cell_type": "code",
      "metadata": {
        "colab": {
          "base_uri": "https://localhost:8080/"
        },
        "id": "vJVav_FtWwQq",
        "outputId": "b7d8b31e-e2e2-4ad2-ed9a-b639abe71c64"
      },
      "source": [
        "import os\n",
        "# Find the latest version of spark 3.0  from http://www-us.apache.org/dist/spark/ and enter as the spark version\n",
        "# For example:\n",
        "# spark_version = 'spark-3.0.1'\n",
        "spark_version = 'spark-3.1.1'\n",
        "os.environ['SPARK_VERSION']=spark_version\n",
        "\n",
        "# Install Spark and Java\n",
        "!apt-get update\n",
        "!apt-get install openjdk-11-jdk-headless -qq > /dev/null\n",
        "!wget -q http://www-us.apache.org/dist/spark/$SPARK_VERSION/$SPARK_VERSION-bin-hadoop2.7.tgz\n",
        "!tar xf $SPARK_VERSION-bin-hadoop2.7.tgz\n",
        "!pip install -q findspark\n",
        "\n",
        "# Set Environment Variables\n",
        "os.environ[\"JAVA_HOME\"] = \"/usr/lib/jvm/java-11-openjdk-amd64\"\n",
        "os.environ[\"SPARK_HOME\"] = f\"/content/{spark_version}-bin-hadoop2.7\"\n",
        "\n",
        "# Start a SparkSession\n",
        "import findspark\n",
        "findspark.init()"
      ],
      "execution_count": 1,
      "outputs": [
        {
          "output_type": "stream",
          "text": [
            "\r0% [Working]\r            \rHit:1 https://cloud.r-project.org/bin/linux/ubuntu bionic-cran40/ InRelease\n",
            "\r0% [Connecting to archive.ubuntu.com (91.189.88.152)] [Connecting to security.u\r0% [1 InRelease gpgv 3,626 B] [Waiting for headers] [Waiting for headers] [Wait\r                                                                               \rIgn:2 https://developer.download.nvidia.com/compute/cuda/repos/ubuntu1804/x86_64  InRelease\n",
            "\r0% [1 InRelease gpgv 3,626 B] [Waiting for headers] [Waiting for headers] [Wait\r                                                                               \rHit:3 http://ppa.launchpad.net/c2d4u.team/c2d4u4.0+/ubuntu bionic InRelease\n",
            "\r0% [1 InRelease gpgv 3,626 B] [Waiting for headers] [Waiting for headers] [Conn\r                                                                               \rGet:4 http://security.ubuntu.com/ubuntu bionic-security InRelease [88.7 kB]\n",
            "\r0% [1 InRelease gpgv 3,626 B] [Waiting for headers] [4 InRelease 14.2 kB/88.7 k\r                                                                               \rIgn:5 https://developer.download.nvidia.com/compute/machine-learning/repos/ubuntu1804/x86_64  InRelease\n",
            "\r0% [1 InRelease gpgv 3,626 B] [Waiting for headers] [4 InRelease 14.2 kB/88.7 k\r                                                                               \rHit:6 http://archive.ubuntu.com/ubuntu bionic InRelease\n",
            "\r0% [1 InRelease gpgv 3,626 B] [4 InRelease 14.2 kB/88.7 kB 16%] [Connecting to \r                                                                               \rHit:7 https://developer.download.nvidia.com/compute/cuda/repos/ubuntu1804/x86_64  Release\n",
            "Hit:8 https://developer.download.nvidia.com/compute/machine-learning/repos/ubuntu1804/x86_64  Release\n",
            "Get:9 http://archive.ubuntu.com/ubuntu bionic-updates InRelease [88.7 kB]\n",
            "Hit:10 http://ppa.launchpad.net/cran/libgit2/ubuntu bionic InRelease\n",
            "Hit:11 http://ppa.launchpad.net/deadsnakes/ppa/ubuntu bionic InRelease\n",
            "Get:12 http://archive.ubuntu.com/ubuntu bionic-backports InRelease [74.6 kB]\n",
            "Hit:13 http://ppa.launchpad.net/graphics-drivers/ppa/ubuntu bionic InRelease\n",
            "Fetched 252 kB in 3s (89.4 kB/s)\n",
            "Reading package lists... Done\n"
          ],
          "name": "stdout"
        }
      ]
    },
    {
      "cell_type": "code",
      "metadata": {
        "colab": {
          "base_uri": "https://localhost:8080/"
        },
        "id": "AISrQYkCNbEz",
        "outputId": "0f6b9d2c-a6ce-4957-d922-2e77b706427b"
      },
      "source": [
        "!wget https://jdbc.postgresql.org/download/postgresql-42.2.9.jar"
      ],
      "execution_count": 2,
      "outputs": [
        {
          "output_type": "stream",
          "text": [
            "--2021-04-19 02:55:06--  https://jdbc.postgresql.org/download/postgresql-42.2.9.jar\n",
            "Resolving jdbc.postgresql.org (jdbc.postgresql.org)... 72.32.157.228, 2001:4800:3e1:1::228\n",
            "Connecting to jdbc.postgresql.org (jdbc.postgresql.org)|72.32.157.228|:443... connected.\n",
            "HTTP request sent, awaiting response... 200 OK\n",
            "Length: 914037 (893K) [application/java-archive]\n",
            "Saving to: ‘postgresql-42.2.9.jar.1’\n",
            "\n",
            "postgresql-42.2.9.j 100%[===================>] 892.61K  --.-KB/s    in 0.1s    \n",
            "\n",
            "2021-04-19 02:55:06 (6.04 MB/s) - ‘postgresql-42.2.9.jar.1’ saved [914037/914037]\n",
            "\n"
          ],
          "name": "stdout"
        }
      ]
    },
    {
      "cell_type": "code",
      "metadata": {
        "id": "U90hcLigNcCW"
      },
      "source": [
        "from pyspark.sql import SparkSession\n",
        "spark = SparkSession.builder.appName(\"CloudETL\").config(\"spark.driver.extraClassPath\",\"/content/postgresql-42.2.9.jar\").getOrCreate()"
      ],
      "execution_count": 3,
      "outputs": []
    },
    {
      "cell_type": "code",
      "metadata": {
        "id": "9K0mrz33slGw"
      },
      "source": [
        "from pyspark import SparkFiles\n",
        "from pyspark.sql.functions import col\n",
        "from pyspark.sql.types import IntegerType"
      ],
      "execution_count": 4,
      "outputs": []
    },
    {
      "cell_type": "code",
      "metadata": {
        "colab": {
          "base_uri": "https://localhost:8080/"
        },
        "id": "b5DF5Vmpqjds",
        "outputId": "f9dc30f1-a213-46de-fc89-33b43d906d51"
      },
      "source": [
        "!curl -s https://course19.fast.ai/setup/colab | bash"
      ],
      "execution_count": 5,
      "outputs": [
        {
          "output_type": "stream",
          "text": [
            "Updating fastai...\n",
            "Done.\n"
          ],
          "name": "stdout"
        }
      ]
    },
    {
      "cell_type": "code",
      "metadata": {
        "id": "jI-z2hPl1vww"
      },
      "source": [
        "#function for other data sets to be cleaned up - only can be used for 2014 and 2015 and newer, older pages use a different education marker\n",
        "def data_clean_up(data):\n",
        "  data = data.drop(\"education_1989_revision\",\"education_reporting_flag\",\"age_substitution_flag\",\"age_recode_52\",\"age_recode_27\",\"age_recode_12\", \"infant_age_recode_22\",\n",
        "\"place_of_death_and_decedents_status\",\"method_of_disposition\",\"autopsy\", \"activity_code\", \"place_of_injury_for_causes_w00_y34_except_y06_and_y07_\", \"358_cause_recode\", \"113_cause_recode\",\n",
        "\"130_infant_cause_recode\", \"39_cause_recode\", \"bridged_race_flag\", \"race_imputation_flag\", \"race_recode_3\", \"race_recode_5\", \"hispanic_origin\");\n",
        "  data = data.filter((data.detail_age_type == 1))\n",
        "  data = data.drop(\"detail_age_type\")\n",
        "  data = data.drop(\"number_of_entity_axis_conditions\",\"entity_condition_4\",\"entity_condition_5\",\"entity_condition_6\",\"entity_condition_7\",\"entity_condition_8\",\n",
        "                                            \"entity_condition_9\",\"entity_condition_10\",\"entity_condition_11\",\"entity_condition_12\",\"entity_condition_13\",\"entity_condition_14\",\n",
        "                                            \"entity_condition_15\",\"entity_condition_16\",\"entity_condition_17\",\"entity_condition_18\",\"entity_condition_19\",\"entity_condition_20\",\n",
        "                                            \"number_of_record_axis_conditions\", \"record_condition_1\", \"record_condition_2\",\"record_condition_3\",\"record_condition_4\",\"record_condition_5\",\n",
        "                                            \"record_condition_6\",\"record_condition_7\",\"record_condition_8\",\"record_condition_9\",\"record_condition_10\",\"record_condition_11\",\"record_condition_12\",\n",
        "                                            \"record_condition_13\",\"record_condition_14\",\"record_condition_15\",\"record_condition_16\",\"record_condition_17\",\"record_condition_18\",\"record_condition_19\",\n",
        "                                            \"record_condition_20\",)\n",
        "  data = data.withColumnRenamed(\"resident_status\",\"resident\").withColumnRenamed(\"education_2003_revision\",\"education\").withColumnRenamed(\"detail_age\", \"age\").withColumnRenamed(\"current_date_year\", \"year\").withColumnRenamed(\"icd_code_10th_revision\", \"icd_death_code\").withColumnRenamed(\"hispanic_originrace_recode\", \"hispanic\")\n",
        "  data = data.withColumn(\"resident\",col(\"resident\").cast(\"integer\")).withColumn(\"education\",col(\"education\").cast(\"integer\")).withColumn(\"month_of_death\",col(\"month_of_death\").cast(\"integer\")).withColumn(\"age\",col(\"age\").cast(\"integer\")).withColumn(\"day_of_week_of_death\",col(\"day_of_week_of_death\").cast(\"integer\")).withColumn(\"current_data_year\",col(\"current_data_year\").cast(\"integer\")).withColumn(\"manner_of_death\",col(\"manner_of_death\").cast(\"integer\")).withColumn(\"race\",col(\"race\").cast(\"integer\")).withColumn(\"hispanic\",col(\"hispanic\").cast(\"integer\"))\n",
        "  data = data.fillna(value=\"0\",subset=[\"entity_condition_1\"]).fillna(value=\"0\",subset=[\"entity_condition_2\"]).fillna(value=\"0\",subset=[\"entity_condition_3\"])\n",
        "  data = data.na.replace([\"Y\", \"N\", \"U\"], [\"1\",\"2\",\"3\"], \"injury_at_work\")\n",
        "  data = data.na.replace([\"M\", \"F\"], [\"1\",\"2\"], \"sex\")\n",
        "  data = data.na.replace([\"S\", \"M\", \"W\", \"D\", \"U\"], [\"1\",\"2\", \"3\", \"4\", \"5\"], \"marital_status\")\n",
        "  data = data.select(\"icd_death_code\",\"resident\",\"education\",\"month_of_death\",\"sex\", \"age\",\"marital_status\",\"day_of_week_of_death\",\"current_data_year\",\"injury_at_work\",\"manner_of_death\",\"race\",\"hispanic\",\"entity_condition_1\",\"entity_condition_2\",\"entity_condition_3\")\n",
        "  data = data.na.drop()\n",
        "  return data\n"
      ],
      "execution_count": 6,
      "outputs": []
    },
    {
      "cell_type": "code",
      "metadata": {
        "id": "BxarpzsiCYEV"
      },
      "source": [
        "#function for other data sets to be cleaned up - only can be used for 2014 and 2015 and newer, older pages use a different education marker\n",
        "def data_clean_up2(data):\n",
        "  data = data.drop(\"education_2003_revision\",\"education_reporting_flag\",\"age_substitution_flag\",\"age_recode_52\",\"age_recode_27\",\"age_recode_12\", \"infant_age_recode_22\",\n",
        "\"place_of_death_and_decedents_status\",\"method_of_disposition\",\"autopsy\", \"activity_code\", \"place_of_injury_for_causes_w00_y34_except_y06_and_y07_\", \"358_cause_recode\", \"113_cause_recode\",\n",
        "\"130_infant_cause_recode\", \"39_cause_recode\", \"bridged_race_flag\", \"race_imputation_flag\", \"race_recode_3\", \"race_recode_5\", \"hispanic_origin\");\n",
        "  data = data.filter((data.detail_age_type == 1))\n",
        "  data = data.drop(\"detail_age_type\")\n",
        "  data = data.drop(\"number_of_entity_axis_conditions\",\"entity_condition_4\",\"entity_condition_5\",\"entity_condition_6\",\"entity_condition_7\",\"entity_condition_8\",\n",
        "                                            \"entity_condition_9\",\"entity_condition_10\",\"entity_condition_11\",\"entity_condition_12\",\"entity_condition_13\",\"entity_condition_14\",\n",
        "                                            \"entity_condition_15\",\"entity_condition_16\",\"entity_condition_17\",\"entity_condition_18\",\"entity_condition_19\",\"entity_condition_20\",\n",
        "                                            \"number_of_record_axis_conditions\", \"record_condition_1\", \"record_condition_2\",\"record_condition_3\",\"record_condition_4\",\"record_condition_5\",\n",
        "                                            \"record_condition_6\",\"record_condition_7\",\"record_condition_8\",\"record_condition_9\",\"record_condition_10\",\"record_condition_11\",\"record_condition_12\",\n",
        "                                            \"record_condition_13\",\"record_condition_14\",\"record_condition_15\",\"record_condition_16\",\"record_condition_17\",\"record_condition_18\",\"record_condition_19\",\n",
        "                                            \"record_condition_20\",)\n",
        "  data = data.withColumnRenamed(\"resident_status\",\"resident\").withColumnRenamed(\"education_1989_revision\",\"education\").withColumnRenamed(\"detail_age\", \"age\").withColumnRenamed(\"current_date_year\", \"year\").withColumnRenamed(\"icd_code_10th_revision\", \"icd_death_code\").withColumnRenamed(\"hispanic_originrace_recode\", \"hispanic\")\n",
        "  data = data.withColumn(\"resident\",col(\"resident\").cast(\"integer\")).withColumn(\"education\",col(\"education\").cast(\"integer\")).withColumn(\"month_of_death\",col(\"month_of_death\").cast(\"integer\")).withColumn(\"age\",col(\"age\").cast(\"integer\")).withColumn(\"day_of_week_of_death\",col(\"day_of_week_of_death\").cast(\"integer\")).withColumn(\"current_data_year\",col(\"current_data_year\").cast(\"integer\")).withColumn(\"manner_of_death\",col(\"manner_of_death\").cast(\"integer\")).withColumn(\"race\",col(\"race\").cast(\"integer\")).withColumn(\"hispanic\",col(\"hispanic\").cast(\"integer\"))\n",
        "  data = data.fillna(value=\"0\",subset=[\"entity_condition_1\"]).fillna(value=\"0\",subset=[\"entity_condition_2\"]).fillna(value=\"0\",subset=[\"entity_condition_3\"])\n",
        "  data = data.na.replace([0,1,2,3,4,5,6,7,8,9,10,11,12,13,14,15,16,17,99], [1,1,1,1,1,1,1,1,1,2,2,2,3,4,4,4,6,7,9], \"education\")\n",
        "  data = data.na.replace([\"Y\", \"N\", \"U\"], [\"1\",\"2\",\"3\"], \"injury_at_work\")\n",
        "  data = data.na.replace([\"M\", \"F\"], [\"1\",\"2\"], \"sex\")\n",
        "  data = data.na.replace([\"S\", \"M\", \"W\", \"D\", \"U\"], [\"1\",\"2\", \"3\", \"4\", \"5\"], \"marital_status\")\n",
        "  data = data.select(\"icd_death_code\",\"resident\",\"education\",\"month_of_death\",\"sex\", \"age\",\"marital_status\",\"day_of_week_of_death\",\"current_data_year\",\"injury_at_work\",\"manner_of_death\",\"race\",\"hispanic\",\"entity_condition_1\",\"entity_condition_2\",\"entity_condition_3\")\n",
        "  data = data.na.drop()\n",
        "  return data"
      ],
      "execution_count": 7,
      "outputs": []
    },
    {
      "cell_type": "code",
      "metadata": {
        "id": "zcqGDXEhLr1z",
        "colab": {
          "base_uri": "https://localhost:8080/"
        },
        "outputId": "a0ba7425-5a51-413e-e828-73f68db0e547"
      },
      "source": [
        "#GATHER DATA\n",
        "url =\"https://aperezbucket.s3.us-east-2.amazonaws.com/2015_data.csv\"\n",
        "spark.sparkContext.addFile(url)\n",
        "death_2015 = spark.read.csv(SparkFiles.get(\"2015_data.csv\"), sep=\",\", header=True)\n",
        "\n",
        "# Show DataFrame\n",
        "death_2015_final = data_clean_up(death_2015)\n",
        "death_2015_final.show()"
      ],
      "execution_count": 8,
      "outputs": [
        {
          "output_type": "stream",
          "text": [
            "+--------------+--------+---------+--------------+---+---+--------------+--------------------+-----------------+--------------+---------------+----+--------+------------------+------------------+------------------+\n",
            "|icd_death_code|resident|education|month_of_death|sex|age|marital_status|day_of_week_of_death|current_data_year|injury_at_work|manner_of_death|race|hispanic|entity_condition_1|entity_condition_2|entity_condition_3|\n",
            "+--------------+--------+---------+--------------+---+---+--------------+--------------------+-----------------+--------------+---------------+----+--------+------------------+------------------+------------------+\n",
            "|          I500|       1|        3|             1|  1| 84|             2|                   1|             2015|             3|              7|   1|       6|            11I500|            61L031|                 0|\n",
            "|          C349|       1|        6|             1|  1| 70|             2|                   2|             2015|             3|              7|   1|       6|            11I469|            21R042|            31C349|\n",
            "|          G309|       1|        3|             1|  2| 91|             3|                   6|             2015|             3|              7|   1|       6|            11G309|                 0|                 0|\n",
            "|           X91|       1|        3|             1|  2| 40|             1|                   5|             2015|             2|              3|   3|       8|             11T71|             12X91|             21T71|\n",
            "|          I250|       1|        5|             1|  2| 89|             3|                   5|             2015|             3|              7|   1|       6|            11I250|            21S720|            61X590|\n",
            "|          I516|       1|        6|             1|  1| 78|             3|                   6|             2015|             3|              7|   3|       8|            11I499|            21I516|            61E780|\n",
            "|          E274|       1|        4|             1|  1| 92|             3|                   1|             2015|             3|              7|   1|       6|            11E274|                 0|                 0|\n",
            "|          I500|       1|        3|             1|  1| 82|             2|                   1|             2015|             3|              7|   1|       6|            11I500|                 0|                 0|\n",
            "|          I350|       1|        3|             1|  2| 89|             3|                   1|             2015|             3|              7|   1|       6|            11I500|            21I350|                 0|\n",
            "|           W19|       1|        9|             1|  2| 93|             3|                   7|             2015|             3|              7|   1|       6|            11T142|             21W19|            31R688|\n",
            "|           I48|       1|        6|             1|  2| 84|             2|                   1|             2015|             3|              7|   1|       6|            11J189|             21I48|             61I64|\n",
            "|          G309|       1|        3|             1|  2| 84|             2|                   1|             2015|             3|              7|   1|       6|            11G309|            61I500|                 0|\n",
            "|          I219|       1|        3|             1|  2| 67|             2|                   2|             2015|             3|              7|   1|       6|            11I219|            21I251|             61N19|\n",
            "|          R688|       1|        6|             1|  1| 94|             3|                   7|             2015|             3|              7|   1|       6|            11R688|             12R54|                 0|\n",
            "|          C798|       1|        2|             1|  1| 56|             2|                   7|             2015|             3|              7|   1|       6|            11C798|            61K769|            62F179|\n",
            "|          X599|       1|        3|             1|  1| 32|             1|                   6|             2015|             2|              1|   3|       8|            11S099|            12X599|                 0|\n",
            "|           X70|       1|        2|             1|  1| 18|             1|                   1|             2015|             2|              2|   3|       8|             11T71|             12X70|             21T71|\n",
            "|           X72|       1|        3|             1|  1| 48|             2|                   7|             2015|             2|              2|   1|       6|            11S069|            21S019|             22X72|\n",
            "|           I64|       1|        4|             1|  2| 79|             3|                   5|             2015|             3|              7|   3|       8|             11I64|             21R13|                 0|\n",
            "|           I64|       1|        6|             1|  1| 85|             3|                   6|             2015|             3|              7|   1|       6|            11J189|             61G20|             62I64|\n",
            "+--------------+--------+---------+--------------+---+---+--------------+--------------------+-----------------+--------------+---------------+----+--------+------------------+------------------+------------------+\n",
            "only showing top 20 rows\n",
            "\n"
          ],
          "name": "stdout"
        }
      ]
    },
    {
      "cell_type": "code",
      "metadata": {
        "colab": {
          "base_uri": "https://localhost:8080/"
        },
        "id": "-hd76jl-IIXK",
        "outputId": "1735aede-a254-497d-8d81-372818ae766f"
      },
      "source": [
        "url =\"https://aperezbucket.s3.us-east-2.amazonaws.com/2014_data.csv\"\n",
        "spark.sparkContext.addFile(url)\n",
        "death_2014 = spark.read.csv(SparkFiles.get(\"2014_data.csv\"), sep=\",\", header=True)\n",
        "\n",
        "#run the function for clean_up and show that dataframe\n",
        "death_2014_final = data_clean_up(death_2014)\n",
        "death_2014_final.show()"
      ],
      "execution_count": null,
      "outputs": [
        {
          "output_type": "stream",
          "text": [
            "+--------------+--------+---------+--------------+---+---+--------------+--------------------+-----------------+--------------+---------------+----+--------+------------------+------------------+------------------+\n",
            "|icd_death_code|resident|education|month_of_death|sex|age|marital_status|day_of_week_of_death|current_data_year|injury_at_work|manner_of_death|race|hispanic|entity_condition_1|entity_condition_2|entity_condition_3|\n",
            "+--------------+--------+---------+--------------+---+---+--------------+--------------------+-----------------+--------------+---------------+----+--------+------------------+------------------+------------------+\n",
            "|           I64|       1|        2|             1|  1| 87|             2|                   4|             2014|             3|              7|   1|       6|             11I64|                 0|                 0|\n",
            "|          I250|       1|        2|             1|  1| 58|             4|                   3|             2014|             3|              7|   1|       6|            11I250|            61I272|            62E669|\n",
            "|          J449|       1|        7|             1|  2| 75|             3|                   2|             2014|             3|              7|   1|       6|            11J449|            61F179|                 0|\n",
            "|           I48|       1|        6|             1|  1| 74|             4|                   1|             2014|             3|              7|   1|       6|             11I64|             21I48|             61F03|\n",
            "|          I250|       1|        3|             1|  1| 64|             4|                   2|             2014|             3|              7|   1|       6|            11I250|                 0|                 0|\n",
            "|          K137|       1|        5|             1|  2| 93|             3|                   4|             2014|             3|              7|   1|       6|            11K137|            12R040|            21C349|\n",
            "|          I251|       1|        4|             1|  1| 82|             2|                   6|             2014|             3|              7|   1|       6|            11I469|            21I259|            31I251|\n",
            "|          I250|       1|        4|             1|  1| 55|             1|                   6|             2014|             3|              7|   2|       7|            11I250|            61F102|                 0|\n",
            "|           F03|       1|        3|             1|  2| 86|             3|                   6|             2014|             3|              7|   1|       6|             11F03|                 0|                 0|\n",
            "|           X72|       1|        3|             1|  1| 23|             1|                   4|             2014|             2|              2|   1|       6|            11S019|             12X72|            61T141|\n",
            "|          I350|       1|        3|             1|  2| 79|             3|                   2|             2014|             3|              7|   1|       6|            11I500|            21I350|                 0|\n",
            "|           G20|       1|        2|             1|  1| 86|             3|                   3|             2014|             3|              7|   1|       6|             11F03|             21G20|                 0|\n",
            "|          I350|       1|        4|             1|  2| 85|             3|                   3|             2014|             3|              7|   1|       6|            11I500|            21I350|            61E149|\n",
            "|          C349|       1|        3|             1|  2| 84|             3|                   4|             2014|             3|              7|   1|       6|            11C349|            61F179|                 0|\n",
            "|          C349|       1|        3|             1|  2| 66|             4|                   6|             2014|             3|              7|   1|       6|            11C349|            61E149|            62I730|\n",
            "|          I251|       1|        4|             1|  2| 70|             2|                   4|             2014|             3|              7|   3|       8|            11I251|            12I469|            21J449|\n",
            "|           I48|       1|        6|             1|  2| 92|             3|                   2|             2014|             3|              7|   1|       6|            11I500|             21R99|             61F03|\n",
            "|          I251|       1|        5|             1|  2| 82|             3|                   5|             2014|             3|              7|  28|       8|            11I350|            21I251|                 0|\n",
            "|          J449|       1|        1|             1|  1| 83|             2|                   4|             2014|             3|              7|   1|       6|            11J449|             21R99|            61I251|\n",
            "|          C844|       1|        3|             1|  2| 84|             3|                   1|             2014|             3|              7|   2|       7|            11C844|            61E149|             62I10|\n",
            "+--------------+--------+---------+--------------+---+---+--------------+--------------------+-----------------+--------------+---------------+----+--------+------------------+------------------+------------------+\n",
            "only showing top 20 rows\n",
            "\n"
          ],
          "name": "stdout"
        }
      ]
    },
    {
      "cell_type": "code",
      "metadata": {
        "colab": {
          "base_uri": "https://localhost:8080/"
        },
        "id": "WRw30cv2II2K",
        "outputId": "6cf40b9a-2024-455a-f972-17495a3d218b"
      },
      "source": [
        "url =\"https://aperezbucket.s3.us-east-2.amazonaws.com/2013_data.csv\"\n",
        "spark.sparkContext.addFile(url)\n",
        "death_2013 = spark.read.csv(SparkFiles.get(\"2013_data.csv\"), sep=\",\", header=True)\n",
        "\n",
        "#run the function for clean_up and show that dataframe\n",
        "death_2013_final = data_clean_up2(death_2013)\n",
        "death_2013_final.show()"
      ],
      "execution_count": null,
      "outputs": [
        {
          "output_type": "stream",
          "text": [
            "+--------------+--------+---------+--------------+---+---+--------------+--------------------+-----------------+--------------+---------------+----+--------+------------------+------------------+------------------+\n",
            "|icd_death_code|resident|education|month_of_death|sex|age|marital_status|day_of_week_of_death|current_data_year|injury_at_work|manner_of_death|race|hispanic|entity_condition_1|entity_condition_2|entity_condition_3|\n",
            "+--------------+--------+---------+--------------+---+---+--------------+--------------------+-----------------+--------------+---------------+----+--------+------------------+------------------+------------------+\n",
            "|           F03|       1|        4|             1|  1| 90|             2|                   4|             2013|             3|              7|   1|       6|             11F03|             61I10|            62K579|\n",
            "|           F03|       1|        3|             1|  2| 80|             3|                   3|             2013|             3|              7|   1|       6|             11F03|                 0|                 0|\n",
            "|           F03|       2|        7|             1|  1| 73|             4|                   4|             2013|             3|              7|   1|       6|             11F03|                 0|                 0|\n",
            "|          C798|       1|        9|             1|  1| 78|             2|                   1|             2013|             3|              7|   3|       8|            11C798|            61J449|                 0|\n",
            "|          C349|       1|        3|             1|  2| 83|             4|                   4|             2013|             3|              7|   1|       6|            11C349|            21F179|            61J449|\n",
            "|          I500|       2|        3|             1|  2| 89|             3|                   7|             2013|             3|              7|   1|       6|            11N179|            21I500|            61D471|\n",
            "|          C349|       1|        6|             1|  2| 69|             4|                   6|             2013|             3|              7|   1|       6|            11C349|            21F171|                 0|\n",
            "|          A419|       1|        4|             1|  2| 64|             4|                   4|             2013|             3|              7|   1|       6|            11R688|            21A419|            61C221|\n",
            "|          G309|       1|        7|             1|  2| 87|             3|                   1|             2013|             3|              7|   1|       6|            11G309|            21J969|            22J189|\n",
            "|          C717|       2|        3|             1|  2| 24|             1|                   3|             2013|             3|              7|   3|       8|            11G935|            21C717|                 0|\n",
            "|          I250|       1|        3|             1|  1| 47|             2|                   4|             2013|             3|              7|   3|       8|            11I119|            12I250|                 0|\n",
            "|          C159|       2|        6|             1|  1| 62|             1|                   5|             2013|             3|              7|   3|       8|            11C159|                 0|                 0|\n",
            "|          I429|       1|        1|             1|  1| 75|             1|                   6|             2013|             3|              7|   3|       8|            11I429|             12I48|            61C780|\n",
            "|          C189|       1|        2|             1|  1| 58|             4|                   7|             2013|             3|              7|   1|       6|            11C189|             61I10|                 0|\n",
            "|          C509|       1|        4|             1|  2| 89|             2|                   6|             2013|             3|              7|   1|       6|            11C509|                 0|                 0|\n",
            "|          I809|       1|        2|             1|  1| 85|             3|                   7|             2013|             3|              7|   1|       6|            11I739|            21I809|            31I829|\n",
            "|          J690|       1|        4|             1|  2| 80|             3|                   5|             2013|             3|              7|   1|       6|            11J690|            61M350|            62G473|\n",
            "|          I429|       2|        7|             1|  1| 57|             2|                   3|             2013|             3|              7|   2|       7|            11R579|            21I429|            22A419|\n",
            "|          I619|       1|        1|             1|  1| 68|             2|                   1|             2013|             3|              7|   7|       8|            11I619|             21I10|             61I48|\n",
            "|           F03|       1|        3|             1|  1| 83|             2|                   2|             2013|             3|              7|   1|       6|             11F03|             61I10|             62I64|\n",
            "+--------------+--------+---------+--------------+---+---+--------------+--------------------+-----------------+--------------+---------------+----+--------+------------------+------------------+------------------+\n",
            "only showing top 20 rows\n",
            "\n"
          ],
          "name": "stdout"
        }
      ]
    },
    {
      "cell_type": "code",
      "metadata": {
        "colab": {
          "base_uri": "https://localhost:8080/"
        },
        "id": "uZvrhyJyIJTz",
        "outputId": "362ca283-d422-4fc4-c3f2-096c56bb5afe"
      },
      "source": [
        "url =\"https://aperezbucket.s3.us-east-2.amazonaws.com/2012_data.csv\"\n",
        "spark.sparkContext.addFile(url)\n",
        "death_2012 = spark.read.csv(SparkFiles.get(\"2012_data.csv\"), sep=\",\", header=True)\n",
        "death_2012 = death_2012.withColumnRenamed(\"icd_code_10\",\"icd_death_code\")\n",
        "#run the function for clean_up and show that dataframe\n",
        "death_2012_final = data_clean_up2(death_2012)\n",
        "death_2012_final.show()"
      ],
      "execution_count": null,
      "outputs": [
        {
          "output_type": "stream",
          "text": [
            "+--------------+--------+---------+--------------+---+---+--------------+--------------------+-----------------+--------------+---------------+----+--------+------------------+------------------+------------------+\n",
            "|icd_death_code|resident|education|month_of_death|sex|age|marital_status|day_of_week_of_death|current_data_year|injury_at_work|manner_of_death|race|hispanic|entity_condition_1|entity_condition_2|entity_condition_3|\n",
            "+--------------+--------+---------+--------------+---+---+--------------+--------------------+-----------------+--------------+---------------+----+--------+------------------+------------------+------------------+\n",
            "|          C349|       1|        3|             1|  2| 59|             3|                   1|             2012|             3|              7|   1|       6|            11C349|                 0|                 0|\n",
            "|           F03|       1|        3|             1|  2| 90|             3|                   2|             2012|             3|              7|   1|       6|             11R53|             21R54|             61F03|\n",
            "|          K754|       1|        1|             1|  2| 58|             2|                   2|             2012|             3|              7|   3|       8|            11I469|            21J969|            31K729|\n",
            "|           N19|       2|        3|             1|  1| 85|             4|                   3|             2012|             3|              7|   1|       6|             11N19|                 0|                 0|\n",
            "|          M259|       2|        6|             1|  1| 54|             2|                   1|             2012|             3|              7|   1|       6|            11I269|            21T817|            31Y831|\n",
            "|          C439|       1|        9|             1|  2| 44|             2|                   4|             2012|             3|              7|   1|       6|            11C439|             61I10|            62N028|\n",
            "|           I10|       1|        1|             1|  2| 87|             2|                   1|             2012|             3|              7|   3|       8|            11I711|             21I10|                 0|\n",
            "|           X70|       1|        4|             1|  2| 31|             2|                   1|             2012|             2|              2|   1|       6|             11T71|             12X70|             61T71|\n",
            "|          D432|       1|        3|             1|  2| 75|             4|                   2|             2012|             3|              7|   1|       6|            11D432|            21I619|                 0|\n",
            "|           I48|       2|        6|             1|  1| 90|             2|                   4|             2012|             3|              7|   1|       6|             11I64|             21I48|                 0|\n",
            "|          I500|       1|        6|             1|  2| 79|             3|                   1|             2012|             3|              7|   1|       6|            11I500|            61J449|            62E149|\n",
            "|          C349|       1|        7|             1|  2| 69|             2|                   3|             2012|             3|              7|   1|       6|            11C349|             61N19|             62C80|\n",
            "|          R092|       1|        3|             1|  1| 58|             4|                   1|             2012|             3|              7|   3|       8|            11R092|            12R090|                 0|\n",
            "|          J449|       1|        3|             1|  2| 82|             4|                   1|             2012|             3|              7|   1|       6|            11I500|             21N19|            31J449|\n",
            "|          I119|       1|        6|             1|  1| 62|             2|                   3|             2012|             3|              7|   1|       6|            11I119|            61F101|                 0|\n",
            "|          I632|       1|        9|             1|  2|100|             3|                   3|             2012|             3|              7|   3|       8|            11I442|            21I632|             31I10|\n",
            "|          D469|       1|        4|             1|  2| 57|             2|                   7|             2012|             3|              7|   1|       6|            11D469|                 0|                 0|\n",
            "|          G309|       1|        2|             1|  2| 86|             3|                   7|             2012|             3|              7|   1|       6|            11G309|                 0|                 0|\n",
            "|           C61|       1|        3|             1|  1| 82|             1|                   6|             2012|             3|              7|   1|       6|             11C61|                 0|                 0|\n",
            "|          K550|       1|        7|             1|  1| 82|             2|                   2|             2012|             3|              7|   1|       6|            11K550|            21K550|            61I251|\n",
            "+--------------+--------+---------+--------------+---+---+--------------+--------------------+-----------------+--------------+---------------+----+--------+------------------+------------------+------------------+\n",
            "only showing top 20 rows\n",
            "\n"
          ],
          "name": "stdout"
        }
      ]
    },
    {
      "cell_type": "code",
      "metadata": {
        "colab": {
          "base_uri": "https://localhost:8080/"
        },
        "id": "7s7OYsQ4IJle",
        "outputId": "36577863-9be4-41e1-8f04-84c40e6bd753"
      },
      "source": [
        "url =\"https://aperezbucket.s3.us-east-2.amazonaws.com/2011_data.csv\"\n",
        "spark.sparkContext.addFile(url)\n",
        "death_2011 = spark.read.csv(SparkFiles.get(\"2011_data.csv\"), sep=\",\", header=True)\n",
        "\n",
        "#run the function for clean_up and show that dataframe\n",
        "death_2011_final = data_clean_up2(death_2011)\n",
        "death_2011_final.show()"
      ],
      "execution_count": null,
      "outputs": [
        {
          "output_type": "stream",
          "text": [
            "+--------------+--------+---------+--------------+---+---+--------------+--------------------+-----------------+--------------+---------------+----+--------+------------------+------------------+------------------+\n",
            "|icd_death_code|resident|education|month_of_death|sex|age|marital_status|day_of_week_of_death|current_data_year|injury_at_work|manner_of_death|race|hispanic|entity_condition_1|entity_condition_2|entity_condition_3|\n",
            "+--------------+--------+---------+--------------+---+---+--------------+--------------------+-----------------+--------------+---------------+----+--------+------------------+------------------+------------------+\n",
            "|          C859|       2|        3|             1|  2| 65|             2|                   2|             2011|             3|              7|   1|       6|            11C859|                 0|                 0|\n",
            "|          C509|       1|        1|             1|  2| 57|             1|                   7|             2011|             3|              7|   3|       8|            11R092|            21C509|                 0|\n",
            "|          I251|       1|        4|             1|  1| 75|             2|                   3|             2011|             3|              7|   1|       6|            11K559|            21I251|            31I739|\n",
            "|          I250|       1|        6|             1|  2| 61|             2|                   1|             2011|             3|              7|   1|       6|            11I250|            61F102|            62J449|\n",
            "|          V869|       1|        3|             1|  1| 20|             1|                   7|             2011|             2|              1|   3|       8|            11S099|            12V869|                 0|\n",
            "|          C220|       1|        3|             1|  1| 50|             2|                   7|             2011|             3|              7|  68|       8|            11C220|                 0|                 0|\n",
            "|          I251|       1|        3|             1|  1| 88|             2|                   1|             2011|             3|              7|   1|       6|            11I500|            21I251|            61C189|\n",
            "|          G319|       1|        3|             1|  2| 85|             3|                   7|             2011|             3|              7|   1|       6|             11F03|            21G319|                 0|\n",
            "|          C349|       1|        3|             1|  2| 75|             3|                   4|             2011|             3|              7|   3|       8|            11C349|            61F172|                 0|\n",
            "|          K550|       1|        3|             1|  2| 67|             3|                   1|             2011|             3|              7|   3|       8|            11A419|            21K638|            31K550|\n",
            "|           X80|       1|        3|             1|  1| 44|             4|                   7|             2011|             2|              2|   3|       8|            11S099|             12X80|                 0|\n",
            "|          V436|       1|        9|             1|  2| 76|             2|                   4|             2011|             2|              1|   1|       6|            11S099|            12V436|            13S199|\n",
            "|          V436|       2|        3|             1|  1| 82|             3|                   4|             2011|             2|              1|   1|       6|            11S099|            12V436|            13T099|\n",
            "|          K869|       1|        7|             1|  2| 74|             3|                   2|             2011|             3|              7|   1|       6|            11K869|            21R522|            31M139|\n",
            "|          M321|       1|        4|             1|  1| 58|             1|                   2|             2011|             3|              7|   1|       6|            11I469|            21M329|                 0|\n",
            "|          V877|       1|        3|             1|  2| 60|             2|                   4|             2011|             2|              1|   1|       6|            11S099|            12V877|                 0|\n",
            "|          I620|       1|        3|             1|  2| 71|             4|                   4|             2011|             3|              7|   1|       6|            11I620|                 0|                 0|\n",
            "|           J90|       1|        3|             1|  2| 96|             3|                   2|             2011|             3|              7|   2|       7|             11J90|             61F03|                 0|\n",
            "|          I516|       2|        1|             1|  2| 95|             3|                   3|             2011|             3|              7|   3|       8|            11I516|            61N189|                 0|\n",
            "|          R048|       2|        3|             1|  2| 61|             2|                   2|             2011|             3|              7|   3|       8|            11R048|                 0|                 0|\n",
            "+--------------+--------+---------+--------------+---+---+--------------+--------------------+-----------------+--------------+---------------+----+--------+------------------+------------------+------------------+\n",
            "only showing top 20 rows\n",
            "\n"
          ],
          "name": "stdout"
        }
      ]
    },
    {
      "cell_type": "code",
      "metadata": {
        "colab": {
          "base_uri": "https://localhost:8080/"
        },
        "id": "xT0Rro5zIJ2K",
        "outputId": "fe6859a8-a57e-4e21-e7f1-dd06b7a42440"
      },
      "source": [
        "url =\"https://aperezbucket.s3.us-east-2.amazonaws.com/2010_data.csv\"\n",
        "spark.sparkContext.addFile(url)\n",
        "death_2010 = spark.read.csv(SparkFiles.get(\"2010_data.csv\"), sep=\",\", header=True)\n",
        "\n",
        "#run the function for clean_up and show that dataframe\n",
        "death_2010_final = data_clean_up2(death_2010)\n",
        "death_2010_final.show()"
      ],
      "execution_count": null,
      "outputs": [
        {
          "output_type": "stream",
          "text": [
            "+--------------+--------+---------+--------------+---+---+--------------+--------------------+-----------------+--------------+---------------+----+--------+------------------+------------------+------------------+\n",
            "|icd_death_code|resident|education|month_of_death|sex|age|marital_status|day_of_week_of_death|current_data_year|injury_at_work|manner_of_death|race|hispanic|entity_condition_1|entity_condition_2|entity_condition_3|\n",
            "+--------------+--------+---------+--------------+---+---+--------------+--------------------+-----------------+--------------+---------------+----+--------+------------------+------------------+------------------+\n",
            "|          G049|       2|        3|             1|  2| 68|             4|                   6|             2010|             3|              7|   3|       8|            11G049|             61F03|                 0|\n",
            "|           C37|       1|        1|             1|  2| 12|             1|                   1|             2010|             3|              7|   1|       6|             11C37|                 0|                 0|\n",
            "|          C719|       1|        3|             1|  2| 75|             4|                   1|             2010|             3|              7|   1|       6|            11C719|             21C80|            22R529|\n",
            "|           F03|       1|        3|             1|  1| 61|             3|                   6|             2010|             3|              7|  68|       8|             11F03|             21E46|            31J189|\n",
            "|           X72|       1|        4|             1|  2| 46|             2|                   7|             2010|             2|              2|   1|       6|            11S019|             12X72|            61T141|\n",
            "|          C259|       1|        7|             1|  1| 66|             2|                   1|             2010|             3|              7|   1|       6|            11C259|                 0|                 0|\n",
            "|          E145|       1|        3|             1|  2| 80|             4|                   4|             2010|             3|              7|   2|       7|             11I64|            21E149|             31I10|\n",
            "|           C80|       1|        3|             1|  2| 96|             2|                   3|             2010|             3|              7|   1|       6|            11I802|            12I269|             21C80|\n",
            "|          C189|       1|        3|             1|  2| 79|             4|                   5|             2010|             3|              7|   3|       8|            11C189|                 0|                 0|\n",
            "|          I250|       1|        3|             1|  2| 83|             2|                   7|             2010|             3|              7|   1|       6|            11I250|            21G309|                 0|\n",
            "|           C64|       1|        6|             1|  1| 62|             1|                   1|             2010|             3|              7|   1|       6|             11C64|                 0|                 0|\n",
            "|          K559|       2|        2|             1|  2| 65|             2|                   1|             2010|             3|              7|   1|       6|            11K559|            61I739|            62J449|\n",
            "|          K703|       1|        2|             1|  2| 48|             1|                   2|             2010|             3|              7|   1|       6|            11K922|            21K746|            31F102|\n",
            "|          D432|       1|        4|             1|  2| 68|             4|                   4|             2010|             3|              7|   1|       5|            11D432|                 0|                 0|\n",
            "|          A419|       1|        3|             1|  1| 72|             2|                   1|             2010|             3|              7|  68|       8|            11A419|            61N039|            62M109|\n",
            "|          C349|       2|        3|             1|  1| 47|             2|                   1|             2010|             3|              7|   3|       8|            11C349|                 0|                 0|\n",
            "|          C509|       1|        3|             1|  2| 90|             3|                   5|             2010|             3|              7|   1|       6|            11C509|                 0|                 0|\n",
            "|           I64|       2|        4|             1|  2| 64|             3|                   1|             2010|             3|              7|   3|       8|            11K922|             21I64|                 0|\n",
            "|          I469|       1|        3|             1|  2| 98|             3|                   5|             2010|             3|              7|   2|       7|            11I469|                 0|                 0|\n",
            "|          I250|       1|        4|             1|  2| 80|             1|                   5|             2010|             3|              7|   1|       6|            11I250|                 0|                 0|\n",
            "+--------------+--------+---------+--------------+---+---+--------------+--------------------+-----------------+--------------+---------------+----+--------+------------------+------------------+------------------+\n",
            "only showing top 20 rows\n",
            "\n"
          ],
          "name": "stdout"
        }
      ]
    },
    {
      "cell_type": "code",
      "metadata": {
        "colab": {
          "base_uri": "https://localhost:8080/"
        },
        "id": "q4duwpCjIKON",
        "outputId": "8dd066cc-7799-488f-d6f5-40db0d696d0b"
      },
      "source": [
        "url =\"https://aperezbucket.s3.us-east-2.amazonaws.com/2009_data.csv\"\n",
        "spark.sparkContext.addFile(url)\n",
        "death_2009 = spark.read.csv(SparkFiles.get(\"2009_data.csv\"), sep=\",\", header=True)\n",
        "\n",
        "#run the function for clean_up and show that dataframe\n",
        "death_2009_final = data_clean_up2(death_2009)\n",
        "death_2009_final.show()"
      ],
      "execution_count": null,
      "outputs": [
        {
          "output_type": "stream",
          "text": [
            "+--------------+--------+---------+--------------+---+---+--------------+--------------------+-----------------+--------------+---------------+----+--------+------------------+------------------+------------------+\n",
            "|icd_death_code|resident|education|month_of_death|sex|age|marital_status|day_of_week_of_death|current_data_year|injury_at_work|manner_of_death|race|hispanic|entity_condition_1|entity_condition_2|entity_condition_3|\n",
            "+--------------+--------+---------+--------------+---+---+--------------+--------------------+-----------------+--------------+---------------+----+--------+------------------+------------------+------------------+\n",
            "|          F329|       1|        3|             1|  2| 80|             2|                   2|             2009|             3|              7|  68|       8|             11E46|            21F329|             61I64|\n",
            "|          C920|       1|        3|             1|  1| 77|             3|                   1|             2009|             3|              7|   1|       6|            11C920|            61D469|                 0|\n",
            "|           I10|       1|        7|             1|  1| 86|             3|                   5|             2009|             3|              7|   1|       6|            11I469|             61I10|             62F03|\n",
            "|          C900|       1|        3|             1|  1| 88|             2|                   7|             2009|             3|              7|   1|       6|            11C900|            61K224|            62J449|\n",
            "|          K559|       1|        3|             1|  2| 83|             3|                   3|             2009|             3|              7|   1|       6|            11R092|            21K559|            61G309|\n",
            "|          C189|       1|        4|             1|  2| 74|             2|                   7|             2009|             3|              7|   1|       6|            11C189|                 0|                 0|\n",
            "|          G309|       1|        6|             1|  1| 85|             2|                   5|             2009|             3|              7|   1|       6|            11G309|                 0|                 0|\n",
            "|          C349|       3|        1|             1|  1| 84|             3|                   2|             2009|             3|              7|   1|       6|            11C349|                 0|                 0|\n",
            "|          C220|       1|        3|             1|  1| 59|             2|                   1|             2009|             3|              7|   1|       6|            11C220|                 0|                 0|\n",
            "|          C959|       1|        7|             1|  1| 81|             1|                   7|             2009|             3|              7|   1|       6|            11C959|                 0|                 0|\n",
            "|          C349|       1|        3|             1|  1| 85|             2|                   5|             2009|             3|              7|   1|       6|            11A419|            21K566|            31C349|\n",
            "|          C831|       1|        1|             1|  2| 81|             3|                   6|             2009|             3|              7|   3|       8|            11C831|                 0|                 0|\n",
            "|          F019|       1|        1|             1|  1| 90|             2|                   1|             2009|             3|              7|   2|       7|            11F019|            21I639|            31I679|\n",
            "|          I219|       3|        1|             1|  1| 70|             4|                   7|             2009|             3|              7|  68|       8|            11I219|            21I259|            31I709|\n",
            "|          C494|       2|        4|             1|  2| 85|             3|                   1|             2009|             3|              7|   1|       6|            11J961|            61C494|            62C781|\n",
            "|           C20|       1|        3|             1|  2| 70|             2|                   4|             2009|             3|              7|   1|       6|             11C20|            61I251|             62I10|\n",
            "|          E109|       1|        4|             1|  1| 55|             4|                   2|             2009|             3|              7|   1|       6|            11N180|            21A490|            31E109|\n",
            "|          C259|       1|        6|             1|  1| 74|             1|                   3|             2009|             3|              7|   1|       6|            11A419|            21C259|                 0|\n",
            "|          N180|       1|        1|             1|  2| 70|             2|                   6|             2009|             3|              7|   1|       1|             11I64|            21I469|            31J969|\n",
            "|          A169|       1|        4|             1|  2| 40|             5|                   7|             2009|             3|              7|   3|       8|            11A419|            21J969|            31N179|\n",
            "+--------------+--------+---------+--------------+---+---+--------------+--------------------+-----------------+--------------+---------------+----+--------+------------------+------------------+------------------+\n",
            "only showing top 20 rows\n",
            "\n"
          ],
          "name": "stdout"
        }
      ]
    },
    {
      "cell_type": "code",
      "metadata": {
        "colab": {
          "base_uri": "https://localhost:8080/"
        },
        "id": "BqQg3GMzIKfD",
        "outputId": "06ccf352-720e-4894-9e4f-e962015fbdcf"
      },
      "source": [
        "url =\"https://aperezbucket.s3.us-east-2.amazonaws.com/2008_data.csv\"\n",
        "spark.sparkContext.addFile(url)\n",
        "death_2008 = spark.read.csv(SparkFiles.get(\"2008_data.csv\"), sep=\",\", header=True)\n",
        "\n",
        "#run the function for clean_up and show that dataframe\n",
        "death_2008_final = data_clean_up2(death_2008)\n",
        "death_2008_final.show()"
      ],
      "execution_count": null,
      "outputs": [
        {
          "output_type": "stream",
          "text": [
            "+--------------+--------+---------+--------------+---+---+--------------+--------------------+-----------------+--------------+---------------+----+--------+------------------+------------------+------------------+\n",
            "|icd_death_code|resident|education|month_of_death|sex|age|marital_status|day_of_week_of_death|current_data_year|injury_at_work|manner_of_death|race|hispanic|entity_condition_1|entity_condition_2|entity_condition_3|\n",
            "+--------------+--------+---------+--------------+---+---+--------------+--------------------+-----------------+--------------+---------------+----+--------+------------------+------------------+------------------+\n",
            "|          C159|       1|        3|             1|  1| 65|             2|                   1|             2008|             3|              7|   1|       6|            11C159|                 0|                 0|\n",
            "|          I251|       1|        2|             1|  1| 78|             2|                   7|             2008|             3|              7|   1|       6|            11I251|            21J449|            31G309|\n",
            "|          C900|       2|        4|             1|  2| 83|             3|                   5|             2008|             3|              7|   1|       6|            11C900|                 0|                 0|\n",
            "|          C229|       2|        3|             1|  1| 54|             1|                   4|             2008|             3|              7|   1|       6|            11C229|                 0|                 0|\n",
            "|          K746|       1|        1|             1|  2| 61|             1|                   2|             2008|             3|              7|   1|       6|            11K769|            21K746|                 0|\n",
            "|          J449|       2|        3|             1|  2| 41|             4|                   1|             2008|             3|              7|   1|       6|            11J449|            21F171|             61B24|\n",
            "|          C189|       1|        3|             1|  2| 74|             3|                   5|             2008|             3|              7|   3|       8|            11E889|            21C189|            61C787|\n",
            "|          I251|       1|        6|             1|  2| 72|             2|                   3|             2008|             3|              7|   1|       6|            61I251|            62E149|            63E039|\n",
            "|          I679|       1|        1|             1|  1| 91|             2|                   4|             2008|             3|              7|   1|       4|            11I679|                 0|                 0|\n",
            "|          I251|       1|        1|             1|  1| 76|             3|                   1|             2008|             3|              7|   1|       6|            11I251|            61I739|                 0|\n",
            "|          I518|       1|        2|             1|  1| 87|             3|                   5|             2008|             3|              7|   1|       6|            11J449|            21I518|                 0|\n",
            "|          C920|       1|        3|             1|  2| 73|             2|                   3|             2008|             3|              7|   1|       6|            11C920|                 0|                 0|\n",
            "|          K318|       1|        4|             1|  2| 86|             4|                   7|             2008|             3|              7|   1|       6|            11R090|            21J690|            31K566|\n",
            "|          G122|       1|        3|             1|  2| 87|             2|                   5|             2008|             3|              7|   1|       6|            11G122|             61I48|                 0|\n",
            "|          G122|       1|        7|             1|  2| 47|             2|                   1|             2008|             3|              7|   2|       7|            11G122|                 0|                 0|\n",
            "|          I251|       1|        3|             1|  1| 82|             3|                   4|             2008|             3|              7|   1|       6|            11I251|                 0|                 0|\n",
            "|          C519|       1|        4|             1|  2| 62|             2|                   3|             2008|             3|              7|   1|       6|            11J969|            21C519|                 0|\n",
            "|           I64|       1|        3|             1|  2| 75|             3|                   2|             2008|             3|              7|   1|       6|            11R628|             21I64|            22G819|\n",
            "|          M313|       1|        1|             1|  2| 75|             3|                   4|             2008|             3|              7|   1|       6|            11M313|            61J449|                 0|\n",
            "|          I694|       1|        4|             1|  1| 62|             2|                   3|             2008|             3|              7|   1|       6|            11N390|            21I694|                 0|\n",
            "+--------------+--------+---------+--------------+---+---+--------------+--------------------+-----------------+--------------+---------------+----+--------+------------------+------------------+------------------+\n",
            "only showing top 20 rows\n",
            "\n"
          ],
          "name": "stdout"
        }
      ]
    },
    {
      "cell_type": "code",
      "metadata": {
        "colab": {
          "base_uri": "https://localhost:8080/"
        },
        "id": "uH8dWrfkIKvq",
        "outputId": "f68f4bb7-e12a-4f5f-8636-93a6d63a0949"
      },
      "source": [
        "url =\"https://aperezbucket.s3.us-east-2.amazonaws.com/2007_data.csv\"\n",
        "spark.sparkContext.addFile(url)\n",
        "death_2007 = spark.read.csv(SparkFiles.get(\"2007_data.csv\"), sep=\",\", header=True)\n",
        "\n",
        "#run the function for clean_up and show that dataframe\n",
        "death_2007_final = data_clean_up2(death_2007)\n",
        "death_2007_final.show()"
      ],
      "execution_count": null,
      "outputs": [
        {
          "output_type": "stream",
          "text": [
            "+--------------+--------+---------+--------------+---+---+--------------+--------------------+-----------------+--------------+---------------+----+--------+------------------+------------------+------------------+\n",
            "|icd_death_code|resident|education|month_of_death|sex|age|marital_status|day_of_week_of_death|current_data_year|injury_at_work|manner_of_death|race|hispanic|entity_condition_1|entity_condition_2|entity_condition_3|\n",
            "+--------------+--------+---------+--------------+---+---+--------------+--------------------+-----------------+--------------+---------------+----+--------+------------------+------------------+------------------+\n",
            "|          C259|       3|        1|             1|  1| 72|             2|                   2|             2007|             3|              7|   1|       6|            11C259|                 0|                 0|\n",
            "|           X74|       1|        3|             1|  1| 35|             2|                   2|             2007|             3|              2|   1|       6|            11T141|             12X74|                 0|\n",
            "|           C80|       1|        3|             1|  2| 68|             4|                   3|             2007|             3|              7|   1|       6|             11C80|                 0|                 0|\n",
            "|          C189|       1|        1|             1|  1| 70|             1|                   3|             2007|             3|              7|   1|       6|            11C189|            21I500|                 0|\n",
            "|          I501|       1|        9|             1|  2| 53|             2|                   5|             2007|             3|              7|   2|       7|            11I501|                 0|                 0|\n",
            "|           J90|       1|        3|             1|  2| 75|             2|                   5|             2007|             3|              7|   1|       6|            11J189|            21J942|             31J90|\n",
            "|          C349|       1|        2|             1|  2| 70|             2|                   3|             2007|             3|              7|   1|       6|            11C349|            61J449|                 0|\n",
            "|          I516|       1|        3|             1|  1| 59|             4|                   4|             2007|             3|              7|   1|       6|            11I469|            21I516|                 0|\n",
            "|          N180|       1|        3|             1|  2| 51|             2|                   2|             2007|             3|              7|   2|       7|            11N180|                 0|                 0|\n",
            "|          C189|       1|        4|             1|  2| 68|             3|                   4|             2007|             3|              7|   1|       6|            11C189|                 0|                 0|\n",
            "|          I516|       1|        3|             1|  1| 56|             4|                   2|             2007|             3|              7|   1|       6|            11I469|            21I516|                 0|\n",
            "|          I251|       1|        7|             1|  1| 89|             3|                   3|             2007|             3|              7|   1|       6|            11N180|            21I709|            61I251|\n",
            "|          V869|       2|        2|             1|  1| 14|             1|                   7|             2007|             2|              1|   2|       7|            11S099|            12V869|                 0|\n",
            "|           J22|       1|        3|             1|  2| 92|             4|                   3|             2007|             3|              7|   1|       6|             11J22|                 0|                 0|\n",
            "|          G309|       1|        2|             1|  1| 76|             2|                   3|             2007|             3|              7|   1|       6|            11G309|                 0|                 0|\n",
            "|           I64|       1|        4|             1|  2| 93|             3|                   2|             2007|             3|              7|   1|       6|            11J690|            21T179|             22W78|\n",
            "|          C959|       1|        6|             1|  1| 54|             2|                   3|             2007|             3|              7|  68|       8|            11A419|             21D70|            31C959|\n",
            "|          I500|       1|        2|             1|  1| 83|             3|                   2|             2007|             3|              7|   1|       6|             11N19|            21I500|             61I10|\n",
            "|          I219|       1|        2|             1|  2| 77|             3|                   3|             2007|             3|              7|   1|       6|            11I219|            21I251|            61E119|\n",
            "|          G309|       1|        4|             1|  2| 79|             3|                   3|             2007|             3|              7|   1|       6|            11J969|            12J189|            21G309|\n",
            "+--------------+--------+---------+--------------+---+---+--------------+--------------------+-----------------+--------------+---------------+----+--------+------------------+------------------+------------------+\n",
            "only showing top 20 rows\n",
            "\n"
          ],
          "name": "stdout"
        }
      ]
    },
    {
      "cell_type": "code",
      "metadata": {
        "colab": {
          "base_uri": "https://localhost:8080/"
        },
        "id": "mvy8pV1_ILGR",
        "outputId": "bb28b7cb-620c-4c6e-e5d0-6ab233ee5090"
      },
      "source": [
        "url =\"https://aperezbucket.s3.us-east-2.amazonaws.com/2006_data.csv\"\n",
        "spark.sparkContext.addFile(url)\n",
        "death_2006 = spark.read.csv(SparkFiles.get(\"2006_data.csv\"), sep=\",\", header=True)\n",
        "\n",
        "#run the function for clean_up and show that dataframe\n",
        "death_2006_final = data_clean_up2(death_2006)\n",
        "death_2006_final.show()"
      ],
      "execution_count": null,
      "outputs": [
        {
          "output_type": "stream",
          "text": [
            "+--------------+--------+---------+--------------+---+---+--------------+--------------------+-----------------+--------------+---------------+----+--------+------------------+------------------+------------------+\n",
            "|icd_death_code|resident|education|month_of_death|sex|age|marital_status|day_of_week_of_death|current_data_year|injury_at_work|manner_of_death|race|hispanic|entity_condition_1|entity_condition_2|entity_condition_3|\n",
            "+--------------+--------+---------+--------------+---+---+--------------+--------------------+-----------------+--------------+---------------+----+--------+------------------+------------------+------------------+\n",
            "|          J449|       2|        3|             1|  1| 78|             3|                   1|             2006|             3|              7|   1|       6|            11I469|            61J449|            62J984|\n",
            "|          C509|       1|        4|             1|  2| 73|             4|                   2|             2006|             3|              7|   2|       7|            11J969|            21C509|                 0|\n",
            "|          V299|       1|        3|             1|  1| 50|             2|                   1|             2006|             3|              1|   1|       6|            11T149|            12V299|                 0|\n",
            "|          I469|       1|        1|             1|  1| 59|             2|                   3|             2006|             3|              7|   1|       6|            11I469|                 0|                 0|\n",
            "|           X59|       1|        7|             1|  2| 84|             3|                   2|             2006|             3|              1|   1|       6|            11R092|            21S068|             61I10|\n",
            "|          J449|       1|        3|             1|  2| 89|             3|                   1|             2006|             3|              7|   1|       6|            11J449|                 0|                 0|\n",
            "|          V892|       1|        3|             1|  2| 41|             2|                   2|             2006|             3|              1|   1|       6|            11S099|            12V892|            13S299|\n",
            "|          G309|       1|        3|             1|  2| 77|             2|                   1|             2006|             3|              7|   1|       6|            11I469|            21G309|                 0|\n",
            "|          C509|       1|        3|             1|  2| 42|             2|                   1|             2006|             3|              7|   1|       6|            11C509|                 0|                 0|\n",
            "|          I500|       1|        6|             1|  1| 57|             4|                   3|             2006|             3|              7|   1|       6|            11I500|                 0|                 0|\n",
            "|           D70|       1|        4|             1|  2| 73|             2|                   1|             2006|             3|              7|   1|       6|            11L039|            21A419|             31D70|\n",
            "|          C189|       1|        2|             1|  2| 74|             3|                   2|             2006|             3|              7|   2|       7|            11C189|                 0|                 0|\n",
            "|          I519|       2|        2|             1|  2| 57|             3|                   2|             2006|             3|              7|   1|       6|            11R688|            21I519|            31R578|\n",
            "|          C920|       2|        3|             1|  1| 71|             2|                   3|             2006|             3|              7|   1|       6|            11J969|            21D469|            31C920|\n",
            "|          E149|       1|        4|             1|  1| 69|             1|                   3|             2006|             3|              7|   1|       6|            11I219|            21I500|            31E149|\n",
            "|          I500|       1|        1|             1|  1| 88|             2|                   5|             2006|             3|              7|   1|       6|            11J690|            21J449|            31I500|\n",
            "|          I500|       1|        4|             1|  2| 88|             3|                   1|             2006|             3|              7|   1|       6|            11I469|            21R092|            31I500|\n",
            "|           R99|       1|        3|             1|  2| 40|             4|                   1|             2006|             3|              4|   1|       6|             11R99|                 0|                 0|\n",
            "|          I219|       1|        3|             1|  2| 77|             3|                   2|             2006|             3|              7|   1|       6|            11I219|                 0|                 0|\n",
            "|          I500|       1|        2|             1|  2| 89|             3|                   3|             2006|             3|              7|   1|       6|            11R092|            21I500|                 0|\n",
            "+--------------+--------+---------+--------------+---+---+--------------+--------------------+-----------------+--------------+---------------+----+--------+------------------+------------------+------------------+\n",
            "only showing top 20 rows\n",
            "\n"
          ],
          "name": "stdout"
        }
      ]
    },
    {
      "cell_type": "code",
      "metadata": {
        "colab": {
          "base_uri": "https://localhost:8080/"
        },
        "id": "189cldYnILWL",
        "outputId": "19b8c1c8-9f03-47ca-bb95-de231f6c35e2"
      },
      "source": [
        "url =\"https://aperezbucket.s3.us-east-2.amazonaws.com/2005_data.csv\"\n",
        "spark.sparkContext.addFile(url)\n",
        "death_2005 = spark.read.csv(SparkFiles.get(\"2005_data.csv\"), sep=\",\", header=True)\n",
        "\n",
        "#run the function for clean_up and show that dataframe\n",
        "death_2005_final = data_clean_up2(death_2005)\n",
        "death_2005_final.show()"
      ],
      "execution_count": null,
      "outputs": [
        {
          "output_type": "stream",
          "text": [
            "+--------------+--------+---------+--------------+---+---+--------------+--------------------+-----------------+--------------+---------------+----+--------+------------------+------------------+------------------+\n",
            "|icd_death_code|resident|education|month_of_death|sex|age|marital_status|day_of_week_of_death|current_data_year|injury_at_work|manner_of_death|race|hispanic|entity_condition_1|entity_condition_2|entity_condition_3|\n",
            "+--------------+--------+---------+--------------+---+---+--------------+--------------------+-----------------+--------------+---------------+----+--------+------------------+------------------+------------------+\n",
            "|          C439|       1|        2|             1|  2| 45|             2|                   2|             2005|             3|              7|   1|       6|            11C439|                 0|                 0|\n",
            "|          J439|       1|        4|             1|  1| 61|             4|                   7|             2005|             3|              7|   1|       6|            11J439|                 0|                 0|\n",
            "|          I698|       1|        3|             1|  2| 79|             4|                   1|             2005|             3|              7|   1|       6|            11R628|            21I698|            61J449|\n",
            "|          E119|       1|        3|             1|  1| 50|             1|                   4|             2005|             3|              7|   1|       6|            11I469|            61E119|            62I500|\n",
            "|          C349|       1|        4|             1|  2| 68|             2|                   2|             2005|             3|              7|   1|       6|            11C349|            61F179|            62J449|\n",
            "|          I679|       1|        1|             1|  2| 89|             3|                   7|             2005|             3|              7|   3|       8|             11N19|            21I679|             61F03|\n",
            "|          J439|       1|        3|             1|  2| 68|             4|                   7|             2005|             3|              7|   1|       6|            11J439|                 0|                 0|\n",
            "|          J449|       1|        3|             1|  1| 61|             1|                   6|             2005|             3|              7|   3|       8|            11I279|            21J449|            61F102|\n",
            "|          J439|       1|        4|             1|  2| 73|             4|                   6|             2005|             3|              7|   1|       6|            11J439|                 0|                 0|\n",
            "|           C80|       3|        1|             1|  2| 85|             3|                   6|             2005|             3|              7|   1|       6|             11C80|                 0|                 0|\n",
            "|           R99|       1|        1|             1|  2| 93|             3|                   7|             2005|             3|              7|   3|       8|             11R99|                 0|                 0|\n",
            "|          C189|       1|        2|             1|  1| 77|             2|                   4|             2005|             3|              7|   2|       7|            11C189|            21C189|             61F03|\n",
            "|          J449|       1|        1|             1|  1| 78|             4|                   2|             2005|             3|              7|   1|       6|            11J969|            21J449|                 0|\n",
            "|          C439|       1|        4|             1|  1| 48|             2|                   3|             2005|             3|              7|   1|       6|            11C439|                 0|                 0|\n",
            "|          J849|       1|        3|             1|  1| 78|             3|                   2|             2005|             3|              7|   1|       6|            11J969|            21J849|            61J189|\n",
            "|          C349|       1|        3|             1|  2| 59|             2|                   4|             2005|             3|              7|   1|       6|            11C349|            61J459|             62N19|\n",
            "|           X59|       1|        1|             1|  1| 77|             2|                   6|             2005|             3|              7|   3|       8|            11S720|             31F03|             61X59|\n",
            "|           Y20|       1|        7|             1|  1| 39|             2|                   3|             2005|             2|              5|   1|       1|             11T71|             12Y20|            21S199|\n",
            "|          I250|       1|        3|             1|  1| 64|             4|                   1|             2005|             3|              7|   1|       6|            11I250|                 0|                 0|\n",
            "|          J449|       1|        3|             1|  2| 90|             3|                   2|             2005|             3|              7|   1|       6|            11J449|                 0|                 0|\n",
            "+--------------+--------+---------+--------------+---+---+--------------+--------------------+-----------------+--------------+---------------+----+--------+------------------+------------------+------------------+\n",
            "only showing top 20 rows\n",
            "\n"
          ],
          "name": "stdout"
        }
      ]
    },
    {
      "cell_type": "code",
      "metadata": {
        "id": "G3SPQA2wd3Q0"
      },
      "source": [
        "# COMBINE ALL DATAFRAMES\n",
        "#SKIP USING TOO MUCH MEMORY"
      ],
      "execution_count": null,
      "outputs": []
    },
    {
      "cell_type": "code",
      "metadata": {
        "id": "nTd8tajiILyc"
      },
      "source": [
        "death1 = death_2015_final.unionByName(death_2014_final)"
      ],
      "execution_count": null,
      "outputs": []
    },
    {
      "cell_type": "code",
      "metadata": {
        "id": "KF5fJHVsIMBG"
      },
      "source": [
        "death2 = death1.unionByName(death_2013_final)"
      ],
      "execution_count": null,
      "outputs": []
    },
    {
      "cell_type": "code",
      "metadata": {
        "id": "BFrLbFOeIMPs"
      },
      "source": [
        "death3 = death2.unionByName(death_2012_final)"
      ],
      "execution_count": null,
      "outputs": []
    },
    {
      "cell_type": "code",
      "metadata": {
        "id": "RosCh55zIMif"
      },
      "source": [
        "death4 = death3.unionByName(death_2011_final)"
      ],
      "execution_count": null,
      "outputs": []
    },
    {
      "cell_type": "code",
      "metadata": {
        "id": "afThB11kI86o"
      },
      "source": [
        "death5 = death4.unionByName(death_2010_final)"
      ],
      "execution_count": null,
      "outputs": []
    },
    {
      "cell_type": "code",
      "metadata": {
        "id": "Yg0bAhvqI9Bz"
      },
      "source": [
        "death6 = death5.unionByName(death_2009_final)"
      ],
      "execution_count": null,
      "outputs": []
    },
    {
      "cell_type": "code",
      "metadata": {
        "id": "ldX0XcCNI9JW"
      },
      "source": [
        "death7 = death6.unionByName(death_2008_final)"
      ],
      "execution_count": null,
      "outputs": []
    },
    {
      "cell_type": "code",
      "metadata": {
        "id": "LtKtzdMmI9SC"
      },
      "source": [
        "death8 = death7.unionByName(death_2007_final)"
      ],
      "execution_count": null,
      "outputs": []
    },
    {
      "cell_type": "code",
      "metadata": {
        "id": "c4wJP4ypI9V0"
      },
      "source": [
        "death9 = death8.unionByName(death_2006_final)"
      ],
      "execution_count": null,
      "outputs": []
    },
    {
      "cell_type": "code",
      "metadata": {
        "colab": {
          "base_uri": "https://localhost:8080/"
        },
        "id": "wdzEOaxRI9bc",
        "outputId": "a63304cc-653c-4417-fba0-fd4e4a2cc69a"
      },
      "source": [
        "death10 = death9.unionByName(death_2005_final)\n",
        "death10.count()"
      ],
      "execution_count": null,
      "outputs": [
        {
          "output_type": "execute_result",
          "data": {
            "text/plain": [
              "9925513"
            ]
          },
          "metadata": {
            "tags": []
          },
          "execution_count": 27
        }
      ]
    },
    {
      "cell_type": "code",
      "metadata": {
        "id": "ta1fdpSddsmA"
      },
      "source": [
        "# death10.show(5)"
      ],
      "execution_count": null,
      "outputs": []
    },
    {
      "cell_type": "code",
      "metadata": {
        "id": "drrkEVeUI9fr"
      },
      "source": [
        "import pandas as pd"
      ],
      "execution_count": 9,
      "outputs": []
    },
    {
      "cell_type": "code",
      "metadata": {
        "id": "7fwSUBr8I9ls"
      },
      "source": [
        "# see the temp code for a bigger break down, getting top 60\n",
        "codes = death_2015_final.select(\"*\").toPandas()\n",
        "codes2 = codes.value_counts(\"icd_death_code\")\n",
        "codes2.to_string()\n",
        "codes3 = pd.DataFrame(codes2)\n",
        "codes3.insert(0, 'ID', range(1, 1 +len(codes3)))\n",
        "codes3 = codes3.reset_index()"
      ],
      "execution_count": 10,
      "outputs": []
    },
    {
      "cell_type": "code",
      "metadata": {
        "id": "51NntYZkKQxf"
      },
      "source": [
        "df60 = codes3.head(60)\n",
        "df60 = pd.DataFrame(df60)\n",
        "code_list_60 = df60[\"icd_death_code\"].tolist()\n",
        "df55 = codes3.head(55)\n",
        "df55 = pd.DataFrame(df55)\n",
        "code_list_55 = df55[\"icd_death_code\"].tolist()\n",
        "df50 = codes3.head(50)\n",
        "df50 = pd.DataFrame(df50)\n",
        "code_list_50 = df50[\"icd_death_code\"].tolist()\n",
        "df45 = codes3.head(45)\n",
        "df45 = pd.DataFrame(df45)\n",
        "code_list_45 = df45[\"icd_death_code\"].tolist()\n",
        "df40 = codes3.head(40)\n",
        "df40 = pd.DataFrame(df40)\n",
        "code_list_40 = df40[\"icd_death_code\"].tolist()\n",
        "df35 = codes3.head(35)\n",
        "df35 = pd.DataFrame(df35)\n",
        "code_list_35 = df35[\"icd_death_code\"].tolist()\n",
        "df30 = codes.head(30)\n",
        "df30 = pd.DataFrame(df30)\n",
        "code_list_30 = df30[\"icd_death_code\"].tolist()\n",
        "df25 = codes.head(25)\n",
        "df25 = pd.DataFrame(df25)\n",
        "code_list_25 = df25[\"icd_death_code\"].tolist()\n",
        "df20 = codes.head(20)\n",
        "df20 = pd.DataFrame(df20)\n",
        "code_list_20 = df20[\"icd_death_code\"].tolist()\n",
        "df15 = codes.head(15)\n",
        "df15 = pd.DataFrame(df15)\n",
        "code_list_15 = df15[\"icd_death_code\"].tolist()\n",
        "df10 = codes.head(10)\n",
        "df10 = pd.DataFrame(df10)\n",
        "code_list_10 = df10[\"icd_death_code\"].tolist()\n",
        "df5 = codes.head(5)\n",
        "df5 = pd.DataFrame(df5)\n",
        "code_list_5 = df5[\"icd_death_code\"].tolist()"
      ],
      "execution_count": 11,
      "outputs": []
    },
    {
      "cell_type": "markdown",
      "metadata": {
        "id": "BFC4kfXiienv"
      },
      "source": [
        "The df60 is the top 60 causes of death that affected at least 10,000 people in 2015. The codes are going to be simplified and renamed to smaller categories as there are mutiple that are similar (i.e. several heart conditions or cancer) and thus be slightly more broad. From that list, there are 16 unique codes we will use (one was unknown which we will disregard).\n",
        "Less might be used if there are issues.  \n",
        "I251: Heart Failure (coded as 1)  \n",
        "C349: Cancer (coded as 2)  \n",
        "J449: COPD (coded as 3)  \n",
        "G309: Alzheimer's (coded as 4)  \n",
        "F03: Dementia (coded as 5)  \n",
        "J189: Pneumonia (coded as 6)  \n",
        "A419: Sepsis (coded as 7)  \n",
        "E149: Diabetes (coded as 8)  \n",
        "G20: Parkinson's (coded as 9)  \n",
        "X44: Drug exposure  (coded as 10)  \n",
        "N185: Kidney Disease (coded as 11)  \n",
        "K746: Cirrhosis of the Liver (coded as 12)  \n",
        "W19: Falling (coded as 13)  \n",
        "X74: Self-Harm (coded as 14)  \n",
        "V892: Auto Accident (coded as 15)   \n",
        "X95: Assault by Other (coded as 16)"
      ]
    },
    {
      "cell_type": "code",
      "metadata": {
        "id": "GetF08x0kF29"
      },
      "source": [
        "top_list = [\"I251\",\"C349\",\"J449\",\"G309\",\"F03\",\"J189\",\"A419\",\"E149\",\"G20\",\"X44\",\"N185\",\"K746\",\"W19\",\"X74\",\"V892\",\"X95\"]"
      ],
      "execution_count": 12,
      "outputs": []
    },
    {
      "cell_type": "code",
      "metadata": {
        "colab": {
          "base_uri": "https://localhost:8080/"
        },
        "id": "mXVA2PxqeCRK",
        "outputId": "6566b337-c2e2-48dd-f9be-3258629d528a"
      },
      "source": [
        "#working with this dataframe\n",
        "death_2015_final.show(5)"
      ],
      "execution_count": 13,
      "outputs": [
        {
          "output_type": "stream",
          "text": [
            "+--------------+--------+---------+--------------+---+---+--------------+--------------------+-----------------+--------------+---------------+----+--------+------------------+------------------+------------------+\n",
            "|icd_death_code|resident|education|month_of_death|sex|age|marital_status|day_of_week_of_death|current_data_year|injury_at_work|manner_of_death|race|hispanic|entity_condition_1|entity_condition_2|entity_condition_3|\n",
            "+--------------+--------+---------+--------------+---+---+--------------+--------------------+-----------------+--------------+---------------+----+--------+------------------+------------------+------------------+\n",
            "|          I500|       1|        3|             1|  1| 84|             2|                   1|             2015|             3|              7|   1|       6|            11I500|            61L031|                 0|\n",
            "|          C349|       1|        6|             1|  1| 70|             2|                   2|             2015|             3|              7|   1|       6|            11I469|            21R042|            31C349|\n",
            "|          G309|       1|        3|             1|  2| 91|             3|                   6|             2015|             3|              7|   1|       6|            11G309|                 0|                 0|\n",
            "|           X91|       1|        3|             1|  2| 40|             1|                   5|             2015|             2|              3|   3|       8|             11T71|             12X91|             21T71|\n",
            "|          I250|       1|        5|             1|  2| 89|             3|                   5|             2015|             3|              7|   1|       6|            11I250|            21S720|            61X590|\n",
            "+--------------+--------+---------+--------------+---+---+--------------+--------------------+-----------------+--------------+---------------+----+--------+------------------+------------------+------------------+\n",
            "only showing top 5 rows\n",
            "\n"
          ],
          "name": "stdout"
        }
      ]
    },
    {
      "cell_type": "code",
      "metadata": {
        "colab": {
          "base_uri": "https://localhost:8080/"
        },
        "id": "m-7tRyjAgV8l",
        "outputId": "51ee86e2-323b-46ff-f4fb-9b3e75b9bf3b"
      },
      "source": [
        "death_2015_final.count()"
      ],
      "execution_count": 14,
      "outputs": [
        {
          "output_type": "execute_result",
          "data": {
            "text/plain": [
              "2239254"
            ]
          },
          "metadata": {
            "tags": []
          },
          "execution_count": 14
        }
      ]
    },
    {
      "cell_type": "code",
      "metadata": {
        "colab": {
          "base_uri": "https://localhost:8080/"
        },
        "id": "3lZ04lNJKQ7f",
        "outputId": "435e9424-d0f2-4a62-a77c-213ac24ffe53"
      },
      "source": [
        "#original code was for all dataframes\n",
        "# death_all_60 = death10.filter(death10.icd_death_code.isin(code_list_60))\n",
        "# death_all_60.show()\n",
        "\n",
        "death_all_60 = death_2015_final.filter(death_2015_final.icd_death_code.isin(code_list_60))\n",
        "death_all_60.show(5)"
      ],
      "execution_count": 15,
      "outputs": [
        {
          "output_type": "stream",
          "text": [
            "+--------------+--------+---------+--------------+---+---+--------------+--------------------+-----------------+--------------+---------------+----+--------+------------------+------------------+------------------+\n",
            "|icd_death_code|resident|education|month_of_death|sex|age|marital_status|day_of_week_of_death|current_data_year|injury_at_work|manner_of_death|race|hispanic|entity_condition_1|entity_condition_2|entity_condition_3|\n",
            "+--------------+--------+---------+--------------+---+---+--------------+--------------------+-----------------+--------------+---------------+----+--------+------------------+------------------+------------------+\n",
            "|          I500|       1|        3|             1|  1| 84|             2|                   1|             2015|             3|              7|   1|       6|            11I500|            61L031|                 0|\n",
            "|          C349|       1|        6|             1|  1| 70|             2|                   2|             2015|             3|              7|   1|       6|            11I469|            21R042|            31C349|\n",
            "|          G309|       1|        3|             1|  2| 91|             3|                   6|             2015|             3|              7|   1|       6|            11G309|                 0|                 0|\n",
            "|          I250|       1|        5|             1|  2| 89|             3|                   5|             2015|             3|              7|   1|       6|            11I250|            21S720|            61X590|\n",
            "|          I500|       1|        3|             1|  1| 82|             2|                   1|             2015|             3|              7|   1|       6|            11I500|                 0|                 0|\n",
            "+--------------+--------+---------+--------------+---+---+--------------+--------------------+-----------------+--------------+---------------+----+--------+------------------+------------------+------------------+\n",
            "only showing top 5 rows\n",
            "\n"
          ],
          "name": "stdout"
        }
      ]
    },
    {
      "cell_type": "code",
      "metadata": {
        "id": "ZTGYZvbMgZ2O",
        "colab": {
          "base_uri": "https://localhost:8080/"
        },
        "outputId": "9cd0eda4-b1e8-4a68-b4bf-3f0c584976b0"
      },
      "source": [
        "death_all_60.count()"
      ],
      "execution_count": 16,
      "outputs": [
        {
          "output_type": "execute_result",
          "data": {
            "text/plain": [
              "1563030"
            ]
          },
          "metadata": {
            "tags": []
          },
          "execution_count": 16
        }
      ]
    },
    {
      "cell_type": "code",
      "metadata": {
        "colab": {
          "base_uri": "https://localhost:8080/"
        },
        "id": "R-ZPpCbVOUFT",
        "outputId": "3385c174-5e93-458b-9b68-dc3b01742a78"
      },
      "source": [
        "death_all_60 = death_all_60.na.replace([\"E119\", \"E142\", \"F019\", \"I509\", \"I694\",\"J440\", \"X42\"], [\"E149\",\"E149\", \"F03\", \"I500\", \"I64\", \"J449\", \"X44\"], \"icd_death_code\")\n",
        "death_all_60.count()"
      ],
      "execution_count": 17,
      "outputs": [
        {
          "output_type": "execute_result",
          "data": {
            "text/plain": [
              "1563030"
            ]
          },
          "metadata": {
            "tags": []
          },
          "execution_count": 17
        }
      ]
    },
    {
      "cell_type": "code",
      "metadata": {
        "id": "nKx6L6nj7qjT"
      },
      "source": [
        "# TO GET ALL NUMBERS TO RUN PROPER MUST ANNOTATE EACH ONTO FIRST AND ADD AN ID COLUMN THEN LOAD IN SQL \n",
        "from pyspark.sql.functions import monotonically_increasing_id\n",
        "\n",
        "death_all_final = death_all_60.withColumn(\"id\", monotonically_increasing_id() +1)"
      ],
      "execution_count": 18,
      "outputs": []
    },
    {
      "cell_type": "code",
      "metadata": {
        "id": "FynzMdv-Aqr3",
        "colab": {
          "base_uri": "https://localhost:8080/"
        },
        "outputId": "21290c09-cc93-4174-ff50-6292d32cb482"
      },
      "source": [
        "death_all_final.show(5)"
      ],
      "execution_count": 19,
      "outputs": [
        {
          "output_type": "stream",
          "text": [
            "+--------------+--------+---------+--------------+---+---+--------------+--------------------+-----------------+--------------+---------------+----+--------+------------------+------------------+------------------+---+\n",
            "|icd_death_code|resident|education|month_of_death|sex|age|marital_status|day_of_week_of_death|current_data_year|injury_at_work|manner_of_death|race|hispanic|entity_condition_1|entity_condition_2|entity_condition_3| id|\n",
            "+--------------+--------+---------+--------------+---+---+--------------+--------------------+-----------------+--------------+---------------+----+--------+------------------+------------------+------------------+---+\n",
            "|          I500|       1|        3|             1|  1| 84|             2|                   1|             2015|             3|              7|   1|       6|            11I500|            61L031|                 0|  1|\n",
            "|          C349|       1|        6|             1|  1| 70|             2|                   2|             2015|             3|              7|   1|       6|            11I469|            21R042|            31C349|  2|\n",
            "|          G309|       1|        3|             1|  2| 91|             3|                   6|             2015|             3|              7|   1|       6|            11G309|                 0|                 0|  3|\n",
            "|          I250|       1|        5|             1|  2| 89|             3|                   5|             2015|             3|              7|   1|       6|            11I250|            21S720|            61X590|  4|\n",
            "|          I500|       1|        3|             1|  1| 82|             2|                   1|             2015|             3|              7|   1|       6|            11I500|                 0|                 0|  5|\n",
            "+--------------+--------+---------+--------------+---+---+--------------+--------------------+-----------------+--------------+---------------+----+--------+------------------+------------------+------------------+---+\n",
            "only showing top 5 rows\n",
            "\n"
          ],
          "name": "stdout"
        }
      ]
    },
    {
      "cell_type": "code",
      "metadata": {
        "colab": {
          "base_uri": "https://localhost:8080/"
        },
        "id": "ZB9TOXMdgfdH",
        "outputId": "01747b39-9c0a-4368-b4aa-468237f82965"
      },
      "source": [
        "death_all_final.count()"
      ],
      "execution_count": 20,
      "outputs": [
        {
          "output_type": "execute_result",
          "data": {
            "text/plain": [
              "1563030"
            ]
          },
          "metadata": {
            "tags": []
          },
          "execution_count": 20
        }
      ]
    },
    {
      "cell_type": "code",
      "metadata": {
        "id": "Y_60-OXRhgF-",
        "colab": {
          "base_uri": "https://localhost:8080/"
        },
        "outputId": "dba8be67-1d4f-45a5-8ef0-757774952738"
      },
      "source": [
        "death_all_final.printSchema()"
      ],
      "execution_count": 21,
      "outputs": [
        {
          "output_type": "stream",
          "text": [
            "root\n",
            " |-- icd_death_code: string (nullable = true)\n",
            " |-- resident: integer (nullable = true)\n",
            " |-- education: integer (nullable = true)\n",
            " |-- month_of_death: integer (nullable = true)\n",
            " |-- sex: string (nullable = true)\n",
            " |-- age: integer (nullable = true)\n",
            " |-- marital_status: string (nullable = true)\n",
            " |-- day_of_week_of_death: integer (nullable = true)\n",
            " |-- current_data_year: integer (nullable = true)\n",
            " |-- injury_at_work: string (nullable = true)\n",
            " |-- manner_of_death: integer (nullable = true)\n",
            " |-- race: integer (nullable = true)\n",
            " |-- hispanic: integer (nullable = true)\n",
            " |-- entity_condition_1: string (nullable = false)\n",
            " |-- entity_condition_2: string (nullable = false)\n",
            " |-- entity_condition_3: string (nullable = false)\n",
            " |-- id: long (nullable = false)\n",
            "\n"
          ],
          "name": "stdout"
        }
      ]
    },
    {
      "cell_type": "code",
      "metadata": {
        "id": "AqTvnN1HJ100"
      },
      "source": [
        "# CONNECT TO DATABASE AND LOAD IN DATA\n",
        "mode = \"append\"\n",
        "jdbc_url=\"jdbc:postgresql://database-1.ck7rneirj52d.us-east-2.rds.amazonaws.com:5432/Death_Database\"\n",
        "config = {\"user\":\"root\", \n",
        "          \"password\": \"postgres\", \n",
        "          \"driver\":\"org.postgresql.Driver\"}"
      ],
      "execution_count": null,
      "outputs": []
    },
    {
      "cell_type": "code",
      "metadata": {
        "id": "BAmqAil5Kydy"
      },
      "source": [
        "death_all_final.write.jdbc(url=jdbc_url, table='cdc_death_table', mode=mode, properties=config)"
      ],
      "execution_count": null,
      "outputs": []
    },
    {
      "cell_type": "code",
      "metadata": {
        "id": "cITd9D2iKSVZ"
      },
      "source": [
        "#temporary so I don't have to run the whole thing again when trying to do machine learning\n",
        "\n",
        "# from pyspark.sql.functions import monotonically_increasing_id\n",
        "# death_df = data_clean_up(death_2015)\n",
        "# death_machine = death_df.withColumn(\"id\", monotonically_increasing_id() +1)\n",
        "# death_machine.show(5)"
      ],
      "execution_count": null,
      "outputs": []
    },
    {
      "cell_type": "code",
      "metadata": {
        "id": "DktsT6dnTjLp",
        "colab": {
          "base_uri": "https://localhost:8080/"
        },
        "outputId": "b9ff85d0-93a7-49a5-e04f-879f59a82f39"
      },
      "source": [
        "# This is my entire 2005-2015 data set, cleaned and encoded, and narrowed down to the top 60 death codes\n",
        "# THIS IS CURRENTLY ONLY 2015\n",
        "death_all_final"
      ],
      "execution_count": 22,
      "outputs": [
        {
          "output_type": "execute_result",
          "data": {
            "text/plain": [
              "DataFrame[icd_death_code: string, resident: int, education: int, month_of_death: int, sex: string, age: int, marital_status: string, day_of_week_of_death: int, current_data_year: int, injury_at_work: string, manner_of_death: int, race: int, hispanic: int, entity_condition_1: string, entity_condition_2: string, entity_condition_3: string, id: bigint]"
            ]
          },
          "metadata": {
            "tags": []
          },
          "execution_count": 22
        }
      ]
    },
    {
      "cell_type": "code",
      "metadata": {
        "colab": {
          "base_uri": "https://localhost:8080/"
        },
        "id": "_nCFwW9XXb5k",
        "outputId": "65db703f-7896-419b-8502-6c6821b44b46"
      },
      "source": [
        "# running out of memory data set too large, going to pick only certain years, if we need to narrow down scope for machine learning, I will narrow down the death codes using the lists above\n",
        "#change years to update the information\n",
        "\n",
        "# years = [2015]\n",
        "# death_machine = death_machine_all.filter(death_machine_all.current_data_year.isin(years))\n",
        "# death_machine.show(5)\n",
        "\n",
        "# only using 2015\n",
        "death_machine_all = death_all_final\n",
        "death_machine_all.count()"
      ],
      "execution_count": 23,
      "outputs": [
        {
          "output_type": "execute_result",
          "data": {
            "text/plain": [
              "1563030"
            ]
          },
          "metadata": {
            "tags": []
          },
          "execution_count": 23
        }
      ]
    },
    {
      "cell_type": "code",
      "metadata": {
        "id": "dGPg1AoD-Gqy",
        "colab": {
          "base_uri": "https://localhost:8080/"
        },
        "outputId": "d9ad8d6c-bbd5-4b90-ae78-ed3aa431c326"
      },
      "source": [
        "#already cut down to 60 cut down more\n",
        "# select which list of codes to use, intervals of 5 between 5 and 60\n",
        "death_machine_filter = death_machine_all.filter(death_machine_all.icd_death_code.isin(code_list_15))\n",
        "death_machine_filter.count()"
      ],
      "execution_count": 24,
      "outputs": [
        {
          "output_type": "execute_result",
          "data": {
            "text/plain": [
              "464080"
            ]
          },
          "metadata": {
            "tags": []
          },
          "execution_count": 24
        }
      ]
    },
    {
      "cell_type": "code",
      "metadata": {
        "id": "NxnC1Q-HaOd2"
      },
      "source": [
        "#encoding y values\n",
        "death_all_coded = death_machine_filter.na.replace(\\\n",
        "['I251', 'C349', 'J449', 'I219', 'G309', 'F03', 'I500', 'I64', 'I250', 'J189', 'C509', 'C259', 'C189', 'A419', 'E149', 'C61', 'I119', 'G20', 'C80', 'I48', 'J440', 'I10', 'X44', 'X42', 'N185', 'J690', 'K746', 'I429', 'C679', 'K703', 'W19', 'C159', 'C719', 'I350', 'E142', 'I469', 'C64', 'J841', 'C56', 'I619', 'I110', 'X74', 'E119', 'F019', 'N390', 'C900', 'X70', 'V892', 'I255', 'X95', 'W18', 'C859', 'I120', 'R99', 'I259', 'I694', 'C169', 'N19', 'C220', 'I509']\\\n",
        ", [\"1\",\"2\",\"3\",\"4\",\"5\",\"6\",\"7\",\"8\",\"9\",\"10\",\"11\",\"12\",\"13\",\"14\",\"15\",\"16\",\"17\",\"18\",\"19\",\"20\",\"21\",\"22\",\"23\",\"24\",\"25\",\"26\",\"27\",\"28\",\"29\",\"30\",\"31\",\"32\",\"33\",\"34\",\"35\",\"36\",\"37\",\"38\",\"39\",\"40\",\"41\",\"42\",\"43\",\"44\",\"45\",\"46\",\"47\",\"48\",\"49\",\"50\",\"51\",\"52\",\"53\",\"54\",\"55\",\"56\",\"57\",\"58\",\"59\",\"60\"], \"icd_death_code\")"
      ],
      "execution_count": 25,
      "outputs": []
    },
    {
      "cell_type": "code",
      "metadata": {
        "id": "a7A8aZQhaOqQ",
        "colab": {
          "base_uri": "https://localhost:8080/"
        },
        "outputId": "29559b11-f74d-41a9-9ede-6f78e809d96b"
      },
      "source": [
        "death_all_coded.count()"
      ],
      "execution_count": 26,
      "outputs": [
        {
          "output_type": "execute_result",
          "data": {
            "text/plain": [
              "464080"
            ]
          },
          "metadata": {
            "tags": []
          },
          "execution_count": 26
        }
      ]
    },
    {
      "cell_type": "code",
      "metadata": {
        "id": "qOidlRKhdSGo",
        "colab": {
          "base_uri": "https://localhost:8080/"
        },
        "outputId": "cfab0b6d-3fe0-40e8-e1ab-f9ae9b262757"
      },
      "source": [
        "death_machine = death_all_coded\n",
        "death_machine.show(5)"
      ],
      "execution_count": 27,
      "outputs": [
        {
          "output_type": "stream",
          "text": [
            "+--------------+--------+---------+--------------+---+---+--------------+--------------------+-----------------+--------------+---------------+----+--------+------------------+------------------+------------------+---+\n",
            "|icd_death_code|resident|education|month_of_death|sex|age|marital_status|day_of_week_of_death|current_data_year|injury_at_work|manner_of_death|race|hispanic|entity_condition_1|entity_condition_2|entity_condition_3| id|\n",
            "+--------------+--------+---------+--------------+---+---+--------------+--------------------+-----------------+--------------+---------------+----+--------+------------------+------------------+------------------+---+\n",
            "|             7|       1|        3|             1|  1| 84|             2|                   1|             2015|             3|              7|   1|       6|            11I500|            61L031|                 0|  1|\n",
            "|             2|       1|        6|             1|  1| 70|             2|                   2|             2015|             3|              7|   1|       6|            11I469|            21R042|            31C349|  2|\n",
            "|             5|       1|        3|             1|  2| 91|             3|                   6|             2015|             3|              7|   1|       6|            11G309|                 0|                 0|  3|\n",
            "|             9|       1|        5|             1|  2| 89|             3|                   5|             2015|             3|              7|   1|       6|            11I250|            21S720|            61X590|  4|\n",
            "|             7|       1|        3|             1|  1| 82|             2|                   1|             2015|             3|              7|   1|       6|            11I500|                 0|                 0|  5|\n",
            "+--------------+--------+---------+--------------+---+---+--------------+--------------------+-----------------+--------------+---------------+----+--------+------------------+------------------+------------------+---+\n",
            "only showing top 5 rows\n",
            "\n"
          ],
          "name": "stdout"
        }
      ]
    },
    {
      "cell_type": "code",
      "metadata": {
        "id": "DfjG6RTtme8P"
      },
      "source": [
        ""
      ],
      "execution_count": null,
      "outputs": []
    },
    {
      "cell_type": "code",
      "metadata": {
        "id": "Z5ZlXCOEmdwu"
      },
      "source": [
        ""
      ],
      "execution_count": null,
      "outputs": []
    },
    {
      "cell_type": "code",
      "metadata": {
        "id": "yOECrtSVeQxA"
      },
      "source": [
        "###MACHINE LEARNING SET UP VARIABLES\n",
        "import sklearn\n",
        "import sklearn.datasets\n",
        "import numpy as np\n",
        "from sklearn.datasets import make_classification\n",
        "from sklearn.model_selection import train_test_split"
      ],
      "execution_count": 28,
      "outputs": []
    },
    {
      "cell_type": "code",
      "metadata": {
        "id": "ZfwDukCMCOsC"
      },
      "source": [
        "#X = death_machine.drop(\"icd_death_code\", axis = 1)\n",
        "y = death_machine.select(\"icd_death_code\")"
      ],
      "execution_count": 27,
      "outputs": []
    },
    {
      "cell_type": "code",
      "metadata": {
        "id": "wXzbTsLp1lnK"
      },
      "source": [
        "# data_array =  np.array(death_machine.select(\"resident\", \"education\", \"sex\", \"age\", \"marital_status\", \"injury_at_work\", \"manner_of_death\", \"race\", \"hispanic\").collect())\n",
        "# data_array =  np.array(death_machine.select(\"education\", \"sex\", \"age\", \"marital_status\", \"injury_at_work\", \"manner_of_death\", \"race\", \"hispanic\").collect())\n",
        "# data_array =  np.array(death_machine.select(\"education\",\"sex\", \"age\", \"marital_status\",\"manner_of_death\", \"race\", \"hispanic\").collect())\n",
        "# data_array =  np.array(death_machine.select(\"education\",\"sex\", \"age\", \"marital_status\",\"race\", \"hispanic\").collect())\n",
        "data_array =  np.array(death_machine.select(\"sex\", \"age\", \"marital_status\",\"race\", \"hispanic\").collect())"
      ],
      "execution_count": 28,
      "outputs": []
    },
    {
      "cell_type": "code",
      "metadata": {
        "id": "nOnIH0bn2ffl"
      },
      "source": [
        "X = data_array[:, :-1]\n",
        "y = data_array[:,-1]"
      ],
      "execution_count": 29,
      "outputs": []
    },
    {
      "cell_type": "code",
      "metadata": {
        "id": "_0dE8thABr2x"
      },
      "source": [
        "\n",
        "\n",
        "X = X.astype(str)\n",
        "# reshape target to be a 2d array\n",
        "y = y.reshape((len(y), 1))"
      ],
      "execution_count": 30,
      "outputs": []
    },
    {
      "cell_type": "code",
      "metadata": {
        "colab": {
          "base_uri": "https://localhost:8080/"
        },
        "id": "la3ZDJWjhfNr",
        "outputId": "370095c4-29af-477e-f5e3-8b635f4307cc"
      },
      "source": [
        "print(X.shape, y.shape)"
      ],
      "execution_count": 31,
      "outputs": [
        {
          "output_type": "stream",
          "text": [
            "(464080, 4) (464080, 1)\n"
          ],
          "name": "stdout"
        }
      ]
    },
    {
      "cell_type": "code",
      "metadata": {
        "id": "RWFzwteJBykS"
      },
      "source": [
        "\n",
        "# split into train and test sets\n",
        "X_train, X_test, y_train, y_test = train_test_split(X, y, random_state=1)"
      ],
      "execution_count": 32,
      "outputs": []
    },
    {
      "cell_type": "code",
      "metadata": {
        "colab": {
          "base_uri": "https://localhost:8080/"
        },
        "id": "kTt-b5OPhx06",
        "outputId": "ed4ae8e2-fde1-42fa-b008-c944a23ea3a6"
      },
      "source": [
        "print(X_train.shape, y_train.shape)\n",
        "print(X_test.shape, y_test.shape)"
      ],
      "execution_count": 33,
      "outputs": [
        {
          "output_type": "stream",
          "text": [
            "(348060, 4) (348060, 1)\n",
            "(116020, 4) (116020, 1)\n"
          ],
          "name": "stdout"
        }
      ]
    },
    {
      "cell_type": "code",
      "metadata": {
        "id": "OOdwEYJnhyOf"
      },
      "source": [
        "# already encoded the x values in the cleanup process\n",
        "# from sklearn.preprocessing import OrdinalEncoder\n",
        "# xoe = OrdinalEncoder()\n",
        "# xoe.fit(X)\n",
        "# X_train_enc = xoe.transform(X_train)\n",
        "# X_test_enc = xoe.transform(X_test)\n"
      ],
      "execution_count": null,
      "outputs": []
    },
    {
      "cell_type": "code",
      "metadata": {
        "id": "BKBFUl7G1hlu"
      },
      "source": [
        "# xoe.set_params()"
      ],
      "execution_count": null,
      "outputs": []
    },
    {
      "cell_type": "code",
      "metadata": {
        "id": "Wf_nbWGRhyZt"
      },
      "source": [
        "# print(X_train, X_test)"
      ],
      "execution_count": null,
      "outputs": []
    },
    {
      "cell_type": "code",
      "metadata": {
        "id": "vOOfwLqzCfo6"
      },
      "source": [
        "X_train = X_train.astype(int)\n",
        "X_test = X_test.astype(int)\n"
      ],
      "execution_count": 34,
      "outputs": []
    },
    {
      "cell_type": "code",
      "metadata": {
        "id": "WRaf76ALfqqN"
      },
      "source": [
        "y_train = y_train.astype(int)\n",
        "y_test = y_test.astype(int)"
      ],
      "execution_count": 35,
      "outputs": []
    },
    {
      "cell_type": "code",
      "metadata": {
        "id": "3nml5-T2hypo"
      },
      "source": [
        "# did this manually\n",
        "# yoe = OrdinalEncoder()\n",
        "# yoe.fit(y)\n",
        "# y_train_enc = yoe.transform(y_train)\n",
        "# y_test_enc = yoe.transform(y_test)"
      ],
      "execution_count": null,
      "outputs": []
    },
    {
      "cell_type": "code",
      "metadata": {
        "id": "WiFUlIsPjWPp"
      },
      "source": [
        "# print(y_train_enc, y_test_enc)"
      ],
      "execution_count": null,
      "outputs": []
    },
    {
      "cell_type": "code",
      "metadata": {
        "id": "AlMk0rF4jZbn"
      },
      "source": [
        "from sklearn.preprocessing import LabelEncoder, MinMaxScaler\n",
        "X_scaler = MinMaxScaler().fit(X_train)\n",
        "X_train_scaled = X_scaler.transform(X_train)\n",
        "X_test_scaled = X_scaler.transform(X_test)"
      ],
      "execution_count": 36,
      "outputs": []
    },
    {
      "cell_type": "code",
      "metadata": {
        "id": "y_nxDFJSkv2Q"
      },
      "source": [
        "import os\n",
        "import tensorflow as tf\n",
        "from tensorflow.keras.models import Sequential\n",
        "from tensorflow.keras.layers import Dense"
      ],
      "execution_count": 37,
      "outputs": []
    },
    {
      "cell_type": "code",
      "metadata": {
        "id": "D96dfsW1mbxV"
      },
      "source": [
        "model = Sequential()"
      ],
      "execution_count": 38,
      "outputs": []
    },
    {
      "cell_type": "code",
      "metadata": {
        "colab": {
          "base_uri": "https://localhost:8080/"
        },
        "id": "wFwMTnDom0Fk",
        "outputId": "7480a8b1-831a-4a2e-fe44-091a267bf654"
      },
      "source": [
        "print(X_train_scaled.shape)\n",
        "print(X_test_scaled.shape)\n",
        "print(y_train.shape)\n",
        "print(y_test.shape)"
      ],
      "execution_count": 39,
      "outputs": [
        {
          "output_type": "stream",
          "text": [
            "(348060, 4)\n",
            "(116020, 4)\n",
            "(348060, 1)\n",
            "(116020, 1)\n"
          ],
          "name": "stdout"
        }
      ]
    },
    {
      "cell_type": "code",
      "metadata": {
        "id": "DiwSAKVMmfp3"
      },
      "source": [
        "model.add(Dense(100, activation='relu', input_dim=X_train_scaled.shape[1]))\n",
        "model.add(Dense(100, activation='relu'))\n",
        "model.add(Dense(100, activation='relu'))\n",
        "model.add(Dense(100, activation='relu'))\n",
        "model.add(Dense(y_train.shape[1], activation=\"softmax\"))"
      ],
      "execution_count": 40,
      "outputs": []
    },
    {
      "cell_type": "code",
      "metadata": {
        "id": "nOPvFjDyyQCR"
      },
      "source": [
        "# print(X_train_scaled.shape[1])"
      ],
      "execution_count": null,
      "outputs": []
    },
    {
      "cell_type": "code",
      "metadata": {
        "id": "QHjJNtoDz4jG"
      },
      "source": [
        "# y_train_enc"
      ],
      "execution_count": null,
      "outputs": []
    },
    {
      "cell_type": "code",
      "metadata": {
        "id": "zPf8ivG2nQV5"
      },
      "source": [
        "model.compile(loss=\"categorical_crossentropy\", optimizer=\"adam\", metrics=['accuracy'])"
      ],
      "execution_count": 41,
      "outputs": []
    },
    {
      "cell_type": "code",
      "metadata": {
        "colab": {
          "base_uri": "https://localhost:8080/"
        },
        "id": "EcitcPbDnXOP",
        "outputId": "79732e6d-23f2-4a65-8ff1-7e529f0cdda9"
      },
      "source": [
        "model.fit(\n",
        "    X_train_scaled,\n",
        "    y_train,\n",
        "    epochs=10,\n",
        "    shuffle=True,\n",
        "    verbose=2\n",
        ")"
      ],
      "execution_count": 43,
      "outputs": [
        {
          "output_type": "stream",
          "text": [
            "Epoch 1/10\n",
            "10877/10877 - 14s - loss: 0.0000e+00 - accuracy: 0.0226\n",
            "Epoch 2/10\n",
            "10877/10877 - 14s - loss: 0.0000e+00 - accuracy: 0.0226\n",
            "Epoch 3/10\n",
            "10877/10877 - 14s - loss: 0.0000e+00 - accuracy: 0.0226\n",
            "Epoch 4/10\n",
            "10877/10877 - 14s - loss: 0.0000e+00 - accuracy: 0.0226\n",
            "Epoch 5/10\n",
            "10877/10877 - 14s - loss: 0.0000e+00 - accuracy: 0.0226\n",
            "Epoch 6/10\n",
            "10877/10877 - 14s - loss: 0.0000e+00 - accuracy: 0.0226\n",
            "Epoch 7/10\n",
            "10877/10877 - 14s - loss: 0.0000e+00 - accuracy: 0.0226\n",
            "Epoch 8/10\n",
            "10877/10877 - 14s - loss: 0.0000e+00 - accuracy: 0.0226\n",
            "Epoch 9/10\n",
            "10877/10877 - 14s - loss: 0.0000e+00 - accuracy: 0.0226\n",
            "Epoch 10/10\n",
            "10877/10877 - 14s - loss: 0.0000e+00 - accuracy: 0.0226\n"
          ],
          "name": "stdout"
        },
        {
          "output_type": "execute_result",
          "data": {
            "text/plain": [
              "<tensorflow.python.keras.callbacks.History at 0x7f4041b400d0>"
            ]
          },
          "metadata": {
            "tags": []
          },
          "execution_count": 43
        }
      ]
    },
    {
      "cell_type": "code",
      "metadata": {
        "id": "6q_VnVH4zd2f"
      },
      "source": [
        "# Very Low Accuracy, this is not a good model, going to try a different setup "
      ],
      "execution_count": null,
      "outputs": []
    },
    {
      "cell_type": "code",
      "metadata": {
        "id": "lFwHbVMyoV8o"
      },
      "source": [
        "model.save(\"Death_machine_1.h5\")"
      ],
      "execution_count": 44,
      "outputs": []
    },
    {
      "cell_type": "code",
      "metadata": {
        "colab": {
          "base_uri": "https://localhost:8080/"
        },
        "id": "444OAbMioWHn",
        "outputId": "a4fd3fcc-29ea-4d00-83df-b1703cb43ad3"
      },
      "source": [
        "# # grid search only? Error no params but I'm not doing grid search\n",
        "len(model.weights)\n",
        "# print(model.best_score_)\n",
        "model.summary()"
      ],
      "execution_count": 45,
      "outputs": [
        {
          "output_type": "stream",
          "text": [
            "Model: \"sequential\"\n",
            "_________________________________________________________________\n",
            "Layer (type)                 Output Shape              Param #   \n",
            "=================================================================\n",
            "dense (Dense)                (None, 100)               500       \n",
            "_________________________________________________________________\n",
            "dense_1 (Dense)              (None, 100)               10100     \n",
            "_________________________________________________________________\n",
            "dense_2 (Dense)              (None, 100)               10100     \n",
            "_________________________________________________________________\n",
            "dense_3 (Dense)              (None, 100)               10100     \n",
            "_________________________________________________________________\n",
            "dense_4 (Dense)              (None, 1)                 101       \n",
            "=================================================================\n",
            "Total params: 30,901\n",
            "Trainable params: 30,901\n",
            "Non-trainable params: 0\n",
            "_________________________________________________________________\n"
          ],
          "name": "stdout"
        }
      ]
    },
    {
      "cell_type": "code",
      "metadata": {
        "id": "soEdZGXTcmiA"
      },
      "source": [
        "from tensorflow.keras.models import load_model\n",
        "model_1 = load_model(\"Death_machine_1.h5\")"
      ],
      "execution_count": 46,
      "outputs": []
    },
    {
      "cell_type": "code",
      "metadata": {
        "id": "fF4IXmqXcm6T",
        "colab": {
          "base_uri": "https://localhost:8080/"
        },
        "outputId": "487bed2e-dcdf-4b00-a32b-35eea641d324"
      },
      "source": [
        "model_loss, model_accuracy = model.evaluate(X_test_scaled, y_test, verbose=2)\n",
        "print(f\"Loss: {model_loss}, Accuracy: {model_accuracy}\")"
      ],
      "execution_count": 47,
      "outputs": [
        {
          "output_type": "stream",
          "text": [
            "3626/3626 - 2s - loss: 0.0000e+00 - accuracy: 0.0229\n",
            "Loss: 0.0, Accuracy: 0.022892605513334274\n"
          ],
          "name": "stdout"
        }
      ]
    },
    {
      "cell_type": "code",
      "metadata": {
        "id": "_yvCfyKgctaS",
        "colab": {
          "base_uri": "https://localhost:8080/"
        },
        "outputId": "ac8d5fc0-6f24-4ac3-b049-147f30b83bcb"
      },
      "source": [
        "test = np.expand_dims(X_test_scaled[0], axis=0)\n",
        "test.shape"
      ],
      "execution_count": 48,
      "outputs": [
        {
          "output_type": "execute_result",
          "data": {
            "text/plain": [
              "(1, 4)"
            ]
          },
          "metadata": {
            "tags": []
          },
          "execution_count": 48
        }
      ]
    },
    {
      "cell_type": "code",
      "metadata": {
        "id": "1aMoNzsLc6Ua",
        "colab": {
          "base_uri": "https://localhost:8080/"
        },
        "outputId": "4e83596e-88d1-4a11-e9ff-2dc919cb0bef"
      },
      "source": [
        "print(f\"Precticed class: {np.argmax(model.predict(test), axis=-1)}\")"
      ],
      "execution_count": 49,
      "outputs": [
        {
          "output_type": "stream",
          "text": [
            "Precticed class: [0]\n"
          ],
          "name": "stdout"
        }
      ]
    },
    {
      "cell_type": "code",
      "metadata": {
        "id": "LWQAToaBctlw"
      },
      "source": [
        ""
      ],
      "execution_count": null,
      "outputs": []
    },
    {
      "cell_type": "code",
      "metadata": {
        "id": "pxe-peWt7lHF"
      },
      "source": [
        "import sklearn\n",
        "import sklearn.datasets\n",
        "import numpy as np\n",
        "from sklearn.datasets import make_classification\n",
        "from sklearn.model_selection import train_test_split"
      ],
      "execution_count": 29,
      "outputs": []
    },
    {
      "cell_type": "code",
      "metadata": {
        "colab": {
          "base_uri": "https://localhost:8080/",
          "height": 439
        },
        "id": "Wz0g1wKWAjAD",
        "outputId": "ec0399e8-5b8e-4b0e-ed1e-18e85d558aa9"
      },
      "source": [
        "pd_death_machine = death_machine.select(\"*\").toPandas()\n",
        "pd_death_machine"
      ],
      "execution_count": 30,
      "outputs": [
        {
          "output_type": "execute_result",
          "data": {
            "text/html": [
              "<div>\n",
              "<style scoped>\n",
              "    .dataframe tbody tr th:only-of-type {\n",
              "        vertical-align: middle;\n",
              "    }\n",
              "\n",
              "    .dataframe tbody tr th {\n",
              "        vertical-align: top;\n",
              "    }\n",
              "\n",
              "    .dataframe thead th {\n",
              "        text-align: right;\n",
              "    }\n",
              "</style>\n",
              "<table border=\"1\" class=\"dataframe\">\n",
              "  <thead>\n",
              "    <tr style=\"text-align: right;\">\n",
              "      <th></th>\n",
              "      <th>icd_death_code</th>\n",
              "      <th>resident</th>\n",
              "      <th>education</th>\n",
              "      <th>month_of_death</th>\n",
              "      <th>sex</th>\n",
              "      <th>age</th>\n",
              "      <th>marital_status</th>\n",
              "      <th>day_of_week_of_death</th>\n",
              "      <th>current_data_year</th>\n",
              "      <th>injury_at_work</th>\n",
              "      <th>manner_of_death</th>\n",
              "      <th>race</th>\n",
              "      <th>hispanic</th>\n",
              "      <th>entity_condition_1</th>\n",
              "      <th>entity_condition_2</th>\n",
              "      <th>entity_condition_3</th>\n",
              "      <th>id</th>\n",
              "    </tr>\n",
              "  </thead>\n",
              "  <tbody>\n",
              "    <tr>\n",
              "      <th>0</th>\n",
              "      <td>7</td>\n",
              "      <td>1</td>\n",
              "      <td>3</td>\n",
              "      <td>1</td>\n",
              "      <td>1</td>\n",
              "      <td>84</td>\n",
              "      <td>2</td>\n",
              "      <td>1</td>\n",
              "      <td>2015</td>\n",
              "      <td>3</td>\n",
              "      <td>7</td>\n",
              "      <td>1</td>\n",
              "      <td>6</td>\n",
              "      <td>11I500</td>\n",
              "      <td>61L031</td>\n",
              "      <td>0</td>\n",
              "      <td>1</td>\n",
              "    </tr>\n",
              "    <tr>\n",
              "      <th>1</th>\n",
              "      <td>2</td>\n",
              "      <td>1</td>\n",
              "      <td>6</td>\n",
              "      <td>1</td>\n",
              "      <td>1</td>\n",
              "      <td>70</td>\n",
              "      <td>2</td>\n",
              "      <td>2</td>\n",
              "      <td>2015</td>\n",
              "      <td>3</td>\n",
              "      <td>7</td>\n",
              "      <td>1</td>\n",
              "      <td>6</td>\n",
              "      <td>11I469</td>\n",
              "      <td>21R042</td>\n",
              "      <td>31C349</td>\n",
              "      <td>2</td>\n",
              "    </tr>\n",
              "    <tr>\n",
              "      <th>2</th>\n",
              "      <td>5</td>\n",
              "      <td>1</td>\n",
              "      <td>3</td>\n",
              "      <td>1</td>\n",
              "      <td>2</td>\n",
              "      <td>91</td>\n",
              "      <td>3</td>\n",
              "      <td>6</td>\n",
              "      <td>2015</td>\n",
              "      <td>3</td>\n",
              "      <td>7</td>\n",
              "      <td>1</td>\n",
              "      <td>6</td>\n",
              "      <td>11G309</td>\n",
              "      <td>0</td>\n",
              "      <td>0</td>\n",
              "      <td>3</td>\n",
              "    </tr>\n",
              "    <tr>\n",
              "      <th>3</th>\n",
              "      <td>9</td>\n",
              "      <td>1</td>\n",
              "      <td>5</td>\n",
              "      <td>1</td>\n",
              "      <td>2</td>\n",
              "      <td>89</td>\n",
              "      <td>3</td>\n",
              "      <td>5</td>\n",
              "      <td>2015</td>\n",
              "      <td>3</td>\n",
              "      <td>7</td>\n",
              "      <td>1</td>\n",
              "      <td>6</td>\n",
              "      <td>11I250</td>\n",
              "      <td>21S720</td>\n",
              "      <td>61X590</td>\n",
              "      <td>4</td>\n",
              "    </tr>\n",
              "    <tr>\n",
              "      <th>4</th>\n",
              "      <td>7</td>\n",
              "      <td>1</td>\n",
              "      <td>3</td>\n",
              "      <td>1</td>\n",
              "      <td>1</td>\n",
              "      <td>82</td>\n",
              "      <td>2</td>\n",
              "      <td>1</td>\n",
              "      <td>2015</td>\n",
              "      <td>3</td>\n",
              "      <td>7</td>\n",
              "      <td>1</td>\n",
              "      <td>6</td>\n",
              "      <td>11I500</td>\n",
              "      <td>0</td>\n",
              "      <td>0</td>\n",
              "      <td>5</td>\n",
              "    </tr>\n",
              "    <tr>\n",
              "      <th>...</th>\n",
              "      <td>...</td>\n",
              "      <td>...</td>\n",
              "      <td>...</td>\n",
              "      <td>...</td>\n",
              "      <td>...</td>\n",
              "      <td>...</td>\n",
              "      <td>...</td>\n",
              "      <td>...</td>\n",
              "      <td>...</td>\n",
              "      <td>...</td>\n",
              "      <td>...</td>\n",
              "      <td>...</td>\n",
              "      <td>...</td>\n",
              "      <td>...</td>\n",
              "      <td>...</td>\n",
              "      <td>...</td>\n",
              "      <td>...</td>\n",
              "    </tr>\n",
              "    <tr>\n",
              "      <th>464075</th>\n",
              "      <td>2</td>\n",
              "      <td>2</td>\n",
              "      <td>3</td>\n",
              "      <td>12</td>\n",
              "      <td>1</td>\n",
              "      <td>72</td>\n",
              "      <td>1</td>\n",
              "      <td>2</td>\n",
              "      <td>2015</td>\n",
              "      <td>3</td>\n",
              "      <td>7</td>\n",
              "      <td>2</td>\n",
              "      <td>7</td>\n",
              "      <td>11C349</td>\n",
              "      <td>0</td>\n",
              "      <td>0</td>\n",
              "      <td>25769829049</td>\n",
              "    </tr>\n",
              "    <tr>\n",
              "      <th>464076</th>\n",
              "      <td>2</td>\n",
              "      <td>1</td>\n",
              "      <td>3</td>\n",
              "      <td>12</td>\n",
              "      <td>2</td>\n",
              "      <td>58</td>\n",
              "      <td>2</td>\n",
              "      <td>5</td>\n",
              "      <td>2015</td>\n",
              "      <td>3</td>\n",
              "      <td>7</td>\n",
              "      <td>2</td>\n",
              "      <td>7</td>\n",
              "      <td>11I469</td>\n",
              "      <td>21R092</td>\n",
              "      <td>31C349</td>\n",
              "      <td>25769829050</td>\n",
              "    </tr>\n",
              "    <tr>\n",
              "      <th>464077</th>\n",
              "      <td>9</td>\n",
              "      <td>1</td>\n",
              "      <td>3</td>\n",
              "      <td>12</td>\n",
              "      <td>2</td>\n",
              "      <td>56</td>\n",
              "      <td>4</td>\n",
              "      <td>5</td>\n",
              "      <td>2015</td>\n",
              "      <td>3</td>\n",
              "      <td>7</td>\n",
              "      <td>1</td>\n",
              "      <td>6</td>\n",
              "      <td>11I119</td>\n",
              "      <td>12I250</td>\n",
              "      <td>61E669</td>\n",
              "      <td>25769829051</td>\n",
              "    </tr>\n",
              "    <tr>\n",
              "      <th>464078</th>\n",
              "      <td>5</td>\n",
              "      <td>1</td>\n",
              "      <td>1</td>\n",
              "      <td>12</td>\n",
              "      <td>1</td>\n",
              "      <td>68</td>\n",
              "      <td>4</td>\n",
              "      <td>3</td>\n",
              "      <td>2015</td>\n",
              "      <td>3</td>\n",
              "      <td>7</td>\n",
              "      <td>1</td>\n",
              "      <td>2</td>\n",
              "      <td>11I469</td>\n",
              "      <td>21R688</td>\n",
              "      <td>31G309</td>\n",
              "      <td>25769829052</td>\n",
              "    </tr>\n",
              "    <tr>\n",
              "      <th>464079</th>\n",
              "      <td>9</td>\n",
              "      <td>4</td>\n",
              "      <td>9</td>\n",
              "      <td>7</td>\n",
              "      <td>1</td>\n",
              "      <td>83</td>\n",
              "      <td>5</td>\n",
              "      <td>7</td>\n",
              "      <td>2015</td>\n",
              "      <td>3</td>\n",
              "      <td>7</td>\n",
              "      <td>2</td>\n",
              "      <td>7</td>\n",
              "      <td>11R263</td>\n",
              "      <td>21I119</td>\n",
              "      <td>22I679</td>\n",
              "      <td>25769829053</td>\n",
              "    </tr>\n",
              "  </tbody>\n",
              "</table>\n",
              "<p>464080 rows × 17 columns</p>\n",
              "</div>"
            ],
            "text/plain": [
              "       icd_death_code  resident  ...  entity_condition_3           id\n",
              "0                   7         1  ...                   0            1\n",
              "1                   2         1  ...              31C349            2\n",
              "2                   5         1  ...                   0            3\n",
              "3                   9         1  ...              61X590            4\n",
              "4                   7         1  ...                   0            5\n",
              "...               ...       ...  ...                 ...          ...\n",
              "464075              2         2  ...                   0  25769829049\n",
              "464076              2         1  ...              31C349  25769829050\n",
              "464077              9         1  ...              61E669  25769829051\n",
              "464078              5         1  ...              31G309  25769829052\n",
              "464079              9         4  ...              22I679  25769829053\n",
              "\n",
              "[464080 rows x 17 columns]"
            ]
          },
          "metadata": {
            "tags": []
          },
          "execution_count": 30
        }
      ]
    },
    {
      "cell_type": "code",
      "metadata": {
        "id": "bsfKScJlAjJN"
      },
      "source": [
        ""
      ],
      "execution_count": null,
      "outputs": []
    },
    {
      "cell_type": "code",
      "metadata": {
        "id": "t0tX9bpb7lQo"
      },
      "source": [
        "# data_array =  np.array(death_machine.select(\"resident\", \"education\", \"sex\", \"age\", \"marital_status\", \"injury_at_work\", \"manner_of_death\", \"race\", \"hispanic\").collect())\n",
        "# data_array =  np.array(death_machine.select(\"education\", \"sex\", \"age\", \"marital_status\", \"injury_at_work\", \"manner_of_death\", \"race\", \"hispanic\").collect())\n",
        "# data_array =  np.array(death_machine.select(\"education\",\"sex\", \"age\", \"marital_status\",\"manner_of_death\", \"race\", \"hispanic\").collect())\n",
        "# data_array =  np.array(death_machine.select(\"education\",\"sex\", \"age\", \"marital_status\",\"race\", \"hispanic\").collect())\n",
        "# data_array =  np.array(death_machine.select(\"sex\", \"age\", \"marital_status\",\"race\", \"hispanic\").collect())"
      ],
      "execution_count": null,
      "outputs": []
    },
    {
      "cell_type": "code",
      "metadata": {
        "id": "gWDUzzgD7lY2"
      },
      "source": [
        "# X = data_array\n",
        "# y = death_machine.select(\"icd_death_code\")"
      ],
      "execution_count": null,
      "outputs": []
    },
    {
      "cell_type": "code",
      "metadata": {
        "id": "QqeXG8N-7lgx"
      },
      "source": [
        "# X = data_array[:, :-1]\n",
        "# y = data_array[:,-1]"
      ],
      "execution_count": null,
      "outputs": []
    },
    {
      "cell_type": "code",
      "metadata": {
        "colab": {
          "base_uri": "https://localhost:8080/"
        },
        "id": "ms8zu-_i8fnG",
        "outputId": "781bfc7f-7edf-4e7f-fe6e-284d2349c214"
      },
      "source": [
        "# print(X.shape, y.shape)"
      ],
      "execution_count": null,
      "outputs": [
        {
          "output_type": "stream",
          "text": [
            "(464080, 4) (464080,)\n"
          ],
          "name": "stdout"
        }
      ]
    },
    {
      "cell_type": "code",
      "metadata": {
        "colab": {
          "base_uri": "https://localhost:8080/",
          "height": 419
        },
        "id": "HV1S8a2xBgVY",
        "outputId": "f22838f4-42b1-465b-a3ac-b87d11dee501"
      },
      "source": [
        "wanted_data = pd_death_machine[[\"education\",\"sex\", \"age\", \"marital_status\",\"race\", \"hispanic\"]]\n",
        "wanted_data"
      ],
      "execution_count": 31,
      "outputs": [
        {
          "output_type": "execute_result",
          "data": {
            "text/html": [
              "<div>\n",
              "<style scoped>\n",
              "    .dataframe tbody tr th:only-of-type {\n",
              "        vertical-align: middle;\n",
              "    }\n",
              "\n",
              "    .dataframe tbody tr th {\n",
              "        vertical-align: top;\n",
              "    }\n",
              "\n",
              "    .dataframe thead th {\n",
              "        text-align: right;\n",
              "    }\n",
              "</style>\n",
              "<table border=\"1\" class=\"dataframe\">\n",
              "  <thead>\n",
              "    <tr style=\"text-align: right;\">\n",
              "      <th></th>\n",
              "      <th>education</th>\n",
              "      <th>sex</th>\n",
              "      <th>age</th>\n",
              "      <th>marital_status</th>\n",
              "      <th>race</th>\n",
              "      <th>hispanic</th>\n",
              "    </tr>\n",
              "  </thead>\n",
              "  <tbody>\n",
              "    <tr>\n",
              "      <th>0</th>\n",
              "      <td>3</td>\n",
              "      <td>1</td>\n",
              "      <td>84</td>\n",
              "      <td>2</td>\n",
              "      <td>1</td>\n",
              "      <td>6</td>\n",
              "    </tr>\n",
              "    <tr>\n",
              "      <th>1</th>\n",
              "      <td>6</td>\n",
              "      <td>1</td>\n",
              "      <td>70</td>\n",
              "      <td>2</td>\n",
              "      <td>1</td>\n",
              "      <td>6</td>\n",
              "    </tr>\n",
              "    <tr>\n",
              "      <th>2</th>\n",
              "      <td>3</td>\n",
              "      <td>2</td>\n",
              "      <td>91</td>\n",
              "      <td>3</td>\n",
              "      <td>1</td>\n",
              "      <td>6</td>\n",
              "    </tr>\n",
              "    <tr>\n",
              "      <th>3</th>\n",
              "      <td>5</td>\n",
              "      <td>2</td>\n",
              "      <td>89</td>\n",
              "      <td>3</td>\n",
              "      <td>1</td>\n",
              "      <td>6</td>\n",
              "    </tr>\n",
              "    <tr>\n",
              "      <th>4</th>\n",
              "      <td>3</td>\n",
              "      <td>1</td>\n",
              "      <td>82</td>\n",
              "      <td>2</td>\n",
              "      <td>1</td>\n",
              "      <td>6</td>\n",
              "    </tr>\n",
              "    <tr>\n",
              "      <th>...</th>\n",
              "      <td>...</td>\n",
              "      <td>...</td>\n",
              "      <td>...</td>\n",
              "      <td>...</td>\n",
              "      <td>...</td>\n",
              "      <td>...</td>\n",
              "    </tr>\n",
              "    <tr>\n",
              "      <th>464075</th>\n",
              "      <td>3</td>\n",
              "      <td>1</td>\n",
              "      <td>72</td>\n",
              "      <td>1</td>\n",
              "      <td>2</td>\n",
              "      <td>7</td>\n",
              "    </tr>\n",
              "    <tr>\n",
              "      <th>464076</th>\n",
              "      <td>3</td>\n",
              "      <td>2</td>\n",
              "      <td>58</td>\n",
              "      <td>2</td>\n",
              "      <td>2</td>\n",
              "      <td>7</td>\n",
              "    </tr>\n",
              "    <tr>\n",
              "      <th>464077</th>\n",
              "      <td>3</td>\n",
              "      <td>2</td>\n",
              "      <td>56</td>\n",
              "      <td>4</td>\n",
              "      <td>1</td>\n",
              "      <td>6</td>\n",
              "    </tr>\n",
              "    <tr>\n",
              "      <th>464078</th>\n",
              "      <td>1</td>\n",
              "      <td>1</td>\n",
              "      <td>68</td>\n",
              "      <td>4</td>\n",
              "      <td>1</td>\n",
              "      <td>2</td>\n",
              "    </tr>\n",
              "    <tr>\n",
              "      <th>464079</th>\n",
              "      <td>9</td>\n",
              "      <td>1</td>\n",
              "      <td>83</td>\n",
              "      <td>5</td>\n",
              "      <td>2</td>\n",
              "      <td>7</td>\n",
              "    </tr>\n",
              "  </tbody>\n",
              "</table>\n",
              "<p>464080 rows × 6 columns</p>\n",
              "</div>"
            ],
            "text/plain": [
              "        education sex  age marital_status  race  hispanic\n",
              "0               3   1   84              2     1         6\n",
              "1               6   1   70              2     1         6\n",
              "2               3   2   91              3     1         6\n",
              "3               5   2   89              3     1         6\n",
              "4               3   1   82              2     1         6\n",
              "...           ...  ..  ...            ...   ...       ...\n",
              "464075          3   1   72              1     2         7\n",
              "464076          3   2   58              2     2         7\n",
              "464077          3   2   56              4     1         6\n",
              "464078          1   1   68              4     1         2\n",
              "464079          9   1   83              5     2         7\n",
              "\n",
              "[464080 rows x 6 columns]"
            ]
          },
          "metadata": {
            "tags": []
          },
          "execution_count": 31
        }
      ]
    },
    {
      "cell_type": "code",
      "metadata": {
        "colab": {
          "base_uri": "https://localhost:8080/"
        },
        "id": "FHQi-idmByT6",
        "outputId": "71ec9def-98bf-41f3-cc86-56515414c29c"
      },
      "source": [
        "X = wanted_data\n",
        "y = pd_death_machine[\"icd_death_code\"].values.reshape(-1,1)\n",
        "print(X.shape, y.shape)"
      ],
      "execution_count": 32,
      "outputs": [
        {
          "output_type": "stream",
          "text": [
            "(464080, 6) (464080, 1)\n"
          ],
          "name": "stdout"
        }
      ]
    },
    {
      "cell_type": "code",
      "metadata": {
        "id": "C9JtPw8H91yp"
      },
      "source": [
        "from sklearn.model_selection import train_test_split\n",
        "# split into train and test sets\n",
        "X_train, X_test, y_train, y_test = train_test_split(X, y, random_state=42)"
      ],
      "execution_count": 33,
      "outputs": []
    },
    {
      "cell_type": "code",
      "metadata": {
        "id": "1XyM6TMG915t"
      },
      "source": [
        "X_train = X_train.astype(int)\n",
        "X_test = X_test.astype(int)\n",
        "y_train = y_train.astype(int)\n",
        "y_test = y_test.astype(int)"
      ],
      "execution_count": 107,
      "outputs": []
    },
    {
      "cell_type": "code",
      "metadata": {
        "id": "CfPtPQ5i-BUY"
      },
      "source": [
        "from sklearn.preprocessing import LabelEncoder, StandardScaler\n",
        "X_scaler = StandardScaler().fit(X_train)\n",
        "y_scaler = StandardScaler().fit(y_train)\n",
        "X_train_scaled = X_scaler.transform(X_train)\n",
        "X_test_scaled = X_scaler.transform(X_test)\n",
        "y_train_scaled = y_scaler.transform(y_train)\n",
        "y_test_scaled = y_scaler.transform(y_test)"
      ],
      "execution_count": 34,
      "outputs": []
    },
    {
      "cell_type": "code",
      "metadata": {
        "id": "GoYcVKOD-Bom",
        "colab": {
          "base_uri": "https://localhost:8080/"
        },
        "outputId": "ed86556a-7eb0-49bd-daaf-a176f2dd9514"
      },
      "source": [
        "from sklearn.linear_model import LinearRegression\n",
        "model_2 = LinearRegression()\n",
        "model_2.fit(X_train_scaled, y_train_scaled)"
      ],
      "execution_count": 35,
      "outputs": [
        {
          "output_type": "execute_result",
          "data": {
            "text/plain": [
              "LinearRegression(copy_X=True, fit_intercept=True, n_jobs=None, normalize=False)"
            ]
          },
          "metadata": {
            "tags": []
          },
          "execution_count": 35
        }
      ]
    },
    {
      "cell_type": "code",
      "metadata": {
        "colab": {
          "base_uri": "https://localhost:8080/"
        },
        "id": "yzn1_Pj33pjT",
        "outputId": "8c536102-ff6e-46ee-ddd3-f3e721600cad"
      },
      "source": [
        "print(f\"Training Data Score: {model_2.score(X_train_scaled, y_train_scaled)}\")\n",
        "print(f\"Testing Data Score: {model_2.score(X_test_scaled, y_test_scaled)}\")"
      ],
      "execution_count": 36,
      "outputs": [
        {
          "output_type": "stream",
          "text": [
            "Training Data Score: 0.03527068224041041\n",
            "Testing Data Score: 0.03545177966645496\n"
          ],
          "name": "stdout"
        }
      ]
    },
    {
      "cell_type": "code",
      "metadata": {
        "colab": {
          "base_uri": "https://localhost:8080/"
        },
        "id": "XGe1bCqt3pt-",
        "outputId": "b31b9391-c5ac-4a7e-ce61-6e49e4bebf4d"
      },
      "source": [
        "predictions = model_2.predict(X_test_scaled)\n",
        "print(f\"First 10 Predictions:   {predictions[:10]}\")\n",
        "print(f\"First 10 Actual labels: {y_test_scaled[:10].tolist()}\")"
      ],
      "execution_count": 37,
      "outputs": [
        {
          "output_type": "stream",
          "text": [
            "First 10 Predictions:   [[ 0.27265019]\n",
            " [ 0.03651411]\n",
            " [-0.20603478]\n",
            " [ 0.21423094]\n",
            " [ 0.08599818]\n",
            " [ 0.28964391]\n",
            " [ 0.10123074]\n",
            " [ 0.20871005]\n",
            " [ 0.08111822]\n",
            " [-0.03888744]]\n",
            "First 10 Actual labels: [[1.778933775817609], [1.778933775817609], [-0.6689358004730793], [0.28301347919552167], [0.28301347919552167], [3.682832335154811], [0.011027970718778523], [-0.6689358004730793], [0.011027970718778523], [-0.3969502919963362]]\n"
          ],
          "name": "stdout"
        }
      ]
    },
    {
      "cell_type": "code",
      "metadata": {
        "colab": {
          "base_uri": "https://localhost:8080/"
        },
        "id": "6_U19vyM3p3_",
        "outputId": "d16ae9d8-4a19-4918-8fce-24fdaa003456"
      },
      "source": [
        "from sklearn.linear_model import Ridge\n",
        "ridge = Ridge(alpha=.01).fit(X_train_scaled, y_train_scaled)\n",
        "r2 = ridge.score(X_test_scaled, y_test_scaled)\n",
        "r2"
      ],
      "execution_count": 38,
      "outputs": [
        {
          "output_type": "execute_result",
          "data": {
            "text/plain": [
              "0.035451779654196325"
            ]
          },
          "metadata": {
            "tags": []
          },
          "execution_count": 38
        }
      ]
    },
    {
      "cell_type": "code",
      "metadata": {
        "colab": {
          "base_uri": "https://localhost:8080/"
        },
        "id": "UksCIEaB3qBM",
        "outputId": "1a869820-adcb-4acb-ec2f-53ff6e1d47d0"
      },
      "source": [
        "import pickle\n",
        "filename = 'Death_machine_2.sav'\n",
        "pickle.dump(model_2, open(filename, 'wb'))\n",
        "\n",
        "# load the model from disk\n",
        "loaded_model_1 = pickle.load(open(filename, 'rb'))\n",
        "result = loaded_model_1.score(X_test_scaled, y_test_scaled)\n",
        "print(result)"
      ],
      "execution_count": 40,
      "outputs": [
        {
          "output_type": "stream",
          "text": [
            "0.03545177966645496\n"
          ],
          "name": "stdout"
        }
      ]
    },
    {
      "cell_type": "code",
      "metadata": {
        "id": "4A-tvxWx3qJF"
      },
      "source": [
        ""
      ],
      "execution_count": null,
      "outputs": []
    },
    {
      "cell_type": "code",
      "metadata": {
        "colab": {
          "base_uri": "https://localhost:8080/"
        },
        "id": "fkREXfTU3qRH",
        "outputId": "fbd1e794-4c14-4f33-8839-68ac6f66320a"
      },
      "source": [
        "X = wanted_data\n",
        "y = pd_death_machine[\"icd_death_code\"]\n",
        "print(X.shape, y.shape)"
      ],
      "execution_count": 41,
      "outputs": [
        {
          "output_type": "stream",
          "text": [
            "(464080, 6) (464080,)\n"
          ],
          "name": "stdout"
        }
      ]
    },
    {
      "cell_type": "code",
      "metadata": {
        "id": "bi_H-bei7pYn"
      },
      "source": [
        "X_train, X_test, y_train, y_test = train_test_split(X, y, random_state=1)\n",
        "X_train = X_train.astype(int)\n",
        "X_test = X_test.astype(int)\n",
        "y_train = y_train.astype(int)\n",
        "y_test = y_test.astype(int)"
      ],
      "execution_count": 42,
      "outputs": []
    },
    {
      "cell_type": "code",
      "metadata": {
        "id": "b8VoUtYz3qaG"
      },
      "source": [
        "from sklearn.preprocessing import LabelEncoder, MinMaxScaler\n",
        "X_scaler = MinMaxScaler().fit(X_train)\n",
        "X_train_scaled = X_scaler.transform(X_train)\n",
        "X_test_scaled = X_scaler.transform(X_test)"
      ],
      "execution_count": 43,
      "outputs": []
    },
    {
      "cell_type": "code",
      "metadata": {
        "id": "kEq0S4Z6P6up",
        "colab": {
          "base_uri": "https://localhost:8080/"
        },
        "outputId": "2af4c34d-9b31-412d-e124-180b0c911f2a"
      },
      "source": [
        "from sklearn.linear_model import LogisticRegression\n",
        "model_3 = LogisticRegression(max_iter=1000, verbose =2)\n",
        "model_3"
      ],
      "execution_count": 45,
      "outputs": [
        {
          "output_type": "execute_result",
          "data": {
            "text/plain": [
              "LogisticRegression(C=1.0, class_weight=None, dual=False, fit_intercept=True,\n",
              "                   intercept_scaling=1, l1_ratio=None, max_iter=1000,\n",
              "                   multi_class='auto', n_jobs=None, penalty='l2',\n",
              "                   random_state=None, solver='lbfgs', tol=0.0001, verbose=2,\n",
              "                   warm_start=False)"
            ]
          },
          "metadata": {
            "tags": []
          },
          "execution_count": 45
        }
      ]
    },
    {
      "cell_type": "code",
      "metadata": {
        "id": "UZy0YovqteTJ",
        "colab": {
          "base_uri": "https://localhost:8080/"
        },
        "outputId": "af4b4715-e9ae-4c53-da3d-a0c49ceb3137"
      },
      "source": [
        "model_3.fit(X_train_scaled, y_train)"
      ],
      "execution_count": 46,
      "outputs": [
        {
          "output_type": "stream",
          "text": [
            "[Parallel(n_jobs=1)]: Using backend SequentialBackend with 1 concurrent workers.\n",
            "[Parallel(n_jobs=1)]: Done   1 out of   1 | elapsed:  1.3min remaining:    0.0s\n",
            "[Parallel(n_jobs=1)]: Done   1 out of   1 | elapsed:  1.3min finished\n"
          ],
          "name": "stderr"
        },
        {
          "output_type": "execute_result",
          "data": {
            "text/plain": [
              "LogisticRegression(C=1.0, class_weight=None, dual=False, fit_intercept=True,\n",
              "                   intercept_scaling=1, l1_ratio=None, max_iter=1000,\n",
              "                   multi_class='auto', n_jobs=None, penalty='l2',\n",
              "                   random_state=None, solver='lbfgs', tol=0.0001, verbose=2,\n",
              "                   warm_start=False)"
            ]
          },
          "metadata": {
            "tags": []
          },
          "execution_count": 46
        }
      ]
    },
    {
      "cell_type": "code",
      "metadata": {
        "id": "UwHWdkoVteeM",
        "colab": {
          "base_uri": "https://localhost:8080/"
        },
        "outputId": "37488b22-140c-452f-e7b5-72e32cccd40b"
      },
      "source": [
        "print(f\"Training Data Score: {model_3.score(X_train_scaled, y_train)}\")\n",
        "print(f\"Testing Data Score: {model_3.score(X_test_scaled, y_test)}\")"
      ],
      "execution_count": 47,
      "outputs": [
        {
          "output_type": "stream",
          "text": [
            "Training Data Score: 0.36294317071769233\n",
            "Testing Data Score: 0.35987760730908464\n"
          ],
          "name": "stdout"
        }
      ]
    },
    {
      "cell_type": "code",
      "metadata": {
        "id": "IR7GY6biwZ5A",
        "colab": {
          "base_uri": "https://localhost:8080/"
        },
        "outputId": "54dae2dd-567f-4ed5-bfc6-bd1fd1f688ec"
      },
      "source": [
        "predictions = model_3.predict(X_test)\n",
        "print(f\"First 10 Predictions:   {predictions[:10]}\")\n",
        "print(f\"First 10 Actual labels: {y_test[:10].tolist()}\")"
      ],
      "execution_count": 48,
      "outputs": [
        {
          "output_type": "stream",
          "text": [
            "First 10 Predictions:   [5 5 5 5 5 5 5 5 5 5]\n",
            "First 10 Actual labels: [5, 5, 4, 5, 2, 7, 7, 4, 2, 9]\n"
          ],
          "name": "stdout"
        }
      ]
    },
    {
      "cell_type": "code",
      "metadata": {
        "id": "0klguO3Gxk-4",
        "colab": {
          "base_uri": "https://localhost:8080/"
        },
        "outputId": "a937f44c-6a14-4329-d236-50aedd198d05"
      },
      "source": [
        "import pickle\n",
        "filename = 'Death_machine_3.sav'\n",
        "pickle.dump(model_3, open(filename, 'wb'))\n",
        "\n",
        "# load the model from disk\n",
        "loaded_model_2 = pickle.load(open(filename, 'rb'))\n",
        "result = loaded_model_2.score(X_test_scaled, y_test)\n",
        "print(result)"
      ],
      "execution_count": 49,
      "outputs": [
        {
          "output_type": "stream",
          "text": [
            "0.35987760730908464\n"
          ],
          "name": "stdout"
        }
      ]
    },
    {
      "cell_type": "code",
      "metadata": {
        "id": "MMjjh-S4wJ6H"
      },
      "source": [
        ""
      ],
      "execution_count": null,
      "outputs": []
    },
    {
      "cell_type": "code",
      "metadata": {
        "id": "TudxBmSUQG31",
        "colab": {
          "base_uri": "https://localhost:8080/"
        },
        "outputId": "bd682411-8ee2-401b-87cf-37e3fa8d23c2"
      },
      "source": [
        "X = wanted_data\n",
        "y = pd_death_machine[\"icd_death_code\"]\n",
        "print(X.shape, y.shape)"
      ],
      "execution_count": 116,
      "outputs": [
        {
          "output_type": "stream",
          "text": [
            "(464080, 6) (464080,)\n"
          ],
          "name": "stdout"
        }
      ]
    },
    {
      "cell_type": "code",
      "metadata": {
        "id": "Kk4Gjpv9oWQJ"
      },
      "source": [
        "X_train, X_test, y_train, y_test = train_test_split(X, y, random_state=42)\n",
        "X_train = X_train.astype(int)\n",
        "X_test = X_test.astype(int)\n",
        "y_train = y_train.astype(int)\n",
        "y_test = y_test.astype(int)"
      ],
      "execution_count": 117,
      "outputs": []
    },
    {
      "cell_type": "code",
      "metadata": {
        "id": "Z1JpQF_Pnd49",
        "colab": {
          "base_uri": "https://localhost:8080/"
        },
        "outputId": "e788f946-cf0c-48c0-9d55-6e407a7eb55e"
      },
      "source": [
        "from sklearn import tree\n",
        "clf = tree.DecisionTreeClassifier()\n",
        "clf = clf.fit(X_train, y_train)\n",
        "clf.score(X_test, y_test)"
      ],
      "execution_count": 118,
      "outputs": [
        {
          "output_type": "execute_result",
          "data": {
            "text/plain": [
              "0.35957593518358905"
            ]
          },
          "metadata": {
            "tags": []
          },
          "execution_count": 118
        }
      ]
    },
    {
      "cell_type": "code",
      "metadata": {
        "id": "PypKh3ggnoRS",
        "colab": {
          "base_uri": "https://localhost:8080/"
        },
        "outputId": "6eaf4b3a-5636-467d-c2a4-2c59c0f49eed"
      },
      "source": [
        "from sklearn.ensemble import RandomForestClassifier\n",
        "rf = RandomForestClassifier(n_estimators=200)\n",
        "rf = rf.fit(X_train, y_train)\n",
        "rf.score(X_test, y_test)"
      ],
      "execution_count": 119,
      "outputs": [
        {
          "output_type": "execute_result",
          "data": {
            "text/plain": [
              "0.3590070677469402"
            ]
          },
          "metadata": {
            "tags": []
          },
          "execution_count": 119
        }
      ]
    },
    {
      "cell_type": "code",
      "metadata": {
        "id": "ziQqw496ntmw",
        "colab": {
          "base_uri": "https://localhost:8080/"
        },
        "outputId": "9b8dbfda-75a1-4507-9256-9a062ae735eb"
      },
      "source": [
        "feature_names = wanted_data.columns\n",
        "sorted(zip(rf.feature_importances_, feature_names), reverse=True)"
      ],
      "execution_count": 120,
      "outputs": [
        {
          "output_type": "execute_result",
          "data": {
            "text/plain": [
              "[(0.6229105537489908, 'age'),\n",
              " (0.1307744684235722, 'education'),\n",
              " (0.09371566373260223, 'marital_status'),\n",
              " (0.06393353662628881, 'hispanic'),\n",
              " (0.04726009039563026, 'sex'),\n",
              " (0.04140568707291572, 'race')]"
            ]
          },
          "metadata": {
            "tags": []
          },
          "execution_count": 120
        }
      ]
    },
    {
      "cell_type": "code",
      "metadata": {
        "id": "UKlLhxKTntzl",
        "colab": {
          "base_uri": "https://localhost:8080/"
        },
        "outputId": "34534c86-b5d3-4c64-92fd-9489bc7e847c"
      },
      "source": [
        "import pickle\n",
        "filename = 'Death_machine_4.sav'\n",
        "pickle.dump(clf, open(filename, 'wb'))\n",
        "\n",
        "# load the model from disk\n",
        "loaded_model_3 = pickle.load(open(filename, 'rb'))\n",
        "result = loaded_model_3.score(X_test, y_test)\n",
        "print(result)"
      ],
      "execution_count": 125,
      "outputs": [
        {
          "output_type": "stream",
          "text": [
            "0.35957593518358905\n"
          ],
          "name": "stdout"
        }
      ]
    },
    {
      "cell_type": "code",
      "metadata": {
        "id": "C_9ZC5fsq-iD",
        "colab": {
          "base_uri": "https://localhost:8080/"
        },
        "outputId": "bceef747-0f0f-45dd-be75-275b1e2983dc"
      },
      "source": [
        "import pickle\n",
        "filename = 'Death_machine_5.sav'\n",
        "pickle.dump(rf, open(filename, 'wb'))\n",
        "\n",
        "# load the model from disk\n",
        "loaded_model_4 = pickle.load(open(filename, 'rb'))\n",
        "result = loaded_model_4.score(X_test, y_test)\n",
        "print(result)"
      ],
      "execution_count": 126,
      "outputs": [
        {
          "output_type": "stream",
          "text": [
            "0.3590070677469402\n"
          ],
          "name": "stdout"
        }
      ]
    },
    {
      "cell_type": "code",
      "metadata": {
        "id": "GBMAUWO-omBq"
      },
      "source": [
        ""
      ],
      "execution_count": null,
      "outputs": []
    },
    {
      "cell_type": "code",
      "metadata": {
        "id": "XKbtcmfYomI3",
        "colab": {
          "base_uri": "https://localhost:8080/"
        },
        "outputId": "83a1d0ea-a6cf-4893-ac8f-8e31f7420b28"
      },
      "source": [
        "X = wanted_data\n",
        "y = pd_death_machine[\"icd_death_code\"]\n",
        "print(X.shape, y.shape)"
      ],
      "execution_count": 127,
      "outputs": [
        {
          "output_type": "stream",
          "text": [
            "(464080, 6) (464080,)\n"
          ],
          "name": "stdout"
        }
      ]
    },
    {
      "cell_type": "code",
      "metadata": {
        "id": "_OscDAFmpIpd"
      },
      "source": [
        "X_train, X_test, y_train, y_test = train_test_split(X, y, random_state=42)\n",
        "X_train = X_train.astype(int)\n",
        "X_test = X_test.astype(int)\n",
        "y_train = y_train.astype(int)\n",
        "y_test = y_test.astype(int)"
      ],
      "execution_count": 128,
      "outputs": []
    },
    {
      "cell_type": "code",
      "metadata": {
        "id": "f3SGxgtapYWd"
      },
      "source": [
        "X_scaler = StandardScaler().fit(X_train)\n",
        "X_train_scaled = X_scaler.transform(X_train)\n",
        "X_test_scaled = X_scaler.transform(X_test)"
      ],
      "execution_count": 129,
      "outputs": []
    },
    {
      "cell_type": "code",
      "metadata": {
        "id": "2_th99OPpIwS",
        "colab": {
          "base_uri": "https://localhost:8080/"
        },
        "outputId": "a02ff3ac-e4b7-4fed-ee26-60b2a863dfee"
      },
      "source": [
        "from sklearn.neighbors import KNeighborsClassifier\n",
        "train_scores = []\n",
        "test_scores = []\n",
        "for k in range(1, 20, 2):\n",
        "    knn = KNeighborsClassifier(n_neighbors=k)\n",
        "    knn.fit(X_train_scaled, y_train)\n",
        "    train_score = knn.score(X_train_scaled, y_train)\n",
        "    test_score = knn.score(X_test_scaled, y_test)\n",
        "    train_scores.append(train_score)\n",
        "    test_scores.append(test_score)\n",
        "    print(f\"k: {k}, Train/Test Score: {train_score:.3f}/{test_score:.3f}\")"
      ],
      "execution_count": 131,
      "outputs": [
        {
          "output_type": "stream",
          "text": [
            "k: 1, Train/Test Score: 0.282/0.238\n",
            "k: 3, Train/Test Score: 0.327/0.297\n",
            "k: 5, Train/Test Score: 0.335/0.305\n",
            "k: 7, Train/Test Score: 0.346/0.319\n",
            "k: 9, Train/Test Score: 0.353/0.326\n",
            "k: 11, Train/Test Score: 0.357/0.332\n",
            "k: 13, Train/Test Score: 0.362/0.338\n",
            "k: 15, Train/Test Score: 0.362/0.338\n",
            "k: 17, Train/Test Score: 0.364/0.342\n",
            "k: 19, Train/Test Score: 0.366/0.345\n"
          ],
          "name": "stdout"
        }
      ]
    },
    {
      "cell_type": "code",
      "metadata": {
        "id": "ob2VdST8qrVT",
        "colab": {
          "base_uri": "https://localhost:8080/"
        },
        "outputId": "ef57506d-5342-4a0b-c18f-007cf8149b8c"
      },
      "source": [
        "knn = KNeighborsClassifier(n_neighbors=19)\n",
        "knn.fit(X_train_scaled, y_train)\n",
        "print('k=13 Test Acc: %.3f' % knn.score(X_test_scaled, y_test))"
      ],
      "execution_count": 133,
      "outputs": [
        {
          "output_type": "stream",
          "text": [
            "k=13 Test Acc: 0.345\n"
          ],
          "name": "stdout"
        }
      ]
    },
    {
      "cell_type": "code",
      "metadata": {
        "id": "01ii_mQMrNoS",
        "colab": {
          "base_uri": "https://localhost:8080/"
        },
        "outputId": "35f9ec09-ffeb-42db-bb9e-66ee38433ab7"
      },
      "source": [
        "import pickle\n",
        "filename = 'Death_machine_6.sav'\n",
        "pickle.dump(knn, open(filename, 'wb'))\n",
        "\n",
        "# load the model from disk\n",
        "loaded_model_5 = pickle.load(open(filename, 'rb'))\n",
        "result = loaded_model_5.score(X_test_scaled, y_test)\n",
        "print(result)"
      ],
      "execution_count": 134,
      "outputs": [
        {
          "output_type": "stream",
          "text": [
            "0.3446647129805206\n"
          ],
          "name": "stdout"
        }
      ]
    },
    {
      "cell_type": "code",
      "metadata": {
        "id": "DyQeSqHqSgjD"
      },
      "source": [
        ""
      ],
      "execution_count": null,
      "outputs": []
    },
    {
      "cell_type": "code",
      "metadata": {
        "id": "SPmRqGG-StS_",
        "colab": {
          "base_uri": "https://localhost:8080/",
          "height": 197
        },
        "outputId": "ddea40e3-b38b-4c49-aac6-2282f1f6cd11"
      },
      "source": [
        "X = wanted_data\n",
        "y = pd_death_machine[\"icd_death_code\"]\n",
        "print(X.shape, y.shape)"
      ],
      "execution_count": 1,
      "outputs": [
        {
          "output_type": "error",
          "ename": "NameError",
          "evalue": "ignored",
          "traceback": [
            "\u001b[0;31m---------------------------------------------------------------------------\u001b[0m",
            "\u001b[0;31mNameError\u001b[0m                                 Traceback (most recent call last)",
            "\u001b[0;32m<ipython-input-1-06fb4fa11039>\u001b[0m in \u001b[0;36m<module>\u001b[0;34m()\u001b[0m\n\u001b[0;32m----> 1\u001b[0;31m \u001b[0mX\u001b[0m \u001b[0;34m=\u001b[0m \u001b[0mwanted_data\u001b[0m\u001b[0;34m\u001b[0m\u001b[0;34m\u001b[0m\u001b[0m\n\u001b[0m\u001b[1;32m      2\u001b[0m \u001b[0my\u001b[0m \u001b[0;34m=\u001b[0m \u001b[0mpd_death_machine\u001b[0m\u001b[0;34m[\u001b[0m\u001b[0;34m\"icd_death_code\"\u001b[0m\u001b[0;34m]\u001b[0m\u001b[0;34m\u001b[0m\u001b[0;34m\u001b[0m\u001b[0m\n\u001b[1;32m      3\u001b[0m \u001b[0mprint\u001b[0m\u001b[0;34m(\u001b[0m\u001b[0mX\u001b[0m\u001b[0;34m.\u001b[0m\u001b[0mshape\u001b[0m\u001b[0;34m,\u001b[0m \u001b[0my\u001b[0m\u001b[0;34m.\u001b[0m\u001b[0mshape\u001b[0m\u001b[0;34m)\u001b[0m\u001b[0;34m\u001b[0m\u001b[0;34m\u001b[0m\u001b[0m\n",
            "\u001b[0;31mNameError\u001b[0m: name 'wanted_data' is not defined"
          ]
        }
      ]
    },
    {
      "cell_type": "code",
      "metadata": {
        "id": "7cZgRmzOStYj"
      },
      "source": [
        "X_train, X_test, y_train, y_test = train_test_split(X, y, random_state=42)\n",
        "X_train = X_train.astype(int)\n",
        "X_test = X_test.astype(int)\n",
        "y_train = y_train.astype(int)\n",
        "y_test = y_test.astype(int)"
      ],
      "execution_count": 137,
      "outputs": []
    },
    {
      "cell_type": "code",
      "metadata": {
        "id": "t-ONr-C_S8Yy"
      },
      "source": [
        "\n",
        "X_scaler = MinMaxScaler().fit(X_train)\n",
        "X_train_scaled = X_scaler.transform(X_train)\n",
        "X_test_scaled = X_scaler.transform(X_test)"
      ],
      "execution_count": 138,
      "outputs": []
    },
    {
      "cell_type": "code",
      "metadata": {
        "id": "ZZOcJIFWS8h6",
        "colab": {
          "base_uri": "https://localhost:8080/"
        },
        "outputId": "a1073a11-03e7-4b91-ce45-5a4848e8c1eb"
      },
      "source": [
        "from sklearn.svm import SVC \n",
        "model_7 = SVC(kernel='linear')\n",
        "model_7.fit(X_train_scaled, y_train)"
      ],
      "execution_count": 139,
      "outputs": [
        {
          "output_type": "execute_result",
          "data": {
            "text/plain": [
              "SVC(C=1.0, break_ties=False, cache_size=200, class_weight=None, coef0=0.0,\n",
              "    decision_function_shape='ovr', degree=3, gamma='scale', kernel='linear',\n",
              "    max_iter=-1, probability=False, random_state=None, shrinking=True,\n",
              "    tol=0.001, verbose=False)"
            ]
          },
          "metadata": {
            "tags": []
          },
          "execution_count": 139
        }
      ]
    },
    {
      "cell_type": "code",
      "metadata": {
        "id": "_udYJ_BdS8q6",
        "colab": {
          "base_uri": "https://localhost:8080/"
        },
        "outputId": "8d5cc228-7b2b-46bd-a99f-b1068978c416"
      },
      "source": [
        "model_7.score(X_test_scaled, y_test)\n"
      ],
      "execution_count": 142,
      "outputs": [
        {
          "output_type": "execute_result",
          "data": {
            "text/plain": [
              "0.36206688501982415"
            ]
          },
          "metadata": {
            "tags": []
          },
          "execution_count": 142
        }
      ]
    },
    {
      "cell_type": "code",
      "metadata": {
        "id": "2L5iJ4jkStew",
        "colab": {
          "base_uri": "https://localhost:8080/"
        },
        "outputId": "e63d6ee4-2f59-441f-9dfe-7c54309d8d3c"
      },
      "source": [
        "from sklearn.metrics import classification_report\n",
        "predictions = model_7.predict(X_test_scaled)\n",
        "print(classification_report(y_test, predictions,))"
      ],
      "execution_count": 143,
      "outputs": [
        {
          "output_type": "stream",
          "text": [
            "              precision    recall  f1-score   support\n",
            "\n",
            "           2       0.39      0.83      0.53     31602\n",
            "           4       0.24      0.00      0.00     23111\n",
            "           5       0.33      0.67      0.45     20972\n",
            "           7       0.24      0.10      0.14     14893\n",
            "           9       0.00      0.00      0.00     13872\n",
            "          20       0.00      0.00      0.00      4843\n",
            "          31       0.00      0.00      0.00      3732\n",
            "          34       0.00      0.00      0.00      2995\n",
            "\n",
            "    accuracy                           0.36    116020\n",
            "   macro avg       0.15      0.20      0.14    116020\n",
            "weighted avg       0.25      0.36      0.25    116020\n",
            "\n"
          ],
          "name": "stdout"
        },
        {
          "output_type": "stream",
          "text": [
            "/usr/local/lib/python3.7/dist-packages/sklearn/metrics/_classification.py:1272: UndefinedMetricWarning: Precision and F-score are ill-defined and being set to 0.0 in labels with no predicted samples. Use `zero_division` parameter to control this behavior.\n",
            "  _warn_prf(average, modifier, msg_start, len(result))\n"
          ],
          "name": "stderr"
        }
      ]
    },
    {
      "cell_type": "code",
      "metadata": {
        "id": "nin0qw6GTNhY",
        "colab": {
          "base_uri": "https://localhost:8080/"
        },
        "outputId": "24ee2fc7-3059-44f8-ded4-719f9655c48e"
      },
      "source": [
        "import pickle\n",
        "filename = 'Death_machine_7.sav'\n",
        "pickle.dump(knn, open(filename, 'wb'))\n",
        "\n",
        "# load the model from disk\n",
        "loaded_model_6 = pickle.load(open(filename, 'rb'))\n",
        "result = loaded_model_6.score(X_test_scaled, y_test)\n",
        "print(result)"
      ],
      "execution_count": 144,
      "outputs": [
        {
          "output_type": "stream",
          "text": [
            "0.23146009308739873\n"
          ],
          "name": "stdout"
        }
      ]
    },
    {
      "cell_type": "markdown",
      "metadata": {
        "id": "l33zBLw4pXVO"
      },
      "source": [
        "# New Section"
      ]
    },
    {
      "cell_type": "code",
      "metadata": {
        "colab": {
          "base_uri": "https://localhost:8080/"
        },
        "id": "jhExRufFplTG",
        "outputId": "80429789-41d2-4b0f-ba02-a4a9daf4df88"
      },
      "source": [
        "from google.colab import drive\n",
        "drive.mount('/content/drive')"
      ],
      "execution_count": 39,
      "outputs": [
        {
          "output_type": "stream",
          "text": [
            "Drive already mounted at /content/drive; to attempt to forcibly remount, call drive.mount(\"/content/drive\", force_remount=True).\n"
          ],
          "name": "stdout"
        }
      ]
    },
    {
      "cell_type": "code",
      "metadata": {
        "id": "5TeofTh5TNqi"
      },
      "source": [
        ""
      ],
      "execution_count": null,
      "outputs": []
    },
    {
      "cell_type": "code",
      "metadata": {
        "id": "fWzM9aC6TaDO",
        "colab": {
          "base_uri": "https://localhost:8080/"
        },
        "outputId": "87a477a6-c64d-49d1-d6cc-728c85ab77a1"
      },
      "source": [
        "X = wanted_data\n",
        "y = pd_death_machine[\"icd_death_code\"]\n",
        "print(X.shape, y.shape)"
      ],
      "execution_count": 44,
      "outputs": [
        {
          "output_type": "stream",
          "text": [
            "(464080, 6) (464080,)\n"
          ],
          "name": "stdout"
        }
      ]
    },
    {
      "cell_type": "code",
      "metadata": {
        "id": "HXaw6nqbDPN5"
      },
      "source": [
        "X_train, X_test, y_train, y_test = train_test_split(X, y, random_state=42)\n",
        "X_train = X_train.astype(int)\n",
        "X_test = X_test.astype(int)\n",
        "y_train = y_train.astype(int)\n",
        "y_test = y_test.astype(int)"
      ],
      "execution_count": 46,
      "outputs": []
    },
    {
      "cell_type": "code",
      "metadata": {
        "id": "YTR2JBrADrH2"
      },
      "source": [
        "from sklearn.preprocessing import LabelEncoder, MinMaxScaler\n",
        "X_scaler = MinMaxScaler().fit(X_train)\n",
        "X_train_scaled = X_scaler.transform(X_train)\n",
        "X_test_scaled = X_scaler.transform(X_test)"
      ],
      "execution_count": 48,
      "outputs": []
    },
    {
      "cell_type": "code",
      "metadata": {
        "id": "-4dLZiFzDPUE"
      },
      "source": [
        "from sklearn.svm import SVC \n",
        "model = SVC(kernel='linear')"
      ],
      "execution_count": 49,
      "outputs": []
    },
    {
      "cell_type": "code",
      "metadata": {
        "id": "9S5A2Xk0DPaV"
      },
      "source": [
        "from sklearn.model_selection import GridSearchCV\n",
        "param_grid = {'C': [1, 5, 10],\n",
        "              'gamma': [0.0001, 0.001, 0.01]}\n",
        "grid = GridSearchCV(model, param_grid, verbose=3)"
      ],
      "execution_count": 50,
      "outputs": []
    },
    {
      "cell_type": "code",
      "metadata": {
        "colab": {
          "base_uri": "https://localhost:8080/"
        },
        "id": "tP9N8CD8DPhE",
        "outputId": "c94a3f4b-764a-422d-ab82-6865ea371673"
      },
      "source": [
        "grid.fit(X_train_scaled, y_train)"
      ],
      "execution_count": null,
      "outputs": [
        {
          "output_type": "stream",
          "text": [
            "Fitting 5 folds for each of 9 candidates, totalling 45 fits\n",
            "[CV] C=1, gamma=0.0001 ...............................................\n"
          ],
          "name": "stdout"
        },
        {
          "output_type": "stream",
          "text": [
            "[Parallel(n_jobs=1)]: Using backend SequentialBackend with 1 concurrent workers.\n"
          ],
          "name": "stderr"
        },
        {
          "output_type": "stream",
          "text": [
            "[CV] ................... C=1, gamma=0.0001, score=0.362, total=71.1min\n",
            "[CV] C=1, gamma=0.0001 ...............................................\n"
          ],
          "name": "stdout"
        },
        {
          "output_type": "stream",
          "text": [
            "[Parallel(n_jobs=1)]: Done   1 out of   1 | elapsed: 71.1min remaining:    0.0s\n"
          ],
          "name": "stderr"
        }
      ]
    },
    {
      "cell_type": "code",
      "metadata": {
        "id": "qNgGWJW6DPo8"
      },
      "source": [
        "print(grid.best_params_)"
      ],
      "execution_count": null,
      "outputs": []
    },
    {
      "cell_type": "code",
      "metadata": {
        "id": "mVg5iGkjDmo3"
      },
      "source": [
        "predictions = grid.predict(X_test_scaled)"
      ],
      "execution_count": null,
      "outputs": []
    },
    {
      "cell_type": "code",
      "metadata": {
        "id": "8XkDwKn-Dmvi"
      },
      "source": [
        "print('Test Acc: %.3f' % grid.score(X_test_scaled, y_test))"
      ],
      "execution_count": null,
      "outputs": []
    },
    {
      "cell_type": "code",
      "metadata": {
        "id": "_T-91JLHDm2E"
      },
      "source": [
        "from sklearn.metrics import classification_report\n",
        "print(classification_report(y_test, predictions,))"
      ],
      "execution_count": null,
      "outputs": []
    },
    {
      "cell_type": "code",
      "metadata": {
        "id": "NhT47vzpDm94"
      },
      "source": [
        "import pickle\n",
        "filename = 'Death_machine_8.sav'\n",
        "pickle.dump(grid, open(filename, 'wb'))\n",
        "\n",
        "# load the model from disk\n",
        "loaded_model_7 = pickle.load(open(filename, 'rb'))\n",
        "result = loaded_model_7.score(X_test_scaled, y_test)\n",
        "print(result)"
      ],
      "execution_count": null,
      "outputs": []
    },
    {
      "cell_type": "code",
      "metadata": {
        "id": "E0cwJ1_tDnDt"
      },
      "source": [
        ""
      ],
      "execution_count": null,
      "outputs": []
    },
    {
      "cell_type": "code",
      "metadata": {
        "id": "6jBsPKm-DnJf"
      },
      "source": [
        ""
      ],
      "execution_count": null,
      "outputs": []
    }
  ]
}